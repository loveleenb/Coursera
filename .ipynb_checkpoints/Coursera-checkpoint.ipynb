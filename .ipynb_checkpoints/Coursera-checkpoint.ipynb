{
 "cells": [
  {
   "cell_type": "markdown",
   "metadata": {},
   "source": [
    "### Objective: Analyze student enrollment in courses.\n",
    "\n",
    "#### Problem Statement: Predict possible student enrollment as per organization and course.\n",
    "1. What are most popular courses according to sutdent enrollment?\n",
    "2. What are most popular orgnizations according to sutdent enrollment?\n",
    "3. What type of certifications have most student enrollment?\n",
    "4. Most rated courses, are most rated courses bring more students?\n",
    "5. How difficulty level of course related to student enrollment?"
   ]
  },
  {
   "cell_type": "markdown",
   "metadata": {},
   "source": [
    " #### Dataset source and information\n",
    " \n",
    " https://www.kaggle.com/siddharthm1698/coursera-course-dataset/data?select=coursea_data.csv\n",
    "\n",
    "This dataset contains mainly 7 columns and 890 course data. The detailed description:\n",
    "\n",
    "1. Unnamed: 0: Just number to identify dataset\n",
    "2. course_title : Contains the course title.\n",
    "3. course_organization : It tells which organization is conducting the courses.\n",
    "4. course_Certificate_type : It has details about what are the different certifications available in courses.\n",
    "5. course_rating : It has the ratings associated with each course.\n",
    "6. course_difficulty : It tells about how difficult or what is the level of the course.\n",
    "7. course_students_enrolled : It has the number of students that are enrolled in the course."
   ]
  },
  {
   "cell_type": "markdown",
   "metadata": {},
   "source": [
    "#### Import Libraries"
   ]
  },
  {
   "cell_type": "code",
   "execution_count": 138,
   "metadata": {},
   "outputs": [],
   "source": [
    "\n",
    "import pandas as pd\n",
    "import numpy as np\n",
    "import re\n",
    "import matplotlib.pyplot as plt\n",
    "#import seaborn as sns\n",
    "import plotly.express as px\n",
    "from PIL import Image\n",
    "from wordcloud import WordCloud, STOPWORDS, ImageColorGenerator\n",
    "#from sklearn.metrics import confusion_matrix\n",
    "from sklearn.model_selection import train_test_split\n",
    "from sklearn.svm import SVC\n",
    "from sklearn.tree import DecisionTreeClassifier\n",
    "from sklearn.ensemble import GradientBoostingClassifier\n",
    "#from sklearn.linear_model import LinearRegression\n",
    "from sklearn.metrics import mean_squared_error\n",
    "from sklearn.preprocessing import LabelEncoder, OneHotEncoder\n",
    "from sklearn import metrics #Import scikit-learn metrics module for accuracy calculation\n",
    "\n",
    "\n",
    "from sklearn.metrics import accuracy_score"
   ]
  },
  {
   "cell_type": "markdown",
   "metadata": {},
   "source": [
    "### Load Dataset"
   ]
  },
  {
   "cell_type": "code",
   "execution_count": 139,
   "metadata": {},
   "outputs": [],
   "source": [
    "# Function to load data as dataframe\n",
    "def load_file(file):\n",
    "    '''loads csv to pd dataframe'''\n",
    "    return pd.read_csv(file)"
   ]
  },
  {
   "cell_type": "code",
   "execution_count": 140,
   "metadata": {},
   "outputs": [],
   "source": [
    "# Data source\n",
    "data_file = '/Coursera project/coursea_data.csv'"
   ]
  },
  {
   "cell_type": "code",
   "execution_count": 141,
   "metadata": {},
   "outputs": [
    {
     "data": {
      "text/html": [
       "<div>\n",
       "<style scoped>\n",
       "    .dataframe tbody tr th:only-of-type {\n",
       "        vertical-align: middle;\n",
       "    }\n",
       "\n",
       "    .dataframe tbody tr th {\n",
       "        vertical-align: top;\n",
       "    }\n",
       "\n",
       "    .dataframe thead th {\n",
       "        text-align: right;\n",
       "    }\n",
       "</style>\n",
       "<table border=\"1\" class=\"dataframe\">\n",
       "  <thead>\n",
       "    <tr style=\"text-align: right;\">\n",
       "      <th></th>\n",
       "      <th>Unnamed: 0</th>\n",
       "      <th>course_title</th>\n",
       "      <th>course_organization</th>\n",
       "      <th>course_Certificate_type</th>\n",
       "      <th>course_rating</th>\n",
       "      <th>course_difficulty</th>\n",
       "      <th>course_students_enrolled</th>\n",
       "    </tr>\n",
       "  </thead>\n",
       "  <tbody>\n",
       "    <tr>\n",
       "      <th>0</th>\n",
       "      <td>134</td>\n",
       "      <td>(ISC)² Systems Security Certified Practitioner...</td>\n",
       "      <td>(ISC)²</td>\n",
       "      <td>SPECIALIZATION</td>\n",
       "      <td>4.7</td>\n",
       "      <td>Beginner</td>\n",
       "      <td>5.3k</td>\n",
       "    </tr>\n",
       "    <tr>\n",
       "      <th>1</th>\n",
       "      <td>743</td>\n",
       "      <td>A Crash Course in Causality:  Inferring Causal...</td>\n",
       "      <td>University of Pennsylvania</td>\n",
       "      <td>COURSE</td>\n",
       "      <td>4.7</td>\n",
       "      <td>Intermediate</td>\n",
       "      <td>17k</td>\n",
       "    </tr>\n",
       "    <tr>\n",
       "      <th>2</th>\n",
       "      <td>874</td>\n",
       "      <td>A Crash Course in Data Science</td>\n",
       "      <td>Johns Hopkins University</td>\n",
       "      <td>COURSE</td>\n",
       "      <td>4.5</td>\n",
       "      <td>Mixed</td>\n",
       "      <td>130k</td>\n",
       "    </tr>\n",
       "    <tr>\n",
       "      <th>3</th>\n",
       "      <td>413</td>\n",
       "      <td>A Law Student's Toolkit</td>\n",
       "      <td>Yale University</td>\n",
       "      <td>COURSE</td>\n",
       "      <td>4.7</td>\n",
       "      <td>Mixed</td>\n",
       "      <td>91k</td>\n",
       "    </tr>\n",
       "    <tr>\n",
       "      <th>4</th>\n",
       "      <td>635</td>\n",
       "      <td>A Life of Happiness and Fulfillment</td>\n",
       "      <td>Indian School of Business</td>\n",
       "      <td>COURSE</td>\n",
       "      <td>4.8</td>\n",
       "      <td>Mixed</td>\n",
       "      <td>320k</td>\n",
       "    </tr>\n",
       "  </tbody>\n",
       "</table>\n",
       "</div>"
      ],
      "text/plain": [
       "   Unnamed: 0                                       course_title  \\\n",
       "0         134  (ISC)² Systems Security Certified Practitioner...   \n",
       "1         743  A Crash Course in Causality:  Inferring Causal...   \n",
       "2         874                     A Crash Course in Data Science   \n",
       "3         413                            A Law Student's Toolkit   \n",
       "4         635                A Life of Happiness and Fulfillment   \n",
       "\n",
       "          course_organization course_Certificate_type  course_rating  \\\n",
       "0                      (ISC)²          SPECIALIZATION            4.7   \n",
       "1  University of Pennsylvania                  COURSE            4.7   \n",
       "2    Johns Hopkins University                  COURSE            4.5   \n",
       "3             Yale University                  COURSE            4.7   \n",
       "4   Indian School of Business                  COURSE            4.8   \n",
       "\n",
       "  course_difficulty course_students_enrolled  \n",
       "0          Beginner                     5.3k  \n",
       "1      Intermediate                      17k  \n",
       "2             Mixed                     130k  \n",
       "3             Mixed                      91k  \n",
       "4             Mixed                     320k  "
      ]
     },
     "execution_count": 141,
     "metadata": {},
     "output_type": "execute_result"
    }
   ],
   "source": [
    "# Load data as Dataframe\n",
    "coursera_df = load_file(data_file)\n",
    "coursera_df.head()"
   ]
  },
  {
   "cell_type": "markdown",
   "metadata": {},
   "source": [
    "### Exploratry analysis of dataset"
   ]
  },
  {
   "cell_type": "code",
   "execution_count": 142,
   "metadata": {},
   "outputs": [
    {
     "name": "stdout",
     "output_type": "stream",
     "text": [
      "891\n"
     ]
    },
    {
     "data": {
      "text/html": [
       "<div>\n",
       "<style scoped>\n",
       "    .dataframe tbody tr th:only-of-type {\n",
       "        vertical-align: middle;\n",
       "    }\n",
       "\n",
       "    .dataframe tbody tr th {\n",
       "        vertical-align: top;\n",
       "    }\n",
       "\n",
       "    .dataframe thead th {\n",
       "        text-align: right;\n",
       "    }\n",
       "</style>\n",
       "<table border=\"1\" class=\"dataframe\">\n",
       "  <thead>\n",
       "    <tr style=\"text-align: right;\">\n",
       "      <th></th>\n",
       "      <th>course_title</th>\n",
       "      <th>course_organization</th>\n",
       "      <th>course_Certificate_type</th>\n",
       "      <th>course_rating</th>\n",
       "      <th>course_difficulty</th>\n",
       "      <th>course_students_enrolled</th>\n",
       "    </tr>\n",
       "  </thead>\n",
       "  <tbody>\n",
       "    <tr>\n",
       "      <th>0</th>\n",
       "      <td>(ISC)² Systems Security Certified Practitioner...</td>\n",
       "      <td>(ISC)²</td>\n",
       "      <td>SPECIALIZATION</td>\n",
       "      <td>4.7</td>\n",
       "      <td>Beginner</td>\n",
       "      <td>5.3k</td>\n",
       "    </tr>\n",
       "    <tr>\n",
       "      <th>1</th>\n",
       "      <td>A Crash Course in Causality:  Inferring Causal...</td>\n",
       "      <td>University of Pennsylvania</td>\n",
       "      <td>COURSE</td>\n",
       "      <td>4.7</td>\n",
       "      <td>Intermediate</td>\n",
       "      <td>17k</td>\n",
       "    </tr>\n",
       "    <tr>\n",
       "      <th>2</th>\n",
       "      <td>A Crash Course in Data Science</td>\n",
       "      <td>Johns Hopkins University</td>\n",
       "      <td>COURSE</td>\n",
       "      <td>4.5</td>\n",
       "      <td>Mixed</td>\n",
       "      <td>130k</td>\n",
       "    </tr>\n",
       "    <tr>\n",
       "      <th>3</th>\n",
       "      <td>A Law Student's Toolkit</td>\n",
       "      <td>Yale University</td>\n",
       "      <td>COURSE</td>\n",
       "      <td>4.7</td>\n",
       "      <td>Mixed</td>\n",
       "      <td>91k</td>\n",
       "    </tr>\n",
       "    <tr>\n",
       "      <th>4</th>\n",
       "      <td>A Life of Happiness and Fulfillment</td>\n",
       "      <td>Indian School of Business</td>\n",
       "      <td>COURSE</td>\n",
       "      <td>4.8</td>\n",
       "      <td>Mixed</td>\n",
       "      <td>320k</td>\n",
       "    </tr>\n",
       "  </tbody>\n",
       "</table>\n",
       "</div>"
      ],
      "text/plain": [
       "                                        course_title  \\\n",
       "0  (ISC)² Systems Security Certified Practitioner...   \n",
       "1  A Crash Course in Causality:  Inferring Causal...   \n",
       "2                     A Crash Course in Data Science   \n",
       "3                            A Law Student's Toolkit   \n",
       "4                A Life of Happiness and Fulfillment   \n",
       "\n",
       "          course_organization course_Certificate_type  course_rating  \\\n",
       "0                      (ISC)²          SPECIALIZATION            4.7   \n",
       "1  University of Pennsylvania                  COURSE            4.7   \n",
       "2    Johns Hopkins University                  COURSE            4.5   \n",
       "3             Yale University                  COURSE            4.7   \n",
       "4   Indian School of Business                  COURSE            4.8   \n",
       "\n",
       "  course_difficulty course_students_enrolled  \n",
       "0          Beginner                     5.3k  \n",
       "1      Intermediate                      17k  \n",
       "2             Mixed                     130k  \n",
       "3             Mixed                      91k  \n",
       "4             Mixed                     320k  "
      ]
     },
     "execution_count": 142,
     "metadata": {},
     "output_type": "execute_result"
    }
   ],
   "source": [
    "# Check if any duplicate value in Unnamed column, and decide if it has significance in analysis.\n",
    "print(coursera_df['Unnamed: 0'].value_counts().sum())\n",
    "# Dropped first column (Unnamed: 0:) as it doesn't any analysis significance, it is Just number to identify dataset\n",
    "coursera_df = coursera_df.drop('Unnamed: 0', axis=1)\n",
    "coursera_df.head()"
   ]
  },
  {
   "cell_type": "code",
   "execution_count": 143,
   "metadata": {},
   "outputs": [
    {
     "data": {
      "text/plain": [
       "Index(['course_title', 'course_organization', 'course_Certificate_type',\n",
       "       'course_rating', 'course_difficulty', 'course_students_enrolled'],\n",
       "      dtype='object')"
      ]
     },
     "execution_count": 143,
     "metadata": {},
     "output_type": "execute_result"
    }
   ],
   "source": [
    "# print columns in dataset\n",
    "coursera_df.columns"
   ]
  },
  {
   "cell_type": "code",
   "execution_count": 144,
   "metadata": {
    "scrolled": true
   },
   "outputs": [
    {
     "data": {
      "text/html": [
       "<div>\n",
       "<style scoped>\n",
       "    .dataframe tbody tr th:only-of-type {\n",
       "        vertical-align: middle;\n",
       "    }\n",
       "\n",
       "    .dataframe tbody tr th {\n",
       "        vertical-align: top;\n",
       "    }\n",
       "\n",
       "    .dataframe thead th {\n",
       "        text-align: right;\n",
       "    }\n",
       "</style>\n",
       "<table border=\"1\" class=\"dataframe\">\n",
       "  <thead>\n",
       "    <tr style=\"text-align: right;\">\n",
       "      <th></th>\n",
       "      <th>Course_Title</th>\n",
       "      <th>Organization</th>\n",
       "      <th>Course_Type</th>\n",
       "      <th>Course_Rating</th>\n",
       "      <th>Difficulty_Level</th>\n",
       "      <th>Enrolled_Students</th>\n",
       "    </tr>\n",
       "  </thead>\n",
       "  <tbody>\n",
       "    <tr>\n",
       "      <th>0</th>\n",
       "      <td>(ISC)² Systems Security Certified Practitioner...</td>\n",
       "      <td>(ISC)²</td>\n",
       "      <td>SPECIALIZATION</td>\n",
       "      <td>4.7</td>\n",
       "      <td>Beginner</td>\n",
       "      <td>5.3k</td>\n",
       "    </tr>\n",
       "    <tr>\n",
       "      <th>1</th>\n",
       "      <td>A Crash Course in Causality:  Inferring Causal...</td>\n",
       "      <td>University of Pennsylvania</td>\n",
       "      <td>COURSE</td>\n",
       "      <td>4.7</td>\n",
       "      <td>Intermediate</td>\n",
       "      <td>17k</td>\n",
       "    </tr>\n",
       "    <tr>\n",
       "      <th>2</th>\n",
       "      <td>A Crash Course in Data Science</td>\n",
       "      <td>Johns Hopkins University</td>\n",
       "      <td>COURSE</td>\n",
       "      <td>4.5</td>\n",
       "      <td>Mixed</td>\n",
       "      <td>130k</td>\n",
       "    </tr>\n",
       "    <tr>\n",
       "      <th>3</th>\n",
       "      <td>A Law Student's Toolkit</td>\n",
       "      <td>Yale University</td>\n",
       "      <td>COURSE</td>\n",
       "      <td>4.7</td>\n",
       "      <td>Mixed</td>\n",
       "      <td>91k</td>\n",
       "    </tr>\n",
       "    <tr>\n",
       "      <th>4</th>\n",
       "      <td>A Life of Happiness and Fulfillment</td>\n",
       "      <td>Indian School of Business</td>\n",
       "      <td>COURSE</td>\n",
       "      <td>4.8</td>\n",
       "      <td>Mixed</td>\n",
       "      <td>320k</td>\n",
       "    </tr>\n",
       "  </tbody>\n",
       "</table>\n",
       "</div>"
      ],
      "text/plain": [
       "                                        Course_Title  \\\n",
       "0  (ISC)² Systems Security Certified Practitioner...   \n",
       "1  A Crash Course in Causality:  Inferring Causal...   \n",
       "2                     A Crash Course in Data Science   \n",
       "3                            A Law Student's Toolkit   \n",
       "4                A Life of Happiness and Fulfillment   \n",
       "\n",
       "                 Organization     Course_Type  Course_Rating Difficulty_Level  \\\n",
       "0                      (ISC)²  SPECIALIZATION            4.7         Beginner   \n",
       "1  University of Pennsylvania          COURSE            4.7     Intermediate   \n",
       "2    Johns Hopkins University          COURSE            4.5            Mixed   \n",
       "3             Yale University          COURSE            4.7            Mixed   \n",
       "4   Indian School of Business          COURSE            4.8            Mixed   \n",
       "\n",
       "  Enrolled_Students  \n",
       "0              5.3k  \n",
       "1               17k  \n",
       "2              130k  \n",
       "3               91k  \n",
       "4              320k  "
      ]
     },
     "execution_count": 144,
     "metadata": {},
     "output_type": "execute_result"
    }
   ],
   "source": [
    "#Renaming column names\n",
    "coursera_df = coursera_df.rename(columns={'course_title':'Course_Title', 'course_organization': 'Organization', 'course_Certificate_type' : 'Course_Type', 'course_rating':'Course_Rating', \\\n",
    "                                \n",
    "                                          'course_difficulty': 'Difficulty_Level', 'course_students_enrolled': 'Enrolled_Students'})\n",
    "\n",
    "coursera_df.head()"
   ]
  },
  {
   "cell_type": "code",
   "execution_count": 145,
   "metadata": {},
   "outputs": [
    {
     "name": "stdout",
     "output_type": "stream",
     "text": [
      "<class 'pandas.core.frame.DataFrame'>\n",
      "RangeIndex: 891 entries, 0 to 890\n",
      "Data columns (total 6 columns):\n",
      "Course_Title         891 non-null object\n",
      "Organization         891 non-null object\n",
      "Course_Type          891 non-null object\n",
      "Course_Rating        891 non-null float64\n",
      "Difficulty_Level     891 non-null object\n",
      "Enrolled_Students    891 non-null object\n",
      "dtypes: float64(1), object(5)\n",
      "memory usage: 41.8+ KB\n"
     ]
    }
   ],
   "source": [
    "# Print dataframe information\n",
    "coursera_df.info()"
   ]
  },
  {
   "cell_type": "code",
   "execution_count": 146,
   "metadata": {},
   "outputs": [
    {
     "data": {
      "text/plain": [
       "Index(['Course_Title', 'Organization', 'Course_Type', 'Course_Rating',\n",
       "       'Difficulty_Level', 'Enrolled_Students'],\n",
       "      dtype='object')"
      ]
     },
     "execution_count": 146,
     "metadata": {},
     "output_type": "execute_result"
    }
   ],
   "source": [
    "# print updated column names\n",
    "coursera_df.columns"
   ]
  },
  {
   "cell_type": "code",
   "execution_count": 147,
   "metadata": {},
   "outputs": [],
   "source": [
    "# function to convert course_students_enrolled to float for further analysis\n",
    "def extract_number(list):\n",
    "    new_list = []\n",
    "    for row in list:\n",
    "        if 'k' in row:\n",
    "            row = re.findall(r'[\\d\\.\\d]+', row)\n",
    "            row = float(row[0])\n",
    "            row = row * 1000\n",
    "        elif 'm' in row:\n",
    "            row = re.findall(r'[\\d\\.\\d]+', row)\n",
    "            row = float(row[0])\n",
    "            row = row * 1000000\n",
    "        else:\n",
    "            row = float(row[0]) \n",
    "            \n",
    "        new_list.append(row)\n",
    "    return new_list \n"
   ]
  },
  {
   "cell_type": "code",
   "execution_count": 148,
   "metadata": {},
   "outputs": [],
   "source": [
    "# Convert course_students_enrolled to float\n",
    "students = extract_number(coursera_df['Enrolled_Students'])"
   ]
  },
  {
   "cell_type": "code",
   "execution_count": 149,
   "metadata": {},
   "outputs": [
    {
     "data": {
      "text/html": [
       "<div>\n",
       "<style scoped>\n",
       "    .dataframe tbody tr th:only-of-type {\n",
       "        vertical-align: middle;\n",
       "    }\n",
       "\n",
       "    .dataframe tbody tr th {\n",
       "        vertical-align: top;\n",
       "    }\n",
       "\n",
       "    .dataframe thead th {\n",
       "        text-align: right;\n",
       "    }\n",
       "</style>\n",
       "<table border=\"1\" class=\"dataframe\">\n",
       "  <thead>\n",
       "    <tr style=\"text-align: right;\">\n",
       "      <th></th>\n",
       "      <th>Course_Title</th>\n",
       "      <th>Organization</th>\n",
       "      <th>Course_Type</th>\n",
       "      <th>Course_Rating</th>\n",
       "      <th>Difficulty_Level</th>\n",
       "      <th>Enrolled_Students</th>\n",
       "      <th>Students</th>\n",
       "    </tr>\n",
       "  </thead>\n",
       "  <tbody>\n",
       "    <tr>\n",
       "      <th>0</th>\n",
       "      <td>(ISC)² Systems Security Certified Practitioner...</td>\n",
       "      <td>(ISC)²</td>\n",
       "      <td>SPECIALIZATION</td>\n",
       "      <td>4.7</td>\n",
       "      <td>Beginner</td>\n",
       "      <td>5.3k</td>\n",
       "      <td>5300.0</td>\n",
       "    </tr>\n",
       "    <tr>\n",
       "      <th>1</th>\n",
       "      <td>A Crash Course in Causality:  Inferring Causal...</td>\n",
       "      <td>University of Pennsylvania</td>\n",
       "      <td>COURSE</td>\n",
       "      <td>4.7</td>\n",
       "      <td>Intermediate</td>\n",
       "      <td>17k</td>\n",
       "      <td>17000.0</td>\n",
       "    </tr>\n",
       "    <tr>\n",
       "      <th>2</th>\n",
       "      <td>A Crash Course in Data Science</td>\n",
       "      <td>Johns Hopkins University</td>\n",
       "      <td>COURSE</td>\n",
       "      <td>4.5</td>\n",
       "      <td>Mixed</td>\n",
       "      <td>130k</td>\n",
       "      <td>130000.0</td>\n",
       "    </tr>\n",
       "    <tr>\n",
       "      <th>3</th>\n",
       "      <td>A Law Student's Toolkit</td>\n",
       "      <td>Yale University</td>\n",
       "      <td>COURSE</td>\n",
       "      <td>4.7</td>\n",
       "      <td>Mixed</td>\n",
       "      <td>91k</td>\n",
       "      <td>91000.0</td>\n",
       "    </tr>\n",
       "    <tr>\n",
       "      <th>4</th>\n",
       "      <td>A Life of Happiness and Fulfillment</td>\n",
       "      <td>Indian School of Business</td>\n",
       "      <td>COURSE</td>\n",
       "      <td>4.8</td>\n",
       "      <td>Mixed</td>\n",
       "      <td>320k</td>\n",
       "      <td>320000.0</td>\n",
       "    </tr>\n",
       "  </tbody>\n",
       "</table>\n",
       "</div>"
      ],
      "text/plain": [
       "                                        Course_Title  \\\n",
       "0  (ISC)² Systems Security Certified Practitioner...   \n",
       "1  A Crash Course in Causality:  Inferring Causal...   \n",
       "2                     A Crash Course in Data Science   \n",
       "3                            A Law Student's Toolkit   \n",
       "4                A Life of Happiness and Fulfillment   \n",
       "\n",
       "                 Organization     Course_Type  Course_Rating Difficulty_Level  \\\n",
       "0                      (ISC)²  SPECIALIZATION            4.7         Beginner   \n",
       "1  University of Pennsylvania          COURSE            4.7     Intermediate   \n",
       "2    Johns Hopkins University          COURSE            4.5            Mixed   \n",
       "3             Yale University          COURSE            4.7            Mixed   \n",
       "4   Indian School of Business          COURSE            4.8            Mixed   \n",
       "\n",
       "  Enrolled_Students  Students  \n",
       "0              5.3k    5300.0  \n",
       "1               17k   17000.0  \n",
       "2              130k  130000.0  \n",
       "3               91k   91000.0  \n",
       "4              320k  320000.0  "
      ]
     },
     "execution_count": 149,
     "metadata": {},
     "output_type": "execute_result"
    }
   ],
   "source": [
    "# Add updated students column to dataframe and print new dataframe head\n",
    "coursera_df['Students'] = students\n",
    "coursera_df.head()"
   ]
  },
  {
   "cell_type": "code",
   "execution_count": 150,
   "metadata": {},
   "outputs": [],
   "source": [
    "# Save new dataframe to csv file\n",
    "coursera_df.to_csv('/Coursera project/coursera_new.csv')                   "
   ]
  },
  {
   "cell_type": "code",
   "execution_count": 151,
   "metadata": {},
   "outputs": [
    {
     "data": {
      "text/plain": [
       "0"
      ]
     },
     "execution_count": 151,
     "metadata": {},
     "output_type": "execute_result"
    }
   ],
   "source": [
    "# Check any duplicate row in dataframe\n",
    "coursera_df.duplicated().sum()"
   ]
  },
  {
   "cell_type": "code",
   "execution_count": 152,
   "metadata": {},
   "outputs": [
    {
     "data": {
      "text/plain": [
       "Course_Title         False\n",
       "Organization         False\n",
       "Course_Type          False\n",
       "Course_Rating        False\n",
       "Difficulty_Level     False\n",
       "Enrolled_Students    False\n",
       "Students             False\n",
       "dtype: bool"
      ]
     },
     "execution_count": 152,
     "metadata": {},
     "output_type": "execute_result"
    }
   ],
   "source": [
    "# Check null values in columns\n",
    "coursera_df.isnull().any()"
   ]
  },
  {
   "cell_type": "markdown",
   "metadata": {},
   "source": [
    "There is no null or duplicated row in dataset. For further analysis, detect language of course title and add language columns in dataframe, to analyze which student enrollment based on course language."
   ]
  },
  {
   "cell_type": "code",
   "execution_count": 153,
   "metadata": {},
   "outputs": [
    {
     "data": {
      "text/plain": [
       "en    724\n",
       "es     45\n",
       "fr     16\n",
       "it     15\n",
       "ru     14\n",
       "de     14\n",
       "nl     10\n",
       "ro      8\n",
       "da      8\n",
       "ca      7\n",
       "no      7\n",
       "pt      6\n",
       "tl      5\n",
       "id      4\n",
       "af      3\n",
       "hu      1\n",
       "lt      1\n",
       "bg      1\n",
       "hr      1\n",
       "cy      1\n",
       "Name: Language, dtype: int64"
      ]
     },
     "execution_count": 153,
     "metadata": {},
     "output_type": "execute_result"
    }
   ],
   "source": [
    "import langdetect\n",
    "coursera_df['Language'] = coursera_df['Course_Title'].apply(lambda x: langdetect.detect(x))\n",
    "coursera_df['Language'].value_counts()"
   ]
  },
  {
   "cell_type": "code",
   "execution_count": 154,
   "metadata": {},
   "outputs": [
    {
     "data": {
      "text/plain": [
       "Course_Title          object\n",
       "Organization          object\n",
       "Course_Type           object\n",
       "Course_Rating        float64\n",
       "Difficulty_Level      object\n",
       "Enrolled_Students     object\n",
       "Students             float64\n",
       "Language              object\n",
       "dtype: object"
      ]
     },
     "execution_count": 154,
     "metadata": {},
     "output_type": "execute_result"
    }
   ],
   "source": [
    "coursera_df.dtypes"
   ]
  },
  {
   "cell_type": "code",
   "execution_count": 155,
   "metadata": {},
   "outputs": [
    {
     "data": {
      "text/html": [
       "<div>\n",
       "<style scoped>\n",
       "    .dataframe tbody tr th:only-of-type {\n",
       "        vertical-align: middle;\n",
       "    }\n",
       "\n",
       "    .dataframe tbody tr th {\n",
       "        vertical-align: top;\n",
       "    }\n",
       "\n",
       "    .dataframe thead th {\n",
       "        text-align: right;\n",
       "    }\n",
       "</style>\n",
       "<table border=\"1\" class=\"dataframe\">\n",
       "  <thead>\n",
       "    <tr style=\"text-align: right;\">\n",
       "      <th></th>\n",
       "      <th>Course_Title</th>\n",
       "      <th>Organization</th>\n",
       "      <th>Course_Type</th>\n",
       "      <th>Course_Rating</th>\n",
       "      <th>Difficulty_Level</th>\n",
       "      <th>Enrolled_Students</th>\n",
       "      <th>Students</th>\n",
       "      <th>Language</th>\n",
       "    </tr>\n",
       "  </thead>\n",
       "  <tbody>\n",
       "    <tr>\n",
       "      <th>0</th>\n",
       "      <td>(ISC)² Systems Security Certified Practitioner...</td>\n",
       "      <td>(ISC)²</td>\n",
       "      <td>SPECIALIZATION</td>\n",
       "      <td>4.7</td>\n",
       "      <td>Beginner</td>\n",
       "      <td>5.3k</td>\n",
       "      <td>5300.0</td>\n",
       "      <td>en</td>\n",
       "    </tr>\n",
       "    <tr>\n",
       "      <th>1</th>\n",
       "      <td>A Crash Course in Causality:  Inferring Causal...</td>\n",
       "      <td>University of Pennsylvania</td>\n",
       "      <td>COURSE</td>\n",
       "      <td>4.7</td>\n",
       "      <td>Intermediate</td>\n",
       "      <td>17k</td>\n",
       "      <td>17000.0</td>\n",
       "      <td>en</td>\n",
       "    </tr>\n",
       "    <tr>\n",
       "      <th>2</th>\n",
       "      <td>A Crash Course in Data Science</td>\n",
       "      <td>Johns Hopkins University</td>\n",
       "      <td>COURSE</td>\n",
       "      <td>4.5</td>\n",
       "      <td>Mixed</td>\n",
       "      <td>130k</td>\n",
       "      <td>130000.0</td>\n",
       "      <td>en</td>\n",
       "    </tr>\n",
       "    <tr>\n",
       "      <th>3</th>\n",
       "      <td>A Law Student's Toolkit</td>\n",
       "      <td>Yale University</td>\n",
       "      <td>COURSE</td>\n",
       "      <td>4.7</td>\n",
       "      <td>Mixed</td>\n",
       "      <td>91k</td>\n",
       "      <td>91000.0</td>\n",
       "      <td>en</td>\n",
       "    </tr>\n",
       "    <tr>\n",
       "      <th>4</th>\n",
       "      <td>A Life of Happiness and Fulfillment</td>\n",
       "      <td>Indian School of Business</td>\n",
       "      <td>COURSE</td>\n",
       "      <td>4.8</td>\n",
       "      <td>Mixed</td>\n",
       "      <td>320k</td>\n",
       "      <td>320000.0</td>\n",
       "      <td>en</td>\n",
       "    </tr>\n",
       "  </tbody>\n",
       "</table>\n",
       "</div>"
      ],
      "text/plain": [
       "                                        Course_Title  \\\n",
       "0  (ISC)² Systems Security Certified Practitioner...   \n",
       "1  A Crash Course in Causality:  Inferring Causal...   \n",
       "2                     A Crash Course in Data Science   \n",
       "3                            A Law Student's Toolkit   \n",
       "4                A Life of Happiness and Fulfillment   \n",
       "\n",
       "                 Organization     Course_Type  Course_Rating Difficulty_Level  \\\n",
       "0                      (ISC)²  SPECIALIZATION            4.7         Beginner   \n",
       "1  University of Pennsylvania          COURSE            4.7     Intermediate   \n",
       "2    Johns Hopkins University          COURSE            4.5            Mixed   \n",
       "3             Yale University          COURSE            4.7            Mixed   \n",
       "4   Indian School of Business          COURSE            4.8            Mixed   \n",
       "\n",
       "  Enrolled_Students  Students Language  \n",
       "0              5.3k    5300.0       en  \n",
       "1               17k   17000.0       en  \n",
       "2              130k  130000.0       en  \n",
       "3               91k   91000.0       en  \n",
       "4              320k  320000.0       en  "
      ]
     },
     "execution_count": 155,
     "metadata": {},
     "output_type": "execute_result"
    }
   ],
   "source": [
    "coursera_df.head()"
   ]
  },
  {
   "cell_type": "code",
   "execution_count": 156,
   "metadata": {},
   "outputs": [
    {
     "data": {
      "text/html": [
       "<div>\n",
       "<style scoped>\n",
       "    .dataframe tbody tr th:only-of-type {\n",
       "        vertical-align: middle;\n",
       "    }\n",
       "\n",
       "    .dataframe tbody tr th {\n",
       "        vertical-align: top;\n",
       "    }\n",
       "\n",
       "    .dataframe thead th {\n",
       "        text-align: right;\n",
       "    }\n",
       "</style>\n",
       "<table border=\"1\" class=\"dataframe\">\n",
       "  <thead>\n",
       "    <tr style=\"text-align: right;\">\n",
       "      <th></th>\n",
       "      <th>Course_Rating</th>\n",
       "      <th>Students</th>\n",
       "    </tr>\n",
       "  </thead>\n",
       "  <tbody>\n",
       "    <tr>\n",
       "      <th>count</th>\n",
       "      <td>891.000000</td>\n",
       "      <td>8.910000e+02</td>\n",
       "    </tr>\n",
       "    <tr>\n",
       "      <th>mean</th>\n",
       "      <td>4.677329</td>\n",
       "      <td>9.055208e+04</td>\n",
       "    </tr>\n",
       "    <tr>\n",
       "      <th>std</th>\n",
       "      <td>0.162225</td>\n",
       "      <td>1.819365e+05</td>\n",
       "    </tr>\n",
       "    <tr>\n",
       "      <th>min</th>\n",
       "      <td>3.300000</td>\n",
       "      <td>1.500000e+03</td>\n",
       "    </tr>\n",
       "    <tr>\n",
       "      <th>25%</th>\n",
       "      <td>4.600000</td>\n",
       "      <td>1.750000e+04</td>\n",
       "    </tr>\n",
       "    <tr>\n",
       "      <th>50%</th>\n",
       "      <td>4.700000</td>\n",
       "      <td>4.200000e+04</td>\n",
       "    </tr>\n",
       "    <tr>\n",
       "      <th>75%</th>\n",
       "      <td>4.800000</td>\n",
       "      <td>9.950000e+04</td>\n",
       "    </tr>\n",
       "    <tr>\n",
       "      <th>max</th>\n",
       "      <td>5.000000</td>\n",
       "      <td>3.200000e+06</td>\n",
       "    </tr>\n",
       "  </tbody>\n",
       "</table>\n",
       "</div>"
      ],
      "text/plain": [
       "       Course_Rating      Students\n",
       "count     891.000000  8.910000e+02\n",
       "mean        4.677329  9.055208e+04\n",
       "std         0.162225  1.819365e+05\n",
       "min         3.300000  1.500000e+03\n",
       "25%         4.600000  1.750000e+04\n",
       "50%         4.700000  4.200000e+04\n",
       "75%         4.800000  9.950000e+04\n",
       "max         5.000000  3.200000e+06"
      ]
     },
     "execution_count": 156,
     "metadata": {},
     "output_type": "execute_result"
    }
   ],
   "source": [
    "# Print Summary statistics of number columns in Dataframe\n",
    "coursera_df.describe(include = [np.number])"
   ]
  },
  {
   "cell_type": "code",
   "execution_count": 157,
   "metadata": {},
   "outputs": [
    {
     "data": {
      "text/html": [
       "<div>\n",
       "<style scoped>\n",
       "    .dataframe tbody tr th:only-of-type {\n",
       "        vertical-align: middle;\n",
       "    }\n",
       "\n",
       "    .dataframe tbody tr th {\n",
       "        vertical-align: top;\n",
       "    }\n",
       "\n",
       "    .dataframe thead th {\n",
       "        text-align: right;\n",
       "    }\n",
       "</style>\n",
       "<table border=\"1\" class=\"dataframe\">\n",
       "  <thead>\n",
       "    <tr style=\"text-align: right;\">\n",
       "      <th></th>\n",
       "      <th>Course_Title</th>\n",
       "      <th>Organization</th>\n",
       "      <th>Course_Type</th>\n",
       "      <th>Difficulty_Level</th>\n",
       "      <th>Enrolled_Students</th>\n",
       "      <th>Language</th>\n",
       "    </tr>\n",
       "  </thead>\n",
       "  <tbody>\n",
       "    <tr>\n",
       "      <th>count</th>\n",
       "      <td>891</td>\n",
       "      <td>891</td>\n",
       "      <td>891</td>\n",
       "      <td>891</td>\n",
       "      <td>891</td>\n",
       "      <td>891</td>\n",
       "    </tr>\n",
       "    <tr>\n",
       "      <th>unique</th>\n",
       "      <td>888</td>\n",
       "      <td>154</td>\n",
       "      <td>3</td>\n",
       "      <td>4</td>\n",
       "      <td>205</td>\n",
       "      <td>20</td>\n",
       "    </tr>\n",
       "    <tr>\n",
       "      <th>top</th>\n",
       "      <td>Developing Your Musicianship</td>\n",
       "      <td>University of Pennsylvania</td>\n",
       "      <td>COURSE</td>\n",
       "      <td>Beginner</td>\n",
       "      <td>120k</td>\n",
       "      <td>en</td>\n",
       "    </tr>\n",
       "    <tr>\n",
       "      <th>freq</th>\n",
       "      <td>2</td>\n",
       "      <td>59</td>\n",
       "      <td>582</td>\n",
       "      <td>487</td>\n",
       "      <td>22</td>\n",
       "      <td>724</td>\n",
       "    </tr>\n",
       "  </tbody>\n",
       "</table>\n",
       "</div>"
      ],
      "text/plain": [
       "                        Course_Title                Organization Course_Type  \\\n",
       "count                            891                         891         891   \n",
       "unique                           888                         154           3   \n",
       "top     Developing Your Musicianship  University of Pennsylvania      COURSE   \n",
       "freq                               2                          59         582   \n",
       "\n",
       "       Difficulty_Level Enrolled_Students Language  \n",
       "count               891               891      891  \n",
       "unique                4               205       20  \n",
       "top            Beginner              120k       en  \n",
       "freq                487                22      724  "
      ]
     },
     "execution_count": 157,
     "metadata": {},
     "output_type": "execute_result"
    }
   ],
   "source": [
    "# Print Summary statistics of object columns in Dataframe\n",
    "coursera_df.describe(include = ['O'])"
   ]
  },
  {
   "cell_type": "markdown",
   "metadata": {},
   "source": [
    "As per above summary:\n",
    "888 courses offered by 154 orgnizations in 19 languages."
   ]
  },
  {
   "cell_type": "code",
   "execution_count": 158,
   "metadata": {},
   "outputs": [
    {
     "data": {
      "text/plain": [
       "Course_Title         0\n",
       "Organization         0\n",
       "Course_Type          0\n",
       "Course_Rating        0\n",
       "Difficulty_Level     0\n",
       "Enrolled_Students    0\n",
       "Students             0\n",
       "Language             0\n",
       "dtype: int64"
      ]
     },
     "execution_count": 158,
     "metadata": {},
     "output_type": "execute_result"
    }
   ],
   "source": [
    "# Check invalid data, if any row has number of students 0 or negative\n",
    "coursera_df.loc[coursera_df.Students <= 0].count()"
   ]
  },
  {
   "cell_type": "code",
   "execution_count": 159,
   "metadata": {},
   "outputs": [
    {
     "data": {
      "text/plain": [
       "14"
      ]
     },
     "execution_count": 159,
     "metadata": {},
     "output_type": "execute_result"
    }
   ],
   "source": [
    "# Print number of unique course ratings\n",
    "coursera_df['Course_Rating'].nunique()"
   ]
  },
  {
   "cell_type": "code",
   "execution_count": 160,
   "metadata": {},
   "outputs": [
    {
     "data": {
      "text/html": [
       "<div>\n",
       "<style scoped>\n",
       "    .dataframe tbody tr th:only-of-type {\n",
       "        vertical-align: middle;\n",
       "    }\n",
       "\n",
       "    .dataframe tbody tr th {\n",
       "        vertical-align: top;\n",
       "    }\n",
       "\n",
       "    .dataframe thead th {\n",
       "        text-align: right;\n",
       "    }\n",
       "</style>\n",
       "<table border=\"1\" class=\"dataframe\">\n",
       "  <thead>\n",
       "    <tr style=\"text-align: right;\">\n",
       "      <th></th>\n",
       "      <th>Course_Title</th>\n",
       "      <th>Organization</th>\n",
       "      <th>Course_Type</th>\n",
       "      <th>Course_Rating</th>\n",
       "      <th>Difficulty_Level</th>\n",
       "      <th>Enrolled_Students</th>\n",
       "      <th>Students</th>\n",
       "      <th>Language</th>\n",
       "    </tr>\n",
       "  </thead>\n",
       "  <tbody>\n",
       "    <tr>\n",
       "      <th>564</th>\n",
       "      <td>Machine Learning</td>\n",
       "      <td>Stanford University</td>\n",
       "      <td>COURSE</td>\n",
       "      <td>4.9</td>\n",
       "      <td>Mixed</td>\n",
       "      <td>3.2m</td>\n",
       "      <td>3200000.0</td>\n",
       "      <td>en</td>\n",
       "    </tr>\n",
       "    <tr>\n",
       "      <th>815</th>\n",
       "      <td>The Science of Well-Being</td>\n",
       "      <td>Yale University</td>\n",
       "      <td>COURSE</td>\n",
       "      <td>4.9</td>\n",
       "      <td>Mixed</td>\n",
       "      <td>2.5m</td>\n",
       "      <td>2500000.0</td>\n",
       "      <td>en</td>\n",
       "    </tr>\n",
       "    <tr>\n",
       "      <th>688</th>\n",
       "      <td>Python for Everybody</td>\n",
       "      <td>University of Michigan</td>\n",
       "      <td>SPECIALIZATION</td>\n",
       "      <td>4.8</td>\n",
       "      <td>Beginner</td>\n",
       "      <td>1.5m</td>\n",
       "      <td>1500000.0</td>\n",
       "      <td>cy</td>\n",
       "    </tr>\n",
       "    <tr>\n",
       "      <th>674</th>\n",
       "      <td>Programming for Everybody (Getting Started wit...</td>\n",
       "      <td>University of Michigan</td>\n",
       "      <td>COURSE</td>\n",
       "      <td>4.8</td>\n",
       "      <td>Mixed</td>\n",
       "      <td>1.3m</td>\n",
       "      <td>1300000.0</td>\n",
       "      <td>en</td>\n",
       "    </tr>\n",
       "    <tr>\n",
       "      <th>196</th>\n",
       "      <td>Data Science</td>\n",
       "      <td>Johns Hopkins University</td>\n",
       "      <td>SPECIALIZATION</td>\n",
       "      <td>4.5</td>\n",
       "      <td>Beginner</td>\n",
       "      <td>830k</td>\n",
       "      <td>830000.0</td>\n",
       "      <td>it</td>\n",
       "    </tr>\n",
       "    <tr>\n",
       "      <th>129</th>\n",
       "      <td>Career Success</td>\n",
       "      <td>University of California, Irvine</td>\n",
       "      <td>SPECIALIZATION</td>\n",
       "      <td>4.4</td>\n",
       "      <td>Beginner</td>\n",
       "      <td>790k</td>\n",
       "      <td>790000.0</td>\n",
       "      <td>en</td>\n",
       "    </tr>\n",
       "    <tr>\n",
       "      <th>261</th>\n",
       "      <td>English for Career Development</td>\n",
       "      <td>University of Pennsylvania</td>\n",
       "      <td>COURSE</td>\n",
       "      <td>4.8</td>\n",
       "      <td>Mixed</td>\n",
       "      <td>760k</td>\n",
       "      <td>760000.0</td>\n",
       "      <td>en</td>\n",
       "    </tr>\n",
       "    <tr>\n",
       "      <th>765</th>\n",
       "      <td>Successful Negotiation: Essential Strategies a...</td>\n",
       "      <td>University of Michigan</td>\n",
       "      <td>COURSE</td>\n",
       "      <td>4.8</td>\n",
       "      <td>Mixed</td>\n",
       "      <td>750k</td>\n",
       "      <td>750000.0</td>\n",
       "      <td>en</td>\n",
       "    </tr>\n",
       "    <tr>\n",
       "      <th>199</th>\n",
       "      <td>Data Science: Foundations using R</td>\n",
       "      <td>Johns Hopkins University</td>\n",
       "      <td>SPECIALIZATION</td>\n",
       "      <td>4.6</td>\n",
       "      <td>Beginner</td>\n",
       "      <td>740k</td>\n",
       "      <td>740000.0</td>\n",
       "      <td>en</td>\n",
       "    </tr>\n",
       "    <tr>\n",
       "      <th>211</th>\n",
       "      <td>Deep Learning</td>\n",
       "      <td>deeplearning.ai</td>\n",
       "      <td>SPECIALIZATION</td>\n",
       "      <td>4.8</td>\n",
       "      <td>Intermediate</td>\n",
       "      <td>690k</td>\n",
       "      <td>690000.0</td>\n",
       "      <td>nl</td>\n",
       "    </tr>\n",
       "  </tbody>\n",
       "</table>\n",
       "</div>"
      ],
      "text/plain": [
       "                                          Course_Title  \\\n",
       "564                                   Machine Learning   \n",
       "815                          The Science of Well-Being   \n",
       "688                               Python for Everybody   \n",
       "674  Programming for Everybody (Getting Started wit...   \n",
       "196                                       Data Science   \n",
       "129                                     Career Success   \n",
       "261                     English for Career Development   \n",
       "765  Successful Negotiation: Essential Strategies a...   \n",
       "199                  Data Science: Foundations using R   \n",
       "211                                      Deep Learning   \n",
       "\n",
       "                         Organization     Course_Type  Course_Rating  \\\n",
       "564               Stanford University          COURSE            4.9   \n",
       "815                   Yale University          COURSE            4.9   \n",
       "688            University of Michigan  SPECIALIZATION            4.8   \n",
       "674            University of Michigan          COURSE            4.8   \n",
       "196          Johns Hopkins University  SPECIALIZATION            4.5   \n",
       "129  University of California, Irvine  SPECIALIZATION            4.4   \n",
       "261        University of Pennsylvania          COURSE            4.8   \n",
       "765            University of Michigan          COURSE            4.8   \n",
       "199          Johns Hopkins University  SPECIALIZATION            4.6   \n",
       "211                   deeplearning.ai  SPECIALIZATION            4.8   \n",
       "\n",
       "    Difficulty_Level Enrolled_Students   Students Language  \n",
       "564            Mixed              3.2m  3200000.0       en  \n",
       "815            Mixed              2.5m  2500000.0       en  \n",
       "688         Beginner              1.5m  1500000.0       cy  \n",
       "674            Mixed              1.3m  1300000.0       en  \n",
       "196         Beginner              830k   830000.0       it  \n",
       "129         Beginner              790k   790000.0       en  \n",
       "261            Mixed              760k   760000.0       en  \n",
       "765            Mixed              750k   750000.0       en  \n",
       "199         Beginner              740k   740000.0       en  \n",
       "211     Intermediate              690k   690000.0       nl  "
      ]
     },
     "execution_count": 160,
     "metadata": {},
     "output_type": "execute_result"
    }
   ],
   "source": [
    "# Print top ten courses according to students enrollment\n",
    "top_10_courses = coursera_df.nlargest(10,'Students')\n",
    "top_10_courses"
   ]
  },
  {
   "cell_type": "markdown",
   "metadata": {},
   "source": [
    "According to above table top categories students enrolled in are : \n",
    "1. Out of 10, 6 Courses related to data Science: Machine Learning, Data Science, Python, Deep Learning\n",
    "2. Self help: The Science of Well-Being\n",
    "3. Career Success"
   ]
  },
  {
   "cell_type": "code",
   "execution_count": 161,
   "metadata": {},
   "outputs": [
    {
     "data": {
      "application/vnd.plotly.v1+json": {
       "config": {
        "plotlyServerURL": "https://plot.ly"
       },
       "data": [
        {
         "domain": {
          "x": [
           0,
           1
          ],
          "y": [
           0,
           1
          ]
         },
         "hovertemplate": "Course_Title=%{label}<br>Students=%{value}<extra></extra>",
         "labels": [
          "Machine Learning",
          "The Science of Well-Being",
          "Python for Everybody",
          "Programming for Everybody (Getting Started with Python)",
          "Data Science",
          "Career Success",
          "English for Career Development",
          "Successful Negotiation: Essential Strategies and Skills",
          "Data Science: Foundations using R",
          "Deep Learning"
         ],
         "legendgroup": "",
         "name": "",
         "showlegend": true,
         "type": "pie",
         "values": [
          3200000,
          2500000,
          1500000,
          1300000,
          830000,
          790000,
          760000,
          750000,
          740000,
          690000
         ]
        }
       ],
       "layout": {
        "legend": {
         "tracegroupgap": 0
        },
        "template": {
         "data": {
          "bar": [
           {
            "error_x": {
             "color": "#2a3f5f"
            },
            "error_y": {
             "color": "#2a3f5f"
            },
            "marker": {
             "line": {
              "color": "#E5ECF6",
              "width": 0.5
             }
            },
            "type": "bar"
           }
          ],
          "barpolar": [
           {
            "marker": {
             "line": {
              "color": "#E5ECF6",
              "width": 0.5
             }
            },
            "type": "barpolar"
           }
          ],
          "carpet": [
           {
            "aaxis": {
             "endlinecolor": "#2a3f5f",
             "gridcolor": "white",
             "linecolor": "white",
             "minorgridcolor": "white",
             "startlinecolor": "#2a3f5f"
            },
            "baxis": {
             "endlinecolor": "#2a3f5f",
             "gridcolor": "white",
             "linecolor": "white",
             "minorgridcolor": "white",
             "startlinecolor": "#2a3f5f"
            },
            "type": "carpet"
           }
          ],
          "choropleth": [
           {
            "colorbar": {
             "outlinewidth": 0,
             "ticks": ""
            },
            "type": "choropleth"
           }
          ],
          "contour": [
           {
            "colorbar": {
             "outlinewidth": 0,
             "ticks": ""
            },
            "colorscale": [
             [
              0,
              "#0d0887"
             ],
             [
              0.1111111111111111,
              "#46039f"
             ],
             [
              0.2222222222222222,
              "#7201a8"
             ],
             [
              0.3333333333333333,
              "#9c179e"
             ],
             [
              0.4444444444444444,
              "#bd3786"
             ],
             [
              0.5555555555555556,
              "#d8576b"
             ],
             [
              0.6666666666666666,
              "#ed7953"
             ],
             [
              0.7777777777777778,
              "#fb9f3a"
             ],
             [
              0.8888888888888888,
              "#fdca26"
             ],
             [
              1,
              "#f0f921"
             ]
            ],
            "type": "contour"
           }
          ],
          "contourcarpet": [
           {
            "colorbar": {
             "outlinewidth": 0,
             "ticks": ""
            },
            "type": "contourcarpet"
           }
          ],
          "heatmap": [
           {
            "colorbar": {
             "outlinewidth": 0,
             "ticks": ""
            },
            "colorscale": [
             [
              0,
              "#0d0887"
             ],
             [
              0.1111111111111111,
              "#46039f"
             ],
             [
              0.2222222222222222,
              "#7201a8"
             ],
             [
              0.3333333333333333,
              "#9c179e"
             ],
             [
              0.4444444444444444,
              "#bd3786"
             ],
             [
              0.5555555555555556,
              "#d8576b"
             ],
             [
              0.6666666666666666,
              "#ed7953"
             ],
             [
              0.7777777777777778,
              "#fb9f3a"
             ],
             [
              0.8888888888888888,
              "#fdca26"
             ],
             [
              1,
              "#f0f921"
             ]
            ],
            "type": "heatmap"
           }
          ],
          "heatmapgl": [
           {
            "colorbar": {
             "outlinewidth": 0,
             "ticks": ""
            },
            "colorscale": [
             [
              0,
              "#0d0887"
             ],
             [
              0.1111111111111111,
              "#46039f"
             ],
             [
              0.2222222222222222,
              "#7201a8"
             ],
             [
              0.3333333333333333,
              "#9c179e"
             ],
             [
              0.4444444444444444,
              "#bd3786"
             ],
             [
              0.5555555555555556,
              "#d8576b"
             ],
             [
              0.6666666666666666,
              "#ed7953"
             ],
             [
              0.7777777777777778,
              "#fb9f3a"
             ],
             [
              0.8888888888888888,
              "#fdca26"
             ],
             [
              1,
              "#f0f921"
             ]
            ],
            "type": "heatmapgl"
           }
          ],
          "histogram": [
           {
            "marker": {
             "colorbar": {
              "outlinewidth": 0,
              "ticks": ""
             }
            },
            "type": "histogram"
           }
          ],
          "histogram2d": [
           {
            "colorbar": {
             "outlinewidth": 0,
             "ticks": ""
            },
            "colorscale": [
             [
              0,
              "#0d0887"
             ],
             [
              0.1111111111111111,
              "#46039f"
             ],
             [
              0.2222222222222222,
              "#7201a8"
             ],
             [
              0.3333333333333333,
              "#9c179e"
             ],
             [
              0.4444444444444444,
              "#bd3786"
             ],
             [
              0.5555555555555556,
              "#d8576b"
             ],
             [
              0.6666666666666666,
              "#ed7953"
             ],
             [
              0.7777777777777778,
              "#fb9f3a"
             ],
             [
              0.8888888888888888,
              "#fdca26"
             ],
             [
              1,
              "#f0f921"
             ]
            ],
            "type": "histogram2d"
           }
          ],
          "histogram2dcontour": [
           {
            "colorbar": {
             "outlinewidth": 0,
             "ticks": ""
            },
            "colorscale": [
             [
              0,
              "#0d0887"
             ],
             [
              0.1111111111111111,
              "#46039f"
             ],
             [
              0.2222222222222222,
              "#7201a8"
             ],
             [
              0.3333333333333333,
              "#9c179e"
             ],
             [
              0.4444444444444444,
              "#bd3786"
             ],
             [
              0.5555555555555556,
              "#d8576b"
             ],
             [
              0.6666666666666666,
              "#ed7953"
             ],
             [
              0.7777777777777778,
              "#fb9f3a"
             ],
             [
              0.8888888888888888,
              "#fdca26"
             ],
             [
              1,
              "#f0f921"
             ]
            ],
            "type": "histogram2dcontour"
           }
          ],
          "mesh3d": [
           {
            "colorbar": {
             "outlinewidth": 0,
             "ticks": ""
            },
            "type": "mesh3d"
           }
          ],
          "parcoords": [
           {
            "line": {
             "colorbar": {
              "outlinewidth": 0,
              "ticks": ""
             }
            },
            "type": "parcoords"
           }
          ],
          "pie": [
           {
            "automargin": true,
            "type": "pie"
           }
          ],
          "scatter": [
           {
            "marker": {
             "colorbar": {
              "outlinewidth": 0,
              "ticks": ""
             }
            },
            "type": "scatter"
           }
          ],
          "scatter3d": [
           {
            "line": {
             "colorbar": {
              "outlinewidth": 0,
              "ticks": ""
             }
            },
            "marker": {
             "colorbar": {
              "outlinewidth": 0,
              "ticks": ""
             }
            },
            "type": "scatter3d"
           }
          ],
          "scattercarpet": [
           {
            "marker": {
             "colorbar": {
              "outlinewidth": 0,
              "ticks": ""
             }
            },
            "type": "scattercarpet"
           }
          ],
          "scattergeo": [
           {
            "marker": {
             "colorbar": {
              "outlinewidth": 0,
              "ticks": ""
             }
            },
            "type": "scattergeo"
           }
          ],
          "scattergl": [
           {
            "marker": {
             "colorbar": {
              "outlinewidth": 0,
              "ticks": ""
             }
            },
            "type": "scattergl"
           }
          ],
          "scattermapbox": [
           {
            "marker": {
             "colorbar": {
              "outlinewidth": 0,
              "ticks": ""
             }
            },
            "type": "scattermapbox"
           }
          ],
          "scatterpolar": [
           {
            "marker": {
             "colorbar": {
              "outlinewidth": 0,
              "ticks": ""
             }
            },
            "type": "scatterpolar"
           }
          ],
          "scatterpolargl": [
           {
            "marker": {
             "colorbar": {
              "outlinewidth": 0,
              "ticks": ""
             }
            },
            "type": "scatterpolargl"
           }
          ],
          "scatterternary": [
           {
            "marker": {
             "colorbar": {
              "outlinewidth": 0,
              "ticks": ""
             }
            },
            "type": "scatterternary"
           }
          ],
          "surface": [
           {
            "colorbar": {
             "outlinewidth": 0,
             "ticks": ""
            },
            "colorscale": [
             [
              0,
              "#0d0887"
             ],
             [
              0.1111111111111111,
              "#46039f"
             ],
             [
              0.2222222222222222,
              "#7201a8"
             ],
             [
              0.3333333333333333,
              "#9c179e"
             ],
             [
              0.4444444444444444,
              "#bd3786"
             ],
             [
              0.5555555555555556,
              "#d8576b"
             ],
             [
              0.6666666666666666,
              "#ed7953"
             ],
             [
              0.7777777777777778,
              "#fb9f3a"
             ],
             [
              0.8888888888888888,
              "#fdca26"
             ],
             [
              1,
              "#f0f921"
             ]
            ],
            "type": "surface"
           }
          ],
          "table": [
           {
            "cells": {
             "fill": {
              "color": "#EBF0F8"
             },
             "line": {
              "color": "white"
             }
            },
            "header": {
             "fill": {
              "color": "#C8D4E3"
             },
             "line": {
              "color": "white"
             }
            },
            "type": "table"
           }
          ]
         },
         "layout": {
          "annotationdefaults": {
           "arrowcolor": "#2a3f5f",
           "arrowhead": 0,
           "arrowwidth": 1
          },
          "coloraxis": {
           "colorbar": {
            "outlinewidth": 0,
            "ticks": ""
           }
          },
          "colorscale": {
           "diverging": [
            [
             0,
             "#8e0152"
            ],
            [
             0.1,
             "#c51b7d"
            ],
            [
             0.2,
             "#de77ae"
            ],
            [
             0.3,
             "#f1b6da"
            ],
            [
             0.4,
             "#fde0ef"
            ],
            [
             0.5,
             "#f7f7f7"
            ],
            [
             0.6,
             "#e6f5d0"
            ],
            [
             0.7,
             "#b8e186"
            ],
            [
             0.8,
             "#7fbc41"
            ],
            [
             0.9,
             "#4d9221"
            ],
            [
             1,
             "#276419"
            ]
           ],
           "sequential": [
            [
             0,
             "#0d0887"
            ],
            [
             0.1111111111111111,
             "#46039f"
            ],
            [
             0.2222222222222222,
             "#7201a8"
            ],
            [
             0.3333333333333333,
             "#9c179e"
            ],
            [
             0.4444444444444444,
             "#bd3786"
            ],
            [
             0.5555555555555556,
             "#d8576b"
            ],
            [
             0.6666666666666666,
             "#ed7953"
            ],
            [
             0.7777777777777778,
             "#fb9f3a"
            ],
            [
             0.8888888888888888,
             "#fdca26"
            ],
            [
             1,
             "#f0f921"
            ]
           ],
           "sequentialminus": [
            [
             0,
             "#0d0887"
            ],
            [
             0.1111111111111111,
             "#46039f"
            ],
            [
             0.2222222222222222,
             "#7201a8"
            ],
            [
             0.3333333333333333,
             "#9c179e"
            ],
            [
             0.4444444444444444,
             "#bd3786"
            ],
            [
             0.5555555555555556,
             "#d8576b"
            ],
            [
             0.6666666666666666,
             "#ed7953"
            ],
            [
             0.7777777777777778,
             "#fb9f3a"
            ],
            [
             0.8888888888888888,
             "#fdca26"
            ],
            [
             1,
             "#f0f921"
            ]
           ]
          },
          "colorway": [
           "#636efa",
           "#EF553B",
           "#00cc96",
           "#ab63fa",
           "#FFA15A",
           "#19d3f3",
           "#FF6692",
           "#B6E880",
           "#FF97FF",
           "#FECB52"
          ],
          "font": {
           "color": "#2a3f5f"
          },
          "geo": {
           "bgcolor": "white",
           "lakecolor": "white",
           "landcolor": "#E5ECF6",
           "showlakes": true,
           "showland": true,
           "subunitcolor": "white"
          },
          "hoverlabel": {
           "align": "left"
          },
          "hovermode": "closest",
          "mapbox": {
           "style": "light"
          },
          "paper_bgcolor": "white",
          "plot_bgcolor": "#E5ECF6",
          "polar": {
           "angularaxis": {
            "gridcolor": "white",
            "linecolor": "white",
            "ticks": ""
           },
           "bgcolor": "#E5ECF6",
           "radialaxis": {
            "gridcolor": "white",
            "linecolor": "white",
            "ticks": ""
           }
          },
          "scene": {
           "xaxis": {
            "backgroundcolor": "#E5ECF6",
            "gridcolor": "white",
            "gridwidth": 2,
            "linecolor": "white",
            "showbackground": true,
            "ticks": "",
            "zerolinecolor": "white"
           },
           "yaxis": {
            "backgroundcolor": "#E5ECF6",
            "gridcolor": "white",
            "gridwidth": 2,
            "linecolor": "white",
            "showbackground": true,
            "ticks": "",
            "zerolinecolor": "white"
           },
           "zaxis": {
            "backgroundcolor": "#E5ECF6",
            "gridcolor": "white",
            "gridwidth": 2,
            "linecolor": "white",
            "showbackground": true,
            "ticks": "",
            "zerolinecolor": "white"
           }
          },
          "shapedefaults": {
           "line": {
            "color": "#2a3f5f"
           }
          },
          "ternary": {
           "aaxis": {
            "gridcolor": "white",
            "linecolor": "white",
            "ticks": ""
           },
           "baxis": {
            "gridcolor": "white",
            "linecolor": "white",
            "ticks": ""
           },
           "bgcolor": "#E5ECF6",
           "caxis": {
            "gridcolor": "white",
            "linecolor": "white",
            "ticks": ""
           }
          },
          "title": {
           "x": 0.05
          },
          "xaxis": {
           "automargin": true,
           "gridcolor": "white",
           "linecolor": "white",
           "ticks": "",
           "title": {
            "standoff": 15
           },
           "zerolinecolor": "white",
           "zerolinewidth": 2
          },
          "yaxis": {
           "automargin": true,
           "gridcolor": "white",
           "linecolor": "white",
           "ticks": "",
           "title": {
            "standoff": 15
           },
           "zerolinecolor": "white",
           "zerolinewidth": 2
          }
         }
        },
        "title": {
         "text": "Top 10 courses students enrolled in:"
        }
       }
      },
      "text/html": [
       "<div>\n",
       "        \n",
       "        \n",
       "            <div id=\"083e21a7-8315-4338-b9d4-f9b4cb1024e8\" class=\"plotly-graph-div\" style=\"height:525px; width:100%;\"></div>\n",
       "            <script type=\"text/javascript\">\n",
       "                require([\"plotly\"], function(Plotly) {\n",
       "                    window.PLOTLYENV=window.PLOTLYENV || {};\n",
       "                    \n",
       "                if (document.getElementById(\"083e21a7-8315-4338-b9d4-f9b4cb1024e8\")) {\n",
       "                    Plotly.newPlot(\n",
       "                        '083e21a7-8315-4338-b9d4-f9b4cb1024e8',\n",
       "                        [{\"domain\": {\"x\": [0.0, 1.0], \"y\": [0.0, 1.0]}, \"hovertemplate\": \"Course_Title=%{label}<br>Students=%{value}<extra></extra>\", \"labels\": [\"Machine Learning\", \"The Science of Well-Being\", \"Python for Everybody\", \"Programming for Everybody (Getting Started with Python)\", \"Data Science\", \"Career Success\", \"English for Career Development\", \"Successful Negotiation: Essential Strategies and Skills\", \"Data Science: Foundations using R\", \"Deep Learning\"], \"legendgroup\": \"\", \"name\": \"\", \"showlegend\": true, \"type\": \"pie\", \"values\": [3200000.0, 2500000.0, 1500000.0, 1300000.0, 830000.0, 790000.0, 760000.0, 750000.0, 740000.0, 690000.0]}],\n",
       "                        {\"legend\": {\"tracegroupgap\": 0}, \"template\": {\"data\": {\"bar\": [{\"error_x\": {\"color\": \"#2a3f5f\"}, \"error_y\": {\"color\": \"#2a3f5f\"}, \"marker\": {\"line\": {\"color\": \"#E5ECF6\", \"width\": 0.5}}, \"type\": \"bar\"}], \"barpolar\": [{\"marker\": {\"line\": {\"color\": \"#E5ECF6\", \"width\": 0.5}}, \"type\": \"barpolar\"}], \"carpet\": [{\"aaxis\": {\"endlinecolor\": \"#2a3f5f\", \"gridcolor\": \"white\", \"linecolor\": \"white\", \"minorgridcolor\": \"white\", \"startlinecolor\": \"#2a3f5f\"}, \"baxis\": {\"endlinecolor\": \"#2a3f5f\", \"gridcolor\": \"white\", \"linecolor\": \"white\", \"minorgridcolor\": \"white\", \"startlinecolor\": \"#2a3f5f\"}, \"type\": \"carpet\"}], \"choropleth\": [{\"colorbar\": {\"outlinewidth\": 0, \"ticks\": \"\"}, \"type\": \"choropleth\"}], \"contour\": [{\"colorbar\": {\"outlinewidth\": 0, \"ticks\": \"\"}, \"colorscale\": [[0.0, \"#0d0887\"], [0.1111111111111111, \"#46039f\"], [0.2222222222222222, \"#7201a8\"], [0.3333333333333333, \"#9c179e\"], [0.4444444444444444, \"#bd3786\"], [0.5555555555555556, \"#d8576b\"], [0.6666666666666666, \"#ed7953\"], [0.7777777777777778, \"#fb9f3a\"], [0.8888888888888888, \"#fdca26\"], [1.0, \"#f0f921\"]], \"type\": \"contour\"}], \"contourcarpet\": [{\"colorbar\": {\"outlinewidth\": 0, \"ticks\": \"\"}, \"type\": \"contourcarpet\"}], \"heatmap\": [{\"colorbar\": {\"outlinewidth\": 0, \"ticks\": \"\"}, \"colorscale\": [[0.0, \"#0d0887\"], [0.1111111111111111, \"#46039f\"], [0.2222222222222222, \"#7201a8\"], [0.3333333333333333, \"#9c179e\"], [0.4444444444444444, \"#bd3786\"], [0.5555555555555556, \"#d8576b\"], [0.6666666666666666, \"#ed7953\"], [0.7777777777777778, \"#fb9f3a\"], [0.8888888888888888, \"#fdca26\"], [1.0, \"#f0f921\"]], \"type\": \"heatmap\"}], \"heatmapgl\": [{\"colorbar\": {\"outlinewidth\": 0, \"ticks\": \"\"}, \"colorscale\": [[0.0, \"#0d0887\"], [0.1111111111111111, \"#46039f\"], [0.2222222222222222, \"#7201a8\"], [0.3333333333333333, \"#9c179e\"], [0.4444444444444444, \"#bd3786\"], [0.5555555555555556, \"#d8576b\"], [0.6666666666666666, \"#ed7953\"], [0.7777777777777778, \"#fb9f3a\"], [0.8888888888888888, \"#fdca26\"], [1.0, \"#f0f921\"]], \"type\": \"heatmapgl\"}], \"histogram\": [{\"marker\": {\"colorbar\": {\"outlinewidth\": 0, \"ticks\": \"\"}}, \"type\": \"histogram\"}], \"histogram2d\": [{\"colorbar\": {\"outlinewidth\": 0, \"ticks\": \"\"}, \"colorscale\": [[0.0, \"#0d0887\"], [0.1111111111111111, \"#46039f\"], [0.2222222222222222, \"#7201a8\"], [0.3333333333333333, \"#9c179e\"], [0.4444444444444444, \"#bd3786\"], [0.5555555555555556, \"#d8576b\"], [0.6666666666666666, \"#ed7953\"], [0.7777777777777778, \"#fb9f3a\"], [0.8888888888888888, \"#fdca26\"], [1.0, \"#f0f921\"]], \"type\": \"histogram2d\"}], \"histogram2dcontour\": [{\"colorbar\": {\"outlinewidth\": 0, \"ticks\": \"\"}, \"colorscale\": [[0.0, \"#0d0887\"], [0.1111111111111111, \"#46039f\"], [0.2222222222222222, \"#7201a8\"], [0.3333333333333333, \"#9c179e\"], [0.4444444444444444, \"#bd3786\"], [0.5555555555555556, \"#d8576b\"], [0.6666666666666666, \"#ed7953\"], [0.7777777777777778, \"#fb9f3a\"], [0.8888888888888888, \"#fdca26\"], [1.0, \"#f0f921\"]], \"type\": \"histogram2dcontour\"}], \"mesh3d\": [{\"colorbar\": {\"outlinewidth\": 0, \"ticks\": \"\"}, \"type\": \"mesh3d\"}], \"parcoords\": [{\"line\": {\"colorbar\": {\"outlinewidth\": 0, \"ticks\": \"\"}}, \"type\": \"parcoords\"}], \"pie\": [{\"automargin\": true, \"type\": \"pie\"}], \"scatter\": [{\"marker\": {\"colorbar\": {\"outlinewidth\": 0, \"ticks\": \"\"}}, \"type\": \"scatter\"}], \"scatter3d\": [{\"line\": {\"colorbar\": {\"outlinewidth\": 0, \"ticks\": \"\"}}, \"marker\": {\"colorbar\": {\"outlinewidth\": 0, \"ticks\": \"\"}}, \"type\": \"scatter3d\"}], \"scattercarpet\": [{\"marker\": {\"colorbar\": {\"outlinewidth\": 0, \"ticks\": \"\"}}, \"type\": \"scattercarpet\"}], \"scattergeo\": [{\"marker\": {\"colorbar\": {\"outlinewidth\": 0, \"ticks\": \"\"}}, \"type\": \"scattergeo\"}], \"scattergl\": [{\"marker\": {\"colorbar\": {\"outlinewidth\": 0, \"ticks\": \"\"}}, \"type\": \"scattergl\"}], \"scattermapbox\": [{\"marker\": {\"colorbar\": {\"outlinewidth\": 0, \"ticks\": \"\"}}, \"type\": \"scattermapbox\"}], \"scatterpolar\": [{\"marker\": {\"colorbar\": {\"outlinewidth\": 0, \"ticks\": \"\"}}, \"type\": \"scatterpolar\"}], \"scatterpolargl\": [{\"marker\": {\"colorbar\": {\"outlinewidth\": 0, \"ticks\": \"\"}}, \"type\": \"scatterpolargl\"}], \"scatterternary\": [{\"marker\": {\"colorbar\": {\"outlinewidth\": 0, \"ticks\": \"\"}}, \"type\": \"scatterternary\"}], \"surface\": [{\"colorbar\": {\"outlinewidth\": 0, \"ticks\": \"\"}, \"colorscale\": [[0.0, \"#0d0887\"], [0.1111111111111111, \"#46039f\"], [0.2222222222222222, \"#7201a8\"], [0.3333333333333333, \"#9c179e\"], [0.4444444444444444, \"#bd3786\"], [0.5555555555555556, \"#d8576b\"], [0.6666666666666666, \"#ed7953\"], [0.7777777777777778, \"#fb9f3a\"], [0.8888888888888888, \"#fdca26\"], [1.0, \"#f0f921\"]], \"type\": \"surface\"}], \"table\": [{\"cells\": {\"fill\": {\"color\": \"#EBF0F8\"}, \"line\": {\"color\": \"white\"}}, \"header\": {\"fill\": {\"color\": \"#C8D4E3\"}, \"line\": {\"color\": \"white\"}}, \"type\": \"table\"}]}, \"layout\": {\"annotationdefaults\": {\"arrowcolor\": \"#2a3f5f\", \"arrowhead\": 0, \"arrowwidth\": 1}, \"coloraxis\": {\"colorbar\": {\"outlinewidth\": 0, \"ticks\": \"\"}}, \"colorscale\": {\"diverging\": [[0, \"#8e0152\"], [0.1, \"#c51b7d\"], [0.2, \"#de77ae\"], [0.3, \"#f1b6da\"], [0.4, \"#fde0ef\"], [0.5, \"#f7f7f7\"], [0.6, \"#e6f5d0\"], [0.7, \"#b8e186\"], [0.8, \"#7fbc41\"], [0.9, \"#4d9221\"], [1, \"#276419\"]], \"sequential\": [[0.0, \"#0d0887\"], [0.1111111111111111, \"#46039f\"], [0.2222222222222222, \"#7201a8\"], [0.3333333333333333, \"#9c179e\"], [0.4444444444444444, \"#bd3786\"], [0.5555555555555556, \"#d8576b\"], [0.6666666666666666, \"#ed7953\"], [0.7777777777777778, \"#fb9f3a\"], [0.8888888888888888, \"#fdca26\"], [1.0, \"#f0f921\"]], \"sequentialminus\": [[0.0, \"#0d0887\"], [0.1111111111111111, \"#46039f\"], [0.2222222222222222, \"#7201a8\"], [0.3333333333333333, \"#9c179e\"], [0.4444444444444444, \"#bd3786\"], [0.5555555555555556, \"#d8576b\"], [0.6666666666666666, \"#ed7953\"], [0.7777777777777778, \"#fb9f3a\"], [0.8888888888888888, \"#fdca26\"], [1.0, \"#f0f921\"]]}, \"colorway\": [\"#636efa\", \"#EF553B\", \"#00cc96\", \"#ab63fa\", \"#FFA15A\", \"#19d3f3\", \"#FF6692\", \"#B6E880\", \"#FF97FF\", \"#FECB52\"], \"font\": {\"color\": \"#2a3f5f\"}, \"geo\": {\"bgcolor\": \"white\", \"lakecolor\": \"white\", \"landcolor\": \"#E5ECF6\", \"showlakes\": true, \"showland\": true, \"subunitcolor\": \"white\"}, \"hoverlabel\": {\"align\": \"left\"}, \"hovermode\": \"closest\", \"mapbox\": {\"style\": \"light\"}, \"paper_bgcolor\": \"white\", \"plot_bgcolor\": \"#E5ECF6\", \"polar\": {\"angularaxis\": {\"gridcolor\": \"white\", \"linecolor\": \"white\", \"ticks\": \"\"}, \"bgcolor\": \"#E5ECF6\", \"radialaxis\": {\"gridcolor\": \"white\", \"linecolor\": \"white\", \"ticks\": \"\"}}, \"scene\": {\"xaxis\": {\"backgroundcolor\": \"#E5ECF6\", \"gridcolor\": \"white\", \"gridwidth\": 2, \"linecolor\": \"white\", \"showbackground\": true, \"ticks\": \"\", \"zerolinecolor\": \"white\"}, \"yaxis\": {\"backgroundcolor\": \"#E5ECF6\", \"gridcolor\": \"white\", \"gridwidth\": 2, \"linecolor\": \"white\", \"showbackground\": true, \"ticks\": \"\", \"zerolinecolor\": \"white\"}, \"zaxis\": {\"backgroundcolor\": \"#E5ECF6\", \"gridcolor\": \"white\", \"gridwidth\": 2, \"linecolor\": \"white\", \"showbackground\": true, \"ticks\": \"\", \"zerolinecolor\": \"white\"}}, \"shapedefaults\": {\"line\": {\"color\": \"#2a3f5f\"}}, \"ternary\": {\"aaxis\": {\"gridcolor\": \"white\", \"linecolor\": \"white\", \"ticks\": \"\"}, \"baxis\": {\"gridcolor\": \"white\", \"linecolor\": \"white\", \"ticks\": \"\"}, \"bgcolor\": \"#E5ECF6\", \"caxis\": {\"gridcolor\": \"white\", \"linecolor\": \"white\", \"ticks\": \"\"}}, \"title\": {\"x\": 0.05}, \"xaxis\": {\"automargin\": true, \"gridcolor\": \"white\", \"linecolor\": \"white\", \"ticks\": \"\", \"title\": {\"standoff\": 15}, \"zerolinecolor\": \"white\", \"zerolinewidth\": 2}, \"yaxis\": {\"automargin\": true, \"gridcolor\": \"white\", \"linecolor\": \"white\", \"ticks\": \"\", \"title\": {\"standoff\": 15}, \"zerolinecolor\": \"white\", \"zerolinewidth\": 2}}}, \"title\": {\"text\": \"Top 10 courses students enrolled in:\"}},\n",
       "                        {\"responsive\": true}\n",
       "                    ).then(function(){\n",
       "                            \n",
       "var gd = document.getElementById('083e21a7-8315-4338-b9d4-f9b4cb1024e8');\n",
       "var x = new MutationObserver(function (mutations, observer) {{\n",
       "        var display = window.getComputedStyle(gd).display;\n",
       "        if (!display || display === 'none') {{\n",
       "            console.log([gd, 'removed!']);\n",
       "            Plotly.purge(gd);\n",
       "            observer.disconnect();\n",
       "        }}\n",
       "}});\n",
       "\n",
       "// Listen for the removal of the full notebook cells\n",
       "var notebookContainer = gd.closest('#notebook-container');\n",
       "if (notebookContainer) {{\n",
       "    x.observe(notebookContainer, {childList: true});\n",
       "}}\n",
       "\n",
       "// Listen for the clearing of the current output cell\n",
       "var outputEl = gd.closest('.output');\n",
       "if (outputEl) {{\n",
       "    x.observe(outputEl, {childList: true});\n",
       "}}\n",
       "\n",
       "                        })\n",
       "                };\n",
       "                });\n",
       "            </script>\n",
       "        </div>"
      ]
     },
     "metadata": {},
     "output_type": "display_data"
    }
   ],
   "source": [
    "fig = px.pie(top_10_courses, values='Students', names='Course_Title', title= 'Top 10 courses students enrolled in:')\n",
    "fig.show()"
   ]
  },
  {
   "cell_type": "code",
   "execution_count": 162,
   "metadata": {},
   "outputs": [
    {
     "data": {
      "application/vnd.plotly.v1+json": {
       "config": {
        "plotlyServerURL": "https://plot.ly"
       },
       "data": [
        {
         "domain": {
          "x": [
           0,
           1
          ],
          "y": [
           0,
           1
          ]
         },
         "hovertemplate": "Organization=%{label}<br>Students=%{value}<extra></extra>",
         "labels": [
          "Stanford University",
          "Yale University",
          "University of Michigan",
          "University of Michigan",
          "Johns Hopkins University",
          "University of California, Irvine",
          "University of Pennsylvania",
          "University of Michigan",
          "Johns Hopkins University",
          "deeplearning.ai"
         ],
         "legendgroup": "",
         "name": "",
         "showlegend": true,
         "type": "pie",
         "values": [
          3200000,
          2500000,
          1500000,
          1300000,
          830000,
          790000,
          760000,
          750000,
          740000,
          690000
         ]
        }
       ],
       "layout": {
        "legend": {
         "tracegroupgap": 0
        },
        "template": {
         "data": {
          "bar": [
           {
            "error_x": {
             "color": "#2a3f5f"
            },
            "error_y": {
             "color": "#2a3f5f"
            },
            "marker": {
             "line": {
              "color": "#E5ECF6",
              "width": 0.5
             }
            },
            "type": "bar"
           }
          ],
          "barpolar": [
           {
            "marker": {
             "line": {
              "color": "#E5ECF6",
              "width": 0.5
             }
            },
            "type": "barpolar"
           }
          ],
          "carpet": [
           {
            "aaxis": {
             "endlinecolor": "#2a3f5f",
             "gridcolor": "white",
             "linecolor": "white",
             "minorgridcolor": "white",
             "startlinecolor": "#2a3f5f"
            },
            "baxis": {
             "endlinecolor": "#2a3f5f",
             "gridcolor": "white",
             "linecolor": "white",
             "minorgridcolor": "white",
             "startlinecolor": "#2a3f5f"
            },
            "type": "carpet"
           }
          ],
          "choropleth": [
           {
            "colorbar": {
             "outlinewidth": 0,
             "ticks": ""
            },
            "type": "choropleth"
           }
          ],
          "contour": [
           {
            "colorbar": {
             "outlinewidth": 0,
             "ticks": ""
            },
            "colorscale": [
             [
              0,
              "#0d0887"
             ],
             [
              0.1111111111111111,
              "#46039f"
             ],
             [
              0.2222222222222222,
              "#7201a8"
             ],
             [
              0.3333333333333333,
              "#9c179e"
             ],
             [
              0.4444444444444444,
              "#bd3786"
             ],
             [
              0.5555555555555556,
              "#d8576b"
             ],
             [
              0.6666666666666666,
              "#ed7953"
             ],
             [
              0.7777777777777778,
              "#fb9f3a"
             ],
             [
              0.8888888888888888,
              "#fdca26"
             ],
             [
              1,
              "#f0f921"
             ]
            ],
            "type": "contour"
           }
          ],
          "contourcarpet": [
           {
            "colorbar": {
             "outlinewidth": 0,
             "ticks": ""
            },
            "type": "contourcarpet"
           }
          ],
          "heatmap": [
           {
            "colorbar": {
             "outlinewidth": 0,
             "ticks": ""
            },
            "colorscale": [
             [
              0,
              "#0d0887"
             ],
             [
              0.1111111111111111,
              "#46039f"
             ],
             [
              0.2222222222222222,
              "#7201a8"
             ],
             [
              0.3333333333333333,
              "#9c179e"
             ],
             [
              0.4444444444444444,
              "#bd3786"
             ],
             [
              0.5555555555555556,
              "#d8576b"
             ],
             [
              0.6666666666666666,
              "#ed7953"
             ],
             [
              0.7777777777777778,
              "#fb9f3a"
             ],
             [
              0.8888888888888888,
              "#fdca26"
             ],
             [
              1,
              "#f0f921"
             ]
            ],
            "type": "heatmap"
           }
          ],
          "heatmapgl": [
           {
            "colorbar": {
             "outlinewidth": 0,
             "ticks": ""
            },
            "colorscale": [
             [
              0,
              "#0d0887"
             ],
             [
              0.1111111111111111,
              "#46039f"
             ],
             [
              0.2222222222222222,
              "#7201a8"
             ],
             [
              0.3333333333333333,
              "#9c179e"
             ],
             [
              0.4444444444444444,
              "#bd3786"
             ],
             [
              0.5555555555555556,
              "#d8576b"
             ],
             [
              0.6666666666666666,
              "#ed7953"
             ],
             [
              0.7777777777777778,
              "#fb9f3a"
             ],
             [
              0.8888888888888888,
              "#fdca26"
             ],
             [
              1,
              "#f0f921"
             ]
            ],
            "type": "heatmapgl"
           }
          ],
          "histogram": [
           {
            "marker": {
             "colorbar": {
              "outlinewidth": 0,
              "ticks": ""
             }
            },
            "type": "histogram"
           }
          ],
          "histogram2d": [
           {
            "colorbar": {
             "outlinewidth": 0,
             "ticks": ""
            },
            "colorscale": [
             [
              0,
              "#0d0887"
             ],
             [
              0.1111111111111111,
              "#46039f"
             ],
             [
              0.2222222222222222,
              "#7201a8"
             ],
             [
              0.3333333333333333,
              "#9c179e"
             ],
             [
              0.4444444444444444,
              "#bd3786"
             ],
             [
              0.5555555555555556,
              "#d8576b"
             ],
             [
              0.6666666666666666,
              "#ed7953"
             ],
             [
              0.7777777777777778,
              "#fb9f3a"
             ],
             [
              0.8888888888888888,
              "#fdca26"
             ],
             [
              1,
              "#f0f921"
             ]
            ],
            "type": "histogram2d"
           }
          ],
          "histogram2dcontour": [
           {
            "colorbar": {
             "outlinewidth": 0,
             "ticks": ""
            },
            "colorscale": [
             [
              0,
              "#0d0887"
             ],
             [
              0.1111111111111111,
              "#46039f"
             ],
             [
              0.2222222222222222,
              "#7201a8"
             ],
             [
              0.3333333333333333,
              "#9c179e"
             ],
             [
              0.4444444444444444,
              "#bd3786"
             ],
             [
              0.5555555555555556,
              "#d8576b"
             ],
             [
              0.6666666666666666,
              "#ed7953"
             ],
             [
              0.7777777777777778,
              "#fb9f3a"
             ],
             [
              0.8888888888888888,
              "#fdca26"
             ],
             [
              1,
              "#f0f921"
             ]
            ],
            "type": "histogram2dcontour"
           }
          ],
          "mesh3d": [
           {
            "colorbar": {
             "outlinewidth": 0,
             "ticks": ""
            },
            "type": "mesh3d"
           }
          ],
          "parcoords": [
           {
            "line": {
             "colorbar": {
              "outlinewidth": 0,
              "ticks": ""
             }
            },
            "type": "parcoords"
           }
          ],
          "pie": [
           {
            "automargin": true,
            "type": "pie"
           }
          ],
          "scatter": [
           {
            "marker": {
             "colorbar": {
              "outlinewidth": 0,
              "ticks": ""
             }
            },
            "type": "scatter"
           }
          ],
          "scatter3d": [
           {
            "line": {
             "colorbar": {
              "outlinewidth": 0,
              "ticks": ""
             }
            },
            "marker": {
             "colorbar": {
              "outlinewidth": 0,
              "ticks": ""
             }
            },
            "type": "scatter3d"
           }
          ],
          "scattercarpet": [
           {
            "marker": {
             "colorbar": {
              "outlinewidth": 0,
              "ticks": ""
             }
            },
            "type": "scattercarpet"
           }
          ],
          "scattergeo": [
           {
            "marker": {
             "colorbar": {
              "outlinewidth": 0,
              "ticks": ""
             }
            },
            "type": "scattergeo"
           }
          ],
          "scattergl": [
           {
            "marker": {
             "colorbar": {
              "outlinewidth": 0,
              "ticks": ""
             }
            },
            "type": "scattergl"
           }
          ],
          "scattermapbox": [
           {
            "marker": {
             "colorbar": {
              "outlinewidth": 0,
              "ticks": ""
             }
            },
            "type": "scattermapbox"
           }
          ],
          "scatterpolar": [
           {
            "marker": {
             "colorbar": {
              "outlinewidth": 0,
              "ticks": ""
             }
            },
            "type": "scatterpolar"
           }
          ],
          "scatterpolargl": [
           {
            "marker": {
             "colorbar": {
              "outlinewidth": 0,
              "ticks": ""
             }
            },
            "type": "scatterpolargl"
           }
          ],
          "scatterternary": [
           {
            "marker": {
             "colorbar": {
              "outlinewidth": 0,
              "ticks": ""
             }
            },
            "type": "scatterternary"
           }
          ],
          "surface": [
           {
            "colorbar": {
             "outlinewidth": 0,
             "ticks": ""
            },
            "colorscale": [
             [
              0,
              "#0d0887"
             ],
             [
              0.1111111111111111,
              "#46039f"
             ],
             [
              0.2222222222222222,
              "#7201a8"
             ],
             [
              0.3333333333333333,
              "#9c179e"
             ],
             [
              0.4444444444444444,
              "#bd3786"
             ],
             [
              0.5555555555555556,
              "#d8576b"
             ],
             [
              0.6666666666666666,
              "#ed7953"
             ],
             [
              0.7777777777777778,
              "#fb9f3a"
             ],
             [
              0.8888888888888888,
              "#fdca26"
             ],
             [
              1,
              "#f0f921"
             ]
            ],
            "type": "surface"
           }
          ],
          "table": [
           {
            "cells": {
             "fill": {
              "color": "#EBF0F8"
             },
             "line": {
              "color": "white"
             }
            },
            "header": {
             "fill": {
              "color": "#C8D4E3"
             },
             "line": {
              "color": "white"
             }
            },
            "type": "table"
           }
          ]
         },
         "layout": {
          "annotationdefaults": {
           "arrowcolor": "#2a3f5f",
           "arrowhead": 0,
           "arrowwidth": 1
          },
          "coloraxis": {
           "colorbar": {
            "outlinewidth": 0,
            "ticks": ""
           }
          },
          "colorscale": {
           "diverging": [
            [
             0,
             "#8e0152"
            ],
            [
             0.1,
             "#c51b7d"
            ],
            [
             0.2,
             "#de77ae"
            ],
            [
             0.3,
             "#f1b6da"
            ],
            [
             0.4,
             "#fde0ef"
            ],
            [
             0.5,
             "#f7f7f7"
            ],
            [
             0.6,
             "#e6f5d0"
            ],
            [
             0.7,
             "#b8e186"
            ],
            [
             0.8,
             "#7fbc41"
            ],
            [
             0.9,
             "#4d9221"
            ],
            [
             1,
             "#276419"
            ]
           ],
           "sequential": [
            [
             0,
             "#0d0887"
            ],
            [
             0.1111111111111111,
             "#46039f"
            ],
            [
             0.2222222222222222,
             "#7201a8"
            ],
            [
             0.3333333333333333,
             "#9c179e"
            ],
            [
             0.4444444444444444,
             "#bd3786"
            ],
            [
             0.5555555555555556,
             "#d8576b"
            ],
            [
             0.6666666666666666,
             "#ed7953"
            ],
            [
             0.7777777777777778,
             "#fb9f3a"
            ],
            [
             0.8888888888888888,
             "#fdca26"
            ],
            [
             1,
             "#f0f921"
            ]
           ],
           "sequentialminus": [
            [
             0,
             "#0d0887"
            ],
            [
             0.1111111111111111,
             "#46039f"
            ],
            [
             0.2222222222222222,
             "#7201a8"
            ],
            [
             0.3333333333333333,
             "#9c179e"
            ],
            [
             0.4444444444444444,
             "#bd3786"
            ],
            [
             0.5555555555555556,
             "#d8576b"
            ],
            [
             0.6666666666666666,
             "#ed7953"
            ],
            [
             0.7777777777777778,
             "#fb9f3a"
            ],
            [
             0.8888888888888888,
             "#fdca26"
            ],
            [
             1,
             "#f0f921"
            ]
           ]
          },
          "colorway": [
           "#636efa",
           "#EF553B",
           "#00cc96",
           "#ab63fa",
           "#FFA15A",
           "#19d3f3",
           "#FF6692",
           "#B6E880",
           "#FF97FF",
           "#FECB52"
          ],
          "font": {
           "color": "#2a3f5f"
          },
          "geo": {
           "bgcolor": "white",
           "lakecolor": "white",
           "landcolor": "#E5ECF6",
           "showlakes": true,
           "showland": true,
           "subunitcolor": "white"
          },
          "hoverlabel": {
           "align": "left"
          },
          "hovermode": "closest",
          "mapbox": {
           "style": "light"
          },
          "paper_bgcolor": "white",
          "plot_bgcolor": "#E5ECF6",
          "polar": {
           "angularaxis": {
            "gridcolor": "white",
            "linecolor": "white",
            "ticks": ""
           },
           "bgcolor": "#E5ECF6",
           "radialaxis": {
            "gridcolor": "white",
            "linecolor": "white",
            "ticks": ""
           }
          },
          "scene": {
           "xaxis": {
            "backgroundcolor": "#E5ECF6",
            "gridcolor": "white",
            "gridwidth": 2,
            "linecolor": "white",
            "showbackground": true,
            "ticks": "",
            "zerolinecolor": "white"
           },
           "yaxis": {
            "backgroundcolor": "#E5ECF6",
            "gridcolor": "white",
            "gridwidth": 2,
            "linecolor": "white",
            "showbackground": true,
            "ticks": "",
            "zerolinecolor": "white"
           },
           "zaxis": {
            "backgroundcolor": "#E5ECF6",
            "gridcolor": "white",
            "gridwidth": 2,
            "linecolor": "white",
            "showbackground": true,
            "ticks": "",
            "zerolinecolor": "white"
           }
          },
          "shapedefaults": {
           "line": {
            "color": "#2a3f5f"
           }
          },
          "ternary": {
           "aaxis": {
            "gridcolor": "white",
            "linecolor": "white",
            "ticks": ""
           },
           "baxis": {
            "gridcolor": "white",
            "linecolor": "white",
            "ticks": ""
           },
           "bgcolor": "#E5ECF6",
           "caxis": {
            "gridcolor": "white",
            "linecolor": "white",
            "ticks": ""
           }
          },
          "title": {
           "x": 0.05
          },
          "xaxis": {
           "automargin": true,
           "gridcolor": "white",
           "linecolor": "white",
           "ticks": "",
           "title": {
            "standoff": 15
           },
           "zerolinecolor": "white",
           "zerolinewidth": 2
          },
          "yaxis": {
           "automargin": true,
           "gridcolor": "white",
           "linecolor": "white",
           "ticks": "",
           "title": {
            "standoff": 15
           },
           "zerolinecolor": "white",
           "zerolinewidth": 2
          }
         }
        },
        "title": {
         "text": "Orgnizations with most student enrollment"
        }
       }
      },
      "text/html": [
       "<div>\n",
       "        \n",
       "        \n",
       "            <div id=\"3d3e3d3f-4f8d-4601-8d9c-ff8f98dbb93a\" class=\"plotly-graph-div\" style=\"height:525px; width:100%;\"></div>\n",
       "            <script type=\"text/javascript\">\n",
       "                require([\"plotly\"], function(Plotly) {\n",
       "                    window.PLOTLYENV=window.PLOTLYENV || {};\n",
       "                    \n",
       "                if (document.getElementById(\"3d3e3d3f-4f8d-4601-8d9c-ff8f98dbb93a\")) {\n",
       "                    Plotly.newPlot(\n",
       "                        '3d3e3d3f-4f8d-4601-8d9c-ff8f98dbb93a',\n",
       "                        [{\"domain\": {\"x\": [0.0, 1.0], \"y\": [0.0, 1.0]}, \"hovertemplate\": \"Organization=%{label}<br>Students=%{value}<extra></extra>\", \"labels\": [\"Stanford University\", \"Yale University\", \"University of Michigan\", \"University of Michigan\", \"Johns Hopkins University\", \"University of California, Irvine\", \"University of Pennsylvania\", \"University of Michigan\", \"Johns Hopkins University\", \"deeplearning.ai\"], \"legendgroup\": \"\", \"name\": \"\", \"showlegend\": true, \"type\": \"pie\", \"values\": [3200000.0, 2500000.0, 1500000.0, 1300000.0, 830000.0, 790000.0, 760000.0, 750000.0, 740000.0, 690000.0]}],\n",
       "                        {\"legend\": {\"tracegroupgap\": 0}, \"template\": {\"data\": {\"bar\": [{\"error_x\": {\"color\": \"#2a3f5f\"}, \"error_y\": {\"color\": \"#2a3f5f\"}, \"marker\": {\"line\": {\"color\": \"#E5ECF6\", \"width\": 0.5}}, \"type\": \"bar\"}], \"barpolar\": [{\"marker\": {\"line\": {\"color\": \"#E5ECF6\", \"width\": 0.5}}, \"type\": \"barpolar\"}], \"carpet\": [{\"aaxis\": {\"endlinecolor\": \"#2a3f5f\", \"gridcolor\": \"white\", \"linecolor\": \"white\", \"minorgridcolor\": \"white\", \"startlinecolor\": \"#2a3f5f\"}, \"baxis\": {\"endlinecolor\": \"#2a3f5f\", \"gridcolor\": \"white\", \"linecolor\": \"white\", \"minorgridcolor\": \"white\", \"startlinecolor\": \"#2a3f5f\"}, \"type\": \"carpet\"}], \"choropleth\": [{\"colorbar\": {\"outlinewidth\": 0, \"ticks\": \"\"}, \"type\": \"choropleth\"}], \"contour\": [{\"colorbar\": {\"outlinewidth\": 0, \"ticks\": \"\"}, \"colorscale\": [[0.0, \"#0d0887\"], [0.1111111111111111, \"#46039f\"], [0.2222222222222222, \"#7201a8\"], [0.3333333333333333, \"#9c179e\"], [0.4444444444444444, \"#bd3786\"], [0.5555555555555556, \"#d8576b\"], [0.6666666666666666, \"#ed7953\"], [0.7777777777777778, \"#fb9f3a\"], [0.8888888888888888, \"#fdca26\"], [1.0, \"#f0f921\"]], \"type\": \"contour\"}], \"contourcarpet\": [{\"colorbar\": {\"outlinewidth\": 0, \"ticks\": \"\"}, \"type\": \"contourcarpet\"}], \"heatmap\": [{\"colorbar\": {\"outlinewidth\": 0, \"ticks\": \"\"}, \"colorscale\": [[0.0, \"#0d0887\"], [0.1111111111111111, \"#46039f\"], [0.2222222222222222, \"#7201a8\"], [0.3333333333333333, \"#9c179e\"], [0.4444444444444444, \"#bd3786\"], [0.5555555555555556, \"#d8576b\"], [0.6666666666666666, \"#ed7953\"], [0.7777777777777778, \"#fb9f3a\"], [0.8888888888888888, \"#fdca26\"], [1.0, \"#f0f921\"]], \"type\": \"heatmap\"}], \"heatmapgl\": [{\"colorbar\": {\"outlinewidth\": 0, \"ticks\": \"\"}, \"colorscale\": [[0.0, \"#0d0887\"], [0.1111111111111111, \"#46039f\"], [0.2222222222222222, \"#7201a8\"], [0.3333333333333333, \"#9c179e\"], [0.4444444444444444, \"#bd3786\"], [0.5555555555555556, \"#d8576b\"], [0.6666666666666666, \"#ed7953\"], [0.7777777777777778, \"#fb9f3a\"], [0.8888888888888888, \"#fdca26\"], [1.0, \"#f0f921\"]], \"type\": \"heatmapgl\"}], \"histogram\": [{\"marker\": {\"colorbar\": {\"outlinewidth\": 0, \"ticks\": \"\"}}, \"type\": \"histogram\"}], \"histogram2d\": [{\"colorbar\": {\"outlinewidth\": 0, \"ticks\": \"\"}, \"colorscale\": [[0.0, \"#0d0887\"], [0.1111111111111111, \"#46039f\"], [0.2222222222222222, \"#7201a8\"], [0.3333333333333333, \"#9c179e\"], [0.4444444444444444, \"#bd3786\"], [0.5555555555555556, \"#d8576b\"], [0.6666666666666666, \"#ed7953\"], [0.7777777777777778, \"#fb9f3a\"], [0.8888888888888888, \"#fdca26\"], [1.0, \"#f0f921\"]], \"type\": \"histogram2d\"}], \"histogram2dcontour\": [{\"colorbar\": {\"outlinewidth\": 0, \"ticks\": \"\"}, \"colorscale\": [[0.0, \"#0d0887\"], [0.1111111111111111, \"#46039f\"], [0.2222222222222222, \"#7201a8\"], [0.3333333333333333, \"#9c179e\"], [0.4444444444444444, \"#bd3786\"], [0.5555555555555556, \"#d8576b\"], [0.6666666666666666, \"#ed7953\"], [0.7777777777777778, \"#fb9f3a\"], [0.8888888888888888, \"#fdca26\"], [1.0, \"#f0f921\"]], \"type\": \"histogram2dcontour\"}], \"mesh3d\": [{\"colorbar\": {\"outlinewidth\": 0, \"ticks\": \"\"}, \"type\": \"mesh3d\"}], \"parcoords\": [{\"line\": {\"colorbar\": {\"outlinewidth\": 0, \"ticks\": \"\"}}, \"type\": \"parcoords\"}], \"pie\": [{\"automargin\": true, \"type\": \"pie\"}], \"scatter\": [{\"marker\": {\"colorbar\": {\"outlinewidth\": 0, \"ticks\": \"\"}}, \"type\": \"scatter\"}], \"scatter3d\": [{\"line\": {\"colorbar\": {\"outlinewidth\": 0, \"ticks\": \"\"}}, \"marker\": {\"colorbar\": {\"outlinewidth\": 0, \"ticks\": \"\"}}, \"type\": \"scatter3d\"}], \"scattercarpet\": [{\"marker\": {\"colorbar\": {\"outlinewidth\": 0, \"ticks\": \"\"}}, \"type\": \"scattercarpet\"}], \"scattergeo\": [{\"marker\": {\"colorbar\": {\"outlinewidth\": 0, \"ticks\": \"\"}}, \"type\": \"scattergeo\"}], \"scattergl\": [{\"marker\": {\"colorbar\": {\"outlinewidth\": 0, \"ticks\": \"\"}}, \"type\": \"scattergl\"}], \"scattermapbox\": [{\"marker\": {\"colorbar\": {\"outlinewidth\": 0, \"ticks\": \"\"}}, \"type\": \"scattermapbox\"}], \"scatterpolar\": [{\"marker\": {\"colorbar\": {\"outlinewidth\": 0, \"ticks\": \"\"}}, \"type\": \"scatterpolar\"}], \"scatterpolargl\": [{\"marker\": {\"colorbar\": {\"outlinewidth\": 0, \"ticks\": \"\"}}, \"type\": \"scatterpolargl\"}], \"scatterternary\": [{\"marker\": {\"colorbar\": {\"outlinewidth\": 0, \"ticks\": \"\"}}, \"type\": \"scatterternary\"}], \"surface\": [{\"colorbar\": {\"outlinewidth\": 0, \"ticks\": \"\"}, \"colorscale\": [[0.0, \"#0d0887\"], [0.1111111111111111, \"#46039f\"], [0.2222222222222222, \"#7201a8\"], [0.3333333333333333, \"#9c179e\"], [0.4444444444444444, \"#bd3786\"], [0.5555555555555556, \"#d8576b\"], [0.6666666666666666, \"#ed7953\"], [0.7777777777777778, \"#fb9f3a\"], [0.8888888888888888, \"#fdca26\"], [1.0, \"#f0f921\"]], \"type\": \"surface\"}], \"table\": [{\"cells\": {\"fill\": {\"color\": \"#EBF0F8\"}, \"line\": {\"color\": \"white\"}}, \"header\": {\"fill\": {\"color\": \"#C8D4E3\"}, \"line\": {\"color\": \"white\"}}, \"type\": \"table\"}]}, \"layout\": {\"annotationdefaults\": {\"arrowcolor\": \"#2a3f5f\", \"arrowhead\": 0, \"arrowwidth\": 1}, \"coloraxis\": {\"colorbar\": {\"outlinewidth\": 0, \"ticks\": \"\"}}, \"colorscale\": {\"diverging\": [[0, \"#8e0152\"], [0.1, \"#c51b7d\"], [0.2, \"#de77ae\"], [0.3, \"#f1b6da\"], [0.4, \"#fde0ef\"], [0.5, \"#f7f7f7\"], [0.6, \"#e6f5d0\"], [0.7, \"#b8e186\"], [0.8, \"#7fbc41\"], [0.9, \"#4d9221\"], [1, \"#276419\"]], \"sequential\": [[0.0, \"#0d0887\"], [0.1111111111111111, \"#46039f\"], [0.2222222222222222, \"#7201a8\"], [0.3333333333333333, \"#9c179e\"], [0.4444444444444444, \"#bd3786\"], [0.5555555555555556, \"#d8576b\"], [0.6666666666666666, \"#ed7953\"], [0.7777777777777778, \"#fb9f3a\"], [0.8888888888888888, \"#fdca26\"], [1.0, \"#f0f921\"]], \"sequentialminus\": [[0.0, \"#0d0887\"], [0.1111111111111111, \"#46039f\"], [0.2222222222222222, \"#7201a8\"], [0.3333333333333333, \"#9c179e\"], [0.4444444444444444, \"#bd3786\"], [0.5555555555555556, \"#d8576b\"], [0.6666666666666666, \"#ed7953\"], [0.7777777777777778, \"#fb9f3a\"], [0.8888888888888888, \"#fdca26\"], [1.0, \"#f0f921\"]]}, \"colorway\": [\"#636efa\", \"#EF553B\", \"#00cc96\", \"#ab63fa\", \"#FFA15A\", \"#19d3f3\", \"#FF6692\", \"#B6E880\", \"#FF97FF\", \"#FECB52\"], \"font\": {\"color\": \"#2a3f5f\"}, \"geo\": {\"bgcolor\": \"white\", \"lakecolor\": \"white\", \"landcolor\": \"#E5ECF6\", \"showlakes\": true, \"showland\": true, \"subunitcolor\": \"white\"}, \"hoverlabel\": {\"align\": \"left\"}, \"hovermode\": \"closest\", \"mapbox\": {\"style\": \"light\"}, \"paper_bgcolor\": \"white\", \"plot_bgcolor\": \"#E5ECF6\", \"polar\": {\"angularaxis\": {\"gridcolor\": \"white\", \"linecolor\": \"white\", \"ticks\": \"\"}, \"bgcolor\": \"#E5ECF6\", \"radialaxis\": {\"gridcolor\": \"white\", \"linecolor\": \"white\", \"ticks\": \"\"}}, \"scene\": {\"xaxis\": {\"backgroundcolor\": \"#E5ECF6\", \"gridcolor\": \"white\", \"gridwidth\": 2, \"linecolor\": \"white\", \"showbackground\": true, \"ticks\": \"\", \"zerolinecolor\": \"white\"}, \"yaxis\": {\"backgroundcolor\": \"#E5ECF6\", \"gridcolor\": \"white\", \"gridwidth\": 2, \"linecolor\": \"white\", \"showbackground\": true, \"ticks\": \"\", \"zerolinecolor\": \"white\"}, \"zaxis\": {\"backgroundcolor\": \"#E5ECF6\", \"gridcolor\": \"white\", \"gridwidth\": 2, \"linecolor\": \"white\", \"showbackground\": true, \"ticks\": \"\", \"zerolinecolor\": \"white\"}}, \"shapedefaults\": {\"line\": {\"color\": \"#2a3f5f\"}}, \"ternary\": {\"aaxis\": {\"gridcolor\": \"white\", \"linecolor\": \"white\", \"ticks\": \"\"}, \"baxis\": {\"gridcolor\": \"white\", \"linecolor\": \"white\", \"ticks\": \"\"}, \"bgcolor\": \"#E5ECF6\", \"caxis\": {\"gridcolor\": \"white\", \"linecolor\": \"white\", \"ticks\": \"\"}}, \"title\": {\"x\": 0.05}, \"xaxis\": {\"automargin\": true, \"gridcolor\": \"white\", \"linecolor\": \"white\", \"ticks\": \"\", \"title\": {\"standoff\": 15}, \"zerolinecolor\": \"white\", \"zerolinewidth\": 2}, \"yaxis\": {\"automargin\": true, \"gridcolor\": \"white\", \"linecolor\": \"white\", \"ticks\": \"\", \"title\": {\"standoff\": 15}, \"zerolinecolor\": \"white\", \"zerolinewidth\": 2}}}, \"title\": {\"text\": \"Orgnizations with most student enrollment\"}},\n",
       "                        {\"responsive\": true}\n",
       "                    ).then(function(){\n",
       "                            \n",
       "var gd = document.getElementById('3d3e3d3f-4f8d-4601-8d9c-ff8f98dbb93a');\n",
       "var x = new MutationObserver(function (mutations, observer) {{\n",
       "        var display = window.getComputedStyle(gd).display;\n",
       "        if (!display || display === 'none') {{\n",
       "            console.log([gd, 'removed!']);\n",
       "            Plotly.purge(gd);\n",
       "            observer.disconnect();\n",
       "        }}\n",
       "}});\n",
       "\n",
       "// Listen for the removal of the full notebook cells\n",
       "var notebookContainer = gd.closest('#notebook-container');\n",
       "if (notebookContainer) {{\n",
       "    x.observe(notebookContainer, {childList: true});\n",
       "}}\n",
       "\n",
       "// Listen for the clearing of the current output cell\n",
       "var outputEl = gd.closest('.output');\n",
       "if (outputEl) {{\n",
       "    x.observe(outputEl, {childList: true});\n",
       "}}\n",
       "\n",
       "                        })\n",
       "                };\n",
       "                });\n",
       "            </script>\n",
       "        </div>"
      ]
     },
     "metadata": {},
     "output_type": "display_data"
    }
   ],
   "source": [
    "fig = px.pie(top_10_courses, values='Students', names='Organization', title='Orgnizations with most student enrollment')\n",
    "fig.show()"
   ]
  },
  {
   "cell_type": "code",
   "execution_count": 163,
   "metadata": {},
   "outputs": [
    {
     "data": {
      "text/html": [
       "<div>\n",
       "<style scoped>\n",
       "    .dataframe tbody tr th:only-of-type {\n",
       "        vertical-align: middle;\n",
       "    }\n",
       "\n",
       "    .dataframe tbody tr th {\n",
       "        vertical-align: top;\n",
       "    }\n",
       "\n",
       "    .dataframe thead th {\n",
       "        text-align: right;\n",
       "    }\n",
       "</style>\n",
       "<table border=\"1\" class=\"dataframe\">\n",
       "  <thead>\n",
       "    <tr style=\"text-align: right;\">\n",
       "      <th></th>\n",
       "      <th>Course_Title</th>\n",
       "      <th>Organization</th>\n",
       "      <th>Course_Type</th>\n",
       "      <th>Course_Rating</th>\n",
       "      <th>Difficulty_Level</th>\n",
       "      <th>Enrolled_Students</th>\n",
       "      <th>Students</th>\n",
       "      <th>Language</th>\n",
       "    </tr>\n",
       "  </thead>\n",
       "  <tbody>\n",
       "    <tr>\n",
       "      <th>251</th>\n",
       "      <td>El Abogado del Futuro: Legaltech y la Transfor...</td>\n",
       "      <td>Universidad Austral</td>\n",
       "      <td>COURSE</td>\n",
       "      <td>5.0</td>\n",
       "      <td>Beginner</td>\n",
       "      <td>1.5k</td>\n",
       "      <td>1500.0</td>\n",
       "      <td>es</td>\n",
       "    </tr>\n",
       "    <tr>\n",
       "      <th>96</th>\n",
       "      <td>Blockchain Revolution in Financial Services</td>\n",
       "      <td>INSEAD</td>\n",
       "      <td>SPECIALIZATION</td>\n",
       "      <td>4.6</td>\n",
       "      <td>Beginner</td>\n",
       "      <td>1.6k</td>\n",
       "      <td>1600.0</td>\n",
       "      <td>en</td>\n",
       "    </tr>\n",
       "    <tr>\n",
       "      <th>432</th>\n",
       "      <td>Infectious Disease Modelling</td>\n",
       "      <td>Imperial College London</td>\n",
       "      <td>SPECIALIZATION</td>\n",
       "      <td>5.0</td>\n",
       "      <td>Intermediate</td>\n",
       "      <td>1.6k</td>\n",
       "      <td>1600.0</td>\n",
       "      <td>en</td>\n",
       "    </tr>\n",
       "    <tr>\n",
       "      <th>406</th>\n",
       "      <td>Healthcare Law</td>\n",
       "      <td>University of Pennsylvania</td>\n",
       "      <td>SPECIALIZATION</td>\n",
       "      <td>4.7</td>\n",
       "      <td>Intermediate</td>\n",
       "      <td>1.7k</td>\n",
       "      <td>1700.0</td>\n",
       "      <td>en</td>\n",
       "    </tr>\n",
       "    <tr>\n",
       "      <th>423</th>\n",
       "      <td>Identifying, Monitoring, and Analyzing Risk an...</td>\n",
       "      <td>(ISC)²</td>\n",
       "      <td>COURSE</td>\n",
       "      <td>4.9</td>\n",
       "      <td>Beginner</td>\n",
       "      <td>1.7k</td>\n",
       "      <td>1700.0</td>\n",
       "      <td>en</td>\n",
       "    </tr>\n",
       "    <tr>\n",
       "      <th>810</th>\n",
       "      <td>The Pronunciation of American English</td>\n",
       "      <td>University of California, Irvine</td>\n",
       "      <td>SPECIALIZATION</td>\n",
       "      <td>4.6</td>\n",
       "      <td>Beginner</td>\n",
       "      <td>1.7k</td>\n",
       "      <td>1700.0</td>\n",
       "      <td>en</td>\n",
       "    </tr>\n",
       "    <tr>\n",
       "      <th>280</th>\n",
       "      <td>Esports</td>\n",
       "      <td>University of California, Irvine</td>\n",
       "      <td>SPECIALIZATION</td>\n",
       "      <td>4.5</td>\n",
       "      <td>Beginner</td>\n",
       "      <td>1.8k</td>\n",
       "      <td>1800.0</td>\n",
       "      <td>es</td>\n",
       "    </tr>\n",
       "    <tr>\n",
       "      <th>93</th>\n",
       "      <td>Blended Language Learning: Design and Practice...</td>\n",
       "      <td>University of Colorado Boulder</td>\n",
       "      <td>COURSE</td>\n",
       "      <td>4.8</td>\n",
       "      <td>Intermediate</td>\n",
       "      <td>1.9k</td>\n",
       "      <td>1900.0</td>\n",
       "      <td>en</td>\n",
       "    </tr>\n",
       "    <tr>\n",
       "      <th>425</th>\n",
       "      <td>Implementing RPA with Cognitive Automation and...</td>\n",
       "      <td>Automation Anywhere</td>\n",
       "      <td>SPECIALIZATION</td>\n",
       "      <td>4.6</td>\n",
       "      <td>Beginner</td>\n",
       "      <td>2.2k</td>\n",
       "      <td>2200.0</td>\n",
       "      <td>en</td>\n",
       "    </tr>\n",
       "    <tr>\n",
       "      <th>459</th>\n",
       "      <td>International Security Management</td>\n",
       "      <td>Erasmus University Rotterdam</td>\n",
       "      <td>COURSE</td>\n",
       "      <td>4.5</td>\n",
       "      <td>Beginner</td>\n",
       "      <td>2.2k</td>\n",
       "      <td>2200.0</td>\n",
       "      <td>en</td>\n",
       "    </tr>\n",
       "  </tbody>\n",
       "</table>\n",
       "</div>"
      ],
      "text/plain": [
       "                                          Course_Title  \\\n",
       "251  El Abogado del Futuro: Legaltech y la Transfor...   \n",
       "96         Blockchain Revolution in Financial Services   \n",
       "432                       Infectious Disease Modelling   \n",
       "406                                     Healthcare Law   \n",
       "423  Identifying, Monitoring, and Analyzing Risk an...   \n",
       "810              The Pronunciation of American English   \n",
       "280                                            Esports   \n",
       "93   Blended Language Learning: Design and Practice...   \n",
       "425  Implementing RPA with Cognitive Automation and...   \n",
       "459                  International Security Management   \n",
       "\n",
       "                         Organization     Course_Type  Course_Rating  \\\n",
       "251               Universidad Austral          COURSE            5.0   \n",
       "96                             INSEAD  SPECIALIZATION            4.6   \n",
       "432           Imperial College London  SPECIALIZATION            5.0   \n",
       "406        University of Pennsylvania  SPECIALIZATION            4.7   \n",
       "423                            (ISC)²          COURSE            4.9   \n",
       "810  University of California, Irvine  SPECIALIZATION            4.6   \n",
       "280  University of California, Irvine  SPECIALIZATION            4.5   \n",
       "93     University of Colorado Boulder          COURSE            4.8   \n",
       "425               Automation Anywhere  SPECIALIZATION            4.6   \n",
       "459      Erasmus University Rotterdam          COURSE            4.5   \n",
       "\n",
       "    Difficulty_Level Enrolled_Students  Students Language  \n",
       "251         Beginner              1.5k    1500.0       es  \n",
       "96          Beginner              1.6k    1600.0       en  \n",
       "432     Intermediate              1.6k    1600.0       en  \n",
       "406     Intermediate              1.7k    1700.0       en  \n",
       "423         Beginner              1.7k    1700.0       en  \n",
       "810         Beginner              1.7k    1700.0       en  \n",
       "280         Beginner              1.8k    1800.0       es  \n",
       "93      Intermediate              1.9k    1900.0       en  \n",
       "425         Beginner              2.2k    2200.0       en  \n",
       "459         Beginner              2.2k    2200.0       en  "
      ]
     },
     "execution_count": 163,
     "metadata": {},
     "output_type": "execute_result"
    }
   ],
   "source": [
    "# Least enrolled student courses\n",
    "least_10_courses = coursera_df.nsmallest(10,'Students')\n",
    "least_10_courses"
   ]
  },
  {
   "cell_type": "markdown",
   "metadata": {},
   "source": [
    "As per above table, even though courses with less student enrollment has above average rating (4.5 or above) still student enrollment around 2k. Below pie chart representation of least enrolled students courses."
   ]
  },
  {
   "cell_type": "code",
   "execution_count": 164,
   "metadata": {},
   "outputs": [
    {
     "data": {
      "application/vnd.plotly.v1+json": {
       "config": {
        "plotlyServerURL": "https://plot.ly"
       },
       "data": [
        {
         "domain": {
          "x": [
           0,
           1
          ],
          "y": [
           0,
           1
          ]
         },
         "hovertemplate": "Course_Title=%{label}<br>Students=%{value}<extra></extra>",
         "labels": [
          "El Abogado del Futuro: Legaltech y la Transformación Digital del Derecho",
          "Blockchain Revolution in Financial Services",
          "Infectious Disease Modelling",
          "Healthcare Law",
          "Identifying, Monitoring, and Analyzing Risk and Incident Response and Recovery",
          "The Pronunciation of American English",
          "Esports",
          "Blended Language Learning: Design and Practice for Teachers",
          "Implementing RPA with Cognitive Automation and Analytics",
          "International Security Management"
         ],
         "legendgroup": "",
         "name": "",
         "showlegend": true,
         "type": "pie",
         "values": [
          1500,
          1600,
          1600,
          1700,
          1700,
          1700,
          1800,
          1900,
          2200,
          2200
         ]
        }
       ],
       "layout": {
        "legend": {
         "tracegroupgap": 0
        },
        "template": {
         "data": {
          "bar": [
           {
            "error_x": {
             "color": "#2a3f5f"
            },
            "error_y": {
             "color": "#2a3f5f"
            },
            "marker": {
             "line": {
              "color": "#E5ECF6",
              "width": 0.5
             }
            },
            "type": "bar"
           }
          ],
          "barpolar": [
           {
            "marker": {
             "line": {
              "color": "#E5ECF6",
              "width": 0.5
             }
            },
            "type": "barpolar"
           }
          ],
          "carpet": [
           {
            "aaxis": {
             "endlinecolor": "#2a3f5f",
             "gridcolor": "white",
             "linecolor": "white",
             "minorgridcolor": "white",
             "startlinecolor": "#2a3f5f"
            },
            "baxis": {
             "endlinecolor": "#2a3f5f",
             "gridcolor": "white",
             "linecolor": "white",
             "minorgridcolor": "white",
             "startlinecolor": "#2a3f5f"
            },
            "type": "carpet"
           }
          ],
          "choropleth": [
           {
            "colorbar": {
             "outlinewidth": 0,
             "ticks": ""
            },
            "type": "choropleth"
           }
          ],
          "contour": [
           {
            "colorbar": {
             "outlinewidth": 0,
             "ticks": ""
            },
            "colorscale": [
             [
              0,
              "#0d0887"
             ],
             [
              0.1111111111111111,
              "#46039f"
             ],
             [
              0.2222222222222222,
              "#7201a8"
             ],
             [
              0.3333333333333333,
              "#9c179e"
             ],
             [
              0.4444444444444444,
              "#bd3786"
             ],
             [
              0.5555555555555556,
              "#d8576b"
             ],
             [
              0.6666666666666666,
              "#ed7953"
             ],
             [
              0.7777777777777778,
              "#fb9f3a"
             ],
             [
              0.8888888888888888,
              "#fdca26"
             ],
             [
              1,
              "#f0f921"
             ]
            ],
            "type": "contour"
           }
          ],
          "contourcarpet": [
           {
            "colorbar": {
             "outlinewidth": 0,
             "ticks": ""
            },
            "type": "contourcarpet"
           }
          ],
          "heatmap": [
           {
            "colorbar": {
             "outlinewidth": 0,
             "ticks": ""
            },
            "colorscale": [
             [
              0,
              "#0d0887"
             ],
             [
              0.1111111111111111,
              "#46039f"
             ],
             [
              0.2222222222222222,
              "#7201a8"
             ],
             [
              0.3333333333333333,
              "#9c179e"
             ],
             [
              0.4444444444444444,
              "#bd3786"
             ],
             [
              0.5555555555555556,
              "#d8576b"
             ],
             [
              0.6666666666666666,
              "#ed7953"
             ],
             [
              0.7777777777777778,
              "#fb9f3a"
             ],
             [
              0.8888888888888888,
              "#fdca26"
             ],
             [
              1,
              "#f0f921"
             ]
            ],
            "type": "heatmap"
           }
          ],
          "heatmapgl": [
           {
            "colorbar": {
             "outlinewidth": 0,
             "ticks": ""
            },
            "colorscale": [
             [
              0,
              "#0d0887"
             ],
             [
              0.1111111111111111,
              "#46039f"
             ],
             [
              0.2222222222222222,
              "#7201a8"
             ],
             [
              0.3333333333333333,
              "#9c179e"
             ],
             [
              0.4444444444444444,
              "#bd3786"
             ],
             [
              0.5555555555555556,
              "#d8576b"
             ],
             [
              0.6666666666666666,
              "#ed7953"
             ],
             [
              0.7777777777777778,
              "#fb9f3a"
             ],
             [
              0.8888888888888888,
              "#fdca26"
             ],
             [
              1,
              "#f0f921"
             ]
            ],
            "type": "heatmapgl"
           }
          ],
          "histogram": [
           {
            "marker": {
             "colorbar": {
              "outlinewidth": 0,
              "ticks": ""
             }
            },
            "type": "histogram"
           }
          ],
          "histogram2d": [
           {
            "colorbar": {
             "outlinewidth": 0,
             "ticks": ""
            },
            "colorscale": [
             [
              0,
              "#0d0887"
             ],
             [
              0.1111111111111111,
              "#46039f"
             ],
             [
              0.2222222222222222,
              "#7201a8"
             ],
             [
              0.3333333333333333,
              "#9c179e"
             ],
             [
              0.4444444444444444,
              "#bd3786"
             ],
             [
              0.5555555555555556,
              "#d8576b"
             ],
             [
              0.6666666666666666,
              "#ed7953"
             ],
             [
              0.7777777777777778,
              "#fb9f3a"
             ],
             [
              0.8888888888888888,
              "#fdca26"
             ],
             [
              1,
              "#f0f921"
             ]
            ],
            "type": "histogram2d"
           }
          ],
          "histogram2dcontour": [
           {
            "colorbar": {
             "outlinewidth": 0,
             "ticks": ""
            },
            "colorscale": [
             [
              0,
              "#0d0887"
             ],
             [
              0.1111111111111111,
              "#46039f"
             ],
             [
              0.2222222222222222,
              "#7201a8"
             ],
             [
              0.3333333333333333,
              "#9c179e"
             ],
             [
              0.4444444444444444,
              "#bd3786"
             ],
             [
              0.5555555555555556,
              "#d8576b"
             ],
             [
              0.6666666666666666,
              "#ed7953"
             ],
             [
              0.7777777777777778,
              "#fb9f3a"
             ],
             [
              0.8888888888888888,
              "#fdca26"
             ],
             [
              1,
              "#f0f921"
             ]
            ],
            "type": "histogram2dcontour"
           }
          ],
          "mesh3d": [
           {
            "colorbar": {
             "outlinewidth": 0,
             "ticks": ""
            },
            "type": "mesh3d"
           }
          ],
          "parcoords": [
           {
            "line": {
             "colorbar": {
              "outlinewidth": 0,
              "ticks": ""
             }
            },
            "type": "parcoords"
           }
          ],
          "pie": [
           {
            "automargin": true,
            "type": "pie"
           }
          ],
          "scatter": [
           {
            "marker": {
             "colorbar": {
              "outlinewidth": 0,
              "ticks": ""
             }
            },
            "type": "scatter"
           }
          ],
          "scatter3d": [
           {
            "line": {
             "colorbar": {
              "outlinewidth": 0,
              "ticks": ""
             }
            },
            "marker": {
             "colorbar": {
              "outlinewidth": 0,
              "ticks": ""
             }
            },
            "type": "scatter3d"
           }
          ],
          "scattercarpet": [
           {
            "marker": {
             "colorbar": {
              "outlinewidth": 0,
              "ticks": ""
             }
            },
            "type": "scattercarpet"
           }
          ],
          "scattergeo": [
           {
            "marker": {
             "colorbar": {
              "outlinewidth": 0,
              "ticks": ""
             }
            },
            "type": "scattergeo"
           }
          ],
          "scattergl": [
           {
            "marker": {
             "colorbar": {
              "outlinewidth": 0,
              "ticks": ""
             }
            },
            "type": "scattergl"
           }
          ],
          "scattermapbox": [
           {
            "marker": {
             "colorbar": {
              "outlinewidth": 0,
              "ticks": ""
             }
            },
            "type": "scattermapbox"
           }
          ],
          "scatterpolar": [
           {
            "marker": {
             "colorbar": {
              "outlinewidth": 0,
              "ticks": ""
             }
            },
            "type": "scatterpolar"
           }
          ],
          "scatterpolargl": [
           {
            "marker": {
             "colorbar": {
              "outlinewidth": 0,
              "ticks": ""
             }
            },
            "type": "scatterpolargl"
           }
          ],
          "scatterternary": [
           {
            "marker": {
             "colorbar": {
              "outlinewidth": 0,
              "ticks": ""
             }
            },
            "type": "scatterternary"
           }
          ],
          "surface": [
           {
            "colorbar": {
             "outlinewidth": 0,
             "ticks": ""
            },
            "colorscale": [
             [
              0,
              "#0d0887"
             ],
             [
              0.1111111111111111,
              "#46039f"
             ],
             [
              0.2222222222222222,
              "#7201a8"
             ],
             [
              0.3333333333333333,
              "#9c179e"
             ],
             [
              0.4444444444444444,
              "#bd3786"
             ],
             [
              0.5555555555555556,
              "#d8576b"
             ],
             [
              0.6666666666666666,
              "#ed7953"
             ],
             [
              0.7777777777777778,
              "#fb9f3a"
             ],
             [
              0.8888888888888888,
              "#fdca26"
             ],
             [
              1,
              "#f0f921"
             ]
            ],
            "type": "surface"
           }
          ],
          "table": [
           {
            "cells": {
             "fill": {
              "color": "#EBF0F8"
             },
             "line": {
              "color": "white"
             }
            },
            "header": {
             "fill": {
              "color": "#C8D4E3"
             },
             "line": {
              "color": "white"
             }
            },
            "type": "table"
           }
          ]
         },
         "layout": {
          "annotationdefaults": {
           "arrowcolor": "#2a3f5f",
           "arrowhead": 0,
           "arrowwidth": 1
          },
          "coloraxis": {
           "colorbar": {
            "outlinewidth": 0,
            "ticks": ""
           }
          },
          "colorscale": {
           "diverging": [
            [
             0,
             "#8e0152"
            ],
            [
             0.1,
             "#c51b7d"
            ],
            [
             0.2,
             "#de77ae"
            ],
            [
             0.3,
             "#f1b6da"
            ],
            [
             0.4,
             "#fde0ef"
            ],
            [
             0.5,
             "#f7f7f7"
            ],
            [
             0.6,
             "#e6f5d0"
            ],
            [
             0.7,
             "#b8e186"
            ],
            [
             0.8,
             "#7fbc41"
            ],
            [
             0.9,
             "#4d9221"
            ],
            [
             1,
             "#276419"
            ]
           ],
           "sequential": [
            [
             0,
             "#0d0887"
            ],
            [
             0.1111111111111111,
             "#46039f"
            ],
            [
             0.2222222222222222,
             "#7201a8"
            ],
            [
             0.3333333333333333,
             "#9c179e"
            ],
            [
             0.4444444444444444,
             "#bd3786"
            ],
            [
             0.5555555555555556,
             "#d8576b"
            ],
            [
             0.6666666666666666,
             "#ed7953"
            ],
            [
             0.7777777777777778,
             "#fb9f3a"
            ],
            [
             0.8888888888888888,
             "#fdca26"
            ],
            [
             1,
             "#f0f921"
            ]
           ],
           "sequentialminus": [
            [
             0,
             "#0d0887"
            ],
            [
             0.1111111111111111,
             "#46039f"
            ],
            [
             0.2222222222222222,
             "#7201a8"
            ],
            [
             0.3333333333333333,
             "#9c179e"
            ],
            [
             0.4444444444444444,
             "#bd3786"
            ],
            [
             0.5555555555555556,
             "#d8576b"
            ],
            [
             0.6666666666666666,
             "#ed7953"
            ],
            [
             0.7777777777777778,
             "#fb9f3a"
            ],
            [
             0.8888888888888888,
             "#fdca26"
            ],
            [
             1,
             "#f0f921"
            ]
           ]
          },
          "colorway": [
           "#636efa",
           "#EF553B",
           "#00cc96",
           "#ab63fa",
           "#FFA15A",
           "#19d3f3",
           "#FF6692",
           "#B6E880",
           "#FF97FF",
           "#FECB52"
          ],
          "font": {
           "color": "#2a3f5f"
          },
          "geo": {
           "bgcolor": "white",
           "lakecolor": "white",
           "landcolor": "#E5ECF6",
           "showlakes": true,
           "showland": true,
           "subunitcolor": "white"
          },
          "hoverlabel": {
           "align": "left"
          },
          "hovermode": "closest",
          "mapbox": {
           "style": "light"
          },
          "paper_bgcolor": "white",
          "plot_bgcolor": "#E5ECF6",
          "polar": {
           "angularaxis": {
            "gridcolor": "white",
            "linecolor": "white",
            "ticks": ""
           },
           "bgcolor": "#E5ECF6",
           "radialaxis": {
            "gridcolor": "white",
            "linecolor": "white",
            "ticks": ""
           }
          },
          "scene": {
           "xaxis": {
            "backgroundcolor": "#E5ECF6",
            "gridcolor": "white",
            "gridwidth": 2,
            "linecolor": "white",
            "showbackground": true,
            "ticks": "",
            "zerolinecolor": "white"
           },
           "yaxis": {
            "backgroundcolor": "#E5ECF6",
            "gridcolor": "white",
            "gridwidth": 2,
            "linecolor": "white",
            "showbackground": true,
            "ticks": "",
            "zerolinecolor": "white"
           },
           "zaxis": {
            "backgroundcolor": "#E5ECF6",
            "gridcolor": "white",
            "gridwidth": 2,
            "linecolor": "white",
            "showbackground": true,
            "ticks": "",
            "zerolinecolor": "white"
           }
          },
          "shapedefaults": {
           "line": {
            "color": "#2a3f5f"
           }
          },
          "ternary": {
           "aaxis": {
            "gridcolor": "white",
            "linecolor": "white",
            "ticks": ""
           },
           "baxis": {
            "gridcolor": "white",
            "linecolor": "white",
            "ticks": ""
           },
           "bgcolor": "#E5ECF6",
           "caxis": {
            "gridcolor": "white",
            "linecolor": "white",
            "ticks": ""
           }
          },
          "title": {
           "x": 0.05
          },
          "xaxis": {
           "automargin": true,
           "gridcolor": "white",
           "linecolor": "white",
           "ticks": "",
           "title": {
            "standoff": 15
           },
           "zerolinecolor": "white",
           "zerolinewidth": 2
          },
          "yaxis": {
           "automargin": true,
           "gridcolor": "white",
           "linecolor": "white",
           "ticks": "",
           "title": {
            "standoff": 15
           },
           "zerolinecolor": "white",
           "zerolinewidth": 2
          }
         }
        },
        "title": {
         "text": "10 courses with least sutdent enrollment:"
        }
       }
      },
      "text/html": [
       "<div>\n",
       "        \n",
       "        \n",
       "            <div id=\"7d95a676-1a4c-4d2d-9e11-da923d2963b6\" class=\"plotly-graph-div\" style=\"height:525px; width:100%;\"></div>\n",
       "            <script type=\"text/javascript\">\n",
       "                require([\"plotly\"], function(Plotly) {\n",
       "                    window.PLOTLYENV=window.PLOTLYENV || {};\n",
       "                    \n",
       "                if (document.getElementById(\"7d95a676-1a4c-4d2d-9e11-da923d2963b6\")) {\n",
       "                    Plotly.newPlot(\n",
       "                        '7d95a676-1a4c-4d2d-9e11-da923d2963b6',\n",
       "                        [{\"domain\": {\"x\": [0.0, 1.0], \"y\": [0.0, 1.0]}, \"hovertemplate\": \"Course_Title=%{label}<br>Students=%{value}<extra></extra>\", \"labels\": [\"El Abogado del Futuro: Legaltech y la Transformaci\\u00f3n Digital del Derecho\", \"Blockchain Revolution in Financial Services\", \"Infectious Disease Modelling\", \"Healthcare Law\", \"Identifying, Monitoring, and Analyzing Risk and Incident Response and Recovery\", \"The Pronunciation of American English\", \"Esports\", \"Blended Language Learning: Design and Practice for Teachers\", \"Implementing RPA with Cognitive Automation and Analytics\", \"International Security Management\"], \"legendgroup\": \"\", \"name\": \"\", \"showlegend\": true, \"type\": \"pie\", \"values\": [1500.0, 1600.0, 1600.0, 1700.0, 1700.0, 1700.0, 1800.0, 1900.0, 2200.0, 2200.0]}],\n",
       "                        {\"legend\": {\"tracegroupgap\": 0}, \"template\": {\"data\": {\"bar\": [{\"error_x\": {\"color\": \"#2a3f5f\"}, \"error_y\": {\"color\": \"#2a3f5f\"}, \"marker\": {\"line\": {\"color\": \"#E5ECF6\", \"width\": 0.5}}, \"type\": \"bar\"}], \"barpolar\": [{\"marker\": {\"line\": {\"color\": \"#E5ECF6\", \"width\": 0.5}}, \"type\": \"barpolar\"}], \"carpet\": [{\"aaxis\": {\"endlinecolor\": \"#2a3f5f\", \"gridcolor\": \"white\", \"linecolor\": \"white\", \"minorgridcolor\": \"white\", \"startlinecolor\": \"#2a3f5f\"}, \"baxis\": {\"endlinecolor\": \"#2a3f5f\", \"gridcolor\": \"white\", \"linecolor\": \"white\", \"minorgridcolor\": \"white\", \"startlinecolor\": \"#2a3f5f\"}, \"type\": \"carpet\"}], \"choropleth\": [{\"colorbar\": {\"outlinewidth\": 0, \"ticks\": \"\"}, \"type\": \"choropleth\"}], \"contour\": [{\"colorbar\": {\"outlinewidth\": 0, \"ticks\": \"\"}, \"colorscale\": [[0.0, \"#0d0887\"], [0.1111111111111111, \"#46039f\"], [0.2222222222222222, \"#7201a8\"], [0.3333333333333333, \"#9c179e\"], [0.4444444444444444, \"#bd3786\"], [0.5555555555555556, \"#d8576b\"], [0.6666666666666666, \"#ed7953\"], [0.7777777777777778, \"#fb9f3a\"], [0.8888888888888888, \"#fdca26\"], [1.0, \"#f0f921\"]], \"type\": \"contour\"}], \"contourcarpet\": [{\"colorbar\": {\"outlinewidth\": 0, \"ticks\": \"\"}, \"type\": \"contourcarpet\"}], \"heatmap\": [{\"colorbar\": {\"outlinewidth\": 0, \"ticks\": \"\"}, \"colorscale\": [[0.0, \"#0d0887\"], [0.1111111111111111, \"#46039f\"], [0.2222222222222222, \"#7201a8\"], [0.3333333333333333, \"#9c179e\"], [0.4444444444444444, \"#bd3786\"], [0.5555555555555556, \"#d8576b\"], [0.6666666666666666, \"#ed7953\"], [0.7777777777777778, \"#fb9f3a\"], [0.8888888888888888, \"#fdca26\"], [1.0, \"#f0f921\"]], \"type\": \"heatmap\"}], \"heatmapgl\": [{\"colorbar\": {\"outlinewidth\": 0, \"ticks\": \"\"}, \"colorscale\": [[0.0, \"#0d0887\"], [0.1111111111111111, \"#46039f\"], [0.2222222222222222, \"#7201a8\"], [0.3333333333333333, \"#9c179e\"], [0.4444444444444444, \"#bd3786\"], [0.5555555555555556, \"#d8576b\"], [0.6666666666666666, \"#ed7953\"], [0.7777777777777778, \"#fb9f3a\"], [0.8888888888888888, \"#fdca26\"], [1.0, \"#f0f921\"]], \"type\": \"heatmapgl\"}], \"histogram\": [{\"marker\": {\"colorbar\": {\"outlinewidth\": 0, \"ticks\": \"\"}}, \"type\": \"histogram\"}], \"histogram2d\": [{\"colorbar\": {\"outlinewidth\": 0, \"ticks\": \"\"}, \"colorscale\": [[0.0, \"#0d0887\"], [0.1111111111111111, \"#46039f\"], [0.2222222222222222, \"#7201a8\"], [0.3333333333333333, \"#9c179e\"], [0.4444444444444444, \"#bd3786\"], [0.5555555555555556, \"#d8576b\"], [0.6666666666666666, \"#ed7953\"], [0.7777777777777778, \"#fb9f3a\"], [0.8888888888888888, \"#fdca26\"], [1.0, \"#f0f921\"]], \"type\": \"histogram2d\"}], \"histogram2dcontour\": [{\"colorbar\": {\"outlinewidth\": 0, \"ticks\": \"\"}, \"colorscale\": [[0.0, \"#0d0887\"], [0.1111111111111111, \"#46039f\"], [0.2222222222222222, \"#7201a8\"], [0.3333333333333333, \"#9c179e\"], [0.4444444444444444, \"#bd3786\"], [0.5555555555555556, \"#d8576b\"], [0.6666666666666666, \"#ed7953\"], [0.7777777777777778, \"#fb9f3a\"], [0.8888888888888888, \"#fdca26\"], [1.0, \"#f0f921\"]], \"type\": \"histogram2dcontour\"}], \"mesh3d\": [{\"colorbar\": {\"outlinewidth\": 0, \"ticks\": \"\"}, \"type\": \"mesh3d\"}], \"parcoords\": [{\"line\": {\"colorbar\": {\"outlinewidth\": 0, \"ticks\": \"\"}}, \"type\": \"parcoords\"}], \"pie\": [{\"automargin\": true, \"type\": \"pie\"}], \"scatter\": [{\"marker\": {\"colorbar\": {\"outlinewidth\": 0, \"ticks\": \"\"}}, \"type\": \"scatter\"}], \"scatter3d\": [{\"line\": {\"colorbar\": {\"outlinewidth\": 0, \"ticks\": \"\"}}, \"marker\": {\"colorbar\": {\"outlinewidth\": 0, \"ticks\": \"\"}}, \"type\": \"scatter3d\"}], \"scattercarpet\": [{\"marker\": {\"colorbar\": {\"outlinewidth\": 0, \"ticks\": \"\"}}, \"type\": \"scattercarpet\"}], \"scattergeo\": [{\"marker\": {\"colorbar\": {\"outlinewidth\": 0, \"ticks\": \"\"}}, \"type\": \"scattergeo\"}], \"scattergl\": [{\"marker\": {\"colorbar\": {\"outlinewidth\": 0, \"ticks\": \"\"}}, \"type\": \"scattergl\"}], \"scattermapbox\": [{\"marker\": {\"colorbar\": {\"outlinewidth\": 0, \"ticks\": \"\"}}, \"type\": \"scattermapbox\"}], \"scatterpolar\": [{\"marker\": {\"colorbar\": {\"outlinewidth\": 0, \"ticks\": \"\"}}, \"type\": \"scatterpolar\"}], \"scatterpolargl\": [{\"marker\": {\"colorbar\": {\"outlinewidth\": 0, \"ticks\": \"\"}}, \"type\": \"scatterpolargl\"}], \"scatterternary\": [{\"marker\": {\"colorbar\": {\"outlinewidth\": 0, \"ticks\": \"\"}}, \"type\": \"scatterternary\"}], \"surface\": [{\"colorbar\": {\"outlinewidth\": 0, \"ticks\": \"\"}, \"colorscale\": [[0.0, \"#0d0887\"], [0.1111111111111111, \"#46039f\"], [0.2222222222222222, \"#7201a8\"], [0.3333333333333333, \"#9c179e\"], [0.4444444444444444, \"#bd3786\"], [0.5555555555555556, \"#d8576b\"], [0.6666666666666666, \"#ed7953\"], [0.7777777777777778, \"#fb9f3a\"], [0.8888888888888888, \"#fdca26\"], [1.0, \"#f0f921\"]], \"type\": \"surface\"}], \"table\": [{\"cells\": {\"fill\": {\"color\": \"#EBF0F8\"}, \"line\": {\"color\": \"white\"}}, \"header\": {\"fill\": {\"color\": \"#C8D4E3\"}, \"line\": {\"color\": \"white\"}}, \"type\": \"table\"}]}, \"layout\": {\"annotationdefaults\": {\"arrowcolor\": \"#2a3f5f\", \"arrowhead\": 0, \"arrowwidth\": 1}, \"coloraxis\": {\"colorbar\": {\"outlinewidth\": 0, \"ticks\": \"\"}}, \"colorscale\": {\"diverging\": [[0, \"#8e0152\"], [0.1, \"#c51b7d\"], [0.2, \"#de77ae\"], [0.3, \"#f1b6da\"], [0.4, \"#fde0ef\"], [0.5, \"#f7f7f7\"], [0.6, \"#e6f5d0\"], [0.7, \"#b8e186\"], [0.8, \"#7fbc41\"], [0.9, \"#4d9221\"], [1, \"#276419\"]], \"sequential\": [[0.0, \"#0d0887\"], [0.1111111111111111, \"#46039f\"], [0.2222222222222222, \"#7201a8\"], [0.3333333333333333, \"#9c179e\"], [0.4444444444444444, \"#bd3786\"], [0.5555555555555556, \"#d8576b\"], [0.6666666666666666, \"#ed7953\"], [0.7777777777777778, \"#fb9f3a\"], [0.8888888888888888, \"#fdca26\"], [1.0, \"#f0f921\"]], \"sequentialminus\": [[0.0, \"#0d0887\"], [0.1111111111111111, \"#46039f\"], [0.2222222222222222, \"#7201a8\"], [0.3333333333333333, \"#9c179e\"], [0.4444444444444444, \"#bd3786\"], [0.5555555555555556, \"#d8576b\"], [0.6666666666666666, \"#ed7953\"], [0.7777777777777778, \"#fb9f3a\"], [0.8888888888888888, \"#fdca26\"], [1.0, \"#f0f921\"]]}, \"colorway\": [\"#636efa\", \"#EF553B\", \"#00cc96\", \"#ab63fa\", \"#FFA15A\", \"#19d3f3\", \"#FF6692\", \"#B6E880\", \"#FF97FF\", \"#FECB52\"], \"font\": {\"color\": \"#2a3f5f\"}, \"geo\": {\"bgcolor\": \"white\", \"lakecolor\": \"white\", \"landcolor\": \"#E5ECF6\", \"showlakes\": true, \"showland\": true, \"subunitcolor\": \"white\"}, \"hoverlabel\": {\"align\": \"left\"}, \"hovermode\": \"closest\", \"mapbox\": {\"style\": \"light\"}, \"paper_bgcolor\": \"white\", \"plot_bgcolor\": \"#E5ECF6\", \"polar\": {\"angularaxis\": {\"gridcolor\": \"white\", \"linecolor\": \"white\", \"ticks\": \"\"}, \"bgcolor\": \"#E5ECF6\", \"radialaxis\": {\"gridcolor\": \"white\", \"linecolor\": \"white\", \"ticks\": \"\"}}, \"scene\": {\"xaxis\": {\"backgroundcolor\": \"#E5ECF6\", \"gridcolor\": \"white\", \"gridwidth\": 2, \"linecolor\": \"white\", \"showbackground\": true, \"ticks\": \"\", \"zerolinecolor\": \"white\"}, \"yaxis\": {\"backgroundcolor\": \"#E5ECF6\", \"gridcolor\": \"white\", \"gridwidth\": 2, \"linecolor\": \"white\", \"showbackground\": true, \"ticks\": \"\", \"zerolinecolor\": \"white\"}, \"zaxis\": {\"backgroundcolor\": \"#E5ECF6\", \"gridcolor\": \"white\", \"gridwidth\": 2, \"linecolor\": \"white\", \"showbackground\": true, \"ticks\": \"\", \"zerolinecolor\": \"white\"}}, \"shapedefaults\": {\"line\": {\"color\": \"#2a3f5f\"}}, \"ternary\": {\"aaxis\": {\"gridcolor\": \"white\", \"linecolor\": \"white\", \"ticks\": \"\"}, \"baxis\": {\"gridcolor\": \"white\", \"linecolor\": \"white\", \"ticks\": \"\"}, \"bgcolor\": \"#E5ECF6\", \"caxis\": {\"gridcolor\": \"white\", \"linecolor\": \"white\", \"ticks\": \"\"}}, \"title\": {\"x\": 0.05}, \"xaxis\": {\"automargin\": true, \"gridcolor\": \"white\", \"linecolor\": \"white\", \"ticks\": \"\", \"title\": {\"standoff\": 15}, \"zerolinecolor\": \"white\", \"zerolinewidth\": 2}, \"yaxis\": {\"automargin\": true, \"gridcolor\": \"white\", \"linecolor\": \"white\", \"ticks\": \"\", \"title\": {\"standoff\": 15}, \"zerolinecolor\": \"white\", \"zerolinewidth\": 2}}}, \"title\": {\"text\": \"10 courses with least sutdent enrollment:\"}},\n",
       "                        {\"responsive\": true}\n",
       "                    ).then(function(){\n",
       "                            \n",
       "var gd = document.getElementById('7d95a676-1a4c-4d2d-9e11-da923d2963b6');\n",
       "var x = new MutationObserver(function (mutations, observer) {{\n",
       "        var display = window.getComputedStyle(gd).display;\n",
       "        if (!display || display === 'none') {{\n",
       "            console.log([gd, 'removed!']);\n",
       "            Plotly.purge(gd);\n",
       "            observer.disconnect();\n",
       "        }}\n",
       "}});\n",
       "\n",
       "// Listen for the removal of the full notebook cells\n",
       "var notebookContainer = gd.closest('#notebook-container');\n",
       "if (notebookContainer) {{\n",
       "    x.observe(notebookContainer, {childList: true});\n",
       "}}\n",
       "\n",
       "// Listen for the clearing of the current output cell\n",
       "var outputEl = gd.closest('.output');\n",
       "if (outputEl) {{\n",
       "    x.observe(outputEl, {childList: true});\n",
       "}}\n",
       "\n",
       "                        })\n",
       "                };\n",
       "                });\n",
       "            </script>\n",
       "        </div>"
      ]
     },
     "metadata": {},
     "output_type": "display_data"
    }
   ],
   "source": [
    "fig = px.pie(least_10_courses, values='Students', names='Course_Title', title= '10 courses with least sutdent enrollment:')\n",
    "fig.show()"
   ]
  },
  {
   "cell_type": "code",
   "execution_count": 165,
   "metadata": {
    "scrolled": true
   },
   "outputs": [
    {
     "data": {
      "text/html": [
       "<div>\n",
       "<style scoped>\n",
       "    .dataframe tbody tr th:only-of-type {\n",
       "        vertical-align: middle;\n",
       "    }\n",
       "\n",
       "    .dataframe tbody tr th {\n",
       "        vertical-align: top;\n",
       "    }\n",
       "\n",
       "    .dataframe thead th {\n",
       "        text-align: right;\n",
       "    }\n",
       "</style>\n",
       "<table border=\"1\" class=\"dataframe\">\n",
       "  <thead>\n",
       "    <tr style=\"text-align: right;\">\n",
       "      <th></th>\n",
       "      <th>Course_Title</th>\n",
       "      <th>Organization</th>\n",
       "      <th>Course_Type</th>\n",
       "      <th>Course_Rating</th>\n",
       "      <th>Difficulty_Level</th>\n",
       "      <th>Enrolled_Students</th>\n",
       "      <th>Students</th>\n",
       "      <th>Language</th>\n",
       "    </tr>\n",
       "  </thead>\n",
       "  <tbody>\n",
       "    <tr>\n",
       "      <th>251</th>\n",
       "      <td>El Abogado del Futuro: Legaltech y la Transfor...</td>\n",
       "      <td>Universidad Austral</td>\n",
       "      <td>COURSE</td>\n",
       "      <td>5.0</td>\n",
       "      <td>Beginner</td>\n",
       "      <td>1.5k</td>\n",
       "      <td>1500.0</td>\n",
       "      <td>es</td>\n",
       "    </tr>\n",
       "    <tr>\n",
       "      <th>432</th>\n",
       "      <td>Infectious Disease Modelling</td>\n",
       "      <td>Imperial College London</td>\n",
       "      <td>SPECIALIZATION</td>\n",
       "      <td>5.0</td>\n",
       "      <td>Intermediate</td>\n",
       "      <td>1.6k</td>\n",
       "      <td>1600.0</td>\n",
       "      <td>en</td>\n",
       "    </tr>\n",
       "    <tr>\n",
       "      <th>36</th>\n",
       "      <td>Agile и Scrum в работе над проектами и продуктами</td>\n",
       "      <td>ScrumTrek</td>\n",
       "      <td>COURSE</td>\n",
       "      <td>4.9</td>\n",
       "      <td>Beginner</td>\n",
       "      <td>12k</td>\n",
       "      <td>12000.0</td>\n",
       "      <td>ru</td>\n",
       "    </tr>\n",
       "    <tr>\n",
       "      <th>40</th>\n",
       "      <td>American Contract Law I</td>\n",
       "      <td>Yale University</td>\n",
       "      <td>COURSE</td>\n",
       "      <td>4.9</td>\n",
       "      <td>Beginner</td>\n",
       "      <td>18k</td>\n",
       "      <td>18000.0</td>\n",
       "      <td>en</td>\n",
       "    </tr>\n",
       "    <tr>\n",
       "      <th>61</th>\n",
       "      <td>Aprendiendo a aprender: Poderosas herramientas...</td>\n",
       "      <td>University of California San Diego</td>\n",
       "      <td>COURSE</td>\n",
       "      <td>4.9</td>\n",
       "      <td>Beginner</td>\n",
       "      <td>180k</td>\n",
       "      <td>180000.0</td>\n",
       "      <td>es</td>\n",
       "    </tr>\n",
       "    <tr>\n",
       "      <th>65</th>\n",
       "      <td>Arizona State University TESOL</td>\n",
       "      <td>Arizona State University</td>\n",
       "      <td>PROFESSIONAL CERTIFICATE</td>\n",
       "      <td>4.9</td>\n",
       "      <td>Beginner</td>\n",
       "      <td>150k</td>\n",
       "      <td>150000.0</td>\n",
       "      <td>en</td>\n",
       "    </tr>\n",
       "    <tr>\n",
       "      <th>70</th>\n",
       "      <td>Aspectos básicos de la planificación y la gest...</td>\n",
       "      <td>University of Virginia</td>\n",
       "      <td>COURSE</td>\n",
       "      <td>4.9</td>\n",
       "      <td>Beginner</td>\n",
       "      <td>10k</td>\n",
       "      <td>10000.0</td>\n",
       "      <td>es</td>\n",
       "    </tr>\n",
       "    <tr>\n",
       "      <th>82</th>\n",
       "      <td>Become a CBRS Certified Professional Installer...</td>\n",
       "      <td>Google - Spectrum Sharing</td>\n",
       "      <td>COURSE</td>\n",
       "      <td>4.9</td>\n",
       "      <td>Mixed</td>\n",
       "      <td>210k</td>\n",
       "      <td>210000.0</td>\n",
       "      <td>en</td>\n",
       "    </tr>\n",
       "    <tr>\n",
       "      <th>98</th>\n",
       "      <td>Boosting Creativity for Innovation</td>\n",
       "      <td>HEC Paris</td>\n",
       "      <td>COURSE</td>\n",
       "      <td>4.9</td>\n",
       "      <td>Beginner</td>\n",
       "      <td>9.5k</td>\n",
       "      <td>9500.0</td>\n",
       "      <td>en</td>\n",
       "    </tr>\n",
       "    <tr>\n",
       "      <th>99</th>\n",
       "      <td>Brand Management: Aligning Business, Brand and...</td>\n",
       "      <td>London Business School</td>\n",
       "      <td>COURSE</td>\n",
       "      <td>4.9</td>\n",
       "      <td>Beginner</td>\n",
       "      <td>57k</td>\n",
       "      <td>57000.0</td>\n",
       "      <td>en</td>\n",
       "    </tr>\n",
       "  </tbody>\n",
       "</table>\n",
       "</div>"
      ],
      "text/plain": [
       "                                          Course_Title  \\\n",
       "251  El Abogado del Futuro: Legaltech y la Transfor...   \n",
       "432                       Infectious Disease Modelling   \n",
       "36   Agile и Scrum в работе над проектами и продуктами   \n",
       "40                             American Contract Law I   \n",
       "61   Aprendiendo a aprender: Poderosas herramientas...   \n",
       "65                      Arizona State University TESOL   \n",
       "70   Aspectos básicos de la planificación y la gest...   \n",
       "82   Become a CBRS Certified Professional Installer...   \n",
       "98                  Boosting Creativity for Innovation   \n",
       "99   Brand Management: Aligning Business, Brand and...   \n",
       "\n",
       "                           Organization               Course_Type  \\\n",
       "251                 Universidad Austral                    COURSE   \n",
       "432             Imperial College London            SPECIALIZATION   \n",
       "36                            ScrumTrek                    COURSE   \n",
       "40                      Yale University                    COURSE   \n",
       "61   University of California San Diego                    COURSE   \n",
       "65             Arizona State University  PROFESSIONAL CERTIFICATE   \n",
       "70               University of Virginia                    COURSE   \n",
       "82            Google - Spectrum Sharing                    COURSE   \n",
       "98                            HEC Paris                    COURSE   \n",
       "99               London Business School                    COURSE   \n",
       "\n",
       "     Course_Rating Difficulty_Level Enrolled_Students  Students Language  \n",
       "251            5.0         Beginner              1.5k    1500.0       es  \n",
       "432            5.0     Intermediate              1.6k    1600.0       en  \n",
       "36             4.9         Beginner               12k   12000.0       ru  \n",
       "40             4.9         Beginner               18k   18000.0       en  \n",
       "61             4.9         Beginner              180k  180000.0       es  \n",
       "65             4.9         Beginner              150k  150000.0       en  \n",
       "70             4.9         Beginner               10k   10000.0       es  \n",
       "82             4.9            Mixed              210k  210000.0       en  \n",
       "98             4.9         Beginner              9.5k    9500.0       en  \n",
       "99             4.9         Beginner               57k   57000.0       en  "
      ]
     },
     "execution_count": 165,
     "metadata": {},
     "output_type": "execute_result"
    }
   ],
   "source": [
    "# top rated courses\n",
    "top_10_ratings = coursera_df.nlargest(10,'Course_Rating')\n",
    "top_10_ratings"
   ]
  },
  {
   "cell_type": "markdown",
   "metadata": {},
   "source": [
    "According to above dataframe, most rated courses may not drive more student enrollment. Even though top 10 high rated courses not in data science discipline, but most of the student enrollment in data science and programming courses."
   ]
  },
  {
   "cell_type": "code",
   "execution_count": 166,
   "metadata": {},
   "outputs": [
    {
     "data": {
      "application/vnd.plotly.v1+json": {
       "config": {
        "plotlyServerURL": "https://plot.ly"
       },
       "data": [
        {
         "alignmentgroup": "True",
         "hovertemplate": "Difficulty_Level=Beginner<br>Course_Rating=%{x}<br>Students=%{y}<extra></extra>",
         "legendgroup": "Beginner",
         "marker": {
          "color": "#636efa"
         },
         "name": "Beginner",
         "offsetgroup": "Beginner",
         "orientation": "v",
         "showlegend": true,
         "textposition": "auto",
         "type": "bar",
         "x": [
          4.7,
          4.7,
          4.8,
          4.7,
          4.6,
          4.3,
          4.7,
          4.7,
          4.7,
          4.6,
          4.7,
          4.8,
          4.7,
          4.7,
          4.7,
          4.7,
          4.9,
          4.9,
          4.8,
          4.7,
          4.6,
          4.6,
          4.8,
          4.8,
          4.5,
          4.8,
          4.6,
          4.2,
          4.9,
          4.5,
          4.9,
          4.9,
          4.6,
          4.6,
          4.7,
          4.7,
          4.8,
          4.5,
          4.6,
          4.4,
          4.8,
          4.7,
          4.6,
          4.7,
          4.9,
          4.9,
          4.6,
          4.9,
          4.5,
          4.6,
          4.7,
          4.7,
          4.7,
          4.7,
          4.5,
          4.7,
          4.8,
          4.5,
          4.5,
          4.7,
          4.9,
          4.8,
          4.7,
          4.4,
          4.8,
          4.7,
          4.7,
          4.8,
          4.7,
          4.8,
          4.6,
          4.8,
          4.5,
          4.7,
          4.7,
          4.8,
          4.9,
          4.7,
          4.6,
          4.8,
          4.6,
          4.3,
          4.7,
          4.7,
          4.8,
          4.8,
          4.7,
          4.5,
          4.6,
          4.8,
          4.6,
          4.8,
          4.8,
          4.6,
          4.7,
          4.6,
          4.6,
          4.7,
          4.2,
          4.6,
          4.8,
          4.4,
          4.6,
          4.7,
          4.8,
          4.7,
          4.5,
          4.5,
          4.6,
          4.6,
          4.8,
          4.5,
          4.7,
          4.6,
          4.7,
          4.8,
          4.8,
          4.7,
          4.4,
          4.6,
          4.6,
          4.8,
          4.4,
          4.5,
          4.6,
          4.6,
          4.7,
          4.7,
          4.5,
          4.6,
          4.9,
          4.8,
          4.7,
          4.6,
          4.7,
          4.8,
          4.9,
          5,
          4.8,
          4.6,
          4.7,
          4.8,
          4.7,
          4.6,
          4.8,
          4.8,
          4.4,
          4.8,
          4.7,
          4.8,
          4.6,
          4.7,
          4.7,
          4.8,
          4.5,
          4.7,
          4.7,
          4.8,
          4.8,
          4.9,
          4.9,
          4.9,
          4.6,
          4.8,
          4.8,
          4.5,
          4.8,
          4.8,
          4.8,
          4.8,
          4.6,
          4.7,
          4.5,
          4.8,
          4.8,
          4.5,
          4.8,
          4.5,
          4.7,
          4.7,
          4.6,
          4.9,
          4.8,
          4.8,
          4.7,
          4.8,
          4.8,
          4.8,
          4.6,
          4.8,
          4.6,
          4.6,
          4.8,
          4.8,
          4.8,
          4.6,
          4.7,
          4.5,
          4.6,
          4.6,
          4.7,
          4.8,
          4.6,
          4.6,
          4.8,
          4.7,
          4.8,
          4.6,
          4.7,
          4.8,
          4.7,
          4.5,
          4.6,
          4.9,
          4.7,
          4.5,
          4.6,
          4.7,
          4.8,
          4.7,
          4.6,
          4.7,
          4.5,
          4.4,
          4.6,
          4.7,
          4.6,
          4.1,
          4.7,
          4.6,
          4.8,
          4.6,
          4.5,
          4.8,
          4.9,
          4.7,
          4.6,
          4.7,
          4.9,
          4.4,
          4.9,
          4.5,
          4.8,
          4.6,
          4.6,
          4.7,
          4.6,
          4.8,
          4.8,
          4.5,
          4.8,
          4.6,
          4.8,
          4.6,
          4.8,
          4.5,
          4.9,
          4.6,
          4.7,
          4.7,
          4.4,
          4.7,
          4.7,
          4.8,
          4.6,
          4.3,
          4.3,
          4.7,
          4.7,
          4.5,
          4.6,
          4.8,
          4.4,
          4.5,
          4.8,
          4.4,
          4.7,
          4.7,
          4.8,
          4.9,
          4.7,
          4.7,
          4.8,
          4.8,
          4.5,
          4.8,
          4.7,
          4.8,
          4.9,
          4.9,
          4.7,
          4.6,
          4.5,
          4.6,
          4.6,
          4.6,
          4.5,
          4.7,
          4.6,
          4.7,
          4.8,
          4.7,
          4.8,
          4.3,
          4.8,
          4.6,
          4.6,
          4.8,
          4.9,
          4.7,
          4.7,
          4.7,
          4.6,
          4.6,
          4.7,
          4.9,
          4.7,
          4.7,
          4.5,
          4.6,
          4.5,
          4.8,
          4.7,
          4.6,
          4.4,
          4.7,
          4.6,
          4.3,
          4.5,
          4.6,
          4.7,
          4.7,
          4.8,
          4.3,
          4.6,
          4.9,
          4.8,
          4.7,
          4.7,
          4.8,
          4.8,
          4.8,
          4.7,
          4.7,
          4.8,
          4.8,
          4.6,
          4.4,
          4.6,
          4.7,
          4.8,
          4.6,
          4.8,
          4.6,
          4.9,
          4.7,
          4.7,
          4.7,
          4.8,
          4.8,
          4.6,
          4.7,
          4.7,
          4.6,
          4.8,
          4.6,
          4.6,
          4.7,
          4.2,
          4.7,
          4.6,
          4.7,
          4.6,
          4.8,
          4.8,
          4.6,
          4.8,
          4.9,
          4.8,
          4.7,
          4.7,
          4.6,
          4.5,
          4.4,
          4.9,
          4.7,
          4.7,
          4.8,
          4.6,
          4.6,
          4.4,
          4.7,
          4.8,
          4.8,
          4.7,
          4.8,
          4.7,
          4.8,
          4.6,
          4.6,
          4.6,
          4.6,
          4.8,
          4.7,
          4.6,
          4.6,
          4.8,
          4.8,
          4.9,
          4.6,
          4.7,
          4.7,
          4.7,
          4.6,
          4.7,
          4.7,
          4.7,
          4.7,
          4.6,
          4.8,
          4.8,
          4.8,
          4.7,
          4.7,
          4.7,
          4.8,
          4.3,
          4.6,
          4.5,
          4.7,
          4.9,
          4.9,
          4.8,
          4.8,
          4.8,
          4.6,
          4.7,
          4.5,
          4.7,
          4.6,
          4.8,
          4.8,
          4.8,
          4.8,
          4.8,
          4.6,
          4.8,
          4.9,
          4.8,
          4.8,
          4.7,
          4.8,
          4.7,
          4.6,
          4.6,
          4.3,
          4.7,
          4.6,
          4.7,
          4.8,
          4.8,
          4.9,
          4.8,
          4.8,
          4.7,
          4.9,
          4.2,
          4.8,
          4.8,
          4.7,
          4.7,
          4.3,
          4.7,
          4.7,
          4.7,
          4.7,
          4.7,
          4.9,
          4.4,
          4.9,
          4.7,
          4.5,
          4.6,
          4.5,
          4.8,
          4.6,
          4.7
         ],
         "xaxis": "x",
         "y": [
          5300,
          39000,
          350000,
          61000,
          130000,
          11000,
          27000,
          110000,
          540000,
          2900,
          110000,
          9200,
          21000,
          94000,
          69000,
          40000,
          12000,
          18000,
          23000,
          69000,
          270000,
          7900,
          30000,
          20000,
          120000,
          11000,
          220000,
          6600,
          180000,
          3900,
          150000,
          10000,
          13000,
          180000,
          28000,
          6500,
          61000,
          8800,
          35000,
          88000,
          14000,
          21000,
          1600,
          31000,
          9500,
          57000,
          26000,
          15000,
          22000,
          280000,
          510000,
          110000,
          24000,
          89000,
          67000,
          10000,
          48000,
          160000,
          31000,
          36000,
          220000,
          32000,
          340000,
          790000,
          31000,
          23000,
          30000,
          22000,
          57000,
          51000,
          4800,
          32000,
          37000,
          120000,
          15000,
          43000,
          6400,
          43000,
          5800,
          33000,
          27000,
          66000,
          19000,
          61000,
          43000,
          15000,
          220000,
          27000,
          26000,
          7800,
          75000,
          15000,
          81000,
          140000,
          150000,
          17000,
          5500,
          18000,
          140000,
          23000,
          55000,
          100000,
          220000,
          110000,
          24000,
          42000,
          830000,
          140000,
          89000,
          740000,
          60000,
          96000,
          18000,
          120000,
          110000,
          150000,
          44000,
          4500,
          8200,
          240000,
          17000,
          54000,
          9000,
          21000,
          37000,
          380000,
          140000,
          58000,
          35000,
          4000,
          21000,
          5600,
          17000,
          39000,
          110000,
          7100,
          46000,
          1500,
          12000,
          17000,
          37000,
          14000,
          23000,
          200000,
          230000,
          110000,
          2400,
          110000,
          31000,
          20000,
          69000,
          6400,
          31000,
          7200,
          1800,
          14000,
          27000,
          13000,
          11000,
          86000,
          240000,
          200000,
          490000,
          56000,
          54000,
          170000,
          28000,
          180000,
          18000,
          9700,
          13000,
          12000,
          260000,
          69000,
          65000,
          10000,
          470000,
          60000,
          6500,
          36000,
          20000,
          400000,
          14000,
          63000,
          31000,
          64000,
          89000,
          3200,
          26000,
          52000,
          30000,
          39000,
          200000,
          86000,
          290000,
          180000,
          120000,
          81000,
          25000,
          56000,
          150000,
          110000,
          47000,
          4900,
          9400,
          10000,
          140000,
          260000,
          14000,
          97000,
          14000,
          59000,
          18000,
          22000,
          29000,
          10000,
          3800,
          93000,
          350000,
          10000,
          56000,
          43000,
          8100,
          36000,
          5500,
          5500,
          28000,
          34000,
          98000,
          220000,
          3300,
          480000,
          35000,
          62000,
          1700,
          23000,
          2200,
          610000,
          270000,
          18000,
          79000,
          34000,
          22000,
          32000,
          10000,
          16000,
          40000,
          10000,
          25000,
          72000,
          14000,
          6500,
          22000,
          26000,
          20000,
          2200,
          35000,
          11000,
          36000,
          140000,
          100000,
          44000,
          16000,
          46000,
          2600,
          20000,
          32000,
          27000,
          32000,
          30000,
          310000,
          25000,
          75000,
          54000,
          6000,
          140000,
          160000,
          82000,
          270000,
          270000,
          49000,
          12000,
          4100,
          72000,
          87000,
          16000,
          76000,
          110000,
          4500,
          120000,
          99000,
          14000,
          49000,
          4400,
          380000,
          160000,
          22000,
          8000,
          6300,
          17000,
          16000,
          220000,
          43000,
          22000,
          39000,
          160000,
          80000,
          180000,
          120000,
          68000,
          10000,
          14000,
          19000,
          78000,
          43000,
          11000,
          55000,
          23000,
          27000,
          47000,
          22000,
          81000,
          39000,
          93000,
          57000,
          310000,
          8400,
          52000,
          12000,
          150000,
          140000,
          51000,
          4800,
          13000,
          260000,
          73000,
          230000,
          120000,
          310000,
          14000,
          42000,
          70000,
          22000,
          12000,
          5300,
          100000,
          330000,
          13000,
          76000,
          22000,
          3200,
          9100,
          8800,
          12000,
          8900,
          160000,
          83000,
          34000,
          23000,
          50000,
          40000,
          10000,
          22000,
          47000,
          20000,
          36000,
          250000,
          19000,
          70000,
          190000,
          440000,
          230000,
          52000,
          110000,
          26000,
          170000,
          1500000,
          3000,
          7700,
          24000,
          5200,
          7200,
          170000,
          120000,
          30000,
          3200,
          7000,
          370000,
          2600,
          160000,
          5600,
          16000,
          9100,
          140000,
          14000,
          110000,
          61000,
          20000,
          22000,
          13000,
          130000,
          78000,
          4200,
          220000,
          60000,
          110000,
          17000,
          68000,
          8800,
          71000,
          370000,
          17000,
          16000,
          34000,
          220000,
          9500,
          100000,
          68000,
          11000,
          220000,
          38000,
          11000,
          7900,
          66000,
          82000,
          24000,
          45000,
          9400,
          3900,
          62000,
          100000,
          62000,
          49000,
          280000,
          90000,
          130000,
          23000,
          73000,
          130000,
          22000,
          84000,
          11000,
          120000,
          130000,
          47000,
          1700,
          59000,
          13000,
          320000,
          26000,
          5200,
          28000,
          14000,
          200000,
          120000,
          68000,
          110000,
          44000,
          68000,
          25000,
          29000,
          89000,
          24000,
          49000,
          30000,
          130000,
          12000,
          9500,
          23000,
          19000,
          37000,
          23000,
          280000,
          34000,
          120000,
          260000,
          32000,
          12000,
          18000,
          140000,
          25000,
          69000,
          14000,
          16000,
          67000,
          83000,
          38000
         ],
         "yaxis": "y"
        },
        {
         "alignmentgroup": "True",
         "hovertemplate": "Difficulty_Level=Intermediate<br>Course_Rating=%{x}<br>Students=%{y}<extra></extra>",
         "legendgroup": "Intermediate",
         "marker": {
          "color": "#EF553B"
         },
         "name": "Intermediate",
         "offsetgroup": "Intermediate",
         "orientation": "v",
         "showlegend": true,
         "textposition": "auto",
         "type": "bar",
         "x": [
          4.7,
          4.8,
          4.7,
          4.6,
          4.7,
          4.5,
          4.7,
          4.8,
          4.5,
          4.7,
          4.8,
          4.8,
          4.8,
          4.6,
          4.7,
          4.5,
          4.6,
          4.6,
          4.5,
          4.7,
          4.8,
          4.8,
          4.8,
          4.8,
          4.8,
          4.7,
          4.8,
          4.6,
          4.5,
          4.6,
          4.3,
          4.7,
          4.7,
          4.7,
          4.4,
          4.7,
          4.7,
          4.7,
          4.9,
          4.7,
          4.8,
          4.8,
          4.8,
          4.8,
          4.5,
          4.7,
          4.4,
          4.6,
          4.6,
          4.4,
          4.4,
          4.6,
          4.8,
          4.6,
          4.6,
          4.7,
          4.8,
          4.6,
          4.9,
          4.8,
          4.8,
          4.7,
          4.7,
          4.8,
          4.6,
          4.5,
          4.7,
          4.7,
          4.8,
          4.6,
          4.7,
          4.9,
          4.8,
          4.4,
          4.7,
          4.8,
          4.6,
          4.9,
          4.2,
          4.7,
          4.8,
          4.7,
          4.7,
          4.8,
          4.7,
          4.7,
          4.7,
          4.8,
          4.7,
          4.4,
          4.5,
          4.6,
          4.5,
          4.6,
          4.6,
          4.8,
          4.6,
          4.7,
          4.2,
          4.5,
          4.7,
          4.8,
          4.6,
          5,
          4.4,
          4.7,
          4.6,
          4.8,
          4.5,
          4.5,
          4.6,
          4.7,
          4.8,
          4.5,
          4.5,
          4.8,
          4.7,
          4,
          4.7,
          4.7,
          4.8,
          4.5,
          4.7,
          4.5,
          4.8,
          4.6,
          3.7,
          4.6,
          3.9,
          4.7,
          4.5,
          4.7,
          4.4,
          4,
          4.7,
          4.7,
          4.8,
          4.6,
          4.8,
          4.7,
          4.9,
          4.8,
          4.7,
          4.7,
          4.7,
          4.7,
          4.5,
          4.7,
          4.8,
          4.6,
          4.8,
          4.6,
          4.7,
          4.4,
          4.6,
          4.3,
          4.7,
          4.9,
          4.8,
          4.4,
          4.7,
          4.8,
          4.7,
          4.7,
          4.6,
          4.7,
          4.9,
          4.5,
          4.8,
          4.6,
          4.4,
          4.4,
          4.7,
          4.5,
          4.8,
          4.7,
          4.9,
          4.7,
          4.5,
          4.9,
          4.8,
          4.4,
          4.5,
          4.9,
          4.6,
          4.7,
          4.8,
          4.8,
          3.9,
          4.8,
          4.9,
          4.7,
          4.5,
          4.9,
          4.7,
          4.5,
          4.5,
          4.6
         ],
         "xaxis": "x",
         "y": [
          17000,
          2400,
          12000,
          4000,
          13000,
          13000,
          22000,
          9900,
          78000,
          220000,
          150000,
          14000,
          36000,
          63000,
          42000,
          480000,
          150000,
          97000,
          4200,
          310000,
          33000,
          7300,
          9200,
          91000,
          29000,
          4200,
          1900,
          68000,
          7300,
          5800,
          24000,
          38000,
          120000,
          77000,
          110000,
          310000,
          37000,
          350000,
          240000,
          46000,
          10000,
          43000,
          26000,
          22000,
          99000,
          19000,
          3000,
          120000,
          120000,
          140000,
          210000,
          66000,
          690000,
          19000,
          16000,
          300000,
          4000,
          8000,
          40000,
          130000,
          18000,
          16000,
          57000,
          110000,
          42000,
          7900,
          68000,
          83000,
          4100,
          54000,
          39000,
          76000,
          39000,
          12000,
          76000,
          12000,
          30000,
          4400,
          27000,
          45000,
          89000,
          150000,
          140000,
          170000,
          220000,
          20000,
          18000,
          22000,
          100000,
          80000,
          73000,
          59000,
          75000,
          22000,
          3600,
          44000,
          120000,
          36000,
          7400,
          5400,
          1700,
          170000,
          140000,
          1600,
          12000,
          97000,
          9700,
          8700,
          150000,
          22000,
          66000,
          14000,
          53000,
          390000,
          41000,
          270000,
          150000,
          13000,
          37000,
          5900,
          16000,
          78000,
          120000,
          7200,
          23000,
          290000,
          29000,
          58000,
          15000,
          120000,
          72000,
          49000,
          60000,
          33000,
          21000,
          9100,
          59000,
          40000,
          17000,
          290000,
          630000,
          35000,
          250000,
          21000,
          33000,
          92000,
          30000,
          79000,
          67000,
          39000,
          39000,
          18000,
          21000,
          41000,
          480000,
          29000,
          23000,
          17000,
          6800,
          6400,
          300000,
          14000,
          18000,
          15000,
          34000,
          12000,
          28000,
          9200,
          30000,
          4900,
          48000,
          8500,
          170000,
          12000,
          47000,
          23000,
          9400,
          12000,
          100000,
          5400,
          12000,
          11000,
          6100,
          3900,
          43000,
          63000,
          120000,
          17000,
          76000,
          190000,
          68000,
          77000,
          19000,
          41000,
          45000,
          52000,
          30000,
          9800
         ],
         "yaxis": "y"
        },
        {
         "alignmentgroup": "True",
         "hovertemplate": "Difficulty_Level=Mixed<br>Course_Rating=%{x}<br>Students=%{y}<extra></extra>",
         "legendgroup": "Mixed",
         "marker": {
          "color": "#00cc96"
         },
         "name": "Mixed",
         "offsetgroup": "Mixed",
         "orientation": "v",
         "showlegend": true,
         "textposition": "auto",
         "type": "bar",
         "x": [
          4.5,
          4.7,
          4.8,
          4.7,
          4.5,
          4.8,
          4.8,
          4.8,
          4.8,
          4.8,
          4.8,
          4.8,
          4.6,
          4.8,
          4.7,
          4.6,
          4.9,
          4.4,
          4.6,
          4.7,
          4.9,
          4.5,
          4.7,
          4.7,
          4.6,
          4.7,
          4.8,
          4.8,
          4.8,
          4.6,
          4.3,
          4.7,
          4.8,
          4.7,
          4.6,
          4.7,
          4.7,
          4.8,
          4.7,
          4.4,
          4.6,
          4.7,
          4.9,
          4.9,
          4.8,
          4.8,
          4.8,
          4.8,
          4.8,
          4.7,
          4.6,
          4.8,
          4.8,
          4.6,
          4.8,
          4.8,
          4.8,
          4.7,
          4.8,
          4.7,
          4.6,
          4.8,
          4.3,
          4.8,
          4.7,
          4.6,
          4.6,
          4.8,
          4.7,
          4.8,
          4.8,
          4.7,
          4.8,
          4.8,
          4.6,
          4.8,
          3.3,
          4.8,
          4.7,
          4.8,
          4.2,
          4.4,
          4.8,
          4.8,
          4.8,
          4.8,
          4.8,
          4.8,
          4.6,
          4.9,
          4.8,
          4.9,
          4.6,
          4.7,
          4.7,
          4.7,
          4.8,
          4.7,
          4.9,
          4.8,
          4.8,
          4.6,
          4.7,
          4.8,
          4.8,
          4.5,
          4.6,
          4.8,
          4.2,
          4.8,
          4.8,
          4.7,
          4.7,
          4.7,
          4.6,
          4.9,
          4.6,
          4.7,
          4.7,
          4.8,
          4.2,
          4.7,
          4.7,
          4.8,
          4.6,
          4.8,
          4.9,
          4.9,
          4.9,
          4.8,
          4.8,
          4.7,
          4.8,
          4.7,
          4.5,
          4.5,
          4.8,
          4.7,
          4.8,
          4.8,
          4.8,
          4.8,
          4.8,
          4.9,
          4.7,
          4.7,
          4.6,
          4.8,
          4.9,
          4.5,
          4.5,
          4.7,
          4.7,
          4.6,
          4.8,
          4.7,
          4.8,
          4.6,
          4.8,
          4.9,
          4.9,
          4.8,
          4.6,
          4.8,
          4.8,
          4.9,
          4.6,
          4.6,
          4.7,
          4.6,
          4.9,
          4.6,
          4.7,
          4.8,
          4.8,
          4.5,
          4.8,
          4.8,
          4.8,
          4.7,
          4.8,
          4.7,
          4.8,
          4.6,
          4.7,
          4.5,
          4.8
         ],
         "xaxis": "x",
         "y": [
          130000,
          91000,
          320000,
          6600,
          80000,
          23000,
          14000,
          8100,
          71000,
          200000,
          79000,
          31000,
          15000,
          15000,
          66000,
          56000,
          210000,
          55000,
          2300,
          84000,
          95000,
          67000,
          13000,
          130000,
          82000,
          19000,
          51000,
          49000,
          56000,
          10000,
          140000,
          120000,
          23000,
          130000,
          31000,
          67000,
          97000,
          41000,
          54000,
          57000,
          150000,
          110000,
          83000,
          3400,
          760000,
          130000,
          86000,
          38000,
          45000,
          23000,
          130000,
          35000,
          31000,
          100000,
          24000,
          310000,
          57000,
          42000,
          62000,
          49000,
          110000,
          110000,
          19000,
          34000,
          47000,
          79000,
          37000,
          7600,
          430000,
          260000,
          210000,
          62000,
          240000,
          62000,
          39000,
          46000,
          140000,
          51000,
          180000,
          85000,
          12000,
          25000,
          36000,
          19000,
          41000,
          38000,
          46000,
          60000,
          160000,
          27000,
          84000,
          150000,
          130000,
          99000,
          110000,
          150000,
          34000,
          200000,
          47000,
          79000,
          74000,
          42000,
          220000,
          82000,
          220000,
          87000,
          370000,
          11000,
          76000,
          69000,
          67000,
          33000,
          270000,
          34000,
          29000,
          3200000,
          240000,
          120000,
          71000,
          58000,
          280000,
          48000,
          34000,
          130000,
          36000,
          100000,
          40000,
          44000,
          34000,
          21000,
          95000,
          41000,
          57000,
          80000,
          42000,
          84000,
          72000,
          180000,
          68000,
          280000,
          79000,
          1300000,
          190000,
          420000,
          69000,
          35000,
          16000,
          15000,
          36000,
          33000,
          12000,
          47000,
          60000,
          430000,
          16000,
          58000,
          750000,
          29000,
          50000,
          33000,
          81000,
          53000,
          420000,
          7200,
          84000,
          29000,
          47000,
          180000,
          120000,
          50000,
          2500000,
          19000,
          33000,
          45000,
          78000,
          120000,
          220000,
          310000,
          40000,
          150000,
          190000,
          35000,
          6200,
          94000,
          270000,
          17000,
          21000
         ],
         "yaxis": "y"
        },
        {
         "alignmentgroup": "True",
         "hovertemplate": "Difficulty_Level=Advanced<br>Course_Rating=%{x}<br>Students=%{y}<extra></extra>",
         "legendgroup": "Advanced",
         "marker": {
          "color": "#ab63fa"
         },
         "name": "Advanced",
         "offsetgroup": "Advanced",
         "orientation": "v",
         "showlegend": true,
         "textposition": "auto",
         "type": "bar",
         "x": [
          4.4,
          4.5,
          4.5,
          4.7,
          4.5,
          4.7,
          4.7,
          4.5,
          4.4,
          4.8,
          4.8,
          4.9,
          4.2,
          4.7,
          4.7,
          4.5,
          4.8,
          4.8,
          4.3
         ],
         "xaxis": "x",
         "y": [
          320000,
          190000,
          35000,
          29000,
          11000,
          22000,
          9700,
          140000,
          3500,
          39000,
          52000,
          170000,
          6200,
          68000,
          39000,
          16000,
          42000,
          12000,
          60000
         ],
         "yaxis": "y"
        }
       ],
       "layout": {
        "barmode": "relative",
        "legend": {
         "title": {
          "text": "Difficulty_Level"
         },
         "tracegroupgap": 0
        },
        "margin": {
         "t": 60
        },
        "template": {
         "data": {
          "bar": [
           {
            "error_x": {
             "color": "#2a3f5f"
            },
            "error_y": {
             "color": "#2a3f5f"
            },
            "marker": {
             "line": {
              "color": "#E5ECF6",
              "width": 0.5
             }
            },
            "type": "bar"
           }
          ],
          "barpolar": [
           {
            "marker": {
             "line": {
              "color": "#E5ECF6",
              "width": 0.5
             }
            },
            "type": "barpolar"
           }
          ],
          "carpet": [
           {
            "aaxis": {
             "endlinecolor": "#2a3f5f",
             "gridcolor": "white",
             "linecolor": "white",
             "minorgridcolor": "white",
             "startlinecolor": "#2a3f5f"
            },
            "baxis": {
             "endlinecolor": "#2a3f5f",
             "gridcolor": "white",
             "linecolor": "white",
             "minorgridcolor": "white",
             "startlinecolor": "#2a3f5f"
            },
            "type": "carpet"
           }
          ],
          "choropleth": [
           {
            "colorbar": {
             "outlinewidth": 0,
             "ticks": ""
            },
            "type": "choropleth"
           }
          ],
          "contour": [
           {
            "colorbar": {
             "outlinewidth": 0,
             "ticks": ""
            },
            "colorscale": [
             [
              0,
              "#0d0887"
             ],
             [
              0.1111111111111111,
              "#46039f"
             ],
             [
              0.2222222222222222,
              "#7201a8"
             ],
             [
              0.3333333333333333,
              "#9c179e"
             ],
             [
              0.4444444444444444,
              "#bd3786"
             ],
             [
              0.5555555555555556,
              "#d8576b"
             ],
             [
              0.6666666666666666,
              "#ed7953"
             ],
             [
              0.7777777777777778,
              "#fb9f3a"
             ],
             [
              0.8888888888888888,
              "#fdca26"
             ],
             [
              1,
              "#f0f921"
             ]
            ],
            "type": "contour"
           }
          ],
          "contourcarpet": [
           {
            "colorbar": {
             "outlinewidth": 0,
             "ticks": ""
            },
            "type": "contourcarpet"
           }
          ],
          "heatmap": [
           {
            "colorbar": {
             "outlinewidth": 0,
             "ticks": ""
            },
            "colorscale": [
             [
              0,
              "#0d0887"
             ],
             [
              0.1111111111111111,
              "#46039f"
             ],
             [
              0.2222222222222222,
              "#7201a8"
             ],
             [
              0.3333333333333333,
              "#9c179e"
             ],
             [
              0.4444444444444444,
              "#bd3786"
             ],
             [
              0.5555555555555556,
              "#d8576b"
             ],
             [
              0.6666666666666666,
              "#ed7953"
             ],
             [
              0.7777777777777778,
              "#fb9f3a"
             ],
             [
              0.8888888888888888,
              "#fdca26"
             ],
             [
              1,
              "#f0f921"
             ]
            ],
            "type": "heatmap"
           }
          ],
          "heatmapgl": [
           {
            "colorbar": {
             "outlinewidth": 0,
             "ticks": ""
            },
            "colorscale": [
             [
              0,
              "#0d0887"
             ],
             [
              0.1111111111111111,
              "#46039f"
             ],
             [
              0.2222222222222222,
              "#7201a8"
             ],
             [
              0.3333333333333333,
              "#9c179e"
             ],
             [
              0.4444444444444444,
              "#bd3786"
             ],
             [
              0.5555555555555556,
              "#d8576b"
             ],
             [
              0.6666666666666666,
              "#ed7953"
             ],
             [
              0.7777777777777778,
              "#fb9f3a"
             ],
             [
              0.8888888888888888,
              "#fdca26"
             ],
             [
              1,
              "#f0f921"
             ]
            ],
            "type": "heatmapgl"
           }
          ],
          "histogram": [
           {
            "marker": {
             "colorbar": {
              "outlinewidth": 0,
              "ticks": ""
             }
            },
            "type": "histogram"
           }
          ],
          "histogram2d": [
           {
            "colorbar": {
             "outlinewidth": 0,
             "ticks": ""
            },
            "colorscale": [
             [
              0,
              "#0d0887"
             ],
             [
              0.1111111111111111,
              "#46039f"
             ],
             [
              0.2222222222222222,
              "#7201a8"
             ],
             [
              0.3333333333333333,
              "#9c179e"
             ],
             [
              0.4444444444444444,
              "#bd3786"
             ],
             [
              0.5555555555555556,
              "#d8576b"
             ],
             [
              0.6666666666666666,
              "#ed7953"
             ],
             [
              0.7777777777777778,
              "#fb9f3a"
             ],
             [
              0.8888888888888888,
              "#fdca26"
             ],
             [
              1,
              "#f0f921"
             ]
            ],
            "type": "histogram2d"
           }
          ],
          "histogram2dcontour": [
           {
            "colorbar": {
             "outlinewidth": 0,
             "ticks": ""
            },
            "colorscale": [
             [
              0,
              "#0d0887"
             ],
             [
              0.1111111111111111,
              "#46039f"
             ],
             [
              0.2222222222222222,
              "#7201a8"
             ],
             [
              0.3333333333333333,
              "#9c179e"
             ],
             [
              0.4444444444444444,
              "#bd3786"
             ],
             [
              0.5555555555555556,
              "#d8576b"
             ],
             [
              0.6666666666666666,
              "#ed7953"
             ],
             [
              0.7777777777777778,
              "#fb9f3a"
             ],
             [
              0.8888888888888888,
              "#fdca26"
             ],
             [
              1,
              "#f0f921"
             ]
            ],
            "type": "histogram2dcontour"
           }
          ],
          "mesh3d": [
           {
            "colorbar": {
             "outlinewidth": 0,
             "ticks": ""
            },
            "type": "mesh3d"
           }
          ],
          "parcoords": [
           {
            "line": {
             "colorbar": {
              "outlinewidth": 0,
              "ticks": ""
             }
            },
            "type": "parcoords"
           }
          ],
          "pie": [
           {
            "automargin": true,
            "type": "pie"
           }
          ],
          "scatter": [
           {
            "marker": {
             "colorbar": {
              "outlinewidth": 0,
              "ticks": ""
             }
            },
            "type": "scatter"
           }
          ],
          "scatter3d": [
           {
            "line": {
             "colorbar": {
              "outlinewidth": 0,
              "ticks": ""
             }
            },
            "marker": {
             "colorbar": {
              "outlinewidth": 0,
              "ticks": ""
             }
            },
            "type": "scatter3d"
           }
          ],
          "scattercarpet": [
           {
            "marker": {
             "colorbar": {
              "outlinewidth": 0,
              "ticks": ""
             }
            },
            "type": "scattercarpet"
           }
          ],
          "scattergeo": [
           {
            "marker": {
             "colorbar": {
              "outlinewidth": 0,
              "ticks": ""
             }
            },
            "type": "scattergeo"
           }
          ],
          "scattergl": [
           {
            "marker": {
             "colorbar": {
              "outlinewidth": 0,
              "ticks": ""
             }
            },
            "type": "scattergl"
           }
          ],
          "scattermapbox": [
           {
            "marker": {
             "colorbar": {
              "outlinewidth": 0,
              "ticks": ""
             }
            },
            "type": "scattermapbox"
           }
          ],
          "scatterpolar": [
           {
            "marker": {
             "colorbar": {
              "outlinewidth": 0,
              "ticks": ""
             }
            },
            "type": "scatterpolar"
           }
          ],
          "scatterpolargl": [
           {
            "marker": {
             "colorbar": {
              "outlinewidth": 0,
              "ticks": ""
             }
            },
            "type": "scatterpolargl"
           }
          ],
          "scatterternary": [
           {
            "marker": {
             "colorbar": {
              "outlinewidth": 0,
              "ticks": ""
             }
            },
            "type": "scatterternary"
           }
          ],
          "surface": [
           {
            "colorbar": {
             "outlinewidth": 0,
             "ticks": ""
            },
            "colorscale": [
             [
              0,
              "#0d0887"
             ],
             [
              0.1111111111111111,
              "#46039f"
             ],
             [
              0.2222222222222222,
              "#7201a8"
             ],
             [
              0.3333333333333333,
              "#9c179e"
             ],
             [
              0.4444444444444444,
              "#bd3786"
             ],
             [
              0.5555555555555556,
              "#d8576b"
             ],
             [
              0.6666666666666666,
              "#ed7953"
             ],
             [
              0.7777777777777778,
              "#fb9f3a"
             ],
             [
              0.8888888888888888,
              "#fdca26"
             ],
             [
              1,
              "#f0f921"
             ]
            ],
            "type": "surface"
           }
          ],
          "table": [
           {
            "cells": {
             "fill": {
              "color": "#EBF0F8"
             },
             "line": {
              "color": "white"
             }
            },
            "header": {
             "fill": {
              "color": "#C8D4E3"
             },
             "line": {
              "color": "white"
             }
            },
            "type": "table"
           }
          ]
         },
         "layout": {
          "annotationdefaults": {
           "arrowcolor": "#2a3f5f",
           "arrowhead": 0,
           "arrowwidth": 1
          },
          "coloraxis": {
           "colorbar": {
            "outlinewidth": 0,
            "ticks": ""
           }
          },
          "colorscale": {
           "diverging": [
            [
             0,
             "#8e0152"
            ],
            [
             0.1,
             "#c51b7d"
            ],
            [
             0.2,
             "#de77ae"
            ],
            [
             0.3,
             "#f1b6da"
            ],
            [
             0.4,
             "#fde0ef"
            ],
            [
             0.5,
             "#f7f7f7"
            ],
            [
             0.6,
             "#e6f5d0"
            ],
            [
             0.7,
             "#b8e186"
            ],
            [
             0.8,
             "#7fbc41"
            ],
            [
             0.9,
             "#4d9221"
            ],
            [
             1,
             "#276419"
            ]
           ],
           "sequential": [
            [
             0,
             "#0d0887"
            ],
            [
             0.1111111111111111,
             "#46039f"
            ],
            [
             0.2222222222222222,
             "#7201a8"
            ],
            [
             0.3333333333333333,
             "#9c179e"
            ],
            [
             0.4444444444444444,
             "#bd3786"
            ],
            [
             0.5555555555555556,
             "#d8576b"
            ],
            [
             0.6666666666666666,
             "#ed7953"
            ],
            [
             0.7777777777777778,
             "#fb9f3a"
            ],
            [
             0.8888888888888888,
             "#fdca26"
            ],
            [
             1,
             "#f0f921"
            ]
           ],
           "sequentialminus": [
            [
             0,
             "#0d0887"
            ],
            [
             0.1111111111111111,
             "#46039f"
            ],
            [
             0.2222222222222222,
             "#7201a8"
            ],
            [
             0.3333333333333333,
             "#9c179e"
            ],
            [
             0.4444444444444444,
             "#bd3786"
            ],
            [
             0.5555555555555556,
             "#d8576b"
            ],
            [
             0.6666666666666666,
             "#ed7953"
            ],
            [
             0.7777777777777778,
             "#fb9f3a"
            ],
            [
             0.8888888888888888,
             "#fdca26"
            ],
            [
             1,
             "#f0f921"
            ]
           ]
          },
          "colorway": [
           "#636efa",
           "#EF553B",
           "#00cc96",
           "#ab63fa",
           "#FFA15A",
           "#19d3f3",
           "#FF6692",
           "#B6E880",
           "#FF97FF",
           "#FECB52"
          ],
          "font": {
           "color": "#2a3f5f"
          },
          "geo": {
           "bgcolor": "white",
           "lakecolor": "white",
           "landcolor": "#E5ECF6",
           "showlakes": true,
           "showland": true,
           "subunitcolor": "white"
          },
          "hoverlabel": {
           "align": "left"
          },
          "hovermode": "closest",
          "mapbox": {
           "style": "light"
          },
          "paper_bgcolor": "white",
          "plot_bgcolor": "#E5ECF6",
          "polar": {
           "angularaxis": {
            "gridcolor": "white",
            "linecolor": "white",
            "ticks": ""
           },
           "bgcolor": "#E5ECF6",
           "radialaxis": {
            "gridcolor": "white",
            "linecolor": "white",
            "ticks": ""
           }
          },
          "scene": {
           "xaxis": {
            "backgroundcolor": "#E5ECF6",
            "gridcolor": "white",
            "gridwidth": 2,
            "linecolor": "white",
            "showbackground": true,
            "ticks": "",
            "zerolinecolor": "white"
           },
           "yaxis": {
            "backgroundcolor": "#E5ECF6",
            "gridcolor": "white",
            "gridwidth": 2,
            "linecolor": "white",
            "showbackground": true,
            "ticks": "",
            "zerolinecolor": "white"
           },
           "zaxis": {
            "backgroundcolor": "#E5ECF6",
            "gridcolor": "white",
            "gridwidth": 2,
            "linecolor": "white",
            "showbackground": true,
            "ticks": "",
            "zerolinecolor": "white"
           }
          },
          "shapedefaults": {
           "line": {
            "color": "#2a3f5f"
           }
          },
          "ternary": {
           "aaxis": {
            "gridcolor": "white",
            "linecolor": "white",
            "ticks": ""
           },
           "baxis": {
            "gridcolor": "white",
            "linecolor": "white",
            "ticks": ""
           },
           "bgcolor": "#E5ECF6",
           "caxis": {
            "gridcolor": "white",
            "linecolor": "white",
            "ticks": ""
           }
          },
          "title": {
           "x": 0.05
          },
          "xaxis": {
           "automargin": true,
           "gridcolor": "white",
           "linecolor": "white",
           "ticks": "",
           "title": {
            "standoff": 15
           },
           "zerolinecolor": "white",
           "zerolinewidth": 2
          },
          "yaxis": {
           "automargin": true,
           "gridcolor": "white",
           "linecolor": "white",
           "ticks": "",
           "title": {
            "standoff": 15
           },
           "zerolinecolor": "white",
           "zerolinewidth": 2
          }
         }
        },
        "xaxis": {
         "anchor": "y",
         "domain": [
          0,
          1
         ],
         "title": {
          "text": "Course_Rating"
         }
        },
        "yaxis": {
         "anchor": "x",
         "domain": [
          0,
          1
         ],
         "title": {
          "text": "Students"
         }
        }
       }
      },
      "text/html": [
       "<div>\n",
       "        \n",
       "        \n",
       "            <div id=\"fa382d1c-5038-47ff-8f84-cd5ce464feff\" class=\"plotly-graph-div\" style=\"height:525px; width:100%;\"></div>\n",
       "            <script type=\"text/javascript\">\n",
       "                require([\"plotly\"], function(Plotly) {\n",
       "                    window.PLOTLYENV=window.PLOTLYENV || {};\n",
       "                    \n",
       "                if (document.getElementById(\"fa382d1c-5038-47ff-8f84-cd5ce464feff\")) {\n",
       "                    Plotly.newPlot(\n",
       "                        'fa382d1c-5038-47ff-8f84-cd5ce464feff',\n",
       "                        [{\"alignmentgroup\": \"True\", \"hovertemplate\": \"Difficulty_Level=Beginner<br>Course_Rating=%{x}<br>Students=%{y}<extra></extra>\", \"legendgroup\": \"Beginner\", \"marker\": {\"color\": \"#636efa\"}, \"name\": \"Beginner\", \"offsetgroup\": \"Beginner\", \"orientation\": \"v\", \"showlegend\": true, \"textposition\": \"auto\", \"type\": \"bar\", \"x\": [4.7, 4.7, 4.8, 4.7, 4.6, 4.3, 4.7, 4.7, 4.7, 4.6, 4.7, 4.8, 4.7, 4.7, 4.7, 4.7, 4.9, 4.9, 4.8, 4.7, 4.6, 4.6, 4.8, 4.8, 4.5, 4.8, 4.6, 4.2, 4.9, 4.5, 4.9, 4.9, 4.6, 4.6, 4.7, 4.7, 4.8, 4.5, 4.6, 4.4, 4.8, 4.7, 4.6, 4.7, 4.9, 4.9, 4.6, 4.9, 4.5, 4.6, 4.7, 4.7, 4.7, 4.7, 4.5, 4.7, 4.8, 4.5, 4.5, 4.7, 4.9, 4.8, 4.7, 4.4, 4.8, 4.7, 4.7, 4.8, 4.7, 4.8, 4.6, 4.8, 4.5, 4.7, 4.7, 4.8, 4.9, 4.7, 4.6, 4.8, 4.6, 4.3, 4.7, 4.7, 4.8, 4.8, 4.7, 4.5, 4.6, 4.8, 4.6, 4.8, 4.8, 4.6, 4.7, 4.6, 4.6, 4.7, 4.2, 4.6, 4.8, 4.4, 4.6, 4.7, 4.8, 4.7, 4.5, 4.5, 4.6, 4.6, 4.8, 4.5, 4.7, 4.6, 4.7, 4.8, 4.8, 4.7, 4.4, 4.6, 4.6, 4.8, 4.4, 4.5, 4.6, 4.6, 4.7, 4.7, 4.5, 4.6, 4.9, 4.8, 4.7, 4.6, 4.7, 4.8, 4.9, 5.0, 4.8, 4.6, 4.7, 4.8, 4.7, 4.6, 4.8, 4.8, 4.4, 4.8, 4.7, 4.8, 4.6, 4.7, 4.7, 4.8, 4.5, 4.7, 4.7, 4.8, 4.8, 4.9, 4.9, 4.9, 4.6, 4.8, 4.8, 4.5, 4.8, 4.8, 4.8, 4.8, 4.6, 4.7, 4.5, 4.8, 4.8, 4.5, 4.8, 4.5, 4.7, 4.7, 4.6, 4.9, 4.8, 4.8, 4.7, 4.8, 4.8, 4.8, 4.6, 4.8, 4.6, 4.6, 4.8, 4.8, 4.8, 4.6, 4.7, 4.5, 4.6, 4.6, 4.7, 4.8, 4.6, 4.6, 4.8, 4.7, 4.8, 4.6, 4.7, 4.8, 4.7, 4.5, 4.6, 4.9, 4.7, 4.5, 4.6, 4.7, 4.8, 4.7, 4.6, 4.7, 4.5, 4.4, 4.6, 4.7, 4.6, 4.1, 4.7, 4.6, 4.8, 4.6, 4.5, 4.8, 4.9, 4.7, 4.6, 4.7, 4.9, 4.4, 4.9, 4.5, 4.8, 4.6, 4.6, 4.7, 4.6, 4.8, 4.8, 4.5, 4.8, 4.6, 4.8, 4.6, 4.8, 4.5, 4.9, 4.6, 4.7, 4.7, 4.4, 4.7, 4.7, 4.8, 4.6, 4.3, 4.3, 4.7, 4.7, 4.5, 4.6, 4.8, 4.4, 4.5, 4.8, 4.4, 4.7, 4.7, 4.8, 4.9, 4.7, 4.7, 4.8, 4.8, 4.5, 4.8, 4.7, 4.8, 4.9, 4.9, 4.7, 4.6, 4.5, 4.6, 4.6, 4.6, 4.5, 4.7, 4.6, 4.7, 4.8, 4.7, 4.8, 4.3, 4.8, 4.6, 4.6, 4.8, 4.9, 4.7, 4.7, 4.7, 4.6, 4.6, 4.7, 4.9, 4.7, 4.7, 4.5, 4.6, 4.5, 4.8, 4.7, 4.6, 4.4, 4.7, 4.6, 4.3, 4.5, 4.6, 4.7, 4.7, 4.8, 4.3, 4.6, 4.9, 4.8, 4.7, 4.7, 4.8, 4.8, 4.8, 4.7, 4.7, 4.8, 4.8, 4.6, 4.4, 4.6, 4.7, 4.8, 4.6, 4.8, 4.6, 4.9, 4.7, 4.7, 4.7, 4.8, 4.8, 4.6, 4.7, 4.7, 4.6, 4.8, 4.6, 4.6, 4.7, 4.2, 4.7, 4.6, 4.7, 4.6, 4.8, 4.8, 4.6, 4.8, 4.9, 4.8, 4.7, 4.7, 4.6, 4.5, 4.4, 4.9, 4.7, 4.7, 4.8, 4.6, 4.6, 4.4, 4.7, 4.8, 4.8, 4.7, 4.8, 4.7, 4.8, 4.6, 4.6, 4.6, 4.6, 4.8, 4.7, 4.6, 4.6, 4.8, 4.8, 4.9, 4.6, 4.7, 4.7, 4.7, 4.6, 4.7, 4.7, 4.7, 4.7, 4.6, 4.8, 4.8, 4.8, 4.7, 4.7, 4.7, 4.8, 4.3, 4.6, 4.5, 4.7, 4.9, 4.9, 4.8, 4.8, 4.8, 4.6, 4.7, 4.5, 4.7, 4.6, 4.8, 4.8, 4.8, 4.8, 4.8, 4.6, 4.8, 4.9, 4.8, 4.8, 4.7, 4.8, 4.7, 4.6, 4.6, 4.3, 4.7, 4.6, 4.7, 4.8, 4.8, 4.9, 4.8, 4.8, 4.7, 4.9, 4.2, 4.8, 4.8, 4.7, 4.7, 4.3, 4.7, 4.7, 4.7, 4.7, 4.7, 4.9, 4.4, 4.9, 4.7, 4.5, 4.6, 4.5, 4.8, 4.6, 4.7], \"xaxis\": \"x\", \"y\": [5300.0, 39000.0, 350000.0, 61000.0, 130000.0, 11000.0, 27000.0, 110000.0, 540000.0, 2900.0, 110000.0, 9200.0, 21000.0, 94000.0, 69000.0, 40000.0, 12000.0, 18000.0, 23000.0, 69000.0, 270000.0, 7900.0, 30000.0, 20000.0, 120000.0, 11000.0, 220000.0, 6600.0, 180000.0, 3900.0, 150000.0, 10000.0, 13000.0, 180000.0, 28000.0, 6500.0, 61000.0, 8800.0, 35000.0, 88000.0, 14000.0, 21000.0, 1600.0, 31000.0, 9500.0, 57000.0, 26000.0, 15000.0, 22000.0, 280000.0, 510000.0, 110000.0, 24000.0, 89000.0, 67000.0, 10000.0, 48000.0, 160000.0, 31000.0, 36000.0, 220000.0, 32000.0, 340000.0, 790000.0, 31000.0, 23000.0, 30000.0, 22000.0, 57000.0, 51000.0, 4800.0, 32000.0, 37000.0, 120000.0, 15000.0, 43000.0, 6400.0, 43000.0, 5800.0, 33000.0, 27000.0, 66000.0, 19000.0, 61000.0, 43000.0, 15000.0, 220000.0, 27000.0, 26000.0, 7800.0, 75000.0, 15000.0, 81000.0, 140000.0, 150000.0, 17000.0, 5500.0, 18000.0, 140000.0, 23000.0, 55000.0, 100000.0, 220000.0, 110000.0, 24000.0, 42000.0, 830000.0, 140000.0, 89000.0, 740000.0, 60000.0, 96000.0, 18000.0, 120000.0, 110000.0, 150000.0, 44000.0, 4500.0, 8200.0, 240000.0, 17000.0, 54000.0, 9000.0, 21000.0, 37000.0, 380000.0, 140000.0, 58000.0, 35000.0, 4000.0, 21000.0, 5600.0, 17000.0, 39000.0, 110000.0, 7100.0, 46000.0, 1500.0, 12000.0, 17000.0, 37000.0, 14000.0, 23000.0, 200000.0, 230000.0, 110000.0, 2400.0, 110000.0, 31000.0, 20000.0, 69000.0, 6400.0, 31000.0, 7200.0, 1800.0, 14000.0, 27000.0, 13000.0, 11000.0, 86000.0, 240000.0, 200000.0, 490000.0, 56000.0, 54000.0, 170000.0, 28000.0, 180000.0, 18000.0, 9700.0, 13000.0, 12000.0, 260000.0, 69000.0, 65000.0, 10000.0, 470000.0, 60000.0, 6500.0, 36000.0, 20000.0, 400000.0, 14000.0, 63000.0, 31000.0, 64000.0, 89000.0, 3200.0, 26000.0, 52000.0, 30000.0, 39000.0, 200000.0, 86000.0, 290000.0, 180000.0, 120000.0, 81000.0, 25000.0, 56000.0, 150000.0, 110000.0, 47000.0, 4900.0, 9400.0, 10000.0, 140000.0, 260000.0, 14000.0, 97000.0, 14000.0, 59000.0, 18000.0, 22000.0, 29000.0, 10000.0, 3800.0, 93000.0, 350000.0, 10000.0, 56000.0, 43000.0, 8100.0, 36000.0, 5500.0, 5500.0, 28000.0, 34000.0, 98000.0, 220000.0, 3300.0, 480000.0, 35000.0, 62000.0, 1700.0, 23000.0, 2200.0, 610000.0, 270000.0, 18000.0, 79000.0, 34000.0, 22000.0, 32000.0, 10000.0, 16000.0, 40000.0, 10000.0, 25000.0, 72000.0, 14000.0, 6500.0, 22000.0, 26000.0, 20000.0, 2200.0, 35000.0, 11000.0, 36000.0, 140000.0, 100000.0, 44000.0, 16000.0, 46000.0, 2600.0, 20000.0, 32000.0, 27000.0, 32000.0, 30000.0, 310000.0, 25000.0, 75000.0, 54000.0, 6000.0, 140000.0, 160000.0, 82000.0, 270000.0, 270000.0, 49000.0, 12000.0, 4100.0, 72000.0, 87000.0, 16000.0, 76000.0, 110000.0, 4500.0, 120000.0, 99000.0, 14000.0, 49000.0, 4400.0, 380000.0, 160000.0, 22000.0, 8000.0, 6300.0, 17000.0, 16000.0, 220000.0, 43000.0, 22000.0, 39000.0, 160000.0, 80000.0, 180000.0, 120000.0, 68000.0, 10000.0, 14000.0, 19000.0, 78000.0, 43000.0, 11000.0, 55000.0, 23000.0, 27000.0, 47000.0, 22000.0, 81000.0, 39000.0, 93000.0, 57000.0, 310000.0, 8400.0, 52000.0, 12000.0, 150000.0, 140000.0, 51000.0, 4800.0, 13000.0, 260000.0, 73000.0, 230000.0, 120000.0, 310000.0, 14000.0, 42000.0, 70000.0, 22000.0, 12000.0, 5300.0, 100000.0, 330000.0, 13000.0, 76000.0, 22000.0, 3200.0, 9100.0, 8800.0, 12000.0, 8900.0, 160000.0, 83000.0, 34000.0, 23000.0, 50000.0, 40000.0, 10000.0, 22000.0, 47000.0, 20000.0, 36000.0, 250000.0, 19000.0, 70000.0, 190000.0, 440000.0, 230000.0, 52000.0, 110000.0, 26000.0, 170000.0, 1500000.0, 3000.0, 7700.0, 24000.0, 5200.0, 7200.0, 170000.0, 120000.0, 30000.0, 3200.0, 7000.0, 370000.0, 2600.0, 160000.0, 5600.0, 16000.0, 9100.0, 140000.0, 14000.0, 110000.0, 61000.0, 20000.0, 22000.0, 13000.0, 130000.0, 78000.0, 4200.0, 220000.0, 60000.0, 110000.0, 17000.0, 68000.0, 8800.0, 71000.0, 370000.0, 17000.0, 16000.0, 34000.0, 220000.0, 9500.0, 100000.0, 68000.0, 11000.0, 220000.0, 38000.0, 11000.0, 7900.0, 66000.0, 82000.0, 24000.0, 45000.0, 9400.0, 3900.0, 62000.0, 100000.0, 62000.0, 49000.0, 280000.0, 90000.0, 130000.0, 23000.0, 73000.0, 130000.0, 22000.0, 84000.0, 11000.0, 120000.0, 130000.0, 47000.0, 1700.0, 59000.0, 13000.0, 320000.0, 26000.0, 5200.0, 28000.0, 14000.0, 200000.0, 120000.0, 68000.0, 110000.0, 44000.0, 68000.0, 25000.0, 29000.0, 89000.0, 24000.0, 49000.0, 30000.0, 130000.0, 12000.0, 9500.0, 23000.0, 19000.0, 37000.0, 23000.0, 280000.0, 34000.0, 120000.0, 260000.0, 32000.0, 12000.0, 18000.0, 140000.0, 25000.0, 69000.0, 14000.0, 16000.0, 67000.0, 83000.0, 38000.0], \"yaxis\": \"y\"}, {\"alignmentgroup\": \"True\", \"hovertemplate\": \"Difficulty_Level=Intermediate<br>Course_Rating=%{x}<br>Students=%{y}<extra></extra>\", \"legendgroup\": \"Intermediate\", \"marker\": {\"color\": \"#EF553B\"}, \"name\": \"Intermediate\", \"offsetgroup\": \"Intermediate\", \"orientation\": \"v\", \"showlegend\": true, \"textposition\": \"auto\", \"type\": \"bar\", \"x\": [4.7, 4.8, 4.7, 4.6, 4.7, 4.5, 4.7, 4.8, 4.5, 4.7, 4.8, 4.8, 4.8, 4.6, 4.7, 4.5, 4.6, 4.6, 4.5, 4.7, 4.8, 4.8, 4.8, 4.8, 4.8, 4.7, 4.8, 4.6, 4.5, 4.6, 4.3, 4.7, 4.7, 4.7, 4.4, 4.7, 4.7, 4.7, 4.9, 4.7, 4.8, 4.8, 4.8, 4.8, 4.5, 4.7, 4.4, 4.6, 4.6, 4.4, 4.4, 4.6, 4.8, 4.6, 4.6, 4.7, 4.8, 4.6, 4.9, 4.8, 4.8, 4.7, 4.7, 4.8, 4.6, 4.5, 4.7, 4.7, 4.8, 4.6, 4.7, 4.9, 4.8, 4.4, 4.7, 4.8, 4.6, 4.9, 4.2, 4.7, 4.8, 4.7, 4.7, 4.8, 4.7, 4.7, 4.7, 4.8, 4.7, 4.4, 4.5, 4.6, 4.5, 4.6, 4.6, 4.8, 4.6, 4.7, 4.2, 4.5, 4.7, 4.8, 4.6, 5.0, 4.4, 4.7, 4.6, 4.8, 4.5, 4.5, 4.6, 4.7, 4.8, 4.5, 4.5, 4.8, 4.7, 4.0, 4.7, 4.7, 4.8, 4.5, 4.7, 4.5, 4.8, 4.6, 3.7, 4.6, 3.9, 4.7, 4.5, 4.7, 4.4, 4.0, 4.7, 4.7, 4.8, 4.6, 4.8, 4.7, 4.9, 4.8, 4.7, 4.7, 4.7, 4.7, 4.5, 4.7, 4.8, 4.6, 4.8, 4.6, 4.7, 4.4, 4.6, 4.3, 4.7, 4.9, 4.8, 4.4, 4.7, 4.8, 4.7, 4.7, 4.6, 4.7, 4.9, 4.5, 4.8, 4.6, 4.4, 4.4, 4.7, 4.5, 4.8, 4.7, 4.9, 4.7, 4.5, 4.9, 4.8, 4.4, 4.5, 4.9, 4.6, 4.7, 4.8, 4.8, 3.9, 4.8, 4.9, 4.7, 4.5, 4.9, 4.7, 4.5, 4.5, 4.6], \"xaxis\": \"x\", \"y\": [17000.0, 2400.0, 12000.0, 4000.0, 13000.0, 13000.0, 22000.0, 9900.0, 78000.0, 220000.0, 150000.0, 14000.0, 36000.0, 63000.0, 42000.0, 480000.0, 150000.0, 97000.0, 4200.0, 310000.0, 33000.0, 7300.0, 9200.0, 91000.0, 29000.0, 4200.0, 1900.0, 68000.0, 7300.0, 5800.0, 24000.0, 38000.0, 120000.0, 77000.0, 110000.0, 310000.0, 37000.0, 350000.0, 240000.0, 46000.0, 10000.0, 43000.0, 26000.0, 22000.0, 99000.0, 19000.0, 3000.0, 120000.0, 120000.0, 140000.0, 210000.0, 66000.0, 690000.0, 19000.0, 16000.0, 300000.0, 4000.0, 8000.0, 40000.0, 130000.0, 18000.0, 16000.0, 57000.0, 110000.0, 42000.0, 7900.0, 68000.0, 83000.0, 4100.0, 54000.0, 39000.0, 76000.0, 39000.0, 12000.0, 76000.0, 12000.0, 30000.0, 4400.0, 27000.0, 45000.0, 89000.0, 150000.0, 140000.0, 170000.0, 220000.0, 20000.0, 18000.0, 22000.0, 100000.0, 80000.0, 73000.0, 59000.0, 75000.0, 22000.0, 3600.0, 44000.0, 120000.0, 36000.0, 7400.0, 5400.0, 1700.0, 170000.0, 140000.0, 1600.0, 12000.0, 97000.0, 9700.0, 8700.0, 150000.0, 22000.0, 66000.0, 14000.0, 53000.0, 390000.0, 41000.0, 270000.0, 150000.0, 13000.0, 37000.0, 5900.0, 16000.0, 78000.0, 120000.0, 7200.0, 23000.0, 290000.0, 29000.0, 58000.0, 15000.0, 120000.0, 72000.0, 49000.0, 60000.0, 33000.0, 21000.0, 9100.0, 59000.0, 40000.0, 17000.0, 290000.0, 630000.0, 35000.0, 250000.0, 21000.0, 33000.0, 92000.0, 30000.0, 79000.0, 67000.0, 39000.0, 39000.0, 18000.0, 21000.0, 41000.0, 480000.0, 29000.0, 23000.0, 17000.0, 6800.0, 6400.0, 300000.0, 14000.0, 18000.0, 15000.0, 34000.0, 12000.0, 28000.0, 9200.0, 30000.0, 4900.0, 48000.0, 8500.0, 170000.0, 12000.0, 47000.0, 23000.0, 9400.0, 12000.0, 100000.0, 5400.0, 12000.0, 11000.0, 6100.0, 3900.0, 43000.0, 63000.0, 120000.0, 17000.0, 76000.0, 190000.0, 68000.0, 77000.0, 19000.0, 41000.0, 45000.0, 52000.0, 30000.0, 9800.0], \"yaxis\": \"y\"}, {\"alignmentgroup\": \"True\", \"hovertemplate\": \"Difficulty_Level=Mixed<br>Course_Rating=%{x}<br>Students=%{y}<extra></extra>\", \"legendgroup\": \"Mixed\", \"marker\": {\"color\": \"#00cc96\"}, \"name\": \"Mixed\", \"offsetgroup\": \"Mixed\", \"orientation\": \"v\", \"showlegend\": true, \"textposition\": \"auto\", \"type\": \"bar\", \"x\": [4.5, 4.7, 4.8, 4.7, 4.5, 4.8, 4.8, 4.8, 4.8, 4.8, 4.8, 4.8, 4.6, 4.8, 4.7, 4.6, 4.9, 4.4, 4.6, 4.7, 4.9, 4.5, 4.7, 4.7, 4.6, 4.7, 4.8, 4.8, 4.8, 4.6, 4.3, 4.7, 4.8, 4.7, 4.6, 4.7, 4.7, 4.8, 4.7, 4.4, 4.6, 4.7, 4.9, 4.9, 4.8, 4.8, 4.8, 4.8, 4.8, 4.7, 4.6, 4.8, 4.8, 4.6, 4.8, 4.8, 4.8, 4.7, 4.8, 4.7, 4.6, 4.8, 4.3, 4.8, 4.7, 4.6, 4.6, 4.8, 4.7, 4.8, 4.8, 4.7, 4.8, 4.8, 4.6, 4.8, 3.3, 4.8, 4.7, 4.8, 4.2, 4.4, 4.8, 4.8, 4.8, 4.8, 4.8, 4.8, 4.6, 4.9, 4.8, 4.9, 4.6, 4.7, 4.7, 4.7, 4.8, 4.7, 4.9, 4.8, 4.8, 4.6, 4.7, 4.8, 4.8, 4.5, 4.6, 4.8, 4.2, 4.8, 4.8, 4.7, 4.7, 4.7, 4.6, 4.9, 4.6, 4.7, 4.7, 4.8, 4.2, 4.7, 4.7, 4.8, 4.6, 4.8, 4.9, 4.9, 4.9, 4.8, 4.8, 4.7, 4.8, 4.7, 4.5, 4.5, 4.8, 4.7, 4.8, 4.8, 4.8, 4.8, 4.8, 4.9, 4.7, 4.7, 4.6, 4.8, 4.9, 4.5, 4.5, 4.7, 4.7, 4.6, 4.8, 4.7, 4.8, 4.6, 4.8, 4.9, 4.9, 4.8, 4.6, 4.8, 4.8, 4.9, 4.6, 4.6, 4.7, 4.6, 4.9, 4.6, 4.7, 4.8, 4.8, 4.5, 4.8, 4.8, 4.8, 4.7, 4.8, 4.7, 4.8, 4.6, 4.7, 4.5, 4.8], \"xaxis\": \"x\", \"y\": [130000.0, 91000.0, 320000.0, 6600.0, 80000.0, 23000.0, 14000.0, 8100.0, 71000.0, 200000.0, 79000.0, 31000.0, 15000.0, 15000.0, 66000.0, 56000.0, 210000.0, 55000.0, 2300.0, 84000.0, 95000.0, 67000.0, 13000.0, 130000.0, 82000.0, 19000.0, 51000.0, 49000.0, 56000.0, 10000.0, 140000.0, 120000.0, 23000.0, 130000.0, 31000.0, 67000.0, 97000.0, 41000.0, 54000.0, 57000.0, 150000.0, 110000.0, 83000.0, 3400.0, 760000.0, 130000.0, 86000.0, 38000.0, 45000.0, 23000.0, 130000.0, 35000.0, 31000.0, 100000.0, 24000.0, 310000.0, 57000.0, 42000.0, 62000.0, 49000.0, 110000.0, 110000.0, 19000.0, 34000.0, 47000.0, 79000.0, 37000.0, 7600.0, 430000.0, 260000.0, 210000.0, 62000.0, 240000.0, 62000.0, 39000.0, 46000.0, 140000.0, 51000.0, 180000.0, 85000.0, 12000.0, 25000.0, 36000.0, 19000.0, 41000.0, 38000.0, 46000.0, 60000.0, 160000.0, 27000.0, 84000.0, 150000.0, 130000.0, 99000.0, 110000.0, 150000.0, 34000.0, 200000.0, 47000.0, 79000.0, 74000.0, 42000.0, 220000.0, 82000.0, 220000.0, 87000.0, 370000.0, 11000.0, 76000.0, 69000.0, 67000.0, 33000.0, 270000.0, 34000.0, 29000.0, 3200000.0, 240000.0, 120000.0, 71000.0, 58000.0, 280000.0, 48000.0, 34000.0, 130000.0, 36000.0, 100000.0, 40000.0, 44000.0, 34000.0, 21000.0, 95000.0, 41000.0, 57000.0, 80000.0, 42000.0, 84000.0, 72000.0, 180000.0, 68000.0, 280000.0, 79000.0, 1300000.0, 190000.0, 420000.0, 69000.0, 35000.0, 16000.0, 15000.0, 36000.0, 33000.0, 12000.0, 47000.0, 60000.0, 430000.0, 16000.0, 58000.0, 750000.0, 29000.0, 50000.0, 33000.0, 81000.0, 53000.0, 420000.0, 7200.0, 84000.0, 29000.0, 47000.0, 180000.0, 120000.0, 50000.0, 2500000.0, 19000.0, 33000.0, 45000.0, 78000.0, 120000.0, 220000.0, 310000.0, 40000.0, 150000.0, 190000.0, 35000.0, 6200.0, 94000.0, 270000.0, 17000.0, 21000.0], \"yaxis\": \"y\"}, {\"alignmentgroup\": \"True\", \"hovertemplate\": \"Difficulty_Level=Advanced<br>Course_Rating=%{x}<br>Students=%{y}<extra></extra>\", \"legendgroup\": \"Advanced\", \"marker\": {\"color\": \"#ab63fa\"}, \"name\": \"Advanced\", \"offsetgroup\": \"Advanced\", \"orientation\": \"v\", \"showlegend\": true, \"textposition\": \"auto\", \"type\": \"bar\", \"x\": [4.4, 4.5, 4.5, 4.7, 4.5, 4.7, 4.7, 4.5, 4.4, 4.8, 4.8, 4.9, 4.2, 4.7, 4.7, 4.5, 4.8, 4.8, 4.3], \"xaxis\": \"x\", \"y\": [320000.0, 190000.0, 35000.0, 29000.0, 11000.0, 22000.0, 9700.0, 140000.0, 3500.0, 39000.0, 52000.0, 170000.0, 6200.0, 68000.0, 39000.0, 16000.0, 42000.0, 12000.0, 60000.0], \"yaxis\": \"y\"}],\n",
       "                        {\"barmode\": \"relative\", \"legend\": {\"title\": {\"text\": \"Difficulty_Level\"}, \"tracegroupgap\": 0}, \"margin\": {\"t\": 60}, \"template\": {\"data\": {\"bar\": [{\"error_x\": {\"color\": \"#2a3f5f\"}, \"error_y\": {\"color\": \"#2a3f5f\"}, \"marker\": {\"line\": {\"color\": \"#E5ECF6\", \"width\": 0.5}}, \"type\": \"bar\"}], \"barpolar\": [{\"marker\": {\"line\": {\"color\": \"#E5ECF6\", \"width\": 0.5}}, \"type\": \"barpolar\"}], \"carpet\": [{\"aaxis\": {\"endlinecolor\": \"#2a3f5f\", \"gridcolor\": \"white\", \"linecolor\": \"white\", \"minorgridcolor\": \"white\", \"startlinecolor\": \"#2a3f5f\"}, \"baxis\": {\"endlinecolor\": \"#2a3f5f\", \"gridcolor\": \"white\", \"linecolor\": \"white\", \"minorgridcolor\": \"white\", \"startlinecolor\": \"#2a3f5f\"}, \"type\": \"carpet\"}], \"choropleth\": [{\"colorbar\": {\"outlinewidth\": 0, \"ticks\": \"\"}, \"type\": \"choropleth\"}], \"contour\": [{\"colorbar\": {\"outlinewidth\": 0, \"ticks\": \"\"}, \"colorscale\": [[0.0, \"#0d0887\"], [0.1111111111111111, \"#46039f\"], [0.2222222222222222, \"#7201a8\"], [0.3333333333333333, \"#9c179e\"], [0.4444444444444444, \"#bd3786\"], [0.5555555555555556, \"#d8576b\"], [0.6666666666666666, \"#ed7953\"], [0.7777777777777778, \"#fb9f3a\"], [0.8888888888888888, \"#fdca26\"], [1.0, \"#f0f921\"]], \"type\": \"contour\"}], \"contourcarpet\": [{\"colorbar\": {\"outlinewidth\": 0, \"ticks\": \"\"}, \"type\": \"contourcarpet\"}], \"heatmap\": [{\"colorbar\": {\"outlinewidth\": 0, \"ticks\": \"\"}, \"colorscale\": [[0.0, \"#0d0887\"], [0.1111111111111111, \"#46039f\"], [0.2222222222222222, \"#7201a8\"], [0.3333333333333333, \"#9c179e\"], [0.4444444444444444, \"#bd3786\"], [0.5555555555555556, \"#d8576b\"], [0.6666666666666666, \"#ed7953\"], [0.7777777777777778, \"#fb9f3a\"], [0.8888888888888888, \"#fdca26\"], [1.0, \"#f0f921\"]], \"type\": \"heatmap\"}], \"heatmapgl\": [{\"colorbar\": {\"outlinewidth\": 0, \"ticks\": \"\"}, \"colorscale\": [[0.0, \"#0d0887\"], [0.1111111111111111, \"#46039f\"], [0.2222222222222222, \"#7201a8\"], [0.3333333333333333, \"#9c179e\"], [0.4444444444444444, \"#bd3786\"], [0.5555555555555556, \"#d8576b\"], [0.6666666666666666, \"#ed7953\"], [0.7777777777777778, \"#fb9f3a\"], [0.8888888888888888, \"#fdca26\"], [1.0, \"#f0f921\"]], \"type\": \"heatmapgl\"}], \"histogram\": [{\"marker\": {\"colorbar\": {\"outlinewidth\": 0, \"ticks\": \"\"}}, \"type\": \"histogram\"}], \"histogram2d\": [{\"colorbar\": {\"outlinewidth\": 0, \"ticks\": \"\"}, \"colorscale\": [[0.0, \"#0d0887\"], [0.1111111111111111, \"#46039f\"], [0.2222222222222222, \"#7201a8\"], [0.3333333333333333, \"#9c179e\"], [0.4444444444444444, \"#bd3786\"], [0.5555555555555556, \"#d8576b\"], [0.6666666666666666, \"#ed7953\"], [0.7777777777777778, \"#fb9f3a\"], [0.8888888888888888, \"#fdca26\"], [1.0, \"#f0f921\"]], \"type\": \"histogram2d\"}], \"histogram2dcontour\": [{\"colorbar\": {\"outlinewidth\": 0, \"ticks\": \"\"}, \"colorscale\": [[0.0, \"#0d0887\"], [0.1111111111111111, \"#46039f\"], [0.2222222222222222, \"#7201a8\"], [0.3333333333333333, \"#9c179e\"], [0.4444444444444444, \"#bd3786\"], [0.5555555555555556, \"#d8576b\"], [0.6666666666666666, \"#ed7953\"], [0.7777777777777778, \"#fb9f3a\"], [0.8888888888888888, \"#fdca26\"], [1.0, \"#f0f921\"]], \"type\": \"histogram2dcontour\"}], \"mesh3d\": [{\"colorbar\": {\"outlinewidth\": 0, \"ticks\": \"\"}, \"type\": \"mesh3d\"}], \"parcoords\": [{\"line\": {\"colorbar\": {\"outlinewidth\": 0, \"ticks\": \"\"}}, \"type\": \"parcoords\"}], \"pie\": [{\"automargin\": true, \"type\": \"pie\"}], \"scatter\": [{\"marker\": {\"colorbar\": {\"outlinewidth\": 0, \"ticks\": \"\"}}, \"type\": \"scatter\"}], \"scatter3d\": [{\"line\": {\"colorbar\": {\"outlinewidth\": 0, \"ticks\": \"\"}}, \"marker\": {\"colorbar\": {\"outlinewidth\": 0, \"ticks\": \"\"}}, \"type\": \"scatter3d\"}], \"scattercarpet\": [{\"marker\": {\"colorbar\": {\"outlinewidth\": 0, \"ticks\": \"\"}}, \"type\": \"scattercarpet\"}], \"scattergeo\": [{\"marker\": {\"colorbar\": {\"outlinewidth\": 0, \"ticks\": \"\"}}, \"type\": \"scattergeo\"}], \"scattergl\": [{\"marker\": {\"colorbar\": {\"outlinewidth\": 0, \"ticks\": \"\"}}, \"type\": \"scattergl\"}], \"scattermapbox\": [{\"marker\": {\"colorbar\": {\"outlinewidth\": 0, \"ticks\": \"\"}}, \"type\": \"scattermapbox\"}], \"scatterpolar\": [{\"marker\": {\"colorbar\": {\"outlinewidth\": 0, \"ticks\": \"\"}}, \"type\": \"scatterpolar\"}], \"scatterpolargl\": [{\"marker\": {\"colorbar\": {\"outlinewidth\": 0, \"ticks\": \"\"}}, \"type\": \"scatterpolargl\"}], \"scatterternary\": [{\"marker\": {\"colorbar\": {\"outlinewidth\": 0, \"ticks\": \"\"}}, \"type\": \"scatterternary\"}], \"surface\": [{\"colorbar\": {\"outlinewidth\": 0, \"ticks\": \"\"}, \"colorscale\": [[0.0, \"#0d0887\"], [0.1111111111111111, \"#46039f\"], [0.2222222222222222, \"#7201a8\"], [0.3333333333333333, \"#9c179e\"], [0.4444444444444444, \"#bd3786\"], [0.5555555555555556, \"#d8576b\"], [0.6666666666666666, \"#ed7953\"], [0.7777777777777778, \"#fb9f3a\"], [0.8888888888888888, \"#fdca26\"], [1.0, \"#f0f921\"]], \"type\": \"surface\"}], \"table\": [{\"cells\": {\"fill\": {\"color\": \"#EBF0F8\"}, \"line\": {\"color\": \"white\"}}, \"header\": {\"fill\": {\"color\": \"#C8D4E3\"}, \"line\": {\"color\": \"white\"}}, \"type\": \"table\"}]}, \"layout\": {\"annotationdefaults\": {\"arrowcolor\": \"#2a3f5f\", \"arrowhead\": 0, \"arrowwidth\": 1}, \"coloraxis\": {\"colorbar\": {\"outlinewidth\": 0, \"ticks\": \"\"}}, \"colorscale\": {\"diverging\": [[0, \"#8e0152\"], [0.1, \"#c51b7d\"], [0.2, \"#de77ae\"], [0.3, \"#f1b6da\"], [0.4, \"#fde0ef\"], [0.5, \"#f7f7f7\"], [0.6, \"#e6f5d0\"], [0.7, \"#b8e186\"], [0.8, \"#7fbc41\"], [0.9, \"#4d9221\"], [1, \"#276419\"]], \"sequential\": [[0.0, \"#0d0887\"], [0.1111111111111111, \"#46039f\"], [0.2222222222222222, \"#7201a8\"], [0.3333333333333333, \"#9c179e\"], [0.4444444444444444, \"#bd3786\"], [0.5555555555555556, \"#d8576b\"], [0.6666666666666666, \"#ed7953\"], [0.7777777777777778, \"#fb9f3a\"], [0.8888888888888888, \"#fdca26\"], [1.0, \"#f0f921\"]], \"sequentialminus\": [[0.0, \"#0d0887\"], [0.1111111111111111, \"#46039f\"], [0.2222222222222222, \"#7201a8\"], [0.3333333333333333, \"#9c179e\"], [0.4444444444444444, \"#bd3786\"], [0.5555555555555556, \"#d8576b\"], [0.6666666666666666, \"#ed7953\"], [0.7777777777777778, \"#fb9f3a\"], [0.8888888888888888, \"#fdca26\"], [1.0, \"#f0f921\"]]}, \"colorway\": [\"#636efa\", \"#EF553B\", \"#00cc96\", \"#ab63fa\", \"#FFA15A\", \"#19d3f3\", \"#FF6692\", \"#B6E880\", \"#FF97FF\", \"#FECB52\"], \"font\": {\"color\": \"#2a3f5f\"}, \"geo\": {\"bgcolor\": \"white\", \"lakecolor\": \"white\", \"landcolor\": \"#E5ECF6\", \"showlakes\": true, \"showland\": true, \"subunitcolor\": \"white\"}, \"hoverlabel\": {\"align\": \"left\"}, \"hovermode\": \"closest\", \"mapbox\": {\"style\": \"light\"}, \"paper_bgcolor\": \"white\", \"plot_bgcolor\": \"#E5ECF6\", \"polar\": {\"angularaxis\": {\"gridcolor\": \"white\", \"linecolor\": \"white\", \"ticks\": \"\"}, \"bgcolor\": \"#E5ECF6\", \"radialaxis\": {\"gridcolor\": \"white\", \"linecolor\": \"white\", \"ticks\": \"\"}}, \"scene\": {\"xaxis\": {\"backgroundcolor\": \"#E5ECF6\", \"gridcolor\": \"white\", \"gridwidth\": 2, \"linecolor\": \"white\", \"showbackground\": true, \"ticks\": \"\", \"zerolinecolor\": \"white\"}, \"yaxis\": {\"backgroundcolor\": \"#E5ECF6\", \"gridcolor\": \"white\", \"gridwidth\": 2, \"linecolor\": \"white\", \"showbackground\": true, \"ticks\": \"\", \"zerolinecolor\": \"white\"}, \"zaxis\": {\"backgroundcolor\": \"#E5ECF6\", \"gridcolor\": \"white\", \"gridwidth\": 2, \"linecolor\": \"white\", \"showbackground\": true, \"ticks\": \"\", \"zerolinecolor\": \"white\"}}, \"shapedefaults\": {\"line\": {\"color\": \"#2a3f5f\"}}, \"ternary\": {\"aaxis\": {\"gridcolor\": \"white\", \"linecolor\": \"white\", \"ticks\": \"\"}, \"baxis\": {\"gridcolor\": \"white\", \"linecolor\": \"white\", \"ticks\": \"\"}, \"bgcolor\": \"#E5ECF6\", \"caxis\": {\"gridcolor\": \"white\", \"linecolor\": \"white\", \"ticks\": \"\"}}, \"title\": {\"x\": 0.05}, \"xaxis\": {\"automargin\": true, \"gridcolor\": \"white\", \"linecolor\": \"white\", \"ticks\": \"\", \"title\": {\"standoff\": 15}, \"zerolinecolor\": \"white\", \"zerolinewidth\": 2}, \"yaxis\": {\"automargin\": true, \"gridcolor\": \"white\", \"linecolor\": \"white\", \"ticks\": \"\", \"title\": {\"standoff\": 15}, \"zerolinecolor\": \"white\", \"zerolinewidth\": 2}}}, \"xaxis\": {\"anchor\": \"y\", \"domain\": [0.0, 1.0], \"title\": {\"text\": \"Course_Rating\"}}, \"yaxis\": {\"anchor\": \"x\", \"domain\": [0.0, 1.0], \"title\": {\"text\": \"Students\"}}},\n",
       "                        {\"responsive\": true}\n",
       "                    ).then(function(){\n",
       "                            \n",
       "var gd = document.getElementById('fa382d1c-5038-47ff-8f84-cd5ce464feff');\n",
       "var x = new MutationObserver(function (mutations, observer) {{\n",
       "        var display = window.getComputedStyle(gd).display;\n",
       "        if (!display || display === 'none') {{\n",
       "            console.log([gd, 'removed!']);\n",
       "            Plotly.purge(gd);\n",
       "            observer.disconnect();\n",
       "        }}\n",
       "}});\n",
       "\n",
       "// Listen for the removal of the full notebook cells\n",
       "var notebookContainer = gd.closest('#notebook-container');\n",
       "if (notebookContainer) {{\n",
       "    x.observe(notebookContainer, {childList: true});\n",
       "}}\n",
       "\n",
       "// Listen for the clearing of the current output cell\n",
       "var outputEl = gd.closest('.output');\n",
       "if (outputEl) {{\n",
       "    x.observe(outputEl, {childList: true});\n",
       "}}\n",
       "\n",
       "                        })\n",
       "                };\n",
       "                });\n",
       "            </script>\n",
       "        </div>"
      ]
     },
     "metadata": {},
     "output_type": "display_data"
    }
   ],
   "source": [
    "# bar graph showing number of students enrolled based on course rating and difficulty level of course\n",
    "fig = px.bar(coursera_df, x='Course_Rating', y='Students', color='Difficulty_Level')\n",
    "fig.show()"
   ]
  },
  {
   "cell_type": "code",
   "execution_count": 167,
   "metadata": {},
   "outputs": [
    {
     "data": {
      "application/vnd.plotly.v1+json": {
       "config": {
        "plotlyServerURL": "https://plot.ly"
       },
       "data": [
        {
         "domain": {
          "x": [
           0,
           1
          ],
          "y": [
           0,
           1
          ]
         },
         "hovertemplate": "Difficulty_Level=%{label}<br>Students=%{value}<extra></extra>",
         "labels": [
          "Beginner",
          "Intermediate",
          "Mixed",
          "Mixed",
          "Mixed",
          "Beginner",
          "Beginner",
          "Intermediate",
          "Beginner",
          "Intermediate",
          "Intermediate",
          "Intermediate",
          "Beginner",
          "Beginner",
          "Beginner",
          "Beginner",
          "Intermediate",
          "Mixed",
          "Beginner",
          "Intermediate",
          "Beginner",
          "Mixed",
          "Intermediate",
          "Beginner",
          "Mixed",
          "Beginner",
          "Intermediate",
          "Advanced",
          "Advanced",
          "Advanced",
          "Advanced",
          "Mixed",
          "Beginner",
          "Beginner",
          "Beginner",
          "Beginner",
          "Beginner",
          "Intermediate",
          "Intermediate",
          "Intermediate",
          "Beginner",
          "Beginner",
          "Beginner",
          "Beginner",
          "Beginner",
          "Beginner",
          "Intermediate",
          "Beginner",
          "Mixed",
          "Beginner",
          "Mixed",
          "Advanced",
          "Beginner",
          "Intermediate",
          "Beginner",
          "Intermediate",
          "Intermediate",
          "Intermediate",
          "Intermediate",
          "Beginner",
          "Mixed",
          "Beginner",
          "Intermediate",
          "Intermediate",
          "Beginner",
          "Beginner",
          "Mixed",
          "Mixed",
          "Mixed",
          "Mixed",
          "Beginner",
          "Mixed",
          "Intermediate",
          "Mixed",
          "Intermediate",
          "Intermediate",
          "Advanced",
          "Advanced",
          "Beginner",
          "Beginner",
          "Intermediate",
          "Intermediate",
          "Mixed",
          "Beginner",
          "Intermediate",
          "Beginner",
          "Beginner",
          "Mixed",
          "Mixed",
          "Beginner",
          "Beginner",
          "Beginner",
          "Beginner",
          "Intermediate",
          "Intermediate",
          "Beginner",
          "Beginner",
          "Beginner",
          "Beginner",
          "Beginner",
          "Beginner",
          "Mixed",
          "Beginner",
          "Mixed",
          "Intermediate",
          "Beginner",
          "Intermediate",
          "Intermediate",
          "Mixed",
          "Beginner",
          "Intermediate",
          "Intermediate",
          "Intermediate",
          "Beginner",
          "Mixed",
          "Beginner",
          "Beginner",
          "Beginner",
          "Beginner",
          "Beginner",
          "Beginner",
          "Beginner",
          "Beginner",
          "Beginner",
          "Beginner",
          "Beginner",
          "Mixed",
          "Beginner",
          "Mixed",
          "Beginner",
          "Beginner",
          "Beginner",
          "Mixed",
          "Beginner",
          "Beginner",
          "Beginner",
          "Mixed",
          "Beginner",
          "Beginner",
          "Beginner",
          "Intermediate",
          "Beginner",
          "Intermediate",
          "Intermediate",
          "Beginner",
          "Beginner",
          "Beginner",
          "Beginner",
          "Beginner",
          "Intermediate",
          "Beginner",
          "Beginner",
          "Beginner",
          "Beginner",
          "Beginner",
          "Beginner",
          "Beginner",
          "Beginner",
          "Beginner",
          "Beginner",
          "Beginner",
          "Mixed",
          "Intermediate",
          "Intermediate",
          "Intermediate",
          "Mixed",
          "Beginner",
          "Mixed",
          "Beginner",
          "Beginner",
          "Intermediate",
          "Beginner",
          "Mixed",
          "Beginner",
          "Mixed",
          "Beginner",
          "Intermediate",
          "Intermediate",
          "Beginner",
          "Beginner",
          "Beginner",
          "Intermediate",
          "Beginner",
          "Beginner",
          "Beginner",
          "Mixed",
          "Beginner",
          "Beginner",
          "Beginner",
          "Beginner",
          "Intermediate",
          "Intermediate",
          "Intermediate",
          "Intermediate",
          "Beginner",
          "Intermediate",
          "Beginner",
          "Beginner",
          "Beginner",
          "Beginner",
          "Intermediate",
          "Mixed",
          "Beginner",
          "Intermediate",
          "Beginner",
          "Advanced",
          "Beginner",
          "Beginner",
          "Beginner",
          "Beginner",
          "Mixed",
          "Intermediate",
          "Beginner",
          "Beginner",
          "Beginner",
          "Beginner",
          "Beginner",
          "Mixed",
          "Mixed",
          "Intermediate",
          "Intermediate",
          "Intermediate",
          "Intermediate",
          "Intermediate",
          "Mixed",
          "Beginner",
          "Mixed",
          "Beginner",
          "Beginner",
          "Beginner",
          "Beginner",
          "Mixed",
          "Beginner",
          "Beginner",
          "Beginner",
          "Intermediate",
          "Beginner",
          "Beginner",
          "Intermediate",
          "Mixed",
          "Beginner",
          "Beginner",
          "Beginner",
          "Beginner",
          "Beginner",
          "Intermediate",
          "Mixed",
          "Mixed",
          "Intermediate",
          "Mixed",
          "Beginner",
          "Beginner",
          "Intermediate",
          "Beginner",
          "Intermediate",
          "Beginner",
          "Beginner",
          "Beginner",
          "Beginner",
          "Beginner",
          "Beginner",
          "Mixed",
          "Mixed",
          "Intermediate",
          "Beginner",
          "Beginner",
          "Intermediate",
          "Beginner",
          "Mixed",
          "Mixed",
          "Beginner",
          "Beginner",
          "Beginner",
          "Mixed",
          "Mixed",
          "Beginner",
          "Beginner",
          "Mixed",
          "Mixed",
          "Beginner",
          "Beginner",
          "Beginner",
          "Intermediate",
          "Intermediate",
          "Intermediate",
          "Intermediate",
          "Mixed",
          "Beginner",
          "Beginner",
          "Beginner",
          "Beginner",
          "Beginner",
          "Intermediate",
          "Beginner",
          "Intermediate",
          "Intermediate",
          "Beginner",
          "Beginner",
          "Beginner",
          "Beginner",
          "Beginner",
          "Beginner",
          "Beginner",
          "Beginner",
          "Beginner",
          "Beginner",
          "Beginner",
          "Beginner",
          "Intermediate",
          "Beginner",
          "Beginner",
          "Mixed",
          "Intermediate",
          "Beginner",
          "Beginner",
          "Intermediate",
          "Beginner",
          "Mixed",
          "Intermediate",
          "Mixed",
          "Beginner",
          "Beginner",
          "Beginner",
          "Mixed",
          "Mixed",
          "Intermediate",
          "Beginner",
          "Beginner",
          "Mixed",
          "Beginner",
          "Beginner",
          "Intermediate",
          "Beginner",
          "Beginner",
          "Beginner",
          "Beginner",
          "Intermediate",
          "Intermediate",
          "Intermediate",
          "Intermediate",
          "Intermediate",
          "Intermediate",
          "Beginner",
          "Beginner",
          "Beginner",
          "Mixed",
          "Beginner",
          "Beginner",
          "Intermediate",
          "Intermediate",
          "Beginner",
          "Beginner",
          "Mixed",
          "Intermediate",
          "Beginner",
          "Beginner",
          "Beginner",
          "Beginner",
          "Beginner",
          "Beginner",
          "Beginner",
          "Beginner",
          "Beginner",
          "Beginner",
          "Intermediate",
          "Beginner",
          "Mixed",
          "Beginner",
          "Intermediate",
          "Beginner",
          "Mixed",
          "Mixed",
          "Mixed",
          "Beginner",
          "Beginner",
          "Intermediate",
          "Intermediate",
          "Intermediate",
          "Beginner",
          "Beginner",
          "Mixed",
          "Beginner",
          "Beginner",
          "Intermediate",
          "Mixed",
          "Intermediate",
          "Mixed",
          "Intermediate",
          "Beginner",
          "Intermediate",
          "Intermediate",
          "Beginner",
          "Beginner",
          "Mixed",
          "Beginner",
          "Mixed",
          "Beginner",
          "Mixed",
          "Mixed",
          "Mixed",
          "Beginner",
          "Mixed",
          "Intermediate",
          "Mixed",
          "Beginner",
          "Intermediate",
          "Intermediate",
          "Beginner",
          "Beginner",
          "Mixed",
          "Beginner",
          "Beginner",
          "Intermediate",
          "Mixed",
          "Beginner",
          "Beginner",
          "Intermediate",
          "Advanced",
          "Beginner",
          "Beginner",
          "Beginner",
          "Beginner",
          "Beginner",
          "Beginner",
          "Beginner",
          "Beginner",
          "Beginner",
          "Beginner",
          "Beginner",
          "Beginner",
          "Mixed",
          "Beginner",
          "Intermediate",
          "Intermediate",
          "Beginner",
          "Beginner",
          "Beginner",
          "Beginner",
          "Mixed",
          "Beginner",
          "Beginner",
          "Beginner",
          "Beginner",
          "Intermediate",
          "Mixed",
          "Mixed",
          "Intermediate",
          "Beginner",
          "Intermediate",
          "Intermediate",
          "Beginner",
          "Intermediate",
          "Mixed",
          "Beginner",
          "Mixed",
          "Mixed",
          "Mixed",
          "Beginner",
          "Beginner",
          "Beginner",
          "Beginner",
          "Beginner",
          "Beginner",
          "Mixed",
          "Intermediate",
          "Beginner",
          "Beginner",
          "Mixed",
          "Mixed",
          "Beginner",
          "Mixed",
          "Beginner",
          "Mixed",
          "Intermediate",
          "Mixed",
          "Intermediate",
          "Beginner",
          "Mixed",
          "Beginner",
          "Beginner",
          "Beginner",
          "Mixed",
          "Beginner",
          "Beginner",
          "Beginner",
          "Mixed",
          "Beginner",
          "Intermediate",
          "Beginner",
          "Beginner",
          "Mixed",
          "Intermediate",
          "Mixed",
          "Mixed",
          "Mixed",
          "Mixed",
          "Mixed",
          "Mixed",
          "Mixed",
          "Mixed",
          "Beginner",
          "Beginner",
          "Mixed",
          "Mixed",
          "Intermediate",
          "Mixed",
          "Beginner",
          "Mixed",
          "Mixed",
          "Beginner",
          "Beginner",
          "Beginner",
          "Beginner",
          "Beginner",
          "Advanced",
          "Mixed",
          "Beginner",
          "Mixed",
          "Mixed",
          "Mixed",
          "Intermediate",
          "Beginner",
          "Intermediate",
          "Beginner",
          "Beginner",
          "Beginner",
          "Beginner",
          "Beginner",
          "Mixed",
          "Beginner",
          "Beginner",
          "Beginner",
          "Beginner",
          "Beginner",
          "Beginner",
          "Beginner",
          "Beginner",
          "Beginner",
          "Intermediate",
          "Beginner",
          "Beginner",
          "Beginner",
          "Mixed",
          "Beginner",
          "Beginner",
          "Intermediate",
          "Intermediate",
          "Beginner",
          "Beginner",
          "Intermediate",
          "Advanced",
          "Intermediate",
          "Beginner",
          "Beginner",
          "Beginner",
          "Beginner",
          "Beginner",
          "Beginner",
          "Intermediate",
          "Beginner",
          "Intermediate",
          "Mixed",
          "Beginner",
          "Intermediate",
          "Mixed",
          "Mixed",
          "Intermediate",
          "Beginner",
          "Intermediate",
          "Intermediate",
          "Intermediate",
          "Intermediate",
          "Beginner",
          "Beginner",
          "Mixed",
          "Beginner",
          "Beginner",
          "Beginner",
          "Mixed",
          "Beginner",
          "Beginner",
          "Beginner",
          "Beginner",
          "Beginner",
          "Intermediate",
          "Beginner",
          "Beginner",
          "Mixed",
          "Intermediate",
          "Beginner",
          "Mixed",
          "Beginner",
          "Beginner",
          "Mixed",
          "Beginner",
          "Beginner",
          "Beginner",
          "Beginner",
          "Intermediate",
          "Beginner",
          "Advanced",
          "Beginner",
          "Beginner",
          "Beginner",
          "Mixed",
          "Beginner",
          "Beginner",
          "Mixed",
          "Mixed",
          "Beginner",
          "Beginner",
          "Intermediate",
          "Intermediate",
          "Mixed",
          "Mixed",
          "Mixed",
          "Intermediate",
          "Beginner",
          "Mixed",
          "Beginner",
          "Mixed",
          "Intermediate",
          "Mixed",
          "Beginner",
          "Intermediate",
          "Intermediate",
          "Intermediate",
          "Mixed",
          "Beginner",
          "Beginner",
          "Beginner",
          "Intermediate",
          "Intermediate",
          "Beginner",
          "Intermediate",
          "Intermediate",
          "Mixed",
          "Beginner",
          "Beginner",
          "Mixed",
          "Advanced",
          "Intermediate",
          "Beginner",
          "Beginner",
          "Beginner",
          "Intermediate",
          "Mixed",
          "Beginner",
          "Beginner",
          "Mixed",
          "Intermediate",
          "Beginner",
          "Beginner",
          "Beginner",
          "Beginner",
          "Mixed",
          "Mixed",
          "Beginner",
          "Beginner",
          "Beginner",
          "Intermediate",
          "Beginner",
          "Intermediate",
          "Beginner",
          "Mixed",
          "Beginner",
          "Beginner",
          "Mixed",
          "Mixed",
          "Advanced",
          "Beginner",
          "Intermediate",
          "Beginner",
          "Beginner",
          "Mixed",
          "Intermediate",
          "Beginner",
          "Beginner",
          "Beginner",
          "Beginner",
          "Mixed",
          "Beginner",
          "Beginner",
          "Intermediate",
          "Mixed",
          "Beginner",
          "Intermediate",
          "Beginner",
          "Beginner",
          "Mixed",
          "Beginner",
          "Intermediate",
          "Beginner",
          "Intermediate",
          "Mixed",
          "Intermediate",
          "Beginner",
          "Beginner",
          "Beginner",
          "Mixed",
          "Mixed",
          "Beginner",
          "Mixed",
          "Intermediate",
          "Beginner",
          "Beginner",
          "Beginner",
          "Beginner",
          "Mixed",
          "Beginner",
          "Beginner",
          "Beginner",
          "Beginner",
          "Beginner",
          "Intermediate",
          "Mixed",
          "Beginner",
          "Beginner",
          "Mixed",
          "Intermediate",
          "Beginner",
          "Intermediate",
          "Advanced",
          "Intermediate",
          "Beginner",
          "Beginner",
          "Advanced",
          "Intermediate",
          "Intermediate",
          "Beginner",
          "Beginner",
          "Beginner",
          "Beginner",
          "Beginner",
          "Beginner",
          "Beginner",
          "Advanced",
          "Beginner",
          "Intermediate",
          "Mixed",
          "Beginner",
          "Beginner",
          "Beginner",
          "Beginner",
          "Advanced",
          "Beginner",
          "Mixed",
          "Intermediate",
          "Mixed",
          "Beginner",
          "Beginner",
          "Beginner",
          "Beginner",
          "Beginner",
          "Intermediate",
          "Advanced",
          "Beginner",
          "Beginner",
          "Mixed",
          "Beginner",
          "Intermediate",
          "Intermediate",
          "Beginner",
          "Beginner",
          "Beginner",
          "Mixed",
          "Beginner",
          "Beginner",
          "Intermediate",
          "Beginner",
          "Beginner",
          "Beginner",
          "Mixed",
          "Mixed",
          "Beginner",
          "Beginner",
          "Beginner",
          "Beginner",
          "Intermediate",
          "Mixed",
          "Beginner",
          "Beginner",
          "Mixed",
          "Intermediate",
          "Mixed",
          "Beginner",
          "Beginner",
          "Intermediate",
          "Intermediate",
          "Beginner",
          "Beginner",
          "Intermediate",
          "Beginner",
          "Beginner",
          "Beginner",
          "Beginner",
          "Beginner",
          "Intermediate",
          "Beginner",
          "Beginner",
          "Mixed",
          "Mixed",
          "Mixed",
          "Mixed",
          "Mixed",
          "Beginner",
          "Beginner",
          "Intermediate",
          "Mixed",
          "Mixed",
          "Beginner",
          "Mixed",
          "Intermediate",
          "Beginner",
          "Beginner",
          "Mixed",
          "Beginner",
          "Mixed",
          "Intermediate",
          "Beginner",
          "Beginner",
          "Beginner",
          "Mixed",
          "Beginner",
          "Beginner",
          "Beginner",
          "Beginner",
          "Mixed",
          "Beginner",
          "Intermediate",
          "Intermediate",
          "Beginner",
          "Beginner",
          "Beginner",
          "Beginner",
          "Mixed",
          "Beginner",
          "Beginner",
          "Intermediate",
          "Beginner",
          "Mixed",
          "Beginner",
          "Beginner",
          "Intermediate",
          "Beginner",
          "Beginner",
          "Intermediate",
          "Beginner",
          "Intermediate",
          "Mixed",
          "Mixed",
          "Beginner",
          "Intermediate",
          "Mixed",
          "Mixed",
          "Beginner",
          "Beginner",
          "Mixed",
          "Intermediate",
          "Beginner",
          "Beginner",
          "Beginner",
          "Mixed",
          "Mixed",
          "Beginner",
          "Mixed",
          "Beginner",
          "Intermediate",
          "Beginner",
          "Mixed",
          "Beginner",
          "Beginner",
          "Mixed",
          "Intermediate",
          "Beginner",
          "Intermediate",
          "Beginner",
          "Beginner",
          "Intermediate",
          "Beginner",
          "Beginner",
          "Intermediate",
          "Intermediate",
          "Beginner",
          "Intermediate",
          "Intermediate",
          "Intermediate",
          "Mixed",
          "Intermediate",
          "Intermediate",
          "Beginner"
         ],
         "legendgroup": "",
         "name": "",
         "showlegend": true,
         "type": "pie",
         "values": [
          5300,
          17000,
          130000,
          91000,
          320000,
          39000,
          350000,
          2400,
          61000,
          12000,
          4000,
          13000,
          130000,
          11000,
          27000,
          110000,
          13000,
          6600,
          540000,
          22000,
          2900,
          80000,
          9900,
          110000,
          23000,
          9200,
          78000,
          320000,
          190000,
          35000,
          29000,
          14000,
          21000,
          94000,
          69000,
          40000,
          12000,
          220000,
          150000,
          14000,
          18000,
          23000,
          69000,
          270000,
          7900,
          30000,
          36000,
          20000,
          8100,
          120000,
          71000,
          11000,
          11000,
          63000,
          220000,
          42000,
          480000,
          150000,
          97000,
          6600,
          200000,
          180000,
          4200,
          310000,
          3900,
          150000,
          79000,
          31000,
          15000,
          15000,
          10000,
          66000,
          33000,
          56000,
          7300,
          9200,
          22000,
          9700,
          13000,
          180000,
          91000,
          29000,
          210000,
          28000,
          4200,
          6500,
          61000,
          55000,
          2300,
          8800,
          35000,
          88000,
          14000,
          1900,
          68000,
          21000,
          1600,
          31000,
          9500,
          57000,
          26000,
          84000,
          15000,
          95000,
          7300,
          22000,
          5800,
          24000,
          67000,
          280000,
          38000,
          120000,
          77000,
          510000,
          13000,
          110000,
          24000,
          89000,
          67000,
          10000,
          48000,
          160000,
          31000,
          36000,
          220000,
          32000,
          130000,
          340000,
          82000,
          790000,
          31000,
          23000,
          19000,
          30000,
          22000,
          57000,
          51000,
          51000,
          4800,
          32000,
          110000,
          37000,
          310000,
          37000,
          120000,
          15000,
          43000,
          6400,
          43000,
          350000,
          5800,
          33000,
          27000,
          66000,
          19000,
          61000,
          43000,
          15000,
          220000,
          27000,
          26000,
          49000,
          240000,
          46000,
          10000,
          56000,
          7800,
          10000,
          75000,
          15000,
          43000,
          81000,
          140000,
          140000,
          120000,
          150000,
          26000,
          22000,
          17000,
          5500,
          18000,
          99000,
          140000,
          23000,
          55000,
          23000,
          100000,
          220000,
          110000,
          24000,
          19000,
          3000,
          120000,
          120000,
          42000,
          140000,
          830000,
          140000,
          89000,
          740000,
          210000,
          130000,
          60000,
          66000,
          96000,
          140000,
          18000,
          120000,
          110000,
          150000,
          31000,
          690000,
          44000,
          4500,
          8200,
          240000,
          17000,
          67000,
          97000,
          19000,
          16000,
          300000,
          4000,
          8000,
          41000,
          54000,
          54000,
          9000,
          21000,
          37000,
          380000,
          57000,
          140000,
          58000,
          35000,
          40000,
          4000,
          21000,
          130000,
          150000,
          5600,
          17000,
          39000,
          110000,
          7100,
          18000,
          110000,
          83000,
          16000,
          3400,
          46000,
          1500,
          57000,
          12000,
          110000,
          17000,
          37000,
          14000,
          23000,
          200000,
          230000,
          760000,
          130000,
          42000,
          110000,
          2400,
          7900,
          110000,
          86000,
          38000,
          31000,
          20000,
          69000,
          45000,
          23000,
          6400,
          31000,
          130000,
          35000,
          7200,
          1800,
          14000,
          68000,
          83000,
          4100,
          54000,
          31000,
          27000,
          13000,
          11000,
          86000,
          240000,
          39000,
          200000,
          76000,
          39000,
          490000,
          56000,
          54000,
          170000,
          28000,
          180000,
          18000,
          9700,
          13000,
          12000,
          260000,
          69000,
          12000,
          65000,
          10000,
          100000,
          76000,
          470000,
          60000,
          12000,
          6500,
          24000,
          30000,
          310000,
          36000,
          20000,
          400000,
          57000,
          42000,
          4400,
          14000,
          63000,
          62000,
          31000,
          64000,
          27000,
          89000,
          3200,
          26000,
          52000,
          45000,
          89000,
          150000,
          140000,
          170000,
          220000,
          30000,
          39000,
          200000,
          49000,
          86000,
          290000,
          20000,
          18000,
          180000,
          120000,
          110000,
          22000,
          81000,
          25000,
          56000,
          150000,
          110000,
          47000,
          4900,
          9400,
          10000,
          140000,
          100000,
          260000,
          110000,
          14000,
          80000,
          97000,
          19000,
          34000,
          47000,
          14000,
          59000,
          73000,
          59000,
          75000,
          18000,
          22000,
          79000,
          29000,
          10000,
          22000,
          37000,
          3600,
          7600,
          44000,
          3800,
          120000,
          36000,
          93000,
          350000,
          430000,
          10000,
          260000,
          56000,
          210000,
          62000,
          240000,
          43000,
          62000,
          7400,
          39000,
          8100,
          5400,
          1700,
          36000,
          5500,
          46000,
          5500,
          28000,
          170000,
          140000,
          34000,
          98000,
          140000,
          3500,
          220000,
          3300,
          480000,
          35000,
          62000,
          1700,
          23000,
          2200,
          610000,
          270000,
          18000,
          79000,
          51000,
          34000,
          1600,
          12000,
          22000,
          32000,
          10000,
          16000,
          180000,
          40000,
          10000,
          25000,
          72000,
          97000,
          85000,
          12000,
          9700,
          14000,
          8700,
          150000,
          6500,
          22000,
          25000,
          22000,
          36000,
          19000,
          41000,
          26000,
          20000,
          2200,
          35000,
          11000,
          36000,
          38000,
          66000,
          140000,
          100000,
          46000,
          60000,
          44000,
          160000,
          16000,
          27000,
          14000,
          84000,
          53000,
          46000,
          150000,
          2600,
          20000,
          32000,
          130000,
          27000,
          32000,
          30000,
          99000,
          310000,
          390000,
          25000,
          75000,
          110000,
          41000,
          150000,
          34000,
          200000,
          47000,
          79000,
          74000,
          42000,
          220000,
          54000,
          6000,
          82000,
          220000,
          270000,
          87000,
          140000,
          370000,
          11000,
          160000,
          82000,
          270000,
          270000,
          49000,
          39000,
          76000,
          12000,
          69000,
          67000,
          33000,
          150000,
          4100,
          13000,
          72000,
          87000,
          16000,
          76000,
          110000,
          270000,
          4500,
          120000,
          99000,
          14000,
          49000,
          4400,
          380000,
          160000,
          22000,
          37000,
          8000,
          6300,
          17000,
          34000,
          16000,
          220000,
          5900,
          16000,
          43000,
          22000,
          78000,
          52000,
          120000,
          39000,
          160000,
          80000,
          180000,
          120000,
          68000,
          7200,
          10000,
          23000,
          29000,
          14000,
          290000,
          3200000,
          240000,
          29000,
          19000,
          58000,
          15000,
          120000,
          72000,
          78000,
          43000,
          120000,
          11000,
          55000,
          23000,
          71000,
          27000,
          47000,
          22000,
          81000,
          39000,
          49000,
          93000,
          57000,
          58000,
          60000,
          310000,
          280000,
          8400,
          52000,
          48000,
          12000,
          150000,
          140000,
          51000,
          33000,
          4800,
          170000,
          13000,
          260000,
          73000,
          34000,
          230000,
          120000,
          130000,
          36000,
          310000,
          14000,
          21000,
          9100,
          100000,
          40000,
          44000,
          59000,
          42000,
          34000,
          70000,
          21000,
          40000,
          95000,
          22000,
          17000,
          290000,
          630000,
          41000,
          12000,
          5300,
          100000,
          35000,
          250000,
          330000,
          21000,
          33000,
          57000,
          13000,
          76000,
          80000,
          6200,
          92000,
          22000,
          3200,
          9100,
          30000,
          42000,
          8800,
          12000,
          84000,
          79000,
          8900,
          160000,
          83000,
          34000,
          72000,
          180000,
          23000,
          50000,
          40000,
          67000,
          10000,
          39000,
          22000,
          68000,
          47000,
          20000,
          280000,
          79000,
          68000,
          36000,
          39000,
          250000,
          19000,
          1300000,
          18000,
          70000,
          190000,
          440000,
          230000,
          190000,
          52000,
          110000,
          21000,
          420000,
          26000,
          41000,
          170000,
          1500000,
          69000,
          3000,
          480000,
          7700,
          29000,
          35000,
          23000,
          24000,
          5200,
          7200,
          16000,
          15000,
          170000,
          36000,
          17000,
          120000,
          30000,
          3200,
          7000,
          33000,
          370000,
          2600,
          160000,
          5600,
          16000,
          6800,
          12000,
          9100,
          140000,
          47000,
          6400,
          14000,
          300000,
          39000,
          14000,
          110000,
          61000,
          16000,
          18000,
          15000,
          20000,
          22000,
          13000,
          130000,
          78000,
          4200,
          220000,
          42000,
          60000,
          34000,
          60000,
          110000,
          17000,
          68000,
          8800,
          12000,
          71000,
          430000,
          12000,
          16000,
          370000,
          17000,
          16000,
          34000,
          220000,
          28000,
          60000,
          9500,
          100000,
          58000,
          68000,
          9200,
          30000,
          11000,
          220000,
          38000,
          750000,
          11000,
          7900,
          4900,
          66000,
          82000,
          24000,
          29000,
          50000,
          45000,
          9400,
          3900,
          62000,
          48000,
          33000,
          100000,
          62000,
          81000,
          8500,
          53000,
          49000,
          280000,
          170000,
          12000,
          90000,
          130000,
          47000,
          23000,
          73000,
          130000,
          22000,
          84000,
          23000,
          11000,
          120000,
          420000,
          7200,
          84000,
          29000,
          47000,
          130000,
          47000,
          9400,
          180000,
          120000,
          1700,
          50000,
          12000,
          59000,
          13000,
          2500000,
          320000,
          19000,
          100000,
          26000,
          5200,
          28000,
          33000,
          14000,
          200000,
          120000,
          68000,
          45000,
          110000,
          5400,
          12000,
          44000,
          68000,
          25000,
          29000,
          78000,
          89000,
          24000,
          11000,
          49000,
          120000,
          30000,
          130000,
          6100,
          12000,
          9500,
          3900,
          23000,
          43000,
          220000,
          310000,
          19000,
          63000,
          40000,
          150000,
          37000,
          23000,
          190000,
          120000,
          280000,
          34000,
          120000,
          35000,
          6200,
          260000,
          94000,
          32000,
          17000,
          12000,
          270000,
          18000,
          140000,
          17000,
          76000,
          25000,
          190000,
          69000,
          14000,
          68000,
          16000,
          67000,
          77000,
          19000,
          83000,
          41000,
          45000,
          52000,
          21000,
          30000,
          9800,
          38000
         ]
        }
       ],
       "layout": {
        "legend": {
         "tracegroupgap": 0
        },
        "margin": {
         "t": 60
        },
        "template": {
         "data": {
          "bar": [
           {
            "error_x": {
             "color": "#2a3f5f"
            },
            "error_y": {
             "color": "#2a3f5f"
            },
            "marker": {
             "line": {
              "color": "#E5ECF6",
              "width": 0.5
             }
            },
            "type": "bar"
           }
          ],
          "barpolar": [
           {
            "marker": {
             "line": {
              "color": "#E5ECF6",
              "width": 0.5
             }
            },
            "type": "barpolar"
           }
          ],
          "carpet": [
           {
            "aaxis": {
             "endlinecolor": "#2a3f5f",
             "gridcolor": "white",
             "linecolor": "white",
             "minorgridcolor": "white",
             "startlinecolor": "#2a3f5f"
            },
            "baxis": {
             "endlinecolor": "#2a3f5f",
             "gridcolor": "white",
             "linecolor": "white",
             "minorgridcolor": "white",
             "startlinecolor": "#2a3f5f"
            },
            "type": "carpet"
           }
          ],
          "choropleth": [
           {
            "colorbar": {
             "outlinewidth": 0,
             "ticks": ""
            },
            "type": "choropleth"
           }
          ],
          "contour": [
           {
            "colorbar": {
             "outlinewidth": 0,
             "ticks": ""
            },
            "colorscale": [
             [
              0,
              "#0d0887"
             ],
             [
              0.1111111111111111,
              "#46039f"
             ],
             [
              0.2222222222222222,
              "#7201a8"
             ],
             [
              0.3333333333333333,
              "#9c179e"
             ],
             [
              0.4444444444444444,
              "#bd3786"
             ],
             [
              0.5555555555555556,
              "#d8576b"
             ],
             [
              0.6666666666666666,
              "#ed7953"
             ],
             [
              0.7777777777777778,
              "#fb9f3a"
             ],
             [
              0.8888888888888888,
              "#fdca26"
             ],
             [
              1,
              "#f0f921"
             ]
            ],
            "type": "contour"
           }
          ],
          "contourcarpet": [
           {
            "colorbar": {
             "outlinewidth": 0,
             "ticks": ""
            },
            "type": "contourcarpet"
           }
          ],
          "heatmap": [
           {
            "colorbar": {
             "outlinewidth": 0,
             "ticks": ""
            },
            "colorscale": [
             [
              0,
              "#0d0887"
             ],
             [
              0.1111111111111111,
              "#46039f"
             ],
             [
              0.2222222222222222,
              "#7201a8"
             ],
             [
              0.3333333333333333,
              "#9c179e"
             ],
             [
              0.4444444444444444,
              "#bd3786"
             ],
             [
              0.5555555555555556,
              "#d8576b"
             ],
             [
              0.6666666666666666,
              "#ed7953"
             ],
             [
              0.7777777777777778,
              "#fb9f3a"
             ],
             [
              0.8888888888888888,
              "#fdca26"
             ],
             [
              1,
              "#f0f921"
             ]
            ],
            "type": "heatmap"
           }
          ],
          "heatmapgl": [
           {
            "colorbar": {
             "outlinewidth": 0,
             "ticks": ""
            },
            "colorscale": [
             [
              0,
              "#0d0887"
             ],
             [
              0.1111111111111111,
              "#46039f"
             ],
             [
              0.2222222222222222,
              "#7201a8"
             ],
             [
              0.3333333333333333,
              "#9c179e"
             ],
             [
              0.4444444444444444,
              "#bd3786"
             ],
             [
              0.5555555555555556,
              "#d8576b"
             ],
             [
              0.6666666666666666,
              "#ed7953"
             ],
             [
              0.7777777777777778,
              "#fb9f3a"
             ],
             [
              0.8888888888888888,
              "#fdca26"
             ],
             [
              1,
              "#f0f921"
             ]
            ],
            "type": "heatmapgl"
           }
          ],
          "histogram": [
           {
            "marker": {
             "colorbar": {
              "outlinewidth": 0,
              "ticks": ""
             }
            },
            "type": "histogram"
           }
          ],
          "histogram2d": [
           {
            "colorbar": {
             "outlinewidth": 0,
             "ticks": ""
            },
            "colorscale": [
             [
              0,
              "#0d0887"
             ],
             [
              0.1111111111111111,
              "#46039f"
             ],
             [
              0.2222222222222222,
              "#7201a8"
             ],
             [
              0.3333333333333333,
              "#9c179e"
             ],
             [
              0.4444444444444444,
              "#bd3786"
             ],
             [
              0.5555555555555556,
              "#d8576b"
             ],
             [
              0.6666666666666666,
              "#ed7953"
             ],
             [
              0.7777777777777778,
              "#fb9f3a"
             ],
             [
              0.8888888888888888,
              "#fdca26"
             ],
             [
              1,
              "#f0f921"
             ]
            ],
            "type": "histogram2d"
           }
          ],
          "histogram2dcontour": [
           {
            "colorbar": {
             "outlinewidth": 0,
             "ticks": ""
            },
            "colorscale": [
             [
              0,
              "#0d0887"
             ],
             [
              0.1111111111111111,
              "#46039f"
             ],
             [
              0.2222222222222222,
              "#7201a8"
             ],
             [
              0.3333333333333333,
              "#9c179e"
             ],
             [
              0.4444444444444444,
              "#bd3786"
             ],
             [
              0.5555555555555556,
              "#d8576b"
             ],
             [
              0.6666666666666666,
              "#ed7953"
             ],
             [
              0.7777777777777778,
              "#fb9f3a"
             ],
             [
              0.8888888888888888,
              "#fdca26"
             ],
             [
              1,
              "#f0f921"
             ]
            ],
            "type": "histogram2dcontour"
           }
          ],
          "mesh3d": [
           {
            "colorbar": {
             "outlinewidth": 0,
             "ticks": ""
            },
            "type": "mesh3d"
           }
          ],
          "parcoords": [
           {
            "line": {
             "colorbar": {
              "outlinewidth": 0,
              "ticks": ""
             }
            },
            "type": "parcoords"
           }
          ],
          "pie": [
           {
            "automargin": true,
            "type": "pie"
           }
          ],
          "scatter": [
           {
            "marker": {
             "colorbar": {
              "outlinewidth": 0,
              "ticks": ""
             }
            },
            "type": "scatter"
           }
          ],
          "scatter3d": [
           {
            "line": {
             "colorbar": {
              "outlinewidth": 0,
              "ticks": ""
             }
            },
            "marker": {
             "colorbar": {
              "outlinewidth": 0,
              "ticks": ""
             }
            },
            "type": "scatter3d"
           }
          ],
          "scattercarpet": [
           {
            "marker": {
             "colorbar": {
              "outlinewidth": 0,
              "ticks": ""
             }
            },
            "type": "scattercarpet"
           }
          ],
          "scattergeo": [
           {
            "marker": {
             "colorbar": {
              "outlinewidth": 0,
              "ticks": ""
             }
            },
            "type": "scattergeo"
           }
          ],
          "scattergl": [
           {
            "marker": {
             "colorbar": {
              "outlinewidth": 0,
              "ticks": ""
             }
            },
            "type": "scattergl"
           }
          ],
          "scattermapbox": [
           {
            "marker": {
             "colorbar": {
              "outlinewidth": 0,
              "ticks": ""
             }
            },
            "type": "scattermapbox"
           }
          ],
          "scatterpolar": [
           {
            "marker": {
             "colorbar": {
              "outlinewidth": 0,
              "ticks": ""
             }
            },
            "type": "scatterpolar"
           }
          ],
          "scatterpolargl": [
           {
            "marker": {
             "colorbar": {
              "outlinewidth": 0,
              "ticks": ""
             }
            },
            "type": "scatterpolargl"
           }
          ],
          "scatterternary": [
           {
            "marker": {
             "colorbar": {
              "outlinewidth": 0,
              "ticks": ""
             }
            },
            "type": "scatterternary"
           }
          ],
          "surface": [
           {
            "colorbar": {
             "outlinewidth": 0,
             "ticks": ""
            },
            "colorscale": [
             [
              0,
              "#0d0887"
             ],
             [
              0.1111111111111111,
              "#46039f"
             ],
             [
              0.2222222222222222,
              "#7201a8"
             ],
             [
              0.3333333333333333,
              "#9c179e"
             ],
             [
              0.4444444444444444,
              "#bd3786"
             ],
             [
              0.5555555555555556,
              "#d8576b"
             ],
             [
              0.6666666666666666,
              "#ed7953"
             ],
             [
              0.7777777777777778,
              "#fb9f3a"
             ],
             [
              0.8888888888888888,
              "#fdca26"
             ],
             [
              1,
              "#f0f921"
             ]
            ],
            "type": "surface"
           }
          ],
          "table": [
           {
            "cells": {
             "fill": {
              "color": "#EBF0F8"
             },
             "line": {
              "color": "white"
             }
            },
            "header": {
             "fill": {
              "color": "#C8D4E3"
             },
             "line": {
              "color": "white"
             }
            },
            "type": "table"
           }
          ]
         },
         "layout": {
          "annotationdefaults": {
           "arrowcolor": "#2a3f5f",
           "arrowhead": 0,
           "arrowwidth": 1
          },
          "coloraxis": {
           "colorbar": {
            "outlinewidth": 0,
            "ticks": ""
           }
          },
          "colorscale": {
           "diverging": [
            [
             0,
             "#8e0152"
            ],
            [
             0.1,
             "#c51b7d"
            ],
            [
             0.2,
             "#de77ae"
            ],
            [
             0.3,
             "#f1b6da"
            ],
            [
             0.4,
             "#fde0ef"
            ],
            [
             0.5,
             "#f7f7f7"
            ],
            [
             0.6,
             "#e6f5d0"
            ],
            [
             0.7,
             "#b8e186"
            ],
            [
             0.8,
             "#7fbc41"
            ],
            [
             0.9,
             "#4d9221"
            ],
            [
             1,
             "#276419"
            ]
           ],
           "sequential": [
            [
             0,
             "#0d0887"
            ],
            [
             0.1111111111111111,
             "#46039f"
            ],
            [
             0.2222222222222222,
             "#7201a8"
            ],
            [
             0.3333333333333333,
             "#9c179e"
            ],
            [
             0.4444444444444444,
             "#bd3786"
            ],
            [
             0.5555555555555556,
             "#d8576b"
            ],
            [
             0.6666666666666666,
             "#ed7953"
            ],
            [
             0.7777777777777778,
             "#fb9f3a"
            ],
            [
             0.8888888888888888,
             "#fdca26"
            ],
            [
             1,
             "#f0f921"
            ]
           ],
           "sequentialminus": [
            [
             0,
             "#0d0887"
            ],
            [
             0.1111111111111111,
             "#46039f"
            ],
            [
             0.2222222222222222,
             "#7201a8"
            ],
            [
             0.3333333333333333,
             "#9c179e"
            ],
            [
             0.4444444444444444,
             "#bd3786"
            ],
            [
             0.5555555555555556,
             "#d8576b"
            ],
            [
             0.6666666666666666,
             "#ed7953"
            ],
            [
             0.7777777777777778,
             "#fb9f3a"
            ],
            [
             0.8888888888888888,
             "#fdca26"
            ],
            [
             1,
             "#f0f921"
            ]
           ]
          },
          "colorway": [
           "#636efa",
           "#EF553B",
           "#00cc96",
           "#ab63fa",
           "#FFA15A",
           "#19d3f3",
           "#FF6692",
           "#B6E880",
           "#FF97FF",
           "#FECB52"
          ],
          "font": {
           "color": "#2a3f5f"
          },
          "geo": {
           "bgcolor": "white",
           "lakecolor": "white",
           "landcolor": "#E5ECF6",
           "showlakes": true,
           "showland": true,
           "subunitcolor": "white"
          },
          "hoverlabel": {
           "align": "left"
          },
          "hovermode": "closest",
          "mapbox": {
           "style": "light"
          },
          "paper_bgcolor": "white",
          "plot_bgcolor": "#E5ECF6",
          "polar": {
           "angularaxis": {
            "gridcolor": "white",
            "linecolor": "white",
            "ticks": ""
           },
           "bgcolor": "#E5ECF6",
           "radialaxis": {
            "gridcolor": "white",
            "linecolor": "white",
            "ticks": ""
           }
          },
          "scene": {
           "xaxis": {
            "backgroundcolor": "#E5ECF6",
            "gridcolor": "white",
            "gridwidth": 2,
            "linecolor": "white",
            "showbackground": true,
            "ticks": "",
            "zerolinecolor": "white"
           },
           "yaxis": {
            "backgroundcolor": "#E5ECF6",
            "gridcolor": "white",
            "gridwidth": 2,
            "linecolor": "white",
            "showbackground": true,
            "ticks": "",
            "zerolinecolor": "white"
           },
           "zaxis": {
            "backgroundcolor": "#E5ECF6",
            "gridcolor": "white",
            "gridwidth": 2,
            "linecolor": "white",
            "showbackground": true,
            "ticks": "",
            "zerolinecolor": "white"
           }
          },
          "shapedefaults": {
           "line": {
            "color": "#2a3f5f"
           }
          },
          "ternary": {
           "aaxis": {
            "gridcolor": "white",
            "linecolor": "white",
            "ticks": ""
           },
           "baxis": {
            "gridcolor": "white",
            "linecolor": "white",
            "ticks": ""
           },
           "bgcolor": "#E5ECF6",
           "caxis": {
            "gridcolor": "white",
            "linecolor": "white",
            "ticks": ""
           }
          },
          "title": {
           "x": 0.05
          },
          "xaxis": {
           "automargin": true,
           "gridcolor": "white",
           "linecolor": "white",
           "ticks": "",
           "title": {
            "standoff": 15
           },
           "zerolinecolor": "white",
           "zerolinewidth": 2
          },
          "yaxis": {
           "automargin": true,
           "gridcolor": "white",
           "linecolor": "white",
           "ticks": "",
           "title": {
            "standoff": 15
           },
           "zerolinecolor": "white",
           "zerolinewidth": 2
          }
         }
        }
       }
      },
      "text/html": [
       "<div>\n",
       "        \n",
       "        \n",
       "            <div id=\"d1d5fbd7-bbfe-46ff-9f44-c0baf7d8a9d6\" class=\"plotly-graph-div\" style=\"height:525px; width:100%;\"></div>\n",
       "            <script type=\"text/javascript\">\n",
       "                require([\"plotly\"], function(Plotly) {\n",
       "                    window.PLOTLYENV=window.PLOTLYENV || {};\n",
       "                    \n",
       "                if (document.getElementById(\"d1d5fbd7-bbfe-46ff-9f44-c0baf7d8a9d6\")) {\n",
       "                    Plotly.newPlot(\n",
       "                        'd1d5fbd7-bbfe-46ff-9f44-c0baf7d8a9d6',\n",
       "                        [{\"domain\": {\"x\": [0.0, 1.0], \"y\": [0.0, 1.0]}, \"hovertemplate\": \"Difficulty_Level=%{label}<br>Students=%{value}<extra></extra>\", \"labels\": [\"Beginner\", \"Intermediate\", \"Mixed\", \"Mixed\", \"Mixed\", \"Beginner\", \"Beginner\", \"Intermediate\", \"Beginner\", \"Intermediate\", \"Intermediate\", \"Intermediate\", \"Beginner\", \"Beginner\", \"Beginner\", \"Beginner\", \"Intermediate\", \"Mixed\", \"Beginner\", \"Intermediate\", \"Beginner\", \"Mixed\", \"Intermediate\", \"Beginner\", \"Mixed\", \"Beginner\", \"Intermediate\", \"Advanced\", \"Advanced\", \"Advanced\", \"Advanced\", \"Mixed\", \"Beginner\", \"Beginner\", \"Beginner\", \"Beginner\", \"Beginner\", \"Intermediate\", \"Intermediate\", \"Intermediate\", \"Beginner\", \"Beginner\", \"Beginner\", \"Beginner\", \"Beginner\", \"Beginner\", \"Intermediate\", \"Beginner\", \"Mixed\", \"Beginner\", \"Mixed\", \"Advanced\", \"Beginner\", \"Intermediate\", \"Beginner\", \"Intermediate\", \"Intermediate\", \"Intermediate\", \"Intermediate\", \"Beginner\", \"Mixed\", \"Beginner\", \"Intermediate\", \"Intermediate\", \"Beginner\", \"Beginner\", \"Mixed\", \"Mixed\", \"Mixed\", \"Mixed\", \"Beginner\", \"Mixed\", \"Intermediate\", \"Mixed\", \"Intermediate\", \"Intermediate\", \"Advanced\", \"Advanced\", \"Beginner\", \"Beginner\", \"Intermediate\", \"Intermediate\", \"Mixed\", \"Beginner\", \"Intermediate\", \"Beginner\", \"Beginner\", \"Mixed\", \"Mixed\", \"Beginner\", \"Beginner\", \"Beginner\", \"Beginner\", \"Intermediate\", \"Intermediate\", \"Beginner\", \"Beginner\", \"Beginner\", \"Beginner\", \"Beginner\", \"Beginner\", \"Mixed\", \"Beginner\", \"Mixed\", \"Intermediate\", \"Beginner\", \"Intermediate\", \"Intermediate\", \"Mixed\", \"Beginner\", \"Intermediate\", \"Intermediate\", \"Intermediate\", \"Beginner\", \"Mixed\", \"Beginner\", \"Beginner\", \"Beginner\", \"Beginner\", \"Beginner\", \"Beginner\", \"Beginner\", \"Beginner\", \"Beginner\", \"Beginner\", \"Beginner\", \"Mixed\", \"Beginner\", \"Mixed\", \"Beginner\", \"Beginner\", \"Beginner\", \"Mixed\", \"Beginner\", \"Beginner\", \"Beginner\", \"Mixed\", \"Beginner\", \"Beginner\", \"Beginner\", \"Intermediate\", \"Beginner\", \"Intermediate\", \"Intermediate\", \"Beginner\", \"Beginner\", \"Beginner\", \"Beginner\", \"Beginner\", \"Intermediate\", \"Beginner\", \"Beginner\", \"Beginner\", \"Beginner\", \"Beginner\", \"Beginner\", \"Beginner\", \"Beginner\", \"Beginner\", \"Beginner\", \"Beginner\", \"Mixed\", \"Intermediate\", \"Intermediate\", \"Intermediate\", \"Mixed\", \"Beginner\", \"Mixed\", \"Beginner\", \"Beginner\", \"Intermediate\", \"Beginner\", \"Mixed\", \"Beginner\", \"Mixed\", \"Beginner\", \"Intermediate\", \"Intermediate\", \"Beginner\", \"Beginner\", \"Beginner\", \"Intermediate\", \"Beginner\", \"Beginner\", \"Beginner\", \"Mixed\", \"Beginner\", \"Beginner\", \"Beginner\", \"Beginner\", \"Intermediate\", \"Intermediate\", \"Intermediate\", \"Intermediate\", \"Beginner\", \"Intermediate\", \"Beginner\", \"Beginner\", \"Beginner\", \"Beginner\", \"Intermediate\", \"Mixed\", \"Beginner\", \"Intermediate\", \"Beginner\", \"Advanced\", \"Beginner\", \"Beginner\", \"Beginner\", \"Beginner\", \"Mixed\", \"Intermediate\", \"Beginner\", \"Beginner\", \"Beginner\", \"Beginner\", \"Beginner\", \"Mixed\", \"Mixed\", \"Intermediate\", \"Intermediate\", \"Intermediate\", \"Intermediate\", \"Intermediate\", \"Mixed\", \"Beginner\", \"Mixed\", \"Beginner\", \"Beginner\", \"Beginner\", \"Beginner\", \"Mixed\", \"Beginner\", \"Beginner\", \"Beginner\", \"Intermediate\", \"Beginner\", \"Beginner\", \"Intermediate\", \"Mixed\", \"Beginner\", \"Beginner\", \"Beginner\", \"Beginner\", \"Beginner\", \"Intermediate\", \"Mixed\", \"Mixed\", \"Intermediate\", \"Mixed\", \"Beginner\", \"Beginner\", \"Intermediate\", \"Beginner\", \"Intermediate\", \"Beginner\", \"Beginner\", \"Beginner\", \"Beginner\", \"Beginner\", \"Beginner\", \"Mixed\", \"Mixed\", \"Intermediate\", \"Beginner\", \"Beginner\", \"Intermediate\", \"Beginner\", \"Mixed\", \"Mixed\", \"Beginner\", \"Beginner\", \"Beginner\", \"Mixed\", \"Mixed\", \"Beginner\", \"Beginner\", \"Mixed\", \"Mixed\", \"Beginner\", \"Beginner\", \"Beginner\", \"Intermediate\", \"Intermediate\", \"Intermediate\", \"Intermediate\", \"Mixed\", \"Beginner\", \"Beginner\", \"Beginner\", \"Beginner\", \"Beginner\", \"Intermediate\", \"Beginner\", \"Intermediate\", \"Intermediate\", \"Beginner\", \"Beginner\", \"Beginner\", \"Beginner\", \"Beginner\", \"Beginner\", \"Beginner\", \"Beginner\", \"Beginner\", \"Beginner\", \"Beginner\", \"Beginner\", \"Intermediate\", \"Beginner\", \"Beginner\", \"Mixed\", \"Intermediate\", \"Beginner\", \"Beginner\", \"Intermediate\", \"Beginner\", \"Mixed\", \"Intermediate\", \"Mixed\", \"Beginner\", \"Beginner\", \"Beginner\", \"Mixed\", \"Mixed\", \"Intermediate\", \"Beginner\", \"Beginner\", \"Mixed\", \"Beginner\", \"Beginner\", \"Intermediate\", \"Beginner\", \"Beginner\", \"Beginner\", \"Beginner\", \"Intermediate\", \"Intermediate\", \"Intermediate\", \"Intermediate\", \"Intermediate\", \"Intermediate\", \"Beginner\", \"Beginner\", \"Beginner\", \"Mixed\", \"Beginner\", \"Beginner\", \"Intermediate\", \"Intermediate\", \"Beginner\", \"Beginner\", \"Mixed\", \"Intermediate\", \"Beginner\", \"Beginner\", \"Beginner\", \"Beginner\", \"Beginner\", \"Beginner\", \"Beginner\", \"Beginner\", \"Beginner\", \"Beginner\", \"Intermediate\", \"Beginner\", \"Mixed\", \"Beginner\", \"Intermediate\", \"Beginner\", \"Mixed\", \"Mixed\", \"Mixed\", \"Beginner\", \"Beginner\", \"Intermediate\", \"Intermediate\", \"Intermediate\", \"Beginner\", \"Beginner\", \"Mixed\", \"Beginner\", \"Beginner\", \"Intermediate\", \"Mixed\", \"Intermediate\", \"Mixed\", \"Intermediate\", \"Beginner\", \"Intermediate\", \"Intermediate\", \"Beginner\", \"Beginner\", \"Mixed\", \"Beginner\", \"Mixed\", \"Beginner\", \"Mixed\", \"Mixed\", \"Mixed\", \"Beginner\", \"Mixed\", \"Intermediate\", \"Mixed\", \"Beginner\", \"Intermediate\", \"Intermediate\", \"Beginner\", \"Beginner\", \"Mixed\", \"Beginner\", \"Beginner\", \"Intermediate\", \"Mixed\", \"Beginner\", \"Beginner\", \"Intermediate\", \"Advanced\", \"Beginner\", \"Beginner\", \"Beginner\", \"Beginner\", \"Beginner\", \"Beginner\", \"Beginner\", \"Beginner\", \"Beginner\", \"Beginner\", \"Beginner\", \"Beginner\", \"Mixed\", \"Beginner\", \"Intermediate\", \"Intermediate\", \"Beginner\", \"Beginner\", \"Beginner\", \"Beginner\", \"Mixed\", \"Beginner\", \"Beginner\", \"Beginner\", \"Beginner\", \"Intermediate\", \"Mixed\", \"Mixed\", \"Intermediate\", \"Beginner\", \"Intermediate\", \"Intermediate\", \"Beginner\", \"Intermediate\", \"Mixed\", \"Beginner\", \"Mixed\", \"Mixed\", \"Mixed\", \"Beginner\", \"Beginner\", \"Beginner\", \"Beginner\", \"Beginner\", \"Beginner\", \"Mixed\", \"Intermediate\", \"Beginner\", \"Beginner\", \"Mixed\", \"Mixed\", \"Beginner\", \"Mixed\", \"Beginner\", \"Mixed\", \"Intermediate\", \"Mixed\", \"Intermediate\", \"Beginner\", \"Mixed\", \"Beginner\", \"Beginner\", \"Beginner\", \"Mixed\", \"Beginner\", \"Beginner\", \"Beginner\", \"Mixed\", \"Beginner\", \"Intermediate\", \"Beginner\", \"Beginner\", \"Mixed\", \"Intermediate\", \"Mixed\", \"Mixed\", \"Mixed\", \"Mixed\", \"Mixed\", \"Mixed\", \"Mixed\", \"Mixed\", \"Beginner\", \"Beginner\", \"Mixed\", \"Mixed\", \"Intermediate\", \"Mixed\", \"Beginner\", \"Mixed\", \"Mixed\", \"Beginner\", \"Beginner\", \"Beginner\", \"Beginner\", \"Beginner\", \"Advanced\", \"Mixed\", \"Beginner\", \"Mixed\", \"Mixed\", \"Mixed\", \"Intermediate\", \"Beginner\", \"Intermediate\", \"Beginner\", \"Beginner\", \"Beginner\", \"Beginner\", \"Beginner\", \"Mixed\", \"Beginner\", \"Beginner\", \"Beginner\", \"Beginner\", \"Beginner\", \"Beginner\", \"Beginner\", \"Beginner\", \"Beginner\", \"Intermediate\", \"Beginner\", \"Beginner\", \"Beginner\", \"Mixed\", \"Beginner\", \"Beginner\", \"Intermediate\", \"Intermediate\", \"Beginner\", \"Beginner\", \"Intermediate\", \"Advanced\", \"Intermediate\", \"Beginner\", \"Beginner\", \"Beginner\", \"Beginner\", \"Beginner\", \"Beginner\", \"Intermediate\", \"Beginner\", \"Intermediate\", \"Mixed\", \"Beginner\", \"Intermediate\", \"Mixed\", \"Mixed\", \"Intermediate\", \"Beginner\", \"Intermediate\", \"Intermediate\", \"Intermediate\", \"Intermediate\", \"Beginner\", \"Beginner\", \"Mixed\", \"Beginner\", \"Beginner\", \"Beginner\", \"Mixed\", \"Beginner\", \"Beginner\", \"Beginner\", \"Beginner\", \"Beginner\", \"Intermediate\", \"Beginner\", \"Beginner\", \"Mixed\", \"Intermediate\", \"Beginner\", \"Mixed\", \"Beginner\", \"Beginner\", \"Mixed\", \"Beginner\", \"Beginner\", \"Beginner\", \"Beginner\", \"Intermediate\", \"Beginner\", \"Advanced\", \"Beginner\", \"Beginner\", \"Beginner\", \"Mixed\", \"Beginner\", \"Beginner\", \"Mixed\", \"Mixed\", \"Beginner\", \"Beginner\", \"Intermediate\", \"Intermediate\", \"Mixed\", \"Mixed\", \"Mixed\", \"Intermediate\", \"Beginner\", \"Mixed\", \"Beginner\", \"Mixed\", \"Intermediate\", \"Mixed\", \"Beginner\", \"Intermediate\", \"Intermediate\", \"Intermediate\", \"Mixed\", \"Beginner\", \"Beginner\", \"Beginner\", \"Intermediate\", \"Intermediate\", \"Beginner\", \"Intermediate\", \"Intermediate\", \"Mixed\", \"Beginner\", \"Beginner\", \"Mixed\", \"Advanced\", \"Intermediate\", \"Beginner\", \"Beginner\", \"Beginner\", \"Intermediate\", \"Mixed\", \"Beginner\", \"Beginner\", \"Mixed\", \"Intermediate\", \"Beginner\", \"Beginner\", \"Beginner\", \"Beginner\", \"Mixed\", \"Mixed\", \"Beginner\", \"Beginner\", \"Beginner\", \"Intermediate\", \"Beginner\", \"Intermediate\", \"Beginner\", \"Mixed\", \"Beginner\", \"Beginner\", \"Mixed\", \"Mixed\", \"Advanced\", \"Beginner\", \"Intermediate\", \"Beginner\", \"Beginner\", \"Mixed\", \"Intermediate\", \"Beginner\", \"Beginner\", \"Beginner\", \"Beginner\", \"Mixed\", \"Beginner\", \"Beginner\", \"Intermediate\", \"Mixed\", \"Beginner\", \"Intermediate\", \"Beginner\", \"Beginner\", \"Mixed\", \"Beginner\", \"Intermediate\", \"Beginner\", \"Intermediate\", \"Mixed\", \"Intermediate\", \"Beginner\", \"Beginner\", \"Beginner\", \"Mixed\", \"Mixed\", \"Beginner\", \"Mixed\", \"Intermediate\", \"Beginner\", \"Beginner\", \"Beginner\", \"Beginner\", \"Mixed\", \"Beginner\", \"Beginner\", \"Beginner\", \"Beginner\", \"Beginner\", \"Intermediate\", \"Mixed\", \"Beginner\", \"Beginner\", \"Mixed\", \"Intermediate\", \"Beginner\", \"Intermediate\", \"Advanced\", \"Intermediate\", \"Beginner\", \"Beginner\", \"Advanced\", \"Intermediate\", \"Intermediate\", \"Beginner\", \"Beginner\", \"Beginner\", \"Beginner\", \"Beginner\", \"Beginner\", \"Beginner\", \"Advanced\", \"Beginner\", \"Intermediate\", \"Mixed\", \"Beginner\", \"Beginner\", \"Beginner\", \"Beginner\", \"Advanced\", \"Beginner\", \"Mixed\", \"Intermediate\", \"Mixed\", \"Beginner\", \"Beginner\", \"Beginner\", \"Beginner\", \"Beginner\", \"Intermediate\", \"Advanced\", \"Beginner\", \"Beginner\", \"Mixed\", \"Beginner\", \"Intermediate\", \"Intermediate\", \"Beginner\", \"Beginner\", \"Beginner\", \"Mixed\", \"Beginner\", \"Beginner\", \"Intermediate\", \"Beginner\", \"Beginner\", \"Beginner\", \"Mixed\", \"Mixed\", \"Beginner\", \"Beginner\", \"Beginner\", \"Beginner\", \"Intermediate\", \"Mixed\", \"Beginner\", \"Beginner\", \"Mixed\", \"Intermediate\", \"Mixed\", \"Beginner\", \"Beginner\", \"Intermediate\", \"Intermediate\", \"Beginner\", \"Beginner\", \"Intermediate\", \"Beginner\", \"Beginner\", \"Beginner\", \"Beginner\", \"Beginner\", \"Intermediate\", \"Beginner\", \"Beginner\", \"Mixed\", \"Mixed\", \"Mixed\", \"Mixed\", \"Mixed\", \"Beginner\", \"Beginner\", \"Intermediate\", \"Mixed\", \"Mixed\", \"Beginner\", \"Mixed\", \"Intermediate\", \"Beginner\", \"Beginner\", \"Mixed\", \"Beginner\", \"Mixed\", \"Intermediate\", \"Beginner\", \"Beginner\", \"Beginner\", \"Mixed\", \"Beginner\", \"Beginner\", \"Beginner\", \"Beginner\", \"Mixed\", \"Beginner\", \"Intermediate\", \"Intermediate\", \"Beginner\", \"Beginner\", \"Beginner\", \"Beginner\", \"Mixed\", \"Beginner\", \"Beginner\", \"Intermediate\", \"Beginner\", \"Mixed\", \"Beginner\", \"Beginner\", \"Intermediate\", \"Beginner\", \"Beginner\", \"Intermediate\", \"Beginner\", \"Intermediate\", \"Mixed\", \"Mixed\", \"Beginner\", \"Intermediate\", \"Mixed\", \"Mixed\", \"Beginner\", \"Beginner\", \"Mixed\", \"Intermediate\", \"Beginner\", \"Beginner\", \"Beginner\", \"Mixed\", \"Mixed\", \"Beginner\", \"Mixed\", \"Beginner\", \"Intermediate\", \"Beginner\", \"Mixed\", \"Beginner\", \"Beginner\", \"Mixed\", \"Intermediate\", \"Beginner\", \"Intermediate\", \"Beginner\", \"Beginner\", \"Intermediate\", \"Beginner\", \"Beginner\", \"Intermediate\", \"Intermediate\", \"Beginner\", \"Intermediate\", \"Intermediate\", \"Intermediate\", \"Mixed\", \"Intermediate\", \"Intermediate\", \"Beginner\"], \"legendgroup\": \"\", \"name\": \"\", \"showlegend\": true, \"type\": \"pie\", \"values\": [5300.0, 17000.0, 130000.0, 91000.0, 320000.0, 39000.0, 350000.0, 2400.0, 61000.0, 12000.0, 4000.0, 13000.0, 130000.0, 11000.0, 27000.0, 110000.0, 13000.0, 6600.0, 540000.0, 22000.0, 2900.0, 80000.0, 9900.0, 110000.0, 23000.0, 9200.0, 78000.0, 320000.0, 190000.0, 35000.0, 29000.0, 14000.0, 21000.0, 94000.0, 69000.0, 40000.0, 12000.0, 220000.0, 150000.0, 14000.0, 18000.0, 23000.0, 69000.0, 270000.0, 7900.0, 30000.0, 36000.0, 20000.0, 8100.0, 120000.0, 71000.0, 11000.0, 11000.0, 63000.0, 220000.0, 42000.0, 480000.0, 150000.0, 97000.0, 6600.0, 200000.0, 180000.0, 4200.0, 310000.0, 3900.0, 150000.0, 79000.0, 31000.0, 15000.0, 15000.0, 10000.0, 66000.0, 33000.0, 56000.0, 7300.0, 9200.0, 22000.0, 9700.0, 13000.0, 180000.0, 91000.0, 29000.0, 210000.0, 28000.0, 4200.0, 6500.0, 61000.0, 55000.0, 2300.0, 8800.0, 35000.0, 88000.0, 14000.0, 1900.0, 68000.0, 21000.0, 1600.0, 31000.0, 9500.0, 57000.0, 26000.0, 84000.0, 15000.0, 95000.0, 7300.0, 22000.0, 5800.0, 24000.0, 67000.0, 280000.0, 38000.0, 120000.0, 77000.0, 510000.0, 13000.0, 110000.0, 24000.0, 89000.0, 67000.0, 10000.0, 48000.0, 160000.0, 31000.0, 36000.0, 220000.0, 32000.0, 130000.0, 340000.0, 82000.0, 790000.0, 31000.0, 23000.0, 19000.0, 30000.0, 22000.0, 57000.0, 51000.0, 51000.0, 4800.0, 32000.0, 110000.0, 37000.0, 310000.0, 37000.0, 120000.0, 15000.0, 43000.0, 6400.0, 43000.0, 350000.0, 5800.0, 33000.0, 27000.0, 66000.0, 19000.0, 61000.0, 43000.0, 15000.0, 220000.0, 27000.0, 26000.0, 49000.0, 240000.0, 46000.0, 10000.0, 56000.0, 7800.0, 10000.0, 75000.0, 15000.0, 43000.0, 81000.0, 140000.0, 140000.0, 120000.0, 150000.0, 26000.0, 22000.0, 17000.0, 5500.0, 18000.0, 99000.0, 140000.0, 23000.0, 55000.0, 23000.0, 100000.0, 220000.0, 110000.0, 24000.0, 19000.0, 3000.0, 120000.0, 120000.0, 42000.0, 140000.0, 830000.0, 140000.0, 89000.0, 740000.0, 210000.0, 130000.0, 60000.0, 66000.0, 96000.0, 140000.0, 18000.0, 120000.0, 110000.0, 150000.0, 31000.0, 690000.0, 44000.0, 4500.0, 8200.0, 240000.0, 17000.0, 67000.0, 97000.0, 19000.0, 16000.0, 300000.0, 4000.0, 8000.0, 41000.0, 54000.0, 54000.0, 9000.0, 21000.0, 37000.0, 380000.0, 57000.0, 140000.0, 58000.0, 35000.0, 40000.0, 4000.0, 21000.0, 130000.0, 150000.0, 5600.0, 17000.0, 39000.0, 110000.0, 7100.0, 18000.0, 110000.0, 83000.0, 16000.0, 3400.0, 46000.0, 1500.0, 57000.0, 12000.0, 110000.0, 17000.0, 37000.0, 14000.0, 23000.0, 200000.0, 230000.0, 760000.0, 130000.0, 42000.0, 110000.0, 2400.0, 7900.0, 110000.0, 86000.0, 38000.0, 31000.0, 20000.0, 69000.0, 45000.0, 23000.0, 6400.0, 31000.0, 130000.0, 35000.0, 7200.0, 1800.0, 14000.0, 68000.0, 83000.0, 4100.0, 54000.0, 31000.0, 27000.0, 13000.0, 11000.0, 86000.0, 240000.0, 39000.0, 200000.0, 76000.0, 39000.0, 490000.0, 56000.0, 54000.0, 170000.0, 28000.0, 180000.0, 18000.0, 9700.0, 13000.0, 12000.0, 260000.0, 69000.0, 12000.0, 65000.0, 10000.0, 100000.0, 76000.0, 470000.0, 60000.0, 12000.0, 6500.0, 24000.0, 30000.0, 310000.0, 36000.0, 20000.0, 400000.0, 57000.0, 42000.0, 4400.0, 14000.0, 63000.0, 62000.0, 31000.0, 64000.0, 27000.0, 89000.0, 3200.0, 26000.0, 52000.0, 45000.0, 89000.0, 150000.0, 140000.0, 170000.0, 220000.0, 30000.0, 39000.0, 200000.0, 49000.0, 86000.0, 290000.0, 20000.0, 18000.0, 180000.0, 120000.0, 110000.0, 22000.0, 81000.0, 25000.0, 56000.0, 150000.0, 110000.0, 47000.0, 4900.0, 9400.0, 10000.0, 140000.0, 100000.0, 260000.0, 110000.0, 14000.0, 80000.0, 97000.0, 19000.0, 34000.0, 47000.0, 14000.0, 59000.0, 73000.0, 59000.0, 75000.0, 18000.0, 22000.0, 79000.0, 29000.0, 10000.0, 22000.0, 37000.0, 3600.0, 7600.0, 44000.0, 3800.0, 120000.0, 36000.0, 93000.0, 350000.0, 430000.0, 10000.0, 260000.0, 56000.0, 210000.0, 62000.0, 240000.0, 43000.0, 62000.0, 7400.0, 39000.0, 8100.0, 5400.0, 1700.0, 36000.0, 5500.0, 46000.0, 5500.0, 28000.0, 170000.0, 140000.0, 34000.0, 98000.0, 140000.0, 3500.0, 220000.0, 3300.0, 480000.0, 35000.0, 62000.0, 1700.0, 23000.0, 2200.0, 610000.0, 270000.0, 18000.0, 79000.0, 51000.0, 34000.0, 1600.0, 12000.0, 22000.0, 32000.0, 10000.0, 16000.0, 180000.0, 40000.0, 10000.0, 25000.0, 72000.0, 97000.0, 85000.0, 12000.0, 9700.0, 14000.0, 8700.0, 150000.0, 6500.0, 22000.0, 25000.0, 22000.0, 36000.0, 19000.0, 41000.0, 26000.0, 20000.0, 2200.0, 35000.0, 11000.0, 36000.0, 38000.0, 66000.0, 140000.0, 100000.0, 46000.0, 60000.0, 44000.0, 160000.0, 16000.0, 27000.0, 14000.0, 84000.0, 53000.0, 46000.0, 150000.0, 2600.0, 20000.0, 32000.0, 130000.0, 27000.0, 32000.0, 30000.0, 99000.0, 310000.0, 390000.0, 25000.0, 75000.0, 110000.0, 41000.0, 150000.0, 34000.0, 200000.0, 47000.0, 79000.0, 74000.0, 42000.0, 220000.0, 54000.0, 6000.0, 82000.0, 220000.0, 270000.0, 87000.0, 140000.0, 370000.0, 11000.0, 160000.0, 82000.0, 270000.0, 270000.0, 49000.0, 39000.0, 76000.0, 12000.0, 69000.0, 67000.0, 33000.0, 150000.0, 4100.0, 13000.0, 72000.0, 87000.0, 16000.0, 76000.0, 110000.0, 270000.0, 4500.0, 120000.0, 99000.0, 14000.0, 49000.0, 4400.0, 380000.0, 160000.0, 22000.0, 37000.0, 8000.0, 6300.0, 17000.0, 34000.0, 16000.0, 220000.0, 5900.0, 16000.0, 43000.0, 22000.0, 78000.0, 52000.0, 120000.0, 39000.0, 160000.0, 80000.0, 180000.0, 120000.0, 68000.0, 7200.0, 10000.0, 23000.0, 29000.0, 14000.0, 290000.0, 3200000.0, 240000.0, 29000.0, 19000.0, 58000.0, 15000.0, 120000.0, 72000.0, 78000.0, 43000.0, 120000.0, 11000.0, 55000.0, 23000.0, 71000.0, 27000.0, 47000.0, 22000.0, 81000.0, 39000.0, 49000.0, 93000.0, 57000.0, 58000.0, 60000.0, 310000.0, 280000.0, 8400.0, 52000.0, 48000.0, 12000.0, 150000.0, 140000.0, 51000.0, 33000.0, 4800.0, 170000.0, 13000.0, 260000.0, 73000.0, 34000.0, 230000.0, 120000.0, 130000.0, 36000.0, 310000.0, 14000.0, 21000.0, 9100.0, 100000.0, 40000.0, 44000.0, 59000.0, 42000.0, 34000.0, 70000.0, 21000.0, 40000.0, 95000.0, 22000.0, 17000.0, 290000.0, 630000.0, 41000.0, 12000.0, 5300.0, 100000.0, 35000.0, 250000.0, 330000.0, 21000.0, 33000.0, 57000.0, 13000.0, 76000.0, 80000.0, 6200.0, 92000.0, 22000.0, 3200.0, 9100.0, 30000.0, 42000.0, 8800.0, 12000.0, 84000.0, 79000.0, 8900.0, 160000.0, 83000.0, 34000.0, 72000.0, 180000.0, 23000.0, 50000.0, 40000.0, 67000.0, 10000.0, 39000.0, 22000.0, 68000.0, 47000.0, 20000.0, 280000.0, 79000.0, 68000.0, 36000.0, 39000.0, 250000.0, 19000.0, 1300000.0, 18000.0, 70000.0, 190000.0, 440000.0, 230000.0, 190000.0, 52000.0, 110000.0, 21000.0, 420000.0, 26000.0, 41000.0, 170000.0, 1500000.0, 69000.0, 3000.0, 480000.0, 7700.0, 29000.0, 35000.0, 23000.0, 24000.0, 5200.0, 7200.0, 16000.0, 15000.0, 170000.0, 36000.0, 17000.0, 120000.0, 30000.0, 3200.0, 7000.0, 33000.0, 370000.0, 2600.0, 160000.0, 5600.0, 16000.0, 6800.0, 12000.0, 9100.0, 140000.0, 47000.0, 6400.0, 14000.0, 300000.0, 39000.0, 14000.0, 110000.0, 61000.0, 16000.0, 18000.0, 15000.0, 20000.0, 22000.0, 13000.0, 130000.0, 78000.0, 4200.0, 220000.0, 42000.0, 60000.0, 34000.0, 60000.0, 110000.0, 17000.0, 68000.0, 8800.0, 12000.0, 71000.0, 430000.0, 12000.0, 16000.0, 370000.0, 17000.0, 16000.0, 34000.0, 220000.0, 28000.0, 60000.0, 9500.0, 100000.0, 58000.0, 68000.0, 9200.0, 30000.0, 11000.0, 220000.0, 38000.0, 750000.0, 11000.0, 7900.0, 4900.0, 66000.0, 82000.0, 24000.0, 29000.0, 50000.0, 45000.0, 9400.0, 3900.0, 62000.0, 48000.0, 33000.0, 100000.0, 62000.0, 81000.0, 8500.0, 53000.0, 49000.0, 280000.0, 170000.0, 12000.0, 90000.0, 130000.0, 47000.0, 23000.0, 73000.0, 130000.0, 22000.0, 84000.0, 23000.0, 11000.0, 120000.0, 420000.0, 7200.0, 84000.0, 29000.0, 47000.0, 130000.0, 47000.0, 9400.0, 180000.0, 120000.0, 1700.0, 50000.0, 12000.0, 59000.0, 13000.0, 2500000.0, 320000.0, 19000.0, 100000.0, 26000.0, 5200.0, 28000.0, 33000.0, 14000.0, 200000.0, 120000.0, 68000.0, 45000.0, 110000.0, 5400.0, 12000.0, 44000.0, 68000.0, 25000.0, 29000.0, 78000.0, 89000.0, 24000.0, 11000.0, 49000.0, 120000.0, 30000.0, 130000.0, 6100.0, 12000.0, 9500.0, 3900.0, 23000.0, 43000.0, 220000.0, 310000.0, 19000.0, 63000.0, 40000.0, 150000.0, 37000.0, 23000.0, 190000.0, 120000.0, 280000.0, 34000.0, 120000.0, 35000.0, 6200.0, 260000.0, 94000.0, 32000.0, 17000.0, 12000.0, 270000.0, 18000.0, 140000.0, 17000.0, 76000.0, 25000.0, 190000.0, 69000.0, 14000.0, 68000.0, 16000.0, 67000.0, 77000.0, 19000.0, 83000.0, 41000.0, 45000.0, 52000.0, 21000.0, 30000.0, 9800.0, 38000.0]}],\n",
       "                        {\"legend\": {\"tracegroupgap\": 0}, \"margin\": {\"t\": 60}, \"template\": {\"data\": {\"bar\": [{\"error_x\": {\"color\": \"#2a3f5f\"}, \"error_y\": {\"color\": \"#2a3f5f\"}, \"marker\": {\"line\": {\"color\": \"#E5ECF6\", \"width\": 0.5}}, \"type\": \"bar\"}], \"barpolar\": [{\"marker\": {\"line\": {\"color\": \"#E5ECF6\", \"width\": 0.5}}, \"type\": \"barpolar\"}], \"carpet\": [{\"aaxis\": {\"endlinecolor\": \"#2a3f5f\", \"gridcolor\": \"white\", \"linecolor\": \"white\", \"minorgridcolor\": \"white\", \"startlinecolor\": \"#2a3f5f\"}, \"baxis\": {\"endlinecolor\": \"#2a3f5f\", \"gridcolor\": \"white\", \"linecolor\": \"white\", \"minorgridcolor\": \"white\", \"startlinecolor\": \"#2a3f5f\"}, \"type\": \"carpet\"}], \"choropleth\": [{\"colorbar\": {\"outlinewidth\": 0, \"ticks\": \"\"}, \"type\": \"choropleth\"}], \"contour\": [{\"colorbar\": {\"outlinewidth\": 0, \"ticks\": \"\"}, \"colorscale\": [[0.0, \"#0d0887\"], [0.1111111111111111, \"#46039f\"], [0.2222222222222222, \"#7201a8\"], [0.3333333333333333, \"#9c179e\"], [0.4444444444444444, \"#bd3786\"], [0.5555555555555556, \"#d8576b\"], [0.6666666666666666, \"#ed7953\"], [0.7777777777777778, \"#fb9f3a\"], [0.8888888888888888, \"#fdca26\"], [1.0, \"#f0f921\"]], \"type\": \"contour\"}], \"contourcarpet\": [{\"colorbar\": {\"outlinewidth\": 0, \"ticks\": \"\"}, \"type\": \"contourcarpet\"}], \"heatmap\": [{\"colorbar\": {\"outlinewidth\": 0, \"ticks\": \"\"}, \"colorscale\": [[0.0, \"#0d0887\"], [0.1111111111111111, \"#46039f\"], [0.2222222222222222, \"#7201a8\"], [0.3333333333333333, \"#9c179e\"], [0.4444444444444444, \"#bd3786\"], [0.5555555555555556, \"#d8576b\"], [0.6666666666666666, \"#ed7953\"], [0.7777777777777778, \"#fb9f3a\"], [0.8888888888888888, \"#fdca26\"], [1.0, \"#f0f921\"]], \"type\": \"heatmap\"}], \"heatmapgl\": [{\"colorbar\": {\"outlinewidth\": 0, \"ticks\": \"\"}, \"colorscale\": [[0.0, \"#0d0887\"], [0.1111111111111111, \"#46039f\"], [0.2222222222222222, \"#7201a8\"], [0.3333333333333333, \"#9c179e\"], [0.4444444444444444, \"#bd3786\"], [0.5555555555555556, \"#d8576b\"], [0.6666666666666666, \"#ed7953\"], [0.7777777777777778, \"#fb9f3a\"], [0.8888888888888888, \"#fdca26\"], [1.0, \"#f0f921\"]], \"type\": \"heatmapgl\"}], \"histogram\": [{\"marker\": {\"colorbar\": {\"outlinewidth\": 0, \"ticks\": \"\"}}, \"type\": \"histogram\"}], \"histogram2d\": [{\"colorbar\": {\"outlinewidth\": 0, \"ticks\": \"\"}, \"colorscale\": [[0.0, \"#0d0887\"], [0.1111111111111111, \"#46039f\"], [0.2222222222222222, \"#7201a8\"], [0.3333333333333333, \"#9c179e\"], [0.4444444444444444, \"#bd3786\"], [0.5555555555555556, \"#d8576b\"], [0.6666666666666666, \"#ed7953\"], [0.7777777777777778, \"#fb9f3a\"], [0.8888888888888888, \"#fdca26\"], [1.0, \"#f0f921\"]], \"type\": \"histogram2d\"}], \"histogram2dcontour\": [{\"colorbar\": {\"outlinewidth\": 0, \"ticks\": \"\"}, \"colorscale\": [[0.0, \"#0d0887\"], [0.1111111111111111, \"#46039f\"], [0.2222222222222222, \"#7201a8\"], [0.3333333333333333, \"#9c179e\"], [0.4444444444444444, \"#bd3786\"], [0.5555555555555556, \"#d8576b\"], [0.6666666666666666, \"#ed7953\"], [0.7777777777777778, \"#fb9f3a\"], [0.8888888888888888, \"#fdca26\"], [1.0, \"#f0f921\"]], \"type\": \"histogram2dcontour\"}], \"mesh3d\": [{\"colorbar\": {\"outlinewidth\": 0, \"ticks\": \"\"}, \"type\": \"mesh3d\"}], \"parcoords\": [{\"line\": {\"colorbar\": {\"outlinewidth\": 0, \"ticks\": \"\"}}, \"type\": \"parcoords\"}], \"pie\": [{\"automargin\": true, \"type\": \"pie\"}], \"scatter\": [{\"marker\": {\"colorbar\": {\"outlinewidth\": 0, \"ticks\": \"\"}}, \"type\": \"scatter\"}], \"scatter3d\": [{\"line\": {\"colorbar\": {\"outlinewidth\": 0, \"ticks\": \"\"}}, \"marker\": {\"colorbar\": {\"outlinewidth\": 0, \"ticks\": \"\"}}, \"type\": \"scatter3d\"}], \"scattercarpet\": [{\"marker\": {\"colorbar\": {\"outlinewidth\": 0, \"ticks\": \"\"}}, \"type\": \"scattercarpet\"}], \"scattergeo\": [{\"marker\": {\"colorbar\": {\"outlinewidth\": 0, \"ticks\": \"\"}}, \"type\": \"scattergeo\"}], \"scattergl\": [{\"marker\": {\"colorbar\": {\"outlinewidth\": 0, \"ticks\": \"\"}}, \"type\": \"scattergl\"}], \"scattermapbox\": [{\"marker\": {\"colorbar\": {\"outlinewidth\": 0, \"ticks\": \"\"}}, \"type\": \"scattermapbox\"}], \"scatterpolar\": [{\"marker\": {\"colorbar\": {\"outlinewidth\": 0, \"ticks\": \"\"}}, \"type\": \"scatterpolar\"}], \"scatterpolargl\": [{\"marker\": {\"colorbar\": {\"outlinewidth\": 0, \"ticks\": \"\"}}, \"type\": \"scatterpolargl\"}], \"scatterternary\": [{\"marker\": {\"colorbar\": {\"outlinewidth\": 0, \"ticks\": \"\"}}, \"type\": \"scatterternary\"}], \"surface\": [{\"colorbar\": {\"outlinewidth\": 0, \"ticks\": \"\"}, \"colorscale\": [[0.0, \"#0d0887\"], [0.1111111111111111, \"#46039f\"], [0.2222222222222222, \"#7201a8\"], [0.3333333333333333, \"#9c179e\"], [0.4444444444444444, \"#bd3786\"], [0.5555555555555556, \"#d8576b\"], [0.6666666666666666, \"#ed7953\"], [0.7777777777777778, \"#fb9f3a\"], [0.8888888888888888, \"#fdca26\"], [1.0, \"#f0f921\"]], \"type\": \"surface\"}], \"table\": [{\"cells\": {\"fill\": {\"color\": \"#EBF0F8\"}, \"line\": {\"color\": \"white\"}}, \"header\": {\"fill\": {\"color\": \"#C8D4E3\"}, \"line\": {\"color\": \"white\"}}, \"type\": \"table\"}]}, \"layout\": {\"annotationdefaults\": {\"arrowcolor\": \"#2a3f5f\", \"arrowhead\": 0, \"arrowwidth\": 1}, \"coloraxis\": {\"colorbar\": {\"outlinewidth\": 0, \"ticks\": \"\"}}, \"colorscale\": {\"diverging\": [[0, \"#8e0152\"], [0.1, \"#c51b7d\"], [0.2, \"#de77ae\"], [0.3, \"#f1b6da\"], [0.4, \"#fde0ef\"], [0.5, \"#f7f7f7\"], [0.6, \"#e6f5d0\"], [0.7, \"#b8e186\"], [0.8, \"#7fbc41\"], [0.9, \"#4d9221\"], [1, \"#276419\"]], \"sequential\": [[0.0, \"#0d0887\"], [0.1111111111111111, \"#46039f\"], [0.2222222222222222, \"#7201a8\"], [0.3333333333333333, \"#9c179e\"], [0.4444444444444444, \"#bd3786\"], [0.5555555555555556, \"#d8576b\"], [0.6666666666666666, \"#ed7953\"], [0.7777777777777778, \"#fb9f3a\"], [0.8888888888888888, \"#fdca26\"], [1.0, \"#f0f921\"]], \"sequentialminus\": [[0.0, \"#0d0887\"], [0.1111111111111111, \"#46039f\"], [0.2222222222222222, \"#7201a8\"], [0.3333333333333333, \"#9c179e\"], [0.4444444444444444, \"#bd3786\"], [0.5555555555555556, \"#d8576b\"], [0.6666666666666666, \"#ed7953\"], [0.7777777777777778, \"#fb9f3a\"], [0.8888888888888888, \"#fdca26\"], [1.0, \"#f0f921\"]]}, \"colorway\": [\"#636efa\", \"#EF553B\", \"#00cc96\", \"#ab63fa\", \"#FFA15A\", \"#19d3f3\", \"#FF6692\", \"#B6E880\", \"#FF97FF\", \"#FECB52\"], \"font\": {\"color\": \"#2a3f5f\"}, \"geo\": {\"bgcolor\": \"white\", \"lakecolor\": \"white\", \"landcolor\": \"#E5ECF6\", \"showlakes\": true, \"showland\": true, \"subunitcolor\": \"white\"}, \"hoverlabel\": {\"align\": \"left\"}, \"hovermode\": \"closest\", \"mapbox\": {\"style\": \"light\"}, \"paper_bgcolor\": \"white\", \"plot_bgcolor\": \"#E5ECF6\", \"polar\": {\"angularaxis\": {\"gridcolor\": \"white\", \"linecolor\": \"white\", \"ticks\": \"\"}, \"bgcolor\": \"#E5ECF6\", \"radialaxis\": {\"gridcolor\": \"white\", \"linecolor\": \"white\", \"ticks\": \"\"}}, \"scene\": {\"xaxis\": {\"backgroundcolor\": \"#E5ECF6\", \"gridcolor\": \"white\", \"gridwidth\": 2, \"linecolor\": \"white\", \"showbackground\": true, \"ticks\": \"\", \"zerolinecolor\": \"white\"}, \"yaxis\": {\"backgroundcolor\": \"#E5ECF6\", \"gridcolor\": \"white\", \"gridwidth\": 2, \"linecolor\": \"white\", \"showbackground\": true, \"ticks\": \"\", \"zerolinecolor\": \"white\"}, \"zaxis\": {\"backgroundcolor\": \"#E5ECF6\", \"gridcolor\": \"white\", \"gridwidth\": 2, \"linecolor\": \"white\", \"showbackground\": true, \"ticks\": \"\", \"zerolinecolor\": \"white\"}}, \"shapedefaults\": {\"line\": {\"color\": \"#2a3f5f\"}}, \"ternary\": {\"aaxis\": {\"gridcolor\": \"white\", \"linecolor\": \"white\", \"ticks\": \"\"}, \"baxis\": {\"gridcolor\": \"white\", \"linecolor\": \"white\", \"ticks\": \"\"}, \"bgcolor\": \"#E5ECF6\", \"caxis\": {\"gridcolor\": \"white\", \"linecolor\": \"white\", \"ticks\": \"\"}}, \"title\": {\"x\": 0.05}, \"xaxis\": {\"automargin\": true, \"gridcolor\": \"white\", \"linecolor\": \"white\", \"ticks\": \"\", \"title\": {\"standoff\": 15}, \"zerolinecolor\": \"white\", \"zerolinewidth\": 2}, \"yaxis\": {\"automargin\": true, \"gridcolor\": \"white\", \"linecolor\": \"white\", \"ticks\": \"\", \"title\": {\"standoff\": 15}, \"zerolinecolor\": \"white\", \"zerolinewidth\": 2}}}},\n",
       "                        {\"responsive\": true}\n",
       "                    ).then(function(){\n",
       "                            \n",
       "var gd = document.getElementById('d1d5fbd7-bbfe-46ff-9f44-c0baf7d8a9d6');\n",
       "var x = new MutationObserver(function (mutations, observer) {{\n",
       "        var display = window.getComputedStyle(gd).display;\n",
       "        if (!display || display === 'none') {{\n",
       "            console.log([gd, 'removed!']);\n",
       "            Plotly.purge(gd);\n",
       "            observer.disconnect();\n",
       "        }}\n",
       "}});\n",
       "\n",
       "// Listen for the removal of the full notebook cells\n",
       "var notebookContainer = gd.closest('#notebook-container');\n",
       "if (notebookContainer) {{\n",
       "    x.observe(notebookContainer, {childList: true});\n",
       "}}\n",
       "\n",
       "// Listen for the clearing of the current output cell\n",
       "var outputEl = gd.closest('.output');\n",
       "if (outputEl) {{\n",
       "    x.observe(outputEl, {childList: true});\n",
       "}}\n",
       "\n",
       "                        })\n",
       "                };\n",
       "                });\n",
       "            </script>\n",
       "        </div>"
      ]
     },
     "metadata": {},
     "output_type": "display_data"
    }
   ],
   "source": [
    "# Pie chart showing student enrollment based on difficulty level\n",
    "fig = px.pie(coursera_df, values='Students', names='Difficulty_Level')\n",
    "fig.show()"
   ]
  },
  {
   "cell_type": "markdown",
   "metadata": {},
   "source": [
    "According to above pie chart almost 50% students enrolled in beginner level, and then 31% mixed level. "
   ]
  },
  {
   "cell_type": "code",
   "execution_count": 168,
   "metadata": {
    "scrolled": true
   },
   "outputs": [
    {
     "data": {
      "application/vnd.plotly.v1+json": {
       "config": {
        "plotlyServerURL": "https://plot.ly"
       },
       "data": [
        {
         "alignmentgroup": "True",
         "hovertemplate": "Language=%{x}<br>Students=%{y}<extra></extra>",
         "legendgroup": "",
         "marker": {
          "color": "#636efa"
         },
         "name": "",
         "offsetgroup": "",
         "orientation": "v",
         "showlegend": false,
         "textposition": "auto",
         "type": "bar",
         "x": [
          "en",
          "en",
          "en",
          "en",
          "en",
          "en",
          "en",
          "en",
          "en",
          "it",
          "it",
          "en",
          "de",
          "en",
          "en",
          "en",
          "en",
          "en",
          "en",
          "en",
          "en",
          "en",
          "en",
          "en",
          "es",
          "en",
          "en",
          "en",
          "en",
          "en",
          "en",
          "en",
          "en",
          "nl",
          "en",
          "en",
          "ru",
          "en",
          "en",
          "en",
          "en",
          "en",
          "en",
          "en",
          "en",
          "tl",
          "en",
          "en",
          "en",
          "nl",
          "en",
          "en",
          "es",
          "en",
          "en",
          "en",
          "en",
          "en",
          "en",
          "en",
          "de",
          "es",
          "en",
          "en",
          "en",
          "en",
          "en",
          "en",
          "en",
          "de",
          "es",
          "en",
          "es",
          "de",
          "en",
          "en",
          "en",
          "en",
          "en",
          "en",
          "en",
          "en",
          "en",
          "en",
          "en",
          "en",
          "en",
          "en",
          "en",
          "es",
          "en",
          "en",
          "en",
          "en",
          "en",
          "en",
          "en",
          "en",
          "en",
          "en",
          "en",
          "en",
          "en",
          "en",
          "en",
          "en",
          "en",
          "en",
          "en",
          "en",
          "en",
          "en",
          "en",
          "en",
          "it",
          "en",
          "en",
          "de",
          "en",
          "en",
          "de",
          "en",
          "da",
          "en",
          "en",
          "en",
          "en",
          "es",
          "en",
          "en",
          "en",
          "en",
          "en",
          "en",
          "en",
          "en",
          "en",
          "es",
          "en",
          "en",
          "en",
          "en",
          "en",
          "en",
          "en",
          "en",
          "en",
          "en",
          "es",
          "en",
          "it",
          "en",
          "en",
          "en",
          "en",
          "fr",
          "en",
          "en",
          "pt",
          "en",
          "en",
          "en",
          "en",
          "en",
          "en",
          "en",
          "en",
          "en",
          "es",
          "en",
          "es",
          "en",
          "en",
          "en",
          "en",
          "es",
          "es",
          "es",
          "en",
          "en",
          "en",
          "en",
          "en",
          "en",
          "es",
          "en",
          "en",
          "en",
          "en",
          "en",
          "en",
          "en",
          "en",
          "en",
          "en",
          "tl",
          "it",
          "en",
          "en",
          "en",
          "en",
          "en",
          "en",
          "en",
          "en",
          "en",
          "en",
          "en",
          "en",
          "no",
          "en",
          "nl",
          "es",
          "en",
          "en",
          "en",
          "en",
          "en",
          "en",
          "en",
          "en",
          "en",
          "en",
          "en",
          "en",
          "en",
          "fr",
          "no",
          "de",
          "en",
          "id",
          "en",
          "en",
          "de",
          "lt",
          "ro",
          "es",
          "es",
          "en",
          "en",
          "en",
          "it",
          "en",
          "en",
          "en",
          "en",
          "en",
          "en",
          "en",
          "en",
          "hu",
          "es",
          "en",
          "en",
          "en",
          "en",
          "en",
          "en",
          "en",
          "en",
          "en",
          "en",
          "en",
          "en",
          "en",
          "ro",
          "en",
          "fr",
          "en",
          "en",
          "en",
          "en",
          "en",
          "en",
          "en",
          "en",
          "en",
          "en",
          "en",
          "fr",
          "es",
          "en",
          "ro",
          "en",
          "en",
          "en",
          "en",
          "es",
          "es",
          "en",
          "en",
          "da",
          "en",
          "ca",
          "en",
          "en",
          "en",
          "en",
          "en",
          "ro",
          "es",
          "en",
          "en",
          "en",
          "en",
          "en",
          "en",
          "en",
          "en",
          "en",
          "en",
          "en",
          "it",
          "en",
          "en",
          "es",
          "en",
          "en",
          "it",
          "it",
          "en",
          "en",
          "en",
          "nl",
          "en",
          "es",
          "en",
          "en",
          "en",
          "en",
          "en",
          "en",
          "en",
          "en",
          "en",
          "en",
          "en",
          "af",
          "en",
          "en",
          "en",
          "en",
          "it",
          "en",
          "en",
          "en",
          "en",
          "en",
          "en",
          "en",
          "en",
          "en",
          "en",
          "en",
          "en",
          "es",
          "pt",
          "es",
          "es",
          "es",
          "en",
          "en",
          "ro",
          "tl",
          "nl",
          "en",
          "it",
          "en",
          "it",
          "en",
          "en",
          "es",
          "es",
          "en",
          "en",
          "en",
          "en",
          "en",
          "en",
          "en",
          "en",
          "en",
          "en",
          "ca",
          "en",
          "fr",
          "en",
          "en",
          "en",
          "en",
          "en",
          "en",
          "it",
          "en",
          "en",
          "en",
          "en",
          "no",
          "en",
          "en",
          "es",
          "es",
          "en",
          "en",
          "en",
          "en",
          "en",
          "en",
          "en",
          "en",
          "en",
          "nl",
          "en",
          "en",
          "en",
          "en",
          "af",
          "en",
          "en",
          "en",
          "it",
          "en",
          "en",
          "en",
          "es",
          "en",
          "en",
          "en",
          "en",
          "en",
          "id",
          "en",
          "en",
          "en",
          "en",
          "en",
          "en",
          "en",
          "en",
          "nl",
          "en",
          "en",
          "en",
          "en",
          "en",
          "en",
          "en",
          "en",
          "en",
          "en",
          "ro",
          "en",
          "en",
          "en",
          "en",
          "en",
          "en",
          "en",
          "en",
          "en",
          "en",
          "en",
          "en",
          "en",
          "en",
          "es",
          "es",
          "fr",
          "en",
          "en",
          "en",
          "en",
          "en",
          "en",
          "en",
          "ro",
          "en",
          "en",
          "en",
          "en",
          "en",
          "en",
          "en",
          "en",
          "en",
          "en",
          "en",
          "en",
          "en",
          "en",
          "en",
          "en",
          "en",
          "en",
          "en",
          "en",
          "en",
          "en",
          "en",
          "en",
          "en",
          "en",
          "en",
          "en",
          "en",
          "en",
          "en",
          "en",
          "en",
          "en",
          "en",
          "en",
          "en",
          "en",
          "en",
          "en",
          "en",
          "en",
          "en",
          "en",
          "en",
          "en",
          "en",
          "en",
          "en",
          "en",
          "en",
          "en",
          "en",
          "pt",
          "pt",
          "nl",
          "en",
          "en",
          "no",
          "en",
          "en",
          "en",
          "no",
          "fr",
          "fr",
          "en",
          "en",
          "en",
          "en",
          "en",
          "en",
          "en",
          "en",
          "en",
          "en",
          "en",
          "en",
          "en",
          "en",
          "en",
          "en",
          "en",
          "en",
          "fr",
          "es",
          "en",
          "en",
          "en",
          "en",
          "en",
          "en",
          "en",
          "en",
          "en",
          "en",
          "en",
          "en",
          "en",
          "en",
          "en",
          "en",
          "en",
          "en",
          "tl",
          "en",
          "en",
          "id",
          "id",
          "en",
          "en",
          "no",
          "da",
          "en",
          "en",
          "en",
          "en",
          "en",
          "en",
          "en",
          "en",
          "en",
          "en",
          "en",
          "en",
          "es",
          "en",
          "en",
          "ca",
          "en",
          "en",
          "en",
          "en",
          "da",
          "de",
          "en",
          "en",
          "en",
          "en",
          "en",
          "en",
          "en",
          "en",
          "en",
          "en",
          "en",
          "en",
          "es",
          "en",
          "en",
          "af",
          "en",
          "en",
          "en",
          "en",
          "es",
          "en",
          "en",
          "en",
          "en",
          "nl",
          "en",
          "en",
          "en",
          "en",
          "en",
          "en",
          "en",
          "en",
          "en",
          "en",
          "en",
          "fr",
          "pt",
          "en",
          "en",
          "es",
          "en",
          "en",
          "en",
          "en",
          "en",
          "en",
          "en",
          "en",
          "en",
          "en",
          "en",
          "en",
          "en",
          "en",
          "en",
          "es",
          "en",
          "ca",
          "en",
          "en",
          "en",
          "de",
          "en",
          "en",
          "en",
          "en",
          "en",
          "en",
          "en",
          "en",
          "en",
          "en",
          "en",
          "en",
          "en",
          "en",
          "cy",
          "en",
          "en",
          "da",
          "en",
          "da",
          "en",
          "en",
          "en",
          "fr",
          "en",
          "en",
          "en",
          "en",
          "en",
          "pt",
          "en",
          "en",
          "en",
          "no",
          "fr",
          "da",
          "en",
          "en",
          "fr",
          "en",
          "en",
          "en",
          "en",
          "en",
          "en",
          "en",
          "en",
          "en",
          "en",
          "ca",
          "es",
          "en",
          "tl",
          "nl",
          "en",
          "en",
          "en",
          "ca",
          "en",
          "en",
          "en",
          "en",
          "en",
          "en",
          "en",
          "en",
          "en",
          "en",
          "en",
          "es",
          "en",
          "en",
          "en",
          "en",
          "en",
          "en",
          "en",
          "en",
          "en",
          "en",
          "en",
          "en",
          "en",
          "en",
          "en",
          "en",
          "ca",
          "en",
          "en",
          "en",
          "it",
          "en",
          "en",
          "en",
          "en",
          "en",
          "en",
          "en",
          "en",
          "en",
          "en",
          "en",
          "en",
          "en",
          "en",
          "en",
          "en",
          "en",
          "en",
          "en",
          "en",
          "en",
          "de",
          "en",
          "en",
          "en",
          "en",
          "en",
          "en",
          "en",
          "en",
          "en",
          "en",
          "en",
          "en",
          "en",
          "en",
          "en",
          "en",
          "en",
          "en",
          "en",
          "en",
          "en",
          "en",
          "en",
          "en",
          "en",
          "en",
          "en",
          "en",
          "en",
          "en",
          "en",
          "en",
          "en",
          "en",
          "en",
          "en",
          "en",
          "en",
          "en",
          "en",
          "en",
          "en",
          "fr",
          "en",
          "hr",
          "da",
          "de",
          "en",
          "en",
          "en",
          "en",
          "de",
          "en",
          "en",
          "en",
          "en",
          "en",
          "en",
          "en",
          "en",
          "en",
          "de",
          "en",
          "en",
          "en",
          "fr",
          "en",
          "en",
          "ro",
          "en",
          "en",
          "en",
          "en",
          "en",
          "en",
          "en",
          "en",
          "en",
          "en",
          "en",
          "en",
          "en",
          "en",
          "en",
          "en",
          "en",
          "en",
          "es",
          "fr",
          "en",
          "ru",
          "ru",
          "ru",
          "ru",
          "ru",
          "ru",
          "ru",
          "ru",
          "ru",
          "ru",
          "bg",
          "ru",
          "ru",
          "ru"
         ],
         "xaxis": "x",
         "y": [
          5300,
          17000,
          130000,
          91000,
          320000,
          39000,
          350000,
          2400,
          61000,
          12000,
          4000,
          13000,
          130000,
          11000,
          27000,
          110000,
          13000,
          6600,
          540000,
          22000,
          2900,
          80000,
          9900,
          110000,
          23000,
          9200,
          78000,
          320000,
          190000,
          35000,
          29000,
          14000,
          21000,
          94000,
          69000,
          40000,
          12000,
          220000,
          150000,
          14000,
          18000,
          23000,
          69000,
          270000,
          7900,
          30000,
          36000,
          20000,
          8100,
          120000,
          71000,
          11000,
          11000,
          63000,
          220000,
          42000,
          480000,
          150000,
          97000,
          6600,
          200000,
          180000,
          4200,
          310000,
          3900,
          150000,
          79000,
          31000,
          15000,
          15000,
          10000,
          66000,
          33000,
          56000,
          7300,
          9200,
          22000,
          9700,
          13000,
          180000,
          91000,
          29000,
          210000,
          28000,
          4200,
          6500,
          61000,
          55000,
          2300,
          8800,
          35000,
          88000,
          14000,
          1900,
          68000,
          21000,
          1600,
          31000,
          9500,
          57000,
          26000,
          84000,
          15000,
          95000,
          7300,
          22000,
          5800,
          24000,
          67000,
          280000,
          38000,
          120000,
          77000,
          510000,
          13000,
          110000,
          24000,
          89000,
          67000,
          10000,
          48000,
          160000,
          31000,
          36000,
          220000,
          32000,
          130000,
          340000,
          82000,
          790000,
          31000,
          23000,
          19000,
          30000,
          22000,
          57000,
          51000,
          51000,
          4800,
          32000,
          110000,
          37000,
          310000,
          37000,
          120000,
          15000,
          43000,
          6400,
          43000,
          350000,
          5800,
          33000,
          27000,
          66000,
          19000,
          61000,
          43000,
          15000,
          220000,
          27000,
          26000,
          49000,
          240000,
          46000,
          10000,
          56000,
          7800,
          10000,
          75000,
          15000,
          43000,
          81000,
          140000,
          140000,
          120000,
          150000,
          26000,
          22000,
          17000,
          5500,
          18000,
          99000,
          140000,
          23000,
          55000,
          23000,
          100000,
          220000,
          110000,
          24000,
          19000,
          3000,
          120000,
          120000,
          42000,
          140000,
          830000,
          140000,
          89000,
          740000,
          210000,
          130000,
          60000,
          66000,
          96000,
          140000,
          18000,
          120000,
          110000,
          150000,
          31000,
          690000,
          44000,
          4500,
          8200,
          240000,
          17000,
          67000,
          97000,
          19000,
          16000,
          300000,
          4000,
          8000,
          41000,
          54000,
          54000,
          9000,
          21000,
          37000,
          380000,
          57000,
          140000,
          58000,
          35000,
          40000,
          4000,
          21000,
          130000,
          150000,
          5600,
          17000,
          39000,
          110000,
          7100,
          18000,
          110000,
          83000,
          16000,
          3400,
          46000,
          1500,
          57000,
          12000,
          110000,
          17000,
          37000,
          14000,
          23000,
          200000,
          230000,
          760000,
          130000,
          42000,
          110000,
          2400,
          7900,
          110000,
          86000,
          38000,
          31000,
          20000,
          69000,
          45000,
          23000,
          6400,
          31000,
          130000,
          35000,
          7200,
          1800,
          14000,
          68000,
          83000,
          4100,
          54000,
          31000,
          27000,
          13000,
          11000,
          86000,
          240000,
          39000,
          200000,
          76000,
          39000,
          490000,
          56000,
          54000,
          170000,
          28000,
          180000,
          18000,
          9700,
          13000,
          12000,
          260000,
          69000,
          12000,
          65000,
          10000,
          100000,
          76000,
          470000,
          60000,
          12000,
          6500,
          24000,
          30000,
          310000,
          36000,
          20000,
          400000,
          57000,
          42000,
          4400,
          14000,
          63000,
          62000,
          31000,
          64000,
          27000,
          89000,
          3200,
          26000,
          52000,
          45000,
          89000,
          150000,
          140000,
          170000,
          220000,
          30000,
          39000,
          200000,
          49000,
          86000,
          290000,
          20000,
          18000,
          180000,
          120000,
          110000,
          22000,
          81000,
          25000,
          56000,
          150000,
          110000,
          47000,
          4900,
          9400,
          10000,
          140000,
          100000,
          260000,
          110000,
          14000,
          80000,
          97000,
          19000,
          34000,
          47000,
          14000,
          59000,
          73000,
          59000,
          75000,
          18000,
          22000,
          79000,
          29000,
          10000,
          22000,
          37000,
          3600,
          7600,
          44000,
          3800,
          120000,
          36000,
          93000,
          350000,
          430000,
          10000,
          260000,
          56000,
          210000,
          62000,
          240000,
          43000,
          62000,
          7400,
          39000,
          8100,
          5400,
          1700,
          36000,
          5500,
          46000,
          5500,
          28000,
          170000,
          140000,
          34000,
          98000,
          140000,
          3500,
          220000,
          3300,
          480000,
          35000,
          62000,
          1700,
          23000,
          2200,
          610000,
          270000,
          18000,
          79000,
          51000,
          34000,
          1600,
          12000,
          22000,
          32000,
          10000,
          16000,
          180000,
          40000,
          10000,
          25000,
          72000,
          97000,
          85000,
          12000,
          9700,
          14000,
          8700,
          150000,
          6500,
          22000,
          25000,
          22000,
          36000,
          19000,
          41000,
          26000,
          20000,
          2200,
          35000,
          11000,
          36000,
          38000,
          66000,
          140000,
          100000,
          46000,
          60000,
          44000,
          160000,
          16000,
          27000,
          14000,
          84000,
          53000,
          46000,
          150000,
          2600,
          20000,
          32000,
          130000,
          27000,
          32000,
          30000,
          99000,
          310000,
          390000,
          25000,
          75000,
          110000,
          41000,
          150000,
          34000,
          200000,
          47000,
          79000,
          74000,
          42000,
          220000,
          54000,
          6000,
          82000,
          220000,
          270000,
          87000,
          140000,
          370000,
          11000,
          160000,
          82000,
          270000,
          270000,
          49000,
          39000,
          76000,
          12000,
          69000,
          67000,
          33000,
          150000,
          4100,
          13000,
          72000,
          87000,
          16000,
          76000,
          110000,
          270000,
          4500,
          120000,
          99000,
          14000,
          49000,
          4400,
          380000,
          160000,
          22000,
          37000,
          8000,
          6300,
          17000,
          34000,
          16000,
          220000,
          5900,
          16000,
          43000,
          22000,
          78000,
          52000,
          120000,
          39000,
          160000,
          80000,
          180000,
          120000,
          68000,
          7200,
          10000,
          23000,
          29000,
          14000,
          290000,
          3200000,
          240000,
          29000,
          19000,
          58000,
          15000,
          120000,
          72000,
          78000,
          43000,
          120000,
          11000,
          55000,
          23000,
          71000,
          27000,
          47000,
          22000,
          81000,
          39000,
          49000,
          93000,
          57000,
          58000,
          60000,
          310000,
          280000,
          8400,
          52000,
          48000,
          12000,
          150000,
          140000,
          51000,
          33000,
          4800,
          170000,
          13000,
          260000,
          73000,
          34000,
          230000,
          120000,
          130000,
          36000,
          310000,
          14000,
          21000,
          9100,
          100000,
          40000,
          44000,
          59000,
          42000,
          34000,
          70000,
          21000,
          40000,
          95000,
          22000,
          17000,
          290000,
          630000,
          41000,
          12000,
          5300,
          100000,
          35000,
          250000,
          330000,
          21000,
          33000,
          57000,
          13000,
          76000,
          80000,
          6200,
          92000,
          22000,
          3200,
          9100,
          30000,
          42000,
          8800,
          12000,
          84000,
          79000,
          8900,
          160000,
          83000,
          34000,
          72000,
          180000,
          23000,
          50000,
          40000,
          67000,
          10000,
          39000,
          22000,
          68000,
          47000,
          20000,
          280000,
          79000,
          68000,
          36000,
          39000,
          250000,
          19000,
          1300000,
          18000,
          70000,
          190000,
          440000,
          230000,
          190000,
          52000,
          110000,
          21000,
          420000,
          26000,
          41000,
          170000,
          1500000,
          69000,
          3000,
          480000,
          7700,
          29000,
          35000,
          23000,
          24000,
          5200,
          7200,
          16000,
          15000,
          170000,
          36000,
          17000,
          120000,
          30000,
          3200,
          7000,
          33000,
          370000,
          2600,
          160000,
          5600,
          16000,
          6800,
          12000,
          9100,
          140000,
          47000,
          6400,
          14000,
          300000,
          39000,
          14000,
          110000,
          61000,
          16000,
          18000,
          15000,
          20000,
          22000,
          13000,
          130000,
          78000,
          4200,
          220000,
          42000,
          60000,
          34000,
          60000,
          110000,
          17000,
          68000,
          8800,
          12000,
          71000,
          430000,
          12000,
          16000,
          370000,
          17000,
          16000,
          34000,
          220000,
          28000,
          60000,
          9500,
          100000,
          58000,
          68000,
          9200,
          30000,
          11000,
          220000,
          38000,
          750000,
          11000,
          7900,
          4900,
          66000,
          82000,
          24000,
          29000,
          50000,
          45000,
          9400,
          3900,
          62000,
          48000,
          33000,
          100000,
          62000,
          81000,
          8500,
          53000,
          49000,
          280000,
          170000,
          12000,
          90000,
          130000,
          47000,
          23000,
          73000,
          130000,
          22000,
          84000,
          23000,
          11000,
          120000,
          420000,
          7200,
          84000,
          29000,
          47000,
          130000,
          47000,
          9400,
          180000,
          120000,
          1700,
          50000,
          12000,
          59000,
          13000,
          2500000,
          320000,
          19000,
          100000,
          26000,
          5200,
          28000,
          33000,
          14000,
          200000,
          120000,
          68000,
          45000,
          110000,
          5400,
          12000,
          44000,
          68000,
          25000,
          29000,
          78000,
          89000,
          24000,
          11000,
          49000,
          120000,
          30000,
          130000,
          6100,
          12000,
          9500,
          3900,
          23000,
          43000,
          220000,
          310000,
          19000,
          63000,
          40000,
          150000,
          37000,
          23000,
          190000,
          120000,
          280000,
          34000,
          120000,
          35000,
          6200,
          260000,
          94000,
          32000,
          17000,
          12000,
          270000,
          18000,
          140000,
          17000,
          76000,
          25000,
          190000,
          69000,
          14000,
          68000,
          16000,
          67000,
          77000,
          19000,
          83000,
          41000,
          45000,
          52000,
          21000,
          30000,
          9800,
          38000
         ],
         "yaxis": "y"
        }
       ],
       "layout": {
        "barmode": "relative",
        "legend": {
         "tracegroupgap": 0
        },
        "margin": {
         "t": 60
        },
        "template": {
         "data": {
          "bar": [
           {
            "error_x": {
             "color": "#2a3f5f"
            },
            "error_y": {
             "color": "#2a3f5f"
            },
            "marker": {
             "line": {
              "color": "#E5ECF6",
              "width": 0.5
             }
            },
            "type": "bar"
           }
          ],
          "barpolar": [
           {
            "marker": {
             "line": {
              "color": "#E5ECF6",
              "width": 0.5
             }
            },
            "type": "barpolar"
           }
          ],
          "carpet": [
           {
            "aaxis": {
             "endlinecolor": "#2a3f5f",
             "gridcolor": "white",
             "linecolor": "white",
             "minorgridcolor": "white",
             "startlinecolor": "#2a3f5f"
            },
            "baxis": {
             "endlinecolor": "#2a3f5f",
             "gridcolor": "white",
             "linecolor": "white",
             "minorgridcolor": "white",
             "startlinecolor": "#2a3f5f"
            },
            "type": "carpet"
           }
          ],
          "choropleth": [
           {
            "colorbar": {
             "outlinewidth": 0,
             "ticks": ""
            },
            "type": "choropleth"
           }
          ],
          "contour": [
           {
            "colorbar": {
             "outlinewidth": 0,
             "ticks": ""
            },
            "colorscale": [
             [
              0,
              "#0d0887"
             ],
             [
              0.1111111111111111,
              "#46039f"
             ],
             [
              0.2222222222222222,
              "#7201a8"
             ],
             [
              0.3333333333333333,
              "#9c179e"
             ],
             [
              0.4444444444444444,
              "#bd3786"
             ],
             [
              0.5555555555555556,
              "#d8576b"
             ],
             [
              0.6666666666666666,
              "#ed7953"
             ],
             [
              0.7777777777777778,
              "#fb9f3a"
             ],
             [
              0.8888888888888888,
              "#fdca26"
             ],
             [
              1,
              "#f0f921"
             ]
            ],
            "type": "contour"
           }
          ],
          "contourcarpet": [
           {
            "colorbar": {
             "outlinewidth": 0,
             "ticks": ""
            },
            "type": "contourcarpet"
           }
          ],
          "heatmap": [
           {
            "colorbar": {
             "outlinewidth": 0,
             "ticks": ""
            },
            "colorscale": [
             [
              0,
              "#0d0887"
             ],
             [
              0.1111111111111111,
              "#46039f"
             ],
             [
              0.2222222222222222,
              "#7201a8"
             ],
             [
              0.3333333333333333,
              "#9c179e"
             ],
             [
              0.4444444444444444,
              "#bd3786"
             ],
             [
              0.5555555555555556,
              "#d8576b"
             ],
             [
              0.6666666666666666,
              "#ed7953"
             ],
             [
              0.7777777777777778,
              "#fb9f3a"
             ],
             [
              0.8888888888888888,
              "#fdca26"
             ],
             [
              1,
              "#f0f921"
             ]
            ],
            "type": "heatmap"
           }
          ],
          "heatmapgl": [
           {
            "colorbar": {
             "outlinewidth": 0,
             "ticks": ""
            },
            "colorscale": [
             [
              0,
              "#0d0887"
             ],
             [
              0.1111111111111111,
              "#46039f"
             ],
             [
              0.2222222222222222,
              "#7201a8"
             ],
             [
              0.3333333333333333,
              "#9c179e"
             ],
             [
              0.4444444444444444,
              "#bd3786"
             ],
             [
              0.5555555555555556,
              "#d8576b"
             ],
             [
              0.6666666666666666,
              "#ed7953"
             ],
             [
              0.7777777777777778,
              "#fb9f3a"
             ],
             [
              0.8888888888888888,
              "#fdca26"
             ],
             [
              1,
              "#f0f921"
             ]
            ],
            "type": "heatmapgl"
           }
          ],
          "histogram": [
           {
            "marker": {
             "colorbar": {
              "outlinewidth": 0,
              "ticks": ""
             }
            },
            "type": "histogram"
           }
          ],
          "histogram2d": [
           {
            "colorbar": {
             "outlinewidth": 0,
             "ticks": ""
            },
            "colorscale": [
             [
              0,
              "#0d0887"
             ],
             [
              0.1111111111111111,
              "#46039f"
             ],
             [
              0.2222222222222222,
              "#7201a8"
             ],
             [
              0.3333333333333333,
              "#9c179e"
             ],
             [
              0.4444444444444444,
              "#bd3786"
             ],
             [
              0.5555555555555556,
              "#d8576b"
             ],
             [
              0.6666666666666666,
              "#ed7953"
             ],
             [
              0.7777777777777778,
              "#fb9f3a"
             ],
             [
              0.8888888888888888,
              "#fdca26"
             ],
             [
              1,
              "#f0f921"
             ]
            ],
            "type": "histogram2d"
           }
          ],
          "histogram2dcontour": [
           {
            "colorbar": {
             "outlinewidth": 0,
             "ticks": ""
            },
            "colorscale": [
             [
              0,
              "#0d0887"
             ],
             [
              0.1111111111111111,
              "#46039f"
             ],
             [
              0.2222222222222222,
              "#7201a8"
             ],
             [
              0.3333333333333333,
              "#9c179e"
             ],
             [
              0.4444444444444444,
              "#bd3786"
             ],
             [
              0.5555555555555556,
              "#d8576b"
             ],
             [
              0.6666666666666666,
              "#ed7953"
             ],
             [
              0.7777777777777778,
              "#fb9f3a"
             ],
             [
              0.8888888888888888,
              "#fdca26"
             ],
             [
              1,
              "#f0f921"
             ]
            ],
            "type": "histogram2dcontour"
           }
          ],
          "mesh3d": [
           {
            "colorbar": {
             "outlinewidth": 0,
             "ticks": ""
            },
            "type": "mesh3d"
           }
          ],
          "parcoords": [
           {
            "line": {
             "colorbar": {
              "outlinewidth": 0,
              "ticks": ""
             }
            },
            "type": "parcoords"
           }
          ],
          "pie": [
           {
            "automargin": true,
            "type": "pie"
           }
          ],
          "scatter": [
           {
            "marker": {
             "colorbar": {
              "outlinewidth": 0,
              "ticks": ""
             }
            },
            "type": "scatter"
           }
          ],
          "scatter3d": [
           {
            "line": {
             "colorbar": {
              "outlinewidth": 0,
              "ticks": ""
             }
            },
            "marker": {
             "colorbar": {
              "outlinewidth": 0,
              "ticks": ""
             }
            },
            "type": "scatter3d"
           }
          ],
          "scattercarpet": [
           {
            "marker": {
             "colorbar": {
              "outlinewidth": 0,
              "ticks": ""
             }
            },
            "type": "scattercarpet"
           }
          ],
          "scattergeo": [
           {
            "marker": {
             "colorbar": {
              "outlinewidth": 0,
              "ticks": ""
             }
            },
            "type": "scattergeo"
           }
          ],
          "scattergl": [
           {
            "marker": {
             "colorbar": {
              "outlinewidth": 0,
              "ticks": ""
             }
            },
            "type": "scattergl"
           }
          ],
          "scattermapbox": [
           {
            "marker": {
             "colorbar": {
              "outlinewidth": 0,
              "ticks": ""
             }
            },
            "type": "scattermapbox"
           }
          ],
          "scatterpolar": [
           {
            "marker": {
             "colorbar": {
              "outlinewidth": 0,
              "ticks": ""
             }
            },
            "type": "scatterpolar"
           }
          ],
          "scatterpolargl": [
           {
            "marker": {
             "colorbar": {
              "outlinewidth": 0,
              "ticks": ""
             }
            },
            "type": "scatterpolargl"
           }
          ],
          "scatterternary": [
           {
            "marker": {
             "colorbar": {
              "outlinewidth": 0,
              "ticks": ""
             }
            },
            "type": "scatterternary"
           }
          ],
          "surface": [
           {
            "colorbar": {
             "outlinewidth": 0,
             "ticks": ""
            },
            "colorscale": [
             [
              0,
              "#0d0887"
             ],
             [
              0.1111111111111111,
              "#46039f"
             ],
             [
              0.2222222222222222,
              "#7201a8"
             ],
             [
              0.3333333333333333,
              "#9c179e"
             ],
             [
              0.4444444444444444,
              "#bd3786"
             ],
             [
              0.5555555555555556,
              "#d8576b"
             ],
             [
              0.6666666666666666,
              "#ed7953"
             ],
             [
              0.7777777777777778,
              "#fb9f3a"
             ],
             [
              0.8888888888888888,
              "#fdca26"
             ],
             [
              1,
              "#f0f921"
             ]
            ],
            "type": "surface"
           }
          ],
          "table": [
           {
            "cells": {
             "fill": {
              "color": "#EBF0F8"
             },
             "line": {
              "color": "white"
             }
            },
            "header": {
             "fill": {
              "color": "#C8D4E3"
             },
             "line": {
              "color": "white"
             }
            },
            "type": "table"
           }
          ]
         },
         "layout": {
          "annotationdefaults": {
           "arrowcolor": "#2a3f5f",
           "arrowhead": 0,
           "arrowwidth": 1
          },
          "coloraxis": {
           "colorbar": {
            "outlinewidth": 0,
            "ticks": ""
           }
          },
          "colorscale": {
           "diverging": [
            [
             0,
             "#8e0152"
            ],
            [
             0.1,
             "#c51b7d"
            ],
            [
             0.2,
             "#de77ae"
            ],
            [
             0.3,
             "#f1b6da"
            ],
            [
             0.4,
             "#fde0ef"
            ],
            [
             0.5,
             "#f7f7f7"
            ],
            [
             0.6,
             "#e6f5d0"
            ],
            [
             0.7,
             "#b8e186"
            ],
            [
             0.8,
             "#7fbc41"
            ],
            [
             0.9,
             "#4d9221"
            ],
            [
             1,
             "#276419"
            ]
           ],
           "sequential": [
            [
             0,
             "#0d0887"
            ],
            [
             0.1111111111111111,
             "#46039f"
            ],
            [
             0.2222222222222222,
             "#7201a8"
            ],
            [
             0.3333333333333333,
             "#9c179e"
            ],
            [
             0.4444444444444444,
             "#bd3786"
            ],
            [
             0.5555555555555556,
             "#d8576b"
            ],
            [
             0.6666666666666666,
             "#ed7953"
            ],
            [
             0.7777777777777778,
             "#fb9f3a"
            ],
            [
             0.8888888888888888,
             "#fdca26"
            ],
            [
             1,
             "#f0f921"
            ]
           ],
           "sequentialminus": [
            [
             0,
             "#0d0887"
            ],
            [
             0.1111111111111111,
             "#46039f"
            ],
            [
             0.2222222222222222,
             "#7201a8"
            ],
            [
             0.3333333333333333,
             "#9c179e"
            ],
            [
             0.4444444444444444,
             "#bd3786"
            ],
            [
             0.5555555555555556,
             "#d8576b"
            ],
            [
             0.6666666666666666,
             "#ed7953"
            ],
            [
             0.7777777777777778,
             "#fb9f3a"
            ],
            [
             0.8888888888888888,
             "#fdca26"
            ],
            [
             1,
             "#f0f921"
            ]
           ]
          },
          "colorway": [
           "#636efa",
           "#EF553B",
           "#00cc96",
           "#ab63fa",
           "#FFA15A",
           "#19d3f3",
           "#FF6692",
           "#B6E880",
           "#FF97FF",
           "#FECB52"
          ],
          "font": {
           "color": "#2a3f5f"
          },
          "geo": {
           "bgcolor": "white",
           "lakecolor": "white",
           "landcolor": "#E5ECF6",
           "showlakes": true,
           "showland": true,
           "subunitcolor": "white"
          },
          "hoverlabel": {
           "align": "left"
          },
          "hovermode": "closest",
          "mapbox": {
           "style": "light"
          },
          "paper_bgcolor": "white",
          "plot_bgcolor": "#E5ECF6",
          "polar": {
           "angularaxis": {
            "gridcolor": "white",
            "linecolor": "white",
            "ticks": ""
           },
           "bgcolor": "#E5ECF6",
           "radialaxis": {
            "gridcolor": "white",
            "linecolor": "white",
            "ticks": ""
           }
          },
          "scene": {
           "xaxis": {
            "backgroundcolor": "#E5ECF6",
            "gridcolor": "white",
            "gridwidth": 2,
            "linecolor": "white",
            "showbackground": true,
            "ticks": "",
            "zerolinecolor": "white"
           },
           "yaxis": {
            "backgroundcolor": "#E5ECF6",
            "gridcolor": "white",
            "gridwidth": 2,
            "linecolor": "white",
            "showbackground": true,
            "ticks": "",
            "zerolinecolor": "white"
           },
           "zaxis": {
            "backgroundcolor": "#E5ECF6",
            "gridcolor": "white",
            "gridwidth": 2,
            "linecolor": "white",
            "showbackground": true,
            "ticks": "",
            "zerolinecolor": "white"
           }
          },
          "shapedefaults": {
           "line": {
            "color": "#2a3f5f"
           }
          },
          "ternary": {
           "aaxis": {
            "gridcolor": "white",
            "linecolor": "white",
            "ticks": ""
           },
           "baxis": {
            "gridcolor": "white",
            "linecolor": "white",
            "ticks": ""
           },
           "bgcolor": "#E5ECF6",
           "caxis": {
            "gridcolor": "white",
            "linecolor": "white",
            "ticks": ""
           }
          },
          "title": {
           "x": 0.05
          },
          "xaxis": {
           "automargin": true,
           "gridcolor": "white",
           "linecolor": "white",
           "ticks": "",
           "title": {
            "standoff": 15
           },
           "zerolinecolor": "white",
           "zerolinewidth": 2
          },
          "yaxis": {
           "automargin": true,
           "gridcolor": "white",
           "linecolor": "white",
           "ticks": "",
           "title": {
            "standoff": 15
           },
           "zerolinecolor": "white",
           "zerolinewidth": 2
          }
         }
        },
        "xaxis": {
         "anchor": "y",
         "domain": [
          0,
          1
         ],
         "title": {
          "text": "Language"
         }
        },
        "yaxis": {
         "anchor": "x",
         "domain": [
          0,
          1
         ],
         "title": {
          "text": "Students"
         }
        }
       }
      },
      "text/html": [
       "<div>\n",
       "        \n",
       "        \n",
       "            <div id=\"f58fe42e-446b-4fe8-bd0a-46d6ecbd1ec6\" class=\"plotly-graph-div\" style=\"height:525px; width:100%;\"></div>\n",
       "            <script type=\"text/javascript\">\n",
       "                require([\"plotly\"], function(Plotly) {\n",
       "                    window.PLOTLYENV=window.PLOTLYENV || {};\n",
       "                    \n",
       "                if (document.getElementById(\"f58fe42e-446b-4fe8-bd0a-46d6ecbd1ec6\")) {\n",
       "                    Plotly.newPlot(\n",
       "                        'f58fe42e-446b-4fe8-bd0a-46d6ecbd1ec6',\n",
       "                        [{\"alignmentgroup\": \"True\", \"hovertemplate\": \"Language=%{x}<br>Students=%{y}<extra></extra>\", \"legendgroup\": \"\", \"marker\": {\"color\": \"#636efa\"}, \"name\": \"\", \"offsetgroup\": \"\", \"orientation\": \"v\", \"showlegend\": false, \"textposition\": \"auto\", \"type\": \"bar\", \"x\": [\"en\", \"en\", \"en\", \"en\", \"en\", \"en\", \"en\", \"en\", \"en\", \"it\", \"it\", \"en\", \"de\", \"en\", \"en\", \"en\", \"en\", \"en\", \"en\", \"en\", \"en\", \"en\", \"en\", \"en\", \"es\", \"en\", \"en\", \"en\", \"en\", \"en\", \"en\", \"en\", \"en\", \"nl\", \"en\", \"en\", \"ru\", \"en\", \"en\", \"en\", \"en\", \"en\", \"en\", \"en\", \"en\", \"tl\", \"en\", \"en\", \"en\", \"nl\", \"en\", \"en\", \"es\", \"en\", \"en\", \"en\", \"en\", \"en\", \"en\", \"en\", \"de\", \"es\", \"en\", \"en\", \"en\", \"en\", \"en\", \"en\", \"en\", \"de\", \"es\", \"en\", \"es\", \"de\", \"en\", \"en\", \"en\", \"en\", \"en\", \"en\", \"en\", \"en\", \"en\", \"en\", \"en\", \"en\", \"en\", \"en\", \"en\", \"es\", \"en\", \"en\", \"en\", \"en\", \"en\", \"en\", \"en\", \"en\", \"en\", \"en\", \"en\", \"en\", \"en\", \"en\", \"en\", \"en\", \"en\", \"en\", \"en\", \"en\", \"en\", \"en\", \"en\", \"en\", \"it\", \"en\", \"en\", \"de\", \"en\", \"en\", \"de\", \"en\", \"da\", \"en\", \"en\", \"en\", \"en\", \"es\", \"en\", \"en\", \"en\", \"en\", \"en\", \"en\", \"en\", \"en\", \"en\", \"es\", \"en\", \"en\", \"en\", \"en\", \"en\", \"en\", \"en\", \"en\", \"en\", \"en\", \"es\", \"en\", \"it\", \"en\", \"en\", \"en\", \"en\", \"fr\", \"en\", \"en\", \"pt\", \"en\", \"en\", \"en\", \"en\", \"en\", \"en\", \"en\", \"en\", \"en\", \"es\", \"en\", \"es\", \"en\", \"en\", \"en\", \"en\", \"es\", \"es\", \"es\", \"en\", \"en\", \"en\", \"en\", \"en\", \"en\", \"es\", \"en\", \"en\", \"en\", \"en\", \"en\", \"en\", \"en\", \"en\", \"en\", \"en\", \"tl\", \"it\", \"en\", \"en\", \"en\", \"en\", \"en\", \"en\", \"en\", \"en\", \"en\", \"en\", \"en\", \"en\", \"no\", \"en\", \"nl\", \"es\", \"en\", \"en\", \"en\", \"en\", \"en\", \"en\", \"en\", \"en\", \"en\", \"en\", \"en\", \"en\", \"en\", \"fr\", \"no\", \"de\", \"en\", \"id\", \"en\", \"en\", \"de\", \"lt\", \"ro\", \"es\", \"es\", \"en\", \"en\", \"en\", \"it\", \"en\", \"en\", \"en\", \"en\", \"en\", \"en\", \"en\", \"en\", \"hu\", \"es\", \"en\", \"en\", \"en\", \"en\", \"en\", \"en\", \"en\", \"en\", \"en\", \"en\", \"en\", \"en\", \"en\", \"ro\", \"en\", \"fr\", \"en\", \"en\", \"en\", \"en\", \"en\", \"en\", \"en\", \"en\", \"en\", \"en\", \"en\", \"fr\", \"es\", \"en\", \"ro\", \"en\", \"en\", \"en\", \"en\", \"es\", \"es\", \"en\", \"en\", \"da\", \"en\", \"ca\", \"en\", \"en\", \"en\", \"en\", \"en\", \"ro\", \"es\", \"en\", \"en\", \"en\", \"en\", \"en\", \"en\", \"en\", \"en\", \"en\", \"en\", \"en\", \"it\", \"en\", \"en\", \"es\", \"en\", \"en\", \"it\", \"it\", \"en\", \"en\", \"en\", \"nl\", \"en\", \"es\", \"en\", \"en\", \"en\", \"en\", \"en\", \"en\", \"en\", \"en\", \"en\", \"en\", \"en\", \"af\", \"en\", \"en\", \"en\", \"en\", \"it\", \"en\", \"en\", \"en\", \"en\", \"en\", \"en\", \"en\", \"en\", \"en\", \"en\", \"en\", \"en\", \"es\", \"pt\", \"es\", \"es\", \"es\", \"en\", \"en\", \"ro\", \"tl\", \"nl\", \"en\", \"it\", \"en\", \"it\", \"en\", \"en\", \"es\", \"es\", \"en\", \"en\", \"en\", \"en\", \"en\", \"en\", \"en\", \"en\", \"en\", \"en\", \"ca\", \"en\", \"fr\", \"en\", \"en\", \"en\", \"en\", \"en\", \"en\", \"it\", \"en\", \"en\", \"en\", \"en\", \"no\", \"en\", \"en\", \"es\", \"es\", \"en\", \"en\", \"en\", \"en\", \"en\", \"en\", \"en\", \"en\", \"en\", \"nl\", \"en\", \"en\", \"en\", \"en\", \"af\", \"en\", \"en\", \"en\", \"it\", \"en\", \"en\", \"en\", \"es\", \"en\", \"en\", \"en\", \"en\", \"en\", \"id\", \"en\", \"en\", \"en\", \"en\", \"en\", \"en\", \"en\", \"en\", \"nl\", \"en\", \"en\", \"en\", \"en\", \"en\", \"en\", \"en\", \"en\", \"en\", \"en\", \"ro\", \"en\", \"en\", \"en\", \"en\", \"en\", \"en\", \"en\", \"en\", \"en\", \"en\", \"en\", \"en\", \"en\", \"en\", \"es\", \"es\", \"fr\", \"en\", \"en\", \"en\", \"en\", \"en\", \"en\", \"en\", \"ro\", \"en\", \"en\", \"en\", \"en\", \"en\", \"en\", \"en\", \"en\", \"en\", \"en\", \"en\", \"en\", \"en\", \"en\", \"en\", \"en\", \"en\", \"en\", \"en\", \"en\", \"en\", \"en\", \"en\", \"en\", \"en\", \"en\", \"en\", \"en\", \"en\", \"en\", \"en\", \"en\", \"en\", \"en\", \"en\", \"en\", \"en\", \"en\", \"en\", \"en\", \"en\", \"en\", \"en\", \"en\", \"en\", \"en\", \"en\", \"en\", \"en\", \"en\", \"en\", \"en\", \"en\", \"pt\", \"pt\", \"nl\", \"en\", \"en\", \"no\", \"en\", \"en\", \"en\", \"no\", \"fr\", \"fr\", \"en\", \"en\", \"en\", \"en\", \"en\", \"en\", \"en\", \"en\", \"en\", \"en\", \"en\", \"en\", \"en\", \"en\", \"en\", \"en\", \"en\", \"en\", \"fr\", \"es\", \"en\", \"en\", \"en\", \"en\", \"en\", \"en\", \"en\", \"en\", \"en\", \"en\", \"en\", \"en\", \"en\", \"en\", \"en\", \"en\", \"en\", \"en\", \"tl\", \"en\", \"en\", \"id\", \"id\", \"en\", \"en\", \"no\", \"da\", \"en\", \"en\", \"en\", \"en\", \"en\", \"en\", \"en\", \"en\", \"en\", \"en\", \"en\", \"en\", \"es\", \"en\", \"en\", \"ca\", \"en\", \"en\", \"en\", \"en\", \"da\", \"de\", \"en\", \"en\", \"en\", \"en\", \"en\", \"en\", \"en\", \"en\", \"en\", \"en\", \"en\", \"en\", \"es\", \"en\", \"en\", \"af\", \"en\", \"en\", \"en\", \"en\", \"es\", \"en\", \"en\", \"en\", \"en\", \"nl\", \"en\", \"en\", \"en\", \"en\", \"en\", \"en\", \"en\", \"en\", \"en\", \"en\", \"en\", \"fr\", \"pt\", \"en\", \"en\", \"es\", \"en\", \"en\", \"en\", \"en\", \"en\", \"en\", \"en\", \"en\", \"en\", \"en\", \"en\", \"en\", \"en\", \"en\", \"en\", \"es\", \"en\", \"ca\", \"en\", \"en\", \"en\", \"de\", \"en\", \"en\", \"en\", \"en\", \"en\", \"en\", \"en\", \"en\", \"en\", \"en\", \"en\", \"en\", \"en\", \"en\", \"cy\", \"en\", \"en\", \"da\", \"en\", \"da\", \"en\", \"en\", \"en\", \"fr\", \"en\", \"en\", \"en\", \"en\", \"en\", \"pt\", \"en\", \"en\", \"en\", \"no\", \"fr\", \"da\", \"en\", \"en\", \"fr\", \"en\", \"en\", \"en\", \"en\", \"en\", \"en\", \"en\", \"en\", \"en\", \"en\", \"ca\", \"es\", \"en\", \"tl\", \"nl\", \"en\", \"en\", \"en\", \"ca\", \"en\", \"en\", \"en\", \"en\", \"en\", \"en\", \"en\", \"en\", \"en\", \"en\", \"en\", \"es\", \"en\", \"en\", \"en\", \"en\", \"en\", \"en\", \"en\", \"en\", \"en\", \"en\", \"en\", \"en\", \"en\", \"en\", \"en\", \"en\", \"ca\", \"en\", \"en\", \"en\", \"it\", \"en\", \"en\", \"en\", \"en\", \"en\", \"en\", \"en\", \"en\", \"en\", \"en\", \"en\", \"en\", \"en\", \"en\", \"en\", \"en\", \"en\", \"en\", \"en\", \"en\", \"en\", \"de\", \"en\", \"en\", \"en\", \"en\", \"en\", \"en\", \"en\", \"en\", \"en\", \"en\", \"en\", \"en\", \"en\", \"en\", \"en\", \"en\", \"en\", \"en\", \"en\", \"en\", \"en\", \"en\", \"en\", \"en\", \"en\", \"en\", \"en\", \"en\", \"en\", \"en\", \"en\", \"en\", \"en\", \"en\", \"en\", \"en\", \"en\", \"en\", \"en\", \"en\", \"en\", \"en\", \"fr\", \"en\", \"hr\", \"da\", \"de\", \"en\", \"en\", \"en\", \"en\", \"de\", \"en\", \"en\", \"en\", \"en\", \"en\", \"en\", \"en\", \"en\", \"en\", \"de\", \"en\", \"en\", \"en\", \"fr\", \"en\", \"en\", \"ro\", \"en\", \"en\", \"en\", \"en\", \"en\", \"en\", \"en\", \"en\", \"en\", \"en\", \"en\", \"en\", \"en\", \"en\", \"en\", \"en\", \"en\", \"en\", \"es\", \"fr\", \"en\", \"ru\", \"ru\", \"ru\", \"ru\", \"ru\", \"ru\", \"ru\", \"ru\", \"ru\", \"ru\", \"bg\", \"ru\", \"ru\", \"ru\"], \"xaxis\": \"x\", \"y\": [5300.0, 17000.0, 130000.0, 91000.0, 320000.0, 39000.0, 350000.0, 2400.0, 61000.0, 12000.0, 4000.0, 13000.0, 130000.0, 11000.0, 27000.0, 110000.0, 13000.0, 6600.0, 540000.0, 22000.0, 2900.0, 80000.0, 9900.0, 110000.0, 23000.0, 9200.0, 78000.0, 320000.0, 190000.0, 35000.0, 29000.0, 14000.0, 21000.0, 94000.0, 69000.0, 40000.0, 12000.0, 220000.0, 150000.0, 14000.0, 18000.0, 23000.0, 69000.0, 270000.0, 7900.0, 30000.0, 36000.0, 20000.0, 8100.0, 120000.0, 71000.0, 11000.0, 11000.0, 63000.0, 220000.0, 42000.0, 480000.0, 150000.0, 97000.0, 6600.0, 200000.0, 180000.0, 4200.0, 310000.0, 3900.0, 150000.0, 79000.0, 31000.0, 15000.0, 15000.0, 10000.0, 66000.0, 33000.0, 56000.0, 7300.0, 9200.0, 22000.0, 9700.0, 13000.0, 180000.0, 91000.0, 29000.0, 210000.0, 28000.0, 4200.0, 6500.0, 61000.0, 55000.0, 2300.0, 8800.0, 35000.0, 88000.0, 14000.0, 1900.0, 68000.0, 21000.0, 1600.0, 31000.0, 9500.0, 57000.0, 26000.0, 84000.0, 15000.0, 95000.0, 7300.0, 22000.0, 5800.0, 24000.0, 67000.0, 280000.0, 38000.0, 120000.0, 77000.0, 510000.0, 13000.0, 110000.0, 24000.0, 89000.0, 67000.0, 10000.0, 48000.0, 160000.0, 31000.0, 36000.0, 220000.0, 32000.0, 130000.0, 340000.0, 82000.0, 790000.0, 31000.0, 23000.0, 19000.0, 30000.0, 22000.0, 57000.0, 51000.0, 51000.0, 4800.0, 32000.0, 110000.0, 37000.0, 310000.0, 37000.0, 120000.0, 15000.0, 43000.0, 6400.0, 43000.0, 350000.0, 5800.0, 33000.0, 27000.0, 66000.0, 19000.0, 61000.0, 43000.0, 15000.0, 220000.0, 27000.0, 26000.0, 49000.0, 240000.0, 46000.0, 10000.0, 56000.0, 7800.0, 10000.0, 75000.0, 15000.0, 43000.0, 81000.0, 140000.0, 140000.0, 120000.0, 150000.0, 26000.0, 22000.0, 17000.0, 5500.0, 18000.0, 99000.0, 140000.0, 23000.0, 55000.0, 23000.0, 100000.0, 220000.0, 110000.0, 24000.0, 19000.0, 3000.0, 120000.0, 120000.0, 42000.0, 140000.0, 830000.0, 140000.0, 89000.0, 740000.0, 210000.0, 130000.0, 60000.0, 66000.0, 96000.0, 140000.0, 18000.0, 120000.0, 110000.0, 150000.0, 31000.0, 690000.0, 44000.0, 4500.0, 8200.0, 240000.0, 17000.0, 67000.0, 97000.0, 19000.0, 16000.0, 300000.0, 4000.0, 8000.0, 41000.0, 54000.0, 54000.0, 9000.0, 21000.0, 37000.0, 380000.0, 57000.0, 140000.0, 58000.0, 35000.0, 40000.0, 4000.0, 21000.0, 130000.0, 150000.0, 5600.0, 17000.0, 39000.0, 110000.0, 7100.0, 18000.0, 110000.0, 83000.0, 16000.0, 3400.0, 46000.0, 1500.0, 57000.0, 12000.0, 110000.0, 17000.0, 37000.0, 14000.0, 23000.0, 200000.0, 230000.0, 760000.0, 130000.0, 42000.0, 110000.0, 2400.0, 7900.0, 110000.0, 86000.0, 38000.0, 31000.0, 20000.0, 69000.0, 45000.0, 23000.0, 6400.0, 31000.0, 130000.0, 35000.0, 7200.0, 1800.0, 14000.0, 68000.0, 83000.0, 4100.0, 54000.0, 31000.0, 27000.0, 13000.0, 11000.0, 86000.0, 240000.0, 39000.0, 200000.0, 76000.0, 39000.0, 490000.0, 56000.0, 54000.0, 170000.0, 28000.0, 180000.0, 18000.0, 9700.0, 13000.0, 12000.0, 260000.0, 69000.0, 12000.0, 65000.0, 10000.0, 100000.0, 76000.0, 470000.0, 60000.0, 12000.0, 6500.0, 24000.0, 30000.0, 310000.0, 36000.0, 20000.0, 400000.0, 57000.0, 42000.0, 4400.0, 14000.0, 63000.0, 62000.0, 31000.0, 64000.0, 27000.0, 89000.0, 3200.0, 26000.0, 52000.0, 45000.0, 89000.0, 150000.0, 140000.0, 170000.0, 220000.0, 30000.0, 39000.0, 200000.0, 49000.0, 86000.0, 290000.0, 20000.0, 18000.0, 180000.0, 120000.0, 110000.0, 22000.0, 81000.0, 25000.0, 56000.0, 150000.0, 110000.0, 47000.0, 4900.0, 9400.0, 10000.0, 140000.0, 100000.0, 260000.0, 110000.0, 14000.0, 80000.0, 97000.0, 19000.0, 34000.0, 47000.0, 14000.0, 59000.0, 73000.0, 59000.0, 75000.0, 18000.0, 22000.0, 79000.0, 29000.0, 10000.0, 22000.0, 37000.0, 3600.0, 7600.0, 44000.0, 3800.0, 120000.0, 36000.0, 93000.0, 350000.0, 430000.0, 10000.0, 260000.0, 56000.0, 210000.0, 62000.0, 240000.0, 43000.0, 62000.0, 7400.0, 39000.0, 8100.0, 5400.0, 1700.0, 36000.0, 5500.0, 46000.0, 5500.0, 28000.0, 170000.0, 140000.0, 34000.0, 98000.0, 140000.0, 3500.0, 220000.0, 3300.0, 480000.0, 35000.0, 62000.0, 1700.0, 23000.0, 2200.0, 610000.0, 270000.0, 18000.0, 79000.0, 51000.0, 34000.0, 1600.0, 12000.0, 22000.0, 32000.0, 10000.0, 16000.0, 180000.0, 40000.0, 10000.0, 25000.0, 72000.0, 97000.0, 85000.0, 12000.0, 9700.0, 14000.0, 8700.0, 150000.0, 6500.0, 22000.0, 25000.0, 22000.0, 36000.0, 19000.0, 41000.0, 26000.0, 20000.0, 2200.0, 35000.0, 11000.0, 36000.0, 38000.0, 66000.0, 140000.0, 100000.0, 46000.0, 60000.0, 44000.0, 160000.0, 16000.0, 27000.0, 14000.0, 84000.0, 53000.0, 46000.0, 150000.0, 2600.0, 20000.0, 32000.0, 130000.0, 27000.0, 32000.0, 30000.0, 99000.0, 310000.0, 390000.0, 25000.0, 75000.0, 110000.0, 41000.0, 150000.0, 34000.0, 200000.0, 47000.0, 79000.0, 74000.0, 42000.0, 220000.0, 54000.0, 6000.0, 82000.0, 220000.0, 270000.0, 87000.0, 140000.0, 370000.0, 11000.0, 160000.0, 82000.0, 270000.0, 270000.0, 49000.0, 39000.0, 76000.0, 12000.0, 69000.0, 67000.0, 33000.0, 150000.0, 4100.0, 13000.0, 72000.0, 87000.0, 16000.0, 76000.0, 110000.0, 270000.0, 4500.0, 120000.0, 99000.0, 14000.0, 49000.0, 4400.0, 380000.0, 160000.0, 22000.0, 37000.0, 8000.0, 6300.0, 17000.0, 34000.0, 16000.0, 220000.0, 5900.0, 16000.0, 43000.0, 22000.0, 78000.0, 52000.0, 120000.0, 39000.0, 160000.0, 80000.0, 180000.0, 120000.0, 68000.0, 7200.0, 10000.0, 23000.0, 29000.0, 14000.0, 290000.0, 3200000.0, 240000.0, 29000.0, 19000.0, 58000.0, 15000.0, 120000.0, 72000.0, 78000.0, 43000.0, 120000.0, 11000.0, 55000.0, 23000.0, 71000.0, 27000.0, 47000.0, 22000.0, 81000.0, 39000.0, 49000.0, 93000.0, 57000.0, 58000.0, 60000.0, 310000.0, 280000.0, 8400.0, 52000.0, 48000.0, 12000.0, 150000.0, 140000.0, 51000.0, 33000.0, 4800.0, 170000.0, 13000.0, 260000.0, 73000.0, 34000.0, 230000.0, 120000.0, 130000.0, 36000.0, 310000.0, 14000.0, 21000.0, 9100.0, 100000.0, 40000.0, 44000.0, 59000.0, 42000.0, 34000.0, 70000.0, 21000.0, 40000.0, 95000.0, 22000.0, 17000.0, 290000.0, 630000.0, 41000.0, 12000.0, 5300.0, 100000.0, 35000.0, 250000.0, 330000.0, 21000.0, 33000.0, 57000.0, 13000.0, 76000.0, 80000.0, 6200.0, 92000.0, 22000.0, 3200.0, 9100.0, 30000.0, 42000.0, 8800.0, 12000.0, 84000.0, 79000.0, 8900.0, 160000.0, 83000.0, 34000.0, 72000.0, 180000.0, 23000.0, 50000.0, 40000.0, 67000.0, 10000.0, 39000.0, 22000.0, 68000.0, 47000.0, 20000.0, 280000.0, 79000.0, 68000.0, 36000.0, 39000.0, 250000.0, 19000.0, 1300000.0, 18000.0, 70000.0, 190000.0, 440000.0, 230000.0, 190000.0, 52000.0, 110000.0, 21000.0, 420000.0, 26000.0, 41000.0, 170000.0, 1500000.0, 69000.0, 3000.0, 480000.0, 7700.0, 29000.0, 35000.0, 23000.0, 24000.0, 5200.0, 7200.0, 16000.0, 15000.0, 170000.0, 36000.0, 17000.0, 120000.0, 30000.0, 3200.0, 7000.0, 33000.0, 370000.0, 2600.0, 160000.0, 5600.0, 16000.0, 6800.0, 12000.0, 9100.0, 140000.0, 47000.0, 6400.0, 14000.0, 300000.0, 39000.0, 14000.0, 110000.0, 61000.0, 16000.0, 18000.0, 15000.0, 20000.0, 22000.0, 13000.0, 130000.0, 78000.0, 4200.0, 220000.0, 42000.0, 60000.0, 34000.0, 60000.0, 110000.0, 17000.0, 68000.0, 8800.0, 12000.0, 71000.0, 430000.0, 12000.0, 16000.0, 370000.0, 17000.0, 16000.0, 34000.0, 220000.0, 28000.0, 60000.0, 9500.0, 100000.0, 58000.0, 68000.0, 9200.0, 30000.0, 11000.0, 220000.0, 38000.0, 750000.0, 11000.0, 7900.0, 4900.0, 66000.0, 82000.0, 24000.0, 29000.0, 50000.0, 45000.0, 9400.0, 3900.0, 62000.0, 48000.0, 33000.0, 100000.0, 62000.0, 81000.0, 8500.0, 53000.0, 49000.0, 280000.0, 170000.0, 12000.0, 90000.0, 130000.0, 47000.0, 23000.0, 73000.0, 130000.0, 22000.0, 84000.0, 23000.0, 11000.0, 120000.0, 420000.0, 7200.0, 84000.0, 29000.0, 47000.0, 130000.0, 47000.0, 9400.0, 180000.0, 120000.0, 1700.0, 50000.0, 12000.0, 59000.0, 13000.0, 2500000.0, 320000.0, 19000.0, 100000.0, 26000.0, 5200.0, 28000.0, 33000.0, 14000.0, 200000.0, 120000.0, 68000.0, 45000.0, 110000.0, 5400.0, 12000.0, 44000.0, 68000.0, 25000.0, 29000.0, 78000.0, 89000.0, 24000.0, 11000.0, 49000.0, 120000.0, 30000.0, 130000.0, 6100.0, 12000.0, 9500.0, 3900.0, 23000.0, 43000.0, 220000.0, 310000.0, 19000.0, 63000.0, 40000.0, 150000.0, 37000.0, 23000.0, 190000.0, 120000.0, 280000.0, 34000.0, 120000.0, 35000.0, 6200.0, 260000.0, 94000.0, 32000.0, 17000.0, 12000.0, 270000.0, 18000.0, 140000.0, 17000.0, 76000.0, 25000.0, 190000.0, 69000.0, 14000.0, 68000.0, 16000.0, 67000.0, 77000.0, 19000.0, 83000.0, 41000.0, 45000.0, 52000.0, 21000.0, 30000.0, 9800.0, 38000.0], \"yaxis\": \"y\"}],\n",
       "                        {\"barmode\": \"relative\", \"legend\": {\"tracegroupgap\": 0}, \"margin\": {\"t\": 60}, \"template\": {\"data\": {\"bar\": [{\"error_x\": {\"color\": \"#2a3f5f\"}, \"error_y\": {\"color\": \"#2a3f5f\"}, \"marker\": {\"line\": {\"color\": \"#E5ECF6\", \"width\": 0.5}}, \"type\": \"bar\"}], \"barpolar\": [{\"marker\": {\"line\": {\"color\": \"#E5ECF6\", \"width\": 0.5}}, \"type\": \"barpolar\"}], \"carpet\": [{\"aaxis\": {\"endlinecolor\": \"#2a3f5f\", \"gridcolor\": \"white\", \"linecolor\": \"white\", \"minorgridcolor\": \"white\", \"startlinecolor\": \"#2a3f5f\"}, \"baxis\": {\"endlinecolor\": \"#2a3f5f\", \"gridcolor\": \"white\", \"linecolor\": \"white\", \"minorgridcolor\": \"white\", \"startlinecolor\": \"#2a3f5f\"}, \"type\": \"carpet\"}], \"choropleth\": [{\"colorbar\": {\"outlinewidth\": 0, \"ticks\": \"\"}, \"type\": \"choropleth\"}], \"contour\": [{\"colorbar\": {\"outlinewidth\": 0, \"ticks\": \"\"}, \"colorscale\": [[0.0, \"#0d0887\"], [0.1111111111111111, \"#46039f\"], [0.2222222222222222, \"#7201a8\"], [0.3333333333333333, \"#9c179e\"], [0.4444444444444444, \"#bd3786\"], [0.5555555555555556, \"#d8576b\"], [0.6666666666666666, \"#ed7953\"], [0.7777777777777778, \"#fb9f3a\"], [0.8888888888888888, \"#fdca26\"], [1.0, \"#f0f921\"]], \"type\": \"contour\"}], \"contourcarpet\": [{\"colorbar\": {\"outlinewidth\": 0, \"ticks\": \"\"}, \"type\": \"contourcarpet\"}], \"heatmap\": [{\"colorbar\": {\"outlinewidth\": 0, \"ticks\": \"\"}, \"colorscale\": [[0.0, \"#0d0887\"], [0.1111111111111111, \"#46039f\"], [0.2222222222222222, \"#7201a8\"], [0.3333333333333333, \"#9c179e\"], [0.4444444444444444, \"#bd3786\"], [0.5555555555555556, \"#d8576b\"], [0.6666666666666666, \"#ed7953\"], [0.7777777777777778, \"#fb9f3a\"], [0.8888888888888888, \"#fdca26\"], [1.0, \"#f0f921\"]], \"type\": \"heatmap\"}], \"heatmapgl\": [{\"colorbar\": {\"outlinewidth\": 0, \"ticks\": \"\"}, \"colorscale\": [[0.0, \"#0d0887\"], [0.1111111111111111, \"#46039f\"], [0.2222222222222222, \"#7201a8\"], [0.3333333333333333, \"#9c179e\"], [0.4444444444444444, \"#bd3786\"], [0.5555555555555556, \"#d8576b\"], [0.6666666666666666, \"#ed7953\"], [0.7777777777777778, \"#fb9f3a\"], [0.8888888888888888, \"#fdca26\"], [1.0, \"#f0f921\"]], \"type\": \"heatmapgl\"}], \"histogram\": [{\"marker\": {\"colorbar\": {\"outlinewidth\": 0, \"ticks\": \"\"}}, \"type\": \"histogram\"}], \"histogram2d\": [{\"colorbar\": {\"outlinewidth\": 0, \"ticks\": \"\"}, \"colorscale\": [[0.0, \"#0d0887\"], [0.1111111111111111, \"#46039f\"], [0.2222222222222222, \"#7201a8\"], [0.3333333333333333, \"#9c179e\"], [0.4444444444444444, \"#bd3786\"], [0.5555555555555556, \"#d8576b\"], [0.6666666666666666, \"#ed7953\"], [0.7777777777777778, \"#fb9f3a\"], [0.8888888888888888, \"#fdca26\"], [1.0, \"#f0f921\"]], \"type\": \"histogram2d\"}], \"histogram2dcontour\": [{\"colorbar\": {\"outlinewidth\": 0, \"ticks\": \"\"}, \"colorscale\": [[0.0, \"#0d0887\"], [0.1111111111111111, \"#46039f\"], [0.2222222222222222, \"#7201a8\"], [0.3333333333333333, \"#9c179e\"], [0.4444444444444444, \"#bd3786\"], [0.5555555555555556, \"#d8576b\"], [0.6666666666666666, \"#ed7953\"], [0.7777777777777778, \"#fb9f3a\"], [0.8888888888888888, \"#fdca26\"], [1.0, \"#f0f921\"]], \"type\": \"histogram2dcontour\"}], \"mesh3d\": [{\"colorbar\": {\"outlinewidth\": 0, \"ticks\": \"\"}, \"type\": \"mesh3d\"}], \"parcoords\": [{\"line\": {\"colorbar\": {\"outlinewidth\": 0, \"ticks\": \"\"}}, \"type\": \"parcoords\"}], \"pie\": [{\"automargin\": true, \"type\": \"pie\"}], \"scatter\": [{\"marker\": {\"colorbar\": {\"outlinewidth\": 0, \"ticks\": \"\"}}, \"type\": \"scatter\"}], \"scatter3d\": [{\"line\": {\"colorbar\": {\"outlinewidth\": 0, \"ticks\": \"\"}}, \"marker\": {\"colorbar\": {\"outlinewidth\": 0, \"ticks\": \"\"}}, \"type\": \"scatter3d\"}], \"scattercarpet\": [{\"marker\": {\"colorbar\": {\"outlinewidth\": 0, \"ticks\": \"\"}}, \"type\": \"scattercarpet\"}], \"scattergeo\": [{\"marker\": {\"colorbar\": {\"outlinewidth\": 0, \"ticks\": \"\"}}, \"type\": \"scattergeo\"}], \"scattergl\": [{\"marker\": {\"colorbar\": {\"outlinewidth\": 0, \"ticks\": \"\"}}, \"type\": \"scattergl\"}], \"scattermapbox\": [{\"marker\": {\"colorbar\": {\"outlinewidth\": 0, \"ticks\": \"\"}}, \"type\": \"scattermapbox\"}], \"scatterpolar\": [{\"marker\": {\"colorbar\": {\"outlinewidth\": 0, \"ticks\": \"\"}}, \"type\": \"scatterpolar\"}], \"scatterpolargl\": [{\"marker\": {\"colorbar\": {\"outlinewidth\": 0, \"ticks\": \"\"}}, \"type\": \"scatterpolargl\"}], \"scatterternary\": [{\"marker\": {\"colorbar\": {\"outlinewidth\": 0, \"ticks\": \"\"}}, \"type\": \"scatterternary\"}], \"surface\": [{\"colorbar\": {\"outlinewidth\": 0, \"ticks\": \"\"}, \"colorscale\": [[0.0, \"#0d0887\"], [0.1111111111111111, \"#46039f\"], [0.2222222222222222, \"#7201a8\"], [0.3333333333333333, \"#9c179e\"], [0.4444444444444444, \"#bd3786\"], [0.5555555555555556, \"#d8576b\"], [0.6666666666666666, \"#ed7953\"], [0.7777777777777778, \"#fb9f3a\"], [0.8888888888888888, \"#fdca26\"], [1.0, \"#f0f921\"]], \"type\": \"surface\"}], \"table\": [{\"cells\": {\"fill\": {\"color\": \"#EBF0F8\"}, \"line\": {\"color\": \"white\"}}, \"header\": {\"fill\": {\"color\": \"#C8D4E3\"}, \"line\": {\"color\": \"white\"}}, \"type\": \"table\"}]}, \"layout\": {\"annotationdefaults\": {\"arrowcolor\": \"#2a3f5f\", \"arrowhead\": 0, \"arrowwidth\": 1}, \"coloraxis\": {\"colorbar\": {\"outlinewidth\": 0, \"ticks\": \"\"}}, \"colorscale\": {\"diverging\": [[0, \"#8e0152\"], [0.1, \"#c51b7d\"], [0.2, \"#de77ae\"], [0.3, \"#f1b6da\"], [0.4, \"#fde0ef\"], [0.5, \"#f7f7f7\"], [0.6, \"#e6f5d0\"], [0.7, \"#b8e186\"], [0.8, \"#7fbc41\"], [0.9, \"#4d9221\"], [1, \"#276419\"]], \"sequential\": [[0.0, \"#0d0887\"], [0.1111111111111111, \"#46039f\"], [0.2222222222222222, \"#7201a8\"], [0.3333333333333333, \"#9c179e\"], [0.4444444444444444, \"#bd3786\"], [0.5555555555555556, \"#d8576b\"], [0.6666666666666666, \"#ed7953\"], [0.7777777777777778, \"#fb9f3a\"], [0.8888888888888888, \"#fdca26\"], [1.0, \"#f0f921\"]], \"sequentialminus\": [[0.0, \"#0d0887\"], [0.1111111111111111, \"#46039f\"], [0.2222222222222222, \"#7201a8\"], [0.3333333333333333, \"#9c179e\"], [0.4444444444444444, \"#bd3786\"], [0.5555555555555556, \"#d8576b\"], [0.6666666666666666, \"#ed7953\"], [0.7777777777777778, \"#fb9f3a\"], [0.8888888888888888, \"#fdca26\"], [1.0, \"#f0f921\"]]}, \"colorway\": [\"#636efa\", \"#EF553B\", \"#00cc96\", \"#ab63fa\", \"#FFA15A\", \"#19d3f3\", \"#FF6692\", \"#B6E880\", \"#FF97FF\", \"#FECB52\"], \"font\": {\"color\": \"#2a3f5f\"}, \"geo\": {\"bgcolor\": \"white\", \"lakecolor\": \"white\", \"landcolor\": \"#E5ECF6\", \"showlakes\": true, \"showland\": true, \"subunitcolor\": \"white\"}, \"hoverlabel\": {\"align\": \"left\"}, \"hovermode\": \"closest\", \"mapbox\": {\"style\": \"light\"}, \"paper_bgcolor\": \"white\", \"plot_bgcolor\": \"#E5ECF6\", \"polar\": {\"angularaxis\": {\"gridcolor\": \"white\", \"linecolor\": \"white\", \"ticks\": \"\"}, \"bgcolor\": \"#E5ECF6\", \"radialaxis\": {\"gridcolor\": \"white\", \"linecolor\": \"white\", \"ticks\": \"\"}}, \"scene\": {\"xaxis\": {\"backgroundcolor\": \"#E5ECF6\", \"gridcolor\": \"white\", \"gridwidth\": 2, \"linecolor\": \"white\", \"showbackground\": true, \"ticks\": \"\", \"zerolinecolor\": \"white\"}, \"yaxis\": {\"backgroundcolor\": \"#E5ECF6\", \"gridcolor\": \"white\", \"gridwidth\": 2, \"linecolor\": \"white\", \"showbackground\": true, \"ticks\": \"\", \"zerolinecolor\": \"white\"}, \"zaxis\": {\"backgroundcolor\": \"#E5ECF6\", \"gridcolor\": \"white\", \"gridwidth\": 2, \"linecolor\": \"white\", \"showbackground\": true, \"ticks\": \"\", \"zerolinecolor\": \"white\"}}, \"shapedefaults\": {\"line\": {\"color\": \"#2a3f5f\"}}, \"ternary\": {\"aaxis\": {\"gridcolor\": \"white\", \"linecolor\": \"white\", \"ticks\": \"\"}, \"baxis\": {\"gridcolor\": \"white\", \"linecolor\": \"white\", \"ticks\": \"\"}, \"bgcolor\": \"#E5ECF6\", \"caxis\": {\"gridcolor\": \"white\", \"linecolor\": \"white\", \"ticks\": \"\"}}, \"title\": {\"x\": 0.05}, \"xaxis\": {\"automargin\": true, \"gridcolor\": \"white\", \"linecolor\": \"white\", \"ticks\": \"\", \"title\": {\"standoff\": 15}, \"zerolinecolor\": \"white\", \"zerolinewidth\": 2}, \"yaxis\": {\"automargin\": true, \"gridcolor\": \"white\", \"linecolor\": \"white\", \"ticks\": \"\", \"title\": {\"standoff\": 15}, \"zerolinecolor\": \"white\", \"zerolinewidth\": 2}}}, \"xaxis\": {\"anchor\": \"y\", \"domain\": [0.0, 1.0], \"title\": {\"text\": \"Language\"}}, \"yaxis\": {\"anchor\": \"x\", \"domain\": [0.0, 1.0], \"title\": {\"text\": \"Students\"}}},\n",
       "                        {\"responsive\": true}\n",
       "                    ).then(function(){\n",
       "                            \n",
       "var gd = document.getElementById('f58fe42e-446b-4fe8-bd0a-46d6ecbd1ec6');\n",
       "var x = new MutationObserver(function (mutations, observer) {{\n",
       "        var display = window.getComputedStyle(gd).display;\n",
       "        if (!display || display === 'none') {{\n",
       "            console.log([gd, 'removed!']);\n",
       "            Plotly.purge(gd);\n",
       "            observer.disconnect();\n",
       "        }}\n",
       "}});\n",
       "\n",
       "// Listen for the removal of the full notebook cells\n",
       "var notebookContainer = gd.closest('#notebook-container');\n",
       "if (notebookContainer) {{\n",
       "    x.observe(notebookContainer, {childList: true});\n",
       "}}\n",
       "\n",
       "// Listen for the clearing of the current output cell\n",
       "var outputEl = gd.closest('.output');\n",
       "if (outputEl) {{\n",
       "    x.observe(outputEl, {childList: true});\n",
       "}}\n",
       "\n",
       "                        })\n",
       "                };\n",
       "                });\n",
       "            </script>\n",
       "        </div>"
      ]
     },
     "metadata": {},
     "output_type": "display_data"
    }
   ],
   "source": [
    "# Bar graph course language v/s students\n",
    "fig = px.bar(coursera_df, x='Language', y='Students')\n",
    "fig.show()"
   ]
  },
  {
   "cell_type": "markdown",
   "metadata": {},
   "source": [
    "Based above bar graph, more than 60M students enrolled in courses which are in english language. Recommendatoin as per above chart: Coursera might need to bring more content in other languages, or permote courses in other languages."
   ]
  },
  {
   "cell_type": "code",
   "execution_count": 169,
   "metadata": {},
   "outputs": [
    {
     "data": {
      "application/vnd.plotly.v1+json": {
       "config": {
        "plotlyServerURL": "https://plot.ly"
       },
       "data": [
        {
         "domain": {
          "x": [
           0,
           1
          ],
          "y": [
           0,
           1
          ]
         },
         "hovertemplate": "Course_Type=%{label}<br>Students=%{value}<extra></extra>",
         "labels": [
          "SPECIALIZATION",
          "COURSE",
          "COURSE",
          "COURSE",
          "COURSE",
          "COURSE",
          "COURSE",
          "COURSE",
          "SPECIALIZATION",
          "COURSE",
          "COURSE",
          "SPECIALIZATION",
          "SPECIALIZATION",
          "COURSE",
          "COURSE",
          "COURSE",
          "COURSE",
          "COURSE",
          "SPECIALIZATION",
          "SPECIALIZATION",
          "COURSE",
          "COURSE",
          "COURSE",
          "SPECIALIZATION",
          "COURSE",
          "COURSE",
          "SPECIALIZATION",
          "SPECIALIZATION",
          "SPECIALIZATION",
          "SPECIALIZATION",
          "COURSE",
          "COURSE",
          "COURSE",
          "SPECIALIZATION",
          "COURSE",
          "COURSE",
          "COURSE",
          "COURSE",
          "SPECIALIZATION",
          "SPECIALIZATION",
          "COURSE",
          "COURSE",
          "COURSE",
          "SPECIALIZATION",
          "SPECIALIZATION",
          "SPECIALIZATION",
          "COURSE",
          "COURSE",
          "COURSE",
          "SPECIALIZATION",
          "COURSE",
          "COURSE",
          "COURSE",
          "COURSE",
          "SPECIALIZATION",
          "COURSE",
          "SPECIALIZATION",
          "COURSE",
          "COURSE",
          "SPECIALIZATION",
          "COURSE",
          "COURSE",
          "SPECIALIZATION",
          "SPECIALIZATION",
          "SPECIALIZATION",
          "PROFESSIONAL CERTIFICATE",
          "COURSE",
          "COURSE",
          "COURSE",
          "COURSE",
          "COURSE",
          "COURSE",
          "COURSE",
          "COURSE",
          "SPECIALIZATION",
          "SPECIALIZATION",
          "COURSE",
          "COURSE",
          "COURSE",
          "COURSE",
          "COURSE",
          "COURSE",
          "COURSE",
          "SPECIALIZATION",
          "SPECIALIZATION",
          "COURSE",
          "COURSE",
          "COURSE",
          "COURSE",
          "SPECIALIZATION",
          "COURSE",
          "COURSE",
          "SPECIALIZATION",
          "COURSE",
          "SPECIALIZATION",
          "SPECIALIZATION",
          "SPECIALIZATION",
          "COURSE",
          "COURSE",
          "COURSE",
          "SPECIALIZATION",
          "COURSE",
          "COURSE",
          "COURSE",
          "COURSE",
          "COURSE",
          "COURSE",
          "COURSE",
          "COURSE",
          "SPECIALIZATION",
          "SPECIALIZATION",
          "SPECIALIZATION",
          "COURSE",
          "SPECIALIZATION",
          "COURSE",
          "SPECIALIZATION",
          "SPECIALIZATION",
          "SPECIALIZATION",
          "SPECIALIZATION",
          "COURSE",
          "COURSE",
          "SPECIALIZATION",
          "COURSE",
          "SPECIALIZATION",
          "COURSE",
          "COURSE",
          "COURSE",
          "COURSE",
          "COURSE",
          "SPECIALIZATION",
          "COURSE",
          "COURSE",
          "COURSE",
          "COURSE",
          "COURSE",
          "SPECIALIZATION",
          "COURSE",
          "SPECIALIZATION",
          "SPECIALIZATION",
          "COURSE",
          "SPECIALIZATION",
          "COURSE",
          "PROFESSIONAL CERTIFICATE",
          "SPECIALIZATION",
          "COURSE",
          "SPECIALIZATION",
          "COURSE",
          "COURSE",
          "COURSE",
          "SPECIALIZATION",
          "SPECIALIZATION",
          "COURSE",
          "SPECIALIZATION",
          "SPECIALIZATION",
          "COURSE",
          "SPECIALIZATION",
          "COURSE",
          "COURSE",
          "COURSE",
          "SPECIALIZATION",
          "COURSE",
          "COURSE",
          "COURSE",
          "COURSE",
          "COURSE",
          "COURSE",
          "COURSE",
          "COURSE",
          "COURSE",
          "COURSE",
          "COURSE",
          "COURSE",
          "COURSE",
          "SPECIALIZATION",
          "COURSE",
          "SPECIALIZATION",
          "COURSE",
          "COURSE",
          "SPECIALIZATION",
          "COURSE",
          "COURSE",
          "SPECIALIZATION",
          "COURSE",
          "SPECIALIZATION",
          "COURSE",
          "COURSE",
          "SPECIALIZATION",
          "SPECIALIZATION",
          "COURSE",
          "COURSE",
          "COURSE",
          "SPECIALIZATION",
          "PROFESSIONAL CERTIFICATE",
          "SPECIALIZATION",
          "COURSE",
          "SPECIALIZATION",
          "SPECIALIZATION",
          "COURSE",
          "COURSE",
          "SPECIALIZATION",
          "SPECIALIZATION",
          "COURSE",
          "COURSE",
          "COURSE",
          "SPECIALIZATION",
          "SPECIALIZATION",
          "COURSE",
          "COURSE",
          "COURSE",
          "COURSE",
          "COURSE",
          "SPECIALIZATION",
          "COURSE",
          "COURSE",
          "COURSE",
          "COURSE",
          "COURSE",
          "COURSE",
          "COURSE",
          "COURSE",
          "SPECIALIZATION",
          "SPECIALIZATION",
          "SPECIALIZATION",
          "SPECIALIZATION",
          "COURSE",
          "SPECIALIZATION",
          "COURSE",
          "SPECIALIZATION",
          "COURSE",
          "SPECIALIZATION",
          "SPECIALIZATION",
          "COURSE",
          "SPECIALIZATION",
          "COURSE",
          "COURSE",
          "COURSE",
          "SPECIALIZATION",
          "COURSE",
          "COURSE",
          "COURSE",
          "COURSE",
          "COURSE",
          "COURSE",
          "SPECIALIZATION",
          "COURSE",
          "COURSE",
          "COURSE",
          "COURSE",
          "COURSE",
          "COURSE",
          "COURSE",
          "COURSE",
          "COURSE",
          "COURSE",
          "SPECIALIZATION",
          "SPECIALIZATION",
          "SPECIALIZATION",
          "COURSE",
          "COURSE",
          "COURSE",
          "COURSE",
          "COURSE",
          "COURSE",
          "SPECIALIZATION",
          "COURSE",
          "COURSE",
          "SPECIALIZATION",
          "SPECIALIZATION",
          "COURSE",
          "COURSE",
          "COURSE",
          "COURSE",
          "SPECIALIZATION",
          "COURSE",
          "COURSE",
          "SPECIALIZATION",
          "SPECIALIZATION",
          "COURSE",
          "COURSE",
          "COURSE",
          "SPECIALIZATION",
          "COURSE",
          "COURSE",
          "COURSE",
          "COURSE",
          "SPECIALIZATION",
          "COURSE",
          "COURSE",
          "SPECIALIZATION",
          "COURSE",
          "COURSE",
          "SPECIALIZATION",
          "COURSE",
          "COURSE",
          "COURSE",
          "COURSE",
          "SPECIALIZATION",
          "SPECIALIZATION",
          "COURSE",
          "SPECIALIZATION",
          "COURSE",
          "COURSE",
          "COURSE",
          "COURSE",
          "SPECIALIZATION",
          "COURSE",
          "SPECIALIZATION",
          "COURSE",
          "COURSE",
          "COURSE",
          "COURSE",
          "COURSE",
          "SPECIALIZATION",
          "COURSE",
          "SPECIALIZATION",
          "SPECIALIZATION",
          "SPECIALIZATION",
          "COURSE",
          "SPECIALIZATION",
          "COURSE",
          "COURSE",
          "SPECIALIZATION",
          "COURSE",
          "COURSE",
          "COURSE",
          "COURSE",
          "SPECIALIZATION",
          "COURSE",
          "COURSE",
          "SPECIALIZATION",
          "SPECIALIZATION",
          "SPECIALIZATION",
          "SPECIALIZATION",
          "SPECIALIZATION",
          "SPECIALIZATION",
          "COURSE",
          "COURSE",
          "COURSE",
          "SPECIALIZATION",
          "SPECIALIZATION",
          "COURSE",
          "SPECIALIZATION",
          "COURSE",
          "SPECIALIZATION",
          "SPECIALIZATION",
          "COURSE",
          "COURSE",
          "COURSE",
          "SPECIALIZATION",
          "COURSE",
          "COURSE",
          "COURSE",
          "COURSE",
          "COURSE",
          "COURSE",
          "SPECIALIZATION",
          "SPECIALIZATION",
          "COURSE",
          "COURSE",
          "COURSE",
          "SPECIALIZATION",
          "SPECIALIZATION",
          "SPECIALIZATION",
          "SPECIALIZATION",
          "SPECIALIZATION",
          "COURSE",
          "COURSE",
          "COURSE",
          "SPECIALIZATION",
          "SPECIALIZATION",
          "COURSE",
          "COURSE",
          "COURSE",
          "COURSE",
          "COURSE",
          "COURSE",
          "COURSE",
          "COURSE",
          "COURSE",
          "COURSE",
          "COURSE",
          "COURSE",
          "COURSE",
          "COURSE",
          "COURSE",
          "COURSE",
          "COURSE",
          "SPECIALIZATION",
          "SPECIALIZATION",
          "COURSE",
          "COURSE",
          "PROFESSIONAL CERTIFICATE",
          "PROFESSIONAL CERTIFICATE",
          "COURSE",
          "SPECIALIZATION",
          "COURSE",
          "COURSE",
          "COURSE",
          "COURSE",
          "COURSE",
          "SPECIALIZATION",
          "COURSE",
          "COURSE",
          "COURSE",
          "SPECIALIZATION",
          "SPECIALIZATION",
          "SPECIALIZATION",
          "SPECIALIZATION",
          "SPECIALIZATION",
          "COURSE",
          "SPECIALIZATION",
          "SPECIALIZATION",
          "COURSE",
          "COURSE",
          "SPECIALIZATION",
          "SPECIALIZATION",
          "PROFESSIONAL CERTIFICATE",
          "SPECIALIZATION",
          "PROFESSIONAL CERTIFICATE",
          "COURSE",
          "PROFESSIONAL CERTIFICATE",
          "SPECIALIZATION",
          "COURSE",
          "COURSE",
          "SPECIALIZATION",
          "SPECIALIZATION",
          "SPECIALIZATION",
          "COURSE",
          "SPECIALIZATION",
          "COURSE",
          "COURSE",
          "COURSE",
          "SPECIALIZATION",
          "COURSE",
          "SPECIALIZATION",
          "COURSE",
          "SPECIALIZATION",
          "SPECIALIZATION",
          "COURSE",
          "COURSE",
          "COURSE",
          "SPECIALIZATION",
          "SPECIALIZATION",
          "SPECIALIZATION",
          "COURSE",
          "COURSE",
          "COURSE",
          "SPECIALIZATION",
          "SPECIALIZATION",
          "SPECIALIZATION",
          "COURSE",
          "SPECIALIZATION",
          "COURSE",
          "COURSE",
          "COURSE",
          "COURSE",
          "COURSE",
          "SPECIALIZATION",
          "COURSE",
          "COURSE",
          "COURSE",
          "COURSE",
          "COURSE",
          "COURSE",
          "SPECIALIZATION",
          "COURSE",
          "COURSE",
          "COURSE",
          "COURSE",
          "COURSE",
          "COURSE",
          "COURSE",
          "COURSE",
          "COURSE",
          "COURSE",
          "COURSE",
          "COURSE",
          "COURSE",
          "COURSE",
          "COURSE",
          "SPECIALIZATION",
          "COURSE",
          "COURSE",
          "SPECIALIZATION",
          "COURSE",
          "COURSE",
          "SPECIALIZATION",
          "COURSE",
          "COURSE",
          "SPECIALIZATION",
          "COURSE",
          "COURSE",
          "COURSE",
          "COURSE",
          "COURSE",
          "COURSE",
          "COURSE",
          "COURSE",
          "COURSE",
          "COURSE",
          "COURSE",
          "COURSE",
          "COURSE",
          "COURSE",
          "COURSE",
          "COURSE",
          "COURSE",
          "COURSE",
          "COURSE",
          "COURSE",
          "SPECIALIZATION",
          "COURSE",
          "COURSE",
          "SPECIALIZATION",
          "COURSE",
          "COURSE",
          "COURSE",
          "COURSE",
          "COURSE",
          "COURSE",
          "COURSE",
          "COURSE",
          "COURSE",
          "COURSE",
          "COURSE",
          "COURSE",
          "COURSE",
          "COURSE",
          "COURSE",
          "SPECIALIZATION",
          "COURSE",
          "SPECIALIZATION",
          "SPECIALIZATION",
          "SPECIALIZATION",
          "COURSE",
          "SPECIALIZATION",
          "COURSE",
          "COURSE",
          "COURSE",
          "COURSE",
          "SPECIALIZATION",
          "SPECIALIZATION",
          "COURSE",
          "COURSE",
          "SPECIALIZATION",
          "COURSE",
          "SPECIALIZATION",
          "SPECIALIZATION",
          "SPECIALIZATION",
          "SPECIALIZATION",
          "SPECIALIZATION",
          "SPECIALIZATION",
          "SPECIALIZATION",
          "SPECIALIZATION",
          "SPECIALIZATION",
          "COURSE",
          "COURSE",
          "COURSE",
          "COURSE",
          "COURSE",
          "SPECIALIZATION",
          "COURSE",
          "COURSE",
          "SPECIALIZATION",
          "COURSE",
          "COURSE",
          "SPECIALIZATION",
          "COURSE",
          "COURSE",
          "SPECIALIZATION",
          "COURSE",
          "SPECIALIZATION",
          "COURSE",
          "COURSE",
          "COURSE",
          "COURSE",
          "SPECIALIZATION",
          "SPECIALIZATION",
          "COURSE",
          "COURSE",
          "COURSE",
          "SPECIALIZATION",
          "COURSE",
          "SPECIALIZATION",
          "COURSE",
          "SPECIALIZATION",
          "SPECIALIZATION",
          "COURSE",
          "SPECIALIZATION",
          "COURSE",
          "COURSE",
          "COURSE",
          "SPECIALIZATION",
          "COURSE",
          "SPECIALIZATION",
          "SPECIALIZATION",
          "COURSE",
          "COURSE",
          "COURSE",
          "SPECIALIZATION",
          "COURSE",
          "SPECIALIZATION",
          "SPECIALIZATION",
          "COURSE",
          "COURSE",
          "COURSE",
          "COURSE",
          "COURSE",
          "COURSE",
          "COURSE",
          "SPECIALIZATION",
          "SPECIALIZATION",
          "COURSE",
          "COURSE",
          "COURSE",
          "COURSE",
          "COURSE",
          "SPECIALIZATION",
          "COURSE",
          "SPECIALIZATION",
          "COURSE",
          "COURSE",
          "COURSE",
          "SPECIALIZATION",
          "COURSE",
          "SPECIALIZATION",
          "COURSE",
          "COURSE",
          "COURSE",
          "SPECIALIZATION",
          "COURSE",
          "COURSE",
          "SPECIALIZATION",
          "SPECIALIZATION",
          "COURSE",
          "COURSE",
          "COURSE",
          "SPECIALIZATION",
          "COURSE",
          "COURSE",
          "SPECIALIZATION",
          "SPECIALIZATION",
          "COURSE",
          "SPECIALIZATION",
          "SPECIALIZATION",
          "SPECIALIZATION",
          "COURSE",
          "SPECIALIZATION",
          "COURSE",
          "COURSE",
          "COURSE",
          "COURSE",
          "SPECIALIZATION",
          "SPECIALIZATION",
          "COURSE",
          "COURSE",
          "COURSE",
          "COURSE",
          "COURSE",
          "COURSE",
          "SPECIALIZATION",
          "SPECIALIZATION",
          "COURSE",
          "COURSE",
          "COURSE",
          "SPECIALIZATION",
          "SPECIALIZATION",
          "COURSE",
          "COURSE",
          "COURSE",
          "COURSE",
          "COURSE",
          "COURSE",
          "COURSE",
          "COURSE",
          "SPECIALIZATION",
          "COURSE",
          "COURSE",
          "SPECIALIZATION",
          "SPECIALIZATION",
          "COURSE",
          "COURSE",
          "COURSE",
          "COURSE",
          "COURSE",
          "COURSE",
          "COURSE",
          "COURSE",
          "SPECIALIZATION",
          "COURSE",
          "COURSE",
          "COURSE",
          "COURSE",
          "SPECIALIZATION",
          "COURSE",
          "SPECIALIZATION",
          "COURSE",
          "COURSE",
          "SPECIALIZATION",
          "COURSE",
          "COURSE",
          "SPECIALIZATION",
          "COURSE",
          "COURSE",
          "SPECIALIZATION",
          "COURSE",
          "COURSE",
          "SPECIALIZATION",
          "COURSE",
          "PROFESSIONAL CERTIFICATE",
          "PROFESSIONAL CERTIFICATE",
          "COURSE",
          "SPECIALIZATION",
          "SPECIALIZATION",
          "COURSE",
          "COURSE",
          "SPECIALIZATION",
          "COURSE",
          "COURSE",
          "SPECIALIZATION",
          "COURSE",
          "SPECIALIZATION",
          "SPECIALIZATION",
          "COURSE",
          "COURSE",
          "COURSE",
          "COURSE",
          "SPECIALIZATION",
          "COURSE",
          "COURSE",
          "COURSE",
          "SPECIALIZATION",
          "SPECIALIZATION",
          "COURSE",
          "SPECIALIZATION",
          "COURSE",
          "COURSE",
          "SPECIALIZATION",
          "SPECIALIZATION",
          "COURSE",
          "SPECIALIZATION",
          "COURSE",
          "COURSE",
          "PROFESSIONAL CERTIFICATE",
          "SPECIALIZATION",
          "COURSE",
          "COURSE",
          "COURSE",
          "COURSE",
          "COURSE",
          "COURSE",
          "SPECIALIZATION",
          "SPECIALIZATION",
          "SPECIALIZATION",
          "COURSE",
          "SPECIALIZATION",
          "COURSE",
          "SPECIALIZATION",
          "COURSE",
          "SPECIALIZATION",
          "SPECIALIZATION",
          "SPECIALIZATION",
          "COURSE",
          "COURSE",
          "COURSE",
          "COURSE",
          "COURSE",
          "COURSE",
          "SPECIALIZATION",
          "COURSE",
          "SPECIALIZATION",
          "COURSE",
          "COURSE",
          "COURSE",
          "SPECIALIZATION",
          "COURSE",
          "SPECIALIZATION",
          "COURSE",
          "SPECIALIZATION",
          "COURSE",
          "SPECIALIZATION",
          "SPECIALIZATION",
          "COURSE",
          "COURSE",
          "COURSE",
          "COURSE",
          "COURSE",
          "SPECIALIZATION",
          "SPECIALIZATION",
          "COURSE",
          "COURSE",
          "COURSE",
          "SPECIALIZATION",
          "COURSE",
          "COURSE",
          "SPECIALIZATION",
          "SPECIALIZATION",
          "COURSE",
          "COURSE",
          "SPECIALIZATION",
          "COURSE",
          "COURSE",
          "COURSE",
          "COURSE",
          "COURSE",
          "COURSE",
          "COURSE",
          "COURSE",
          "COURSE",
          "COURSE",
          "SPECIALIZATION",
          "COURSE",
          "COURSE",
          "COURSE",
          "COURSE",
          "COURSE",
          "SPECIALIZATION",
          "COURSE",
          "COURSE",
          "COURSE",
          "SPECIALIZATION",
          "COURSE",
          "COURSE",
          "COURSE",
          "COURSE",
          "COURSE",
          "SPECIALIZATION",
          "COURSE",
          "COURSE",
          "COURSE",
          "SPECIALIZATION",
          "PROFESSIONAL CERTIFICATE",
          "SPECIALIZATION",
          "COURSE",
          "COURSE",
          "COURSE",
          "COURSE",
          "COURSE",
          "SPECIALIZATION",
          "COURSE",
          "COURSE",
          "COURSE",
          "COURSE",
          "SPECIALIZATION",
          "SPECIALIZATION",
          "COURSE",
          "COURSE",
          "SPECIALIZATION",
          "SPECIALIZATION",
          "COURSE",
          "COURSE",
          "COURSE",
          "SPECIALIZATION",
          "COURSE",
          "COURSE",
          "SPECIALIZATION",
          "SPECIALIZATION",
          "COURSE",
          "SPECIALIZATION",
          "SPECIALIZATION",
          "COURSE",
          "COURSE",
          "COURSE",
          "COURSE",
          "COURSE",
          "COURSE",
          "COURSE",
          "COURSE",
          "COURSE",
          "COURSE",
          "COURSE",
          "COURSE",
          "COURSE",
          "SPECIALIZATION",
          "COURSE",
          "COURSE",
          "SPECIALIZATION",
          "SPECIALIZATION",
          "SPECIALIZATION",
          "SPECIALIZATION",
          "COURSE",
          "SPECIALIZATION",
          "SPECIALIZATION",
          "COURSE",
          "COURSE",
          "COURSE",
          "SPECIALIZATION",
          "COURSE",
          "SPECIALIZATION",
          "SPECIALIZATION",
          "SPECIALIZATION"
         ],
         "legendgroup": "",
         "name": "",
         "showlegend": true,
         "type": "pie",
         "values": [
          5300,
          17000,
          130000,
          91000,
          320000,
          39000,
          350000,
          2400,
          61000,
          12000,
          4000,
          13000,
          130000,
          11000,
          27000,
          110000,
          13000,
          6600,
          540000,
          22000,
          2900,
          80000,
          9900,
          110000,
          23000,
          9200,
          78000,
          320000,
          190000,
          35000,
          29000,
          14000,
          21000,
          94000,
          69000,
          40000,
          12000,
          220000,
          150000,
          14000,
          18000,
          23000,
          69000,
          270000,
          7900,
          30000,
          36000,
          20000,
          8100,
          120000,
          71000,
          11000,
          11000,
          63000,
          220000,
          42000,
          480000,
          150000,
          97000,
          6600,
          200000,
          180000,
          4200,
          310000,
          3900,
          150000,
          79000,
          31000,
          15000,
          15000,
          10000,
          66000,
          33000,
          56000,
          7300,
          9200,
          22000,
          9700,
          13000,
          180000,
          91000,
          29000,
          210000,
          28000,
          4200,
          6500,
          61000,
          55000,
          2300,
          8800,
          35000,
          88000,
          14000,
          1900,
          68000,
          21000,
          1600,
          31000,
          9500,
          57000,
          26000,
          84000,
          15000,
          95000,
          7300,
          22000,
          5800,
          24000,
          67000,
          280000,
          38000,
          120000,
          77000,
          510000,
          13000,
          110000,
          24000,
          89000,
          67000,
          10000,
          48000,
          160000,
          31000,
          36000,
          220000,
          32000,
          130000,
          340000,
          82000,
          790000,
          31000,
          23000,
          19000,
          30000,
          22000,
          57000,
          51000,
          51000,
          4800,
          32000,
          110000,
          37000,
          310000,
          37000,
          120000,
          15000,
          43000,
          6400,
          43000,
          350000,
          5800,
          33000,
          27000,
          66000,
          19000,
          61000,
          43000,
          15000,
          220000,
          27000,
          26000,
          49000,
          240000,
          46000,
          10000,
          56000,
          7800,
          10000,
          75000,
          15000,
          43000,
          81000,
          140000,
          140000,
          120000,
          150000,
          26000,
          22000,
          17000,
          5500,
          18000,
          99000,
          140000,
          23000,
          55000,
          23000,
          100000,
          220000,
          110000,
          24000,
          19000,
          3000,
          120000,
          120000,
          42000,
          140000,
          830000,
          140000,
          89000,
          740000,
          210000,
          130000,
          60000,
          66000,
          96000,
          140000,
          18000,
          120000,
          110000,
          150000,
          31000,
          690000,
          44000,
          4500,
          8200,
          240000,
          17000,
          67000,
          97000,
          19000,
          16000,
          300000,
          4000,
          8000,
          41000,
          54000,
          54000,
          9000,
          21000,
          37000,
          380000,
          57000,
          140000,
          58000,
          35000,
          40000,
          4000,
          21000,
          130000,
          150000,
          5600,
          17000,
          39000,
          110000,
          7100,
          18000,
          110000,
          83000,
          16000,
          3400,
          46000,
          1500,
          57000,
          12000,
          110000,
          17000,
          37000,
          14000,
          23000,
          200000,
          230000,
          760000,
          130000,
          42000,
          110000,
          2400,
          7900,
          110000,
          86000,
          38000,
          31000,
          20000,
          69000,
          45000,
          23000,
          6400,
          31000,
          130000,
          35000,
          7200,
          1800,
          14000,
          68000,
          83000,
          4100,
          54000,
          31000,
          27000,
          13000,
          11000,
          86000,
          240000,
          39000,
          200000,
          76000,
          39000,
          490000,
          56000,
          54000,
          170000,
          28000,
          180000,
          18000,
          9700,
          13000,
          12000,
          260000,
          69000,
          12000,
          65000,
          10000,
          100000,
          76000,
          470000,
          60000,
          12000,
          6500,
          24000,
          30000,
          310000,
          36000,
          20000,
          400000,
          57000,
          42000,
          4400,
          14000,
          63000,
          62000,
          31000,
          64000,
          27000,
          89000,
          3200,
          26000,
          52000,
          45000,
          89000,
          150000,
          140000,
          170000,
          220000,
          30000,
          39000,
          200000,
          49000,
          86000,
          290000,
          20000,
          18000,
          180000,
          120000,
          110000,
          22000,
          81000,
          25000,
          56000,
          150000,
          110000,
          47000,
          4900,
          9400,
          10000,
          140000,
          100000,
          260000,
          110000,
          14000,
          80000,
          97000,
          19000,
          34000,
          47000,
          14000,
          59000,
          73000,
          59000,
          75000,
          18000,
          22000,
          79000,
          29000,
          10000,
          22000,
          37000,
          3600,
          7600,
          44000,
          3800,
          120000,
          36000,
          93000,
          350000,
          430000,
          10000,
          260000,
          56000,
          210000,
          62000,
          240000,
          43000,
          62000,
          7400,
          39000,
          8100,
          5400,
          1700,
          36000,
          5500,
          46000,
          5500,
          28000,
          170000,
          140000,
          34000,
          98000,
          140000,
          3500,
          220000,
          3300,
          480000,
          35000,
          62000,
          1700,
          23000,
          2200,
          610000,
          270000,
          18000,
          79000,
          51000,
          34000,
          1600,
          12000,
          22000,
          32000,
          10000,
          16000,
          180000,
          40000,
          10000,
          25000,
          72000,
          97000,
          85000,
          12000,
          9700,
          14000,
          8700,
          150000,
          6500,
          22000,
          25000,
          22000,
          36000,
          19000,
          41000,
          26000,
          20000,
          2200,
          35000,
          11000,
          36000,
          38000,
          66000,
          140000,
          100000,
          46000,
          60000,
          44000,
          160000,
          16000,
          27000,
          14000,
          84000,
          53000,
          46000,
          150000,
          2600,
          20000,
          32000,
          130000,
          27000,
          32000,
          30000,
          99000,
          310000,
          390000,
          25000,
          75000,
          110000,
          41000,
          150000,
          34000,
          200000,
          47000,
          79000,
          74000,
          42000,
          220000,
          54000,
          6000,
          82000,
          220000,
          270000,
          87000,
          140000,
          370000,
          11000,
          160000,
          82000,
          270000,
          270000,
          49000,
          39000,
          76000,
          12000,
          69000,
          67000,
          33000,
          150000,
          4100,
          13000,
          72000,
          87000,
          16000,
          76000,
          110000,
          270000,
          4500,
          120000,
          99000,
          14000,
          49000,
          4400,
          380000,
          160000,
          22000,
          37000,
          8000,
          6300,
          17000,
          34000,
          16000,
          220000,
          5900,
          16000,
          43000,
          22000,
          78000,
          52000,
          120000,
          39000,
          160000,
          80000,
          180000,
          120000,
          68000,
          7200,
          10000,
          23000,
          29000,
          14000,
          290000,
          3200000,
          240000,
          29000,
          19000,
          58000,
          15000,
          120000,
          72000,
          78000,
          43000,
          120000,
          11000,
          55000,
          23000,
          71000,
          27000,
          47000,
          22000,
          81000,
          39000,
          49000,
          93000,
          57000,
          58000,
          60000,
          310000,
          280000,
          8400,
          52000,
          48000,
          12000,
          150000,
          140000,
          51000,
          33000,
          4800,
          170000,
          13000,
          260000,
          73000,
          34000,
          230000,
          120000,
          130000,
          36000,
          310000,
          14000,
          21000,
          9100,
          100000,
          40000,
          44000,
          59000,
          42000,
          34000,
          70000,
          21000,
          40000,
          95000,
          22000,
          17000,
          290000,
          630000,
          41000,
          12000,
          5300,
          100000,
          35000,
          250000,
          330000,
          21000,
          33000,
          57000,
          13000,
          76000,
          80000,
          6200,
          92000,
          22000,
          3200,
          9100,
          30000,
          42000,
          8800,
          12000,
          84000,
          79000,
          8900,
          160000,
          83000,
          34000,
          72000,
          180000,
          23000,
          50000,
          40000,
          67000,
          10000,
          39000,
          22000,
          68000,
          47000,
          20000,
          280000,
          79000,
          68000,
          36000,
          39000,
          250000,
          19000,
          1300000,
          18000,
          70000,
          190000,
          440000,
          230000,
          190000,
          52000,
          110000,
          21000,
          420000,
          26000,
          41000,
          170000,
          1500000,
          69000,
          3000,
          480000,
          7700,
          29000,
          35000,
          23000,
          24000,
          5200,
          7200,
          16000,
          15000,
          170000,
          36000,
          17000,
          120000,
          30000,
          3200,
          7000,
          33000,
          370000,
          2600,
          160000,
          5600,
          16000,
          6800,
          12000,
          9100,
          140000,
          47000,
          6400,
          14000,
          300000,
          39000,
          14000,
          110000,
          61000,
          16000,
          18000,
          15000,
          20000,
          22000,
          13000,
          130000,
          78000,
          4200,
          220000,
          42000,
          60000,
          34000,
          60000,
          110000,
          17000,
          68000,
          8800,
          12000,
          71000,
          430000,
          12000,
          16000,
          370000,
          17000,
          16000,
          34000,
          220000,
          28000,
          60000,
          9500,
          100000,
          58000,
          68000,
          9200,
          30000,
          11000,
          220000,
          38000,
          750000,
          11000,
          7900,
          4900,
          66000,
          82000,
          24000,
          29000,
          50000,
          45000,
          9400,
          3900,
          62000,
          48000,
          33000,
          100000,
          62000,
          81000,
          8500,
          53000,
          49000,
          280000,
          170000,
          12000,
          90000,
          130000,
          47000,
          23000,
          73000,
          130000,
          22000,
          84000,
          23000,
          11000,
          120000,
          420000,
          7200,
          84000,
          29000,
          47000,
          130000,
          47000,
          9400,
          180000,
          120000,
          1700,
          50000,
          12000,
          59000,
          13000,
          2500000,
          320000,
          19000,
          100000,
          26000,
          5200,
          28000,
          33000,
          14000,
          200000,
          120000,
          68000,
          45000,
          110000,
          5400,
          12000,
          44000,
          68000,
          25000,
          29000,
          78000,
          89000,
          24000,
          11000,
          49000,
          120000,
          30000,
          130000,
          6100,
          12000,
          9500,
          3900,
          23000,
          43000,
          220000,
          310000,
          19000,
          63000,
          40000,
          150000,
          37000,
          23000,
          190000,
          120000,
          280000,
          34000,
          120000,
          35000,
          6200,
          260000,
          94000,
          32000,
          17000,
          12000,
          270000,
          18000,
          140000,
          17000,
          76000,
          25000,
          190000,
          69000,
          14000,
          68000,
          16000,
          67000,
          77000,
          19000,
          83000,
          41000,
          45000,
          52000,
          21000,
          30000,
          9800,
          38000
         ]
        }
       ],
       "layout": {
        "legend": {
         "tracegroupgap": 0
        },
        "margin": {
         "t": 60
        },
        "template": {
         "data": {
          "bar": [
           {
            "error_x": {
             "color": "#2a3f5f"
            },
            "error_y": {
             "color": "#2a3f5f"
            },
            "marker": {
             "line": {
              "color": "#E5ECF6",
              "width": 0.5
             }
            },
            "type": "bar"
           }
          ],
          "barpolar": [
           {
            "marker": {
             "line": {
              "color": "#E5ECF6",
              "width": 0.5
             }
            },
            "type": "barpolar"
           }
          ],
          "carpet": [
           {
            "aaxis": {
             "endlinecolor": "#2a3f5f",
             "gridcolor": "white",
             "linecolor": "white",
             "minorgridcolor": "white",
             "startlinecolor": "#2a3f5f"
            },
            "baxis": {
             "endlinecolor": "#2a3f5f",
             "gridcolor": "white",
             "linecolor": "white",
             "minorgridcolor": "white",
             "startlinecolor": "#2a3f5f"
            },
            "type": "carpet"
           }
          ],
          "choropleth": [
           {
            "colorbar": {
             "outlinewidth": 0,
             "ticks": ""
            },
            "type": "choropleth"
           }
          ],
          "contour": [
           {
            "colorbar": {
             "outlinewidth": 0,
             "ticks": ""
            },
            "colorscale": [
             [
              0,
              "#0d0887"
             ],
             [
              0.1111111111111111,
              "#46039f"
             ],
             [
              0.2222222222222222,
              "#7201a8"
             ],
             [
              0.3333333333333333,
              "#9c179e"
             ],
             [
              0.4444444444444444,
              "#bd3786"
             ],
             [
              0.5555555555555556,
              "#d8576b"
             ],
             [
              0.6666666666666666,
              "#ed7953"
             ],
             [
              0.7777777777777778,
              "#fb9f3a"
             ],
             [
              0.8888888888888888,
              "#fdca26"
             ],
             [
              1,
              "#f0f921"
             ]
            ],
            "type": "contour"
           }
          ],
          "contourcarpet": [
           {
            "colorbar": {
             "outlinewidth": 0,
             "ticks": ""
            },
            "type": "contourcarpet"
           }
          ],
          "heatmap": [
           {
            "colorbar": {
             "outlinewidth": 0,
             "ticks": ""
            },
            "colorscale": [
             [
              0,
              "#0d0887"
             ],
             [
              0.1111111111111111,
              "#46039f"
             ],
             [
              0.2222222222222222,
              "#7201a8"
             ],
             [
              0.3333333333333333,
              "#9c179e"
             ],
             [
              0.4444444444444444,
              "#bd3786"
             ],
             [
              0.5555555555555556,
              "#d8576b"
             ],
             [
              0.6666666666666666,
              "#ed7953"
             ],
             [
              0.7777777777777778,
              "#fb9f3a"
             ],
             [
              0.8888888888888888,
              "#fdca26"
             ],
             [
              1,
              "#f0f921"
             ]
            ],
            "type": "heatmap"
           }
          ],
          "heatmapgl": [
           {
            "colorbar": {
             "outlinewidth": 0,
             "ticks": ""
            },
            "colorscale": [
             [
              0,
              "#0d0887"
             ],
             [
              0.1111111111111111,
              "#46039f"
             ],
             [
              0.2222222222222222,
              "#7201a8"
             ],
             [
              0.3333333333333333,
              "#9c179e"
             ],
             [
              0.4444444444444444,
              "#bd3786"
             ],
             [
              0.5555555555555556,
              "#d8576b"
             ],
             [
              0.6666666666666666,
              "#ed7953"
             ],
             [
              0.7777777777777778,
              "#fb9f3a"
             ],
             [
              0.8888888888888888,
              "#fdca26"
             ],
             [
              1,
              "#f0f921"
             ]
            ],
            "type": "heatmapgl"
           }
          ],
          "histogram": [
           {
            "marker": {
             "colorbar": {
              "outlinewidth": 0,
              "ticks": ""
             }
            },
            "type": "histogram"
           }
          ],
          "histogram2d": [
           {
            "colorbar": {
             "outlinewidth": 0,
             "ticks": ""
            },
            "colorscale": [
             [
              0,
              "#0d0887"
             ],
             [
              0.1111111111111111,
              "#46039f"
             ],
             [
              0.2222222222222222,
              "#7201a8"
             ],
             [
              0.3333333333333333,
              "#9c179e"
             ],
             [
              0.4444444444444444,
              "#bd3786"
             ],
             [
              0.5555555555555556,
              "#d8576b"
             ],
             [
              0.6666666666666666,
              "#ed7953"
             ],
             [
              0.7777777777777778,
              "#fb9f3a"
             ],
             [
              0.8888888888888888,
              "#fdca26"
             ],
             [
              1,
              "#f0f921"
             ]
            ],
            "type": "histogram2d"
           }
          ],
          "histogram2dcontour": [
           {
            "colorbar": {
             "outlinewidth": 0,
             "ticks": ""
            },
            "colorscale": [
             [
              0,
              "#0d0887"
             ],
             [
              0.1111111111111111,
              "#46039f"
             ],
             [
              0.2222222222222222,
              "#7201a8"
             ],
             [
              0.3333333333333333,
              "#9c179e"
             ],
             [
              0.4444444444444444,
              "#bd3786"
             ],
             [
              0.5555555555555556,
              "#d8576b"
             ],
             [
              0.6666666666666666,
              "#ed7953"
             ],
             [
              0.7777777777777778,
              "#fb9f3a"
             ],
             [
              0.8888888888888888,
              "#fdca26"
             ],
             [
              1,
              "#f0f921"
             ]
            ],
            "type": "histogram2dcontour"
           }
          ],
          "mesh3d": [
           {
            "colorbar": {
             "outlinewidth": 0,
             "ticks": ""
            },
            "type": "mesh3d"
           }
          ],
          "parcoords": [
           {
            "line": {
             "colorbar": {
              "outlinewidth": 0,
              "ticks": ""
             }
            },
            "type": "parcoords"
           }
          ],
          "pie": [
           {
            "automargin": true,
            "type": "pie"
           }
          ],
          "scatter": [
           {
            "marker": {
             "colorbar": {
              "outlinewidth": 0,
              "ticks": ""
             }
            },
            "type": "scatter"
           }
          ],
          "scatter3d": [
           {
            "line": {
             "colorbar": {
              "outlinewidth": 0,
              "ticks": ""
             }
            },
            "marker": {
             "colorbar": {
              "outlinewidth": 0,
              "ticks": ""
             }
            },
            "type": "scatter3d"
           }
          ],
          "scattercarpet": [
           {
            "marker": {
             "colorbar": {
              "outlinewidth": 0,
              "ticks": ""
             }
            },
            "type": "scattercarpet"
           }
          ],
          "scattergeo": [
           {
            "marker": {
             "colorbar": {
              "outlinewidth": 0,
              "ticks": ""
             }
            },
            "type": "scattergeo"
           }
          ],
          "scattergl": [
           {
            "marker": {
             "colorbar": {
              "outlinewidth": 0,
              "ticks": ""
             }
            },
            "type": "scattergl"
           }
          ],
          "scattermapbox": [
           {
            "marker": {
             "colorbar": {
              "outlinewidth": 0,
              "ticks": ""
             }
            },
            "type": "scattermapbox"
           }
          ],
          "scatterpolar": [
           {
            "marker": {
             "colorbar": {
              "outlinewidth": 0,
              "ticks": ""
             }
            },
            "type": "scatterpolar"
           }
          ],
          "scatterpolargl": [
           {
            "marker": {
             "colorbar": {
              "outlinewidth": 0,
              "ticks": ""
             }
            },
            "type": "scatterpolargl"
           }
          ],
          "scatterternary": [
           {
            "marker": {
             "colorbar": {
              "outlinewidth": 0,
              "ticks": ""
             }
            },
            "type": "scatterternary"
           }
          ],
          "surface": [
           {
            "colorbar": {
             "outlinewidth": 0,
             "ticks": ""
            },
            "colorscale": [
             [
              0,
              "#0d0887"
             ],
             [
              0.1111111111111111,
              "#46039f"
             ],
             [
              0.2222222222222222,
              "#7201a8"
             ],
             [
              0.3333333333333333,
              "#9c179e"
             ],
             [
              0.4444444444444444,
              "#bd3786"
             ],
             [
              0.5555555555555556,
              "#d8576b"
             ],
             [
              0.6666666666666666,
              "#ed7953"
             ],
             [
              0.7777777777777778,
              "#fb9f3a"
             ],
             [
              0.8888888888888888,
              "#fdca26"
             ],
             [
              1,
              "#f0f921"
             ]
            ],
            "type": "surface"
           }
          ],
          "table": [
           {
            "cells": {
             "fill": {
              "color": "#EBF0F8"
             },
             "line": {
              "color": "white"
             }
            },
            "header": {
             "fill": {
              "color": "#C8D4E3"
             },
             "line": {
              "color": "white"
             }
            },
            "type": "table"
           }
          ]
         },
         "layout": {
          "annotationdefaults": {
           "arrowcolor": "#2a3f5f",
           "arrowhead": 0,
           "arrowwidth": 1
          },
          "coloraxis": {
           "colorbar": {
            "outlinewidth": 0,
            "ticks": ""
           }
          },
          "colorscale": {
           "diverging": [
            [
             0,
             "#8e0152"
            ],
            [
             0.1,
             "#c51b7d"
            ],
            [
             0.2,
             "#de77ae"
            ],
            [
             0.3,
             "#f1b6da"
            ],
            [
             0.4,
             "#fde0ef"
            ],
            [
             0.5,
             "#f7f7f7"
            ],
            [
             0.6,
             "#e6f5d0"
            ],
            [
             0.7,
             "#b8e186"
            ],
            [
             0.8,
             "#7fbc41"
            ],
            [
             0.9,
             "#4d9221"
            ],
            [
             1,
             "#276419"
            ]
           ],
           "sequential": [
            [
             0,
             "#0d0887"
            ],
            [
             0.1111111111111111,
             "#46039f"
            ],
            [
             0.2222222222222222,
             "#7201a8"
            ],
            [
             0.3333333333333333,
             "#9c179e"
            ],
            [
             0.4444444444444444,
             "#bd3786"
            ],
            [
             0.5555555555555556,
             "#d8576b"
            ],
            [
             0.6666666666666666,
             "#ed7953"
            ],
            [
             0.7777777777777778,
             "#fb9f3a"
            ],
            [
             0.8888888888888888,
             "#fdca26"
            ],
            [
             1,
             "#f0f921"
            ]
           ],
           "sequentialminus": [
            [
             0,
             "#0d0887"
            ],
            [
             0.1111111111111111,
             "#46039f"
            ],
            [
             0.2222222222222222,
             "#7201a8"
            ],
            [
             0.3333333333333333,
             "#9c179e"
            ],
            [
             0.4444444444444444,
             "#bd3786"
            ],
            [
             0.5555555555555556,
             "#d8576b"
            ],
            [
             0.6666666666666666,
             "#ed7953"
            ],
            [
             0.7777777777777778,
             "#fb9f3a"
            ],
            [
             0.8888888888888888,
             "#fdca26"
            ],
            [
             1,
             "#f0f921"
            ]
           ]
          },
          "colorway": [
           "#636efa",
           "#EF553B",
           "#00cc96",
           "#ab63fa",
           "#FFA15A",
           "#19d3f3",
           "#FF6692",
           "#B6E880",
           "#FF97FF",
           "#FECB52"
          ],
          "font": {
           "color": "#2a3f5f"
          },
          "geo": {
           "bgcolor": "white",
           "lakecolor": "white",
           "landcolor": "#E5ECF6",
           "showlakes": true,
           "showland": true,
           "subunitcolor": "white"
          },
          "hoverlabel": {
           "align": "left"
          },
          "hovermode": "closest",
          "mapbox": {
           "style": "light"
          },
          "paper_bgcolor": "white",
          "plot_bgcolor": "#E5ECF6",
          "polar": {
           "angularaxis": {
            "gridcolor": "white",
            "linecolor": "white",
            "ticks": ""
           },
           "bgcolor": "#E5ECF6",
           "radialaxis": {
            "gridcolor": "white",
            "linecolor": "white",
            "ticks": ""
           }
          },
          "scene": {
           "xaxis": {
            "backgroundcolor": "#E5ECF6",
            "gridcolor": "white",
            "gridwidth": 2,
            "linecolor": "white",
            "showbackground": true,
            "ticks": "",
            "zerolinecolor": "white"
           },
           "yaxis": {
            "backgroundcolor": "#E5ECF6",
            "gridcolor": "white",
            "gridwidth": 2,
            "linecolor": "white",
            "showbackground": true,
            "ticks": "",
            "zerolinecolor": "white"
           },
           "zaxis": {
            "backgroundcolor": "#E5ECF6",
            "gridcolor": "white",
            "gridwidth": 2,
            "linecolor": "white",
            "showbackground": true,
            "ticks": "",
            "zerolinecolor": "white"
           }
          },
          "shapedefaults": {
           "line": {
            "color": "#2a3f5f"
           }
          },
          "ternary": {
           "aaxis": {
            "gridcolor": "white",
            "linecolor": "white",
            "ticks": ""
           },
           "baxis": {
            "gridcolor": "white",
            "linecolor": "white",
            "ticks": ""
           },
           "bgcolor": "#E5ECF6",
           "caxis": {
            "gridcolor": "white",
            "linecolor": "white",
            "ticks": ""
           }
          },
          "title": {
           "x": 0.05
          },
          "xaxis": {
           "automargin": true,
           "gridcolor": "white",
           "linecolor": "white",
           "ticks": "",
           "title": {
            "standoff": 15
           },
           "zerolinecolor": "white",
           "zerolinewidth": 2
          },
          "yaxis": {
           "automargin": true,
           "gridcolor": "white",
           "linecolor": "white",
           "ticks": "",
           "title": {
            "standoff": 15
           },
           "zerolinecolor": "white",
           "zerolinewidth": 2
          }
         }
        }
       }
      },
      "text/html": [
       "<div>\n",
       "        \n",
       "        \n",
       "            <div id=\"1f79cd26-bcc7-4809-ba0b-ae86f2dcaeff\" class=\"plotly-graph-div\" style=\"height:525px; width:100%;\"></div>\n",
       "            <script type=\"text/javascript\">\n",
       "                require([\"plotly\"], function(Plotly) {\n",
       "                    window.PLOTLYENV=window.PLOTLYENV || {};\n",
       "                    \n",
       "                if (document.getElementById(\"1f79cd26-bcc7-4809-ba0b-ae86f2dcaeff\")) {\n",
       "                    Plotly.newPlot(\n",
       "                        '1f79cd26-bcc7-4809-ba0b-ae86f2dcaeff',\n",
       "                        [{\"domain\": {\"x\": [0.0, 1.0], \"y\": [0.0, 1.0]}, \"hovertemplate\": \"Course_Type=%{label}<br>Students=%{value}<extra></extra>\", \"labels\": [\"SPECIALIZATION\", \"COURSE\", \"COURSE\", \"COURSE\", \"COURSE\", \"COURSE\", \"COURSE\", \"COURSE\", \"SPECIALIZATION\", \"COURSE\", \"COURSE\", \"SPECIALIZATION\", \"SPECIALIZATION\", \"COURSE\", \"COURSE\", \"COURSE\", \"COURSE\", \"COURSE\", \"SPECIALIZATION\", \"SPECIALIZATION\", \"COURSE\", \"COURSE\", \"COURSE\", \"SPECIALIZATION\", \"COURSE\", \"COURSE\", \"SPECIALIZATION\", \"SPECIALIZATION\", \"SPECIALIZATION\", \"SPECIALIZATION\", \"COURSE\", \"COURSE\", \"COURSE\", \"SPECIALIZATION\", \"COURSE\", \"COURSE\", \"COURSE\", \"COURSE\", \"SPECIALIZATION\", \"SPECIALIZATION\", \"COURSE\", \"COURSE\", \"COURSE\", \"SPECIALIZATION\", \"SPECIALIZATION\", \"SPECIALIZATION\", \"COURSE\", \"COURSE\", \"COURSE\", \"SPECIALIZATION\", \"COURSE\", \"COURSE\", \"COURSE\", \"COURSE\", \"SPECIALIZATION\", \"COURSE\", \"SPECIALIZATION\", \"COURSE\", \"COURSE\", \"SPECIALIZATION\", \"COURSE\", \"COURSE\", \"SPECIALIZATION\", \"SPECIALIZATION\", \"SPECIALIZATION\", \"PROFESSIONAL CERTIFICATE\", \"COURSE\", \"COURSE\", \"COURSE\", \"COURSE\", \"COURSE\", \"COURSE\", \"COURSE\", \"COURSE\", \"SPECIALIZATION\", \"SPECIALIZATION\", \"COURSE\", \"COURSE\", \"COURSE\", \"COURSE\", \"COURSE\", \"COURSE\", \"COURSE\", \"SPECIALIZATION\", \"SPECIALIZATION\", \"COURSE\", \"COURSE\", \"COURSE\", \"COURSE\", \"SPECIALIZATION\", \"COURSE\", \"COURSE\", \"SPECIALIZATION\", \"COURSE\", \"SPECIALIZATION\", \"SPECIALIZATION\", \"SPECIALIZATION\", \"COURSE\", \"COURSE\", \"COURSE\", \"SPECIALIZATION\", \"COURSE\", \"COURSE\", \"COURSE\", \"COURSE\", \"COURSE\", \"COURSE\", \"COURSE\", \"COURSE\", \"SPECIALIZATION\", \"SPECIALIZATION\", \"SPECIALIZATION\", \"COURSE\", \"SPECIALIZATION\", \"COURSE\", \"SPECIALIZATION\", \"SPECIALIZATION\", \"SPECIALIZATION\", \"SPECIALIZATION\", \"COURSE\", \"COURSE\", \"SPECIALIZATION\", \"COURSE\", \"SPECIALIZATION\", \"COURSE\", \"COURSE\", \"COURSE\", \"COURSE\", \"COURSE\", \"SPECIALIZATION\", \"COURSE\", \"COURSE\", \"COURSE\", \"COURSE\", \"COURSE\", \"SPECIALIZATION\", \"COURSE\", \"SPECIALIZATION\", \"SPECIALIZATION\", \"COURSE\", \"SPECIALIZATION\", \"COURSE\", \"PROFESSIONAL CERTIFICATE\", \"SPECIALIZATION\", \"COURSE\", \"SPECIALIZATION\", \"COURSE\", \"COURSE\", \"COURSE\", \"SPECIALIZATION\", \"SPECIALIZATION\", \"COURSE\", \"SPECIALIZATION\", \"SPECIALIZATION\", \"COURSE\", \"SPECIALIZATION\", \"COURSE\", \"COURSE\", \"COURSE\", \"SPECIALIZATION\", \"COURSE\", \"COURSE\", \"COURSE\", \"COURSE\", \"COURSE\", \"COURSE\", \"COURSE\", \"COURSE\", \"COURSE\", \"COURSE\", \"COURSE\", \"COURSE\", \"COURSE\", \"SPECIALIZATION\", \"COURSE\", \"SPECIALIZATION\", \"COURSE\", \"COURSE\", \"SPECIALIZATION\", \"COURSE\", \"COURSE\", \"SPECIALIZATION\", \"COURSE\", \"SPECIALIZATION\", \"COURSE\", \"COURSE\", \"SPECIALIZATION\", \"SPECIALIZATION\", \"COURSE\", \"COURSE\", \"COURSE\", \"SPECIALIZATION\", \"PROFESSIONAL CERTIFICATE\", \"SPECIALIZATION\", \"COURSE\", \"SPECIALIZATION\", \"SPECIALIZATION\", \"COURSE\", \"COURSE\", \"SPECIALIZATION\", \"SPECIALIZATION\", \"COURSE\", \"COURSE\", \"COURSE\", \"SPECIALIZATION\", \"SPECIALIZATION\", \"COURSE\", \"COURSE\", \"COURSE\", \"COURSE\", \"COURSE\", \"SPECIALIZATION\", \"COURSE\", \"COURSE\", \"COURSE\", \"COURSE\", \"COURSE\", \"COURSE\", \"COURSE\", \"COURSE\", \"SPECIALIZATION\", \"SPECIALIZATION\", \"SPECIALIZATION\", \"SPECIALIZATION\", \"COURSE\", \"SPECIALIZATION\", \"COURSE\", \"SPECIALIZATION\", \"COURSE\", \"SPECIALIZATION\", \"SPECIALIZATION\", \"COURSE\", \"SPECIALIZATION\", \"COURSE\", \"COURSE\", \"COURSE\", \"SPECIALIZATION\", \"COURSE\", \"COURSE\", \"COURSE\", \"COURSE\", \"COURSE\", \"COURSE\", \"SPECIALIZATION\", \"COURSE\", \"COURSE\", \"COURSE\", \"COURSE\", \"COURSE\", \"COURSE\", \"COURSE\", \"COURSE\", \"COURSE\", \"COURSE\", \"SPECIALIZATION\", \"SPECIALIZATION\", \"SPECIALIZATION\", \"COURSE\", \"COURSE\", \"COURSE\", \"COURSE\", \"COURSE\", \"COURSE\", \"SPECIALIZATION\", \"COURSE\", \"COURSE\", \"SPECIALIZATION\", \"SPECIALIZATION\", \"COURSE\", \"COURSE\", \"COURSE\", \"COURSE\", \"SPECIALIZATION\", \"COURSE\", \"COURSE\", \"SPECIALIZATION\", \"SPECIALIZATION\", \"COURSE\", \"COURSE\", \"COURSE\", \"SPECIALIZATION\", \"COURSE\", \"COURSE\", \"COURSE\", \"COURSE\", \"SPECIALIZATION\", \"COURSE\", \"COURSE\", \"SPECIALIZATION\", \"COURSE\", \"COURSE\", \"SPECIALIZATION\", \"COURSE\", \"COURSE\", \"COURSE\", \"COURSE\", \"SPECIALIZATION\", \"SPECIALIZATION\", \"COURSE\", \"SPECIALIZATION\", \"COURSE\", \"COURSE\", \"COURSE\", \"COURSE\", \"SPECIALIZATION\", \"COURSE\", \"SPECIALIZATION\", \"COURSE\", \"COURSE\", \"COURSE\", \"COURSE\", \"COURSE\", \"SPECIALIZATION\", \"COURSE\", \"SPECIALIZATION\", \"SPECIALIZATION\", \"SPECIALIZATION\", \"COURSE\", \"SPECIALIZATION\", \"COURSE\", \"COURSE\", \"SPECIALIZATION\", \"COURSE\", \"COURSE\", \"COURSE\", \"COURSE\", \"SPECIALIZATION\", \"COURSE\", \"COURSE\", \"SPECIALIZATION\", \"SPECIALIZATION\", \"SPECIALIZATION\", \"SPECIALIZATION\", \"SPECIALIZATION\", \"SPECIALIZATION\", \"COURSE\", \"COURSE\", \"COURSE\", \"SPECIALIZATION\", \"SPECIALIZATION\", \"COURSE\", \"SPECIALIZATION\", \"COURSE\", \"SPECIALIZATION\", \"SPECIALIZATION\", \"COURSE\", \"COURSE\", \"COURSE\", \"SPECIALIZATION\", \"COURSE\", \"COURSE\", \"COURSE\", \"COURSE\", \"COURSE\", \"COURSE\", \"SPECIALIZATION\", \"SPECIALIZATION\", \"COURSE\", \"COURSE\", \"COURSE\", \"SPECIALIZATION\", \"SPECIALIZATION\", \"SPECIALIZATION\", \"SPECIALIZATION\", \"SPECIALIZATION\", \"COURSE\", \"COURSE\", \"COURSE\", \"SPECIALIZATION\", \"SPECIALIZATION\", \"COURSE\", \"COURSE\", \"COURSE\", \"COURSE\", \"COURSE\", \"COURSE\", \"COURSE\", \"COURSE\", \"COURSE\", \"COURSE\", \"COURSE\", \"COURSE\", \"COURSE\", \"COURSE\", \"COURSE\", \"COURSE\", \"COURSE\", \"SPECIALIZATION\", \"SPECIALIZATION\", \"COURSE\", \"COURSE\", \"PROFESSIONAL CERTIFICATE\", \"PROFESSIONAL CERTIFICATE\", \"COURSE\", \"SPECIALIZATION\", \"COURSE\", \"COURSE\", \"COURSE\", \"COURSE\", \"COURSE\", \"SPECIALIZATION\", \"COURSE\", \"COURSE\", \"COURSE\", \"SPECIALIZATION\", \"SPECIALIZATION\", \"SPECIALIZATION\", \"SPECIALIZATION\", \"SPECIALIZATION\", \"COURSE\", \"SPECIALIZATION\", \"SPECIALIZATION\", \"COURSE\", \"COURSE\", \"SPECIALIZATION\", \"SPECIALIZATION\", \"PROFESSIONAL CERTIFICATE\", \"SPECIALIZATION\", \"PROFESSIONAL CERTIFICATE\", \"COURSE\", \"PROFESSIONAL CERTIFICATE\", \"SPECIALIZATION\", \"COURSE\", \"COURSE\", \"SPECIALIZATION\", \"SPECIALIZATION\", \"SPECIALIZATION\", \"COURSE\", \"SPECIALIZATION\", \"COURSE\", \"COURSE\", \"COURSE\", \"SPECIALIZATION\", \"COURSE\", \"SPECIALIZATION\", \"COURSE\", \"SPECIALIZATION\", \"SPECIALIZATION\", \"COURSE\", \"COURSE\", \"COURSE\", \"SPECIALIZATION\", \"SPECIALIZATION\", \"SPECIALIZATION\", \"COURSE\", \"COURSE\", \"COURSE\", \"SPECIALIZATION\", \"SPECIALIZATION\", \"SPECIALIZATION\", \"COURSE\", \"SPECIALIZATION\", \"COURSE\", \"COURSE\", \"COURSE\", \"COURSE\", \"COURSE\", \"SPECIALIZATION\", \"COURSE\", \"COURSE\", \"COURSE\", \"COURSE\", \"COURSE\", \"COURSE\", \"SPECIALIZATION\", \"COURSE\", \"COURSE\", \"COURSE\", \"COURSE\", \"COURSE\", \"COURSE\", \"COURSE\", \"COURSE\", \"COURSE\", \"COURSE\", \"COURSE\", \"COURSE\", \"COURSE\", \"COURSE\", \"COURSE\", \"SPECIALIZATION\", \"COURSE\", \"COURSE\", \"SPECIALIZATION\", \"COURSE\", \"COURSE\", \"SPECIALIZATION\", \"COURSE\", \"COURSE\", \"SPECIALIZATION\", \"COURSE\", \"COURSE\", \"COURSE\", \"COURSE\", \"COURSE\", \"COURSE\", \"COURSE\", \"COURSE\", \"COURSE\", \"COURSE\", \"COURSE\", \"COURSE\", \"COURSE\", \"COURSE\", \"COURSE\", \"COURSE\", \"COURSE\", \"COURSE\", \"COURSE\", \"COURSE\", \"SPECIALIZATION\", \"COURSE\", \"COURSE\", \"SPECIALIZATION\", \"COURSE\", \"COURSE\", \"COURSE\", \"COURSE\", \"COURSE\", \"COURSE\", \"COURSE\", \"COURSE\", \"COURSE\", \"COURSE\", \"COURSE\", \"COURSE\", \"COURSE\", \"COURSE\", \"COURSE\", \"SPECIALIZATION\", \"COURSE\", \"SPECIALIZATION\", \"SPECIALIZATION\", \"SPECIALIZATION\", \"COURSE\", \"SPECIALIZATION\", \"COURSE\", \"COURSE\", \"COURSE\", \"COURSE\", \"SPECIALIZATION\", \"SPECIALIZATION\", \"COURSE\", \"COURSE\", \"SPECIALIZATION\", \"COURSE\", \"SPECIALIZATION\", \"SPECIALIZATION\", \"SPECIALIZATION\", \"SPECIALIZATION\", \"SPECIALIZATION\", \"SPECIALIZATION\", \"SPECIALIZATION\", \"SPECIALIZATION\", \"SPECIALIZATION\", \"COURSE\", \"COURSE\", \"COURSE\", \"COURSE\", \"COURSE\", \"SPECIALIZATION\", \"COURSE\", \"COURSE\", \"SPECIALIZATION\", \"COURSE\", \"COURSE\", \"SPECIALIZATION\", \"COURSE\", \"COURSE\", \"SPECIALIZATION\", \"COURSE\", \"SPECIALIZATION\", \"COURSE\", \"COURSE\", \"COURSE\", \"COURSE\", \"SPECIALIZATION\", \"SPECIALIZATION\", \"COURSE\", \"COURSE\", \"COURSE\", \"SPECIALIZATION\", \"COURSE\", \"SPECIALIZATION\", \"COURSE\", \"SPECIALIZATION\", \"SPECIALIZATION\", \"COURSE\", \"SPECIALIZATION\", \"COURSE\", \"COURSE\", \"COURSE\", \"SPECIALIZATION\", \"COURSE\", \"SPECIALIZATION\", \"SPECIALIZATION\", \"COURSE\", \"COURSE\", \"COURSE\", \"SPECIALIZATION\", \"COURSE\", \"SPECIALIZATION\", \"SPECIALIZATION\", \"COURSE\", \"COURSE\", \"COURSE\", \"COURSE\", \"COURSE\", \"COURSE\", \"COURSE\", \"SPECIALIZATION\", \"SPECIALIZATION\", \"COURSE\", \"COURSE\", \"COURSE\", \"COURSE\", \"COURSE\", \"SPECIALIZATION\", \"COURSE\", \"SPECIALIZATION\", \"COURSE\", \"COURSE\", \"COURSE\", \"SPECIALIZATION\", \"COURSE\", \"SPECIALIZATION\", \"COURSE\", \"COURSE\", \"COURSE\", \"SPECIALIZATION\", \"COURSE\", \"COURSE\", \"SPECIALIZATION\", \"SPECIALIZATION\", \"COURSE\", \"COURSE\", \"COURSE\", \"SPECIALIZATION\", \"COURSE\", \"COURSE\", \"SPECIALIZATION\", \"SPECIALIZATION\", \"COURSE\", \"SPECIALIZATION\", \"SPECIALIZATION\", \"SPECIALIZATION\", \"COURSE\", \"SPECIALIZATION\", \"COURSE\", \"COURSE\", \"COURSE\", \"COURSE\", \"SPECIALIZATION\", \"SPECIALIZATION\", \"COURSE\", \"COURSE\", \"COURSE\", \"COURSE\", \"COURSE\", \"COURSE\", \"SPECIALIZATION\", \"SPECIALIZATION\", \"COURSE\", \"COURSE\", \"COURSE\", \"SPECIALIZATION\", \"SPECIALIZATION\", \"COURSE\", \"COURSE\", \"COURSE\", \"COURSE\", \"COURSE\", \"COURSE\", \"COURSE\", \"COURSE\", \"SPECIALIZATION\", \"COURSE\", \"COURSE\", \"SPECIALIZATION\", \"SPECIALIZATION\", \"COURSE\", \"COURSE\", \"COURSE\", \"COURSE\", \"COURSE\", \"COURSE\", \"COURSE\", \"COURSE\", \"SPECIALIZATION\", \"COURSE\", \"COURSE\", \"COURSE\", \"COURSE\", \"SPECIALIZATION\", \"COURSE\", \"SPECIALIZATION\", \"COURSE\", \"COURSE\", \"SPECIALIZATION\", \"COURSE\", \"COURSE\", \"SPECIALIZATION\", \"COURSE\", \"COURSE\", \"SPECIALIZATION\", \"COURSE\", \"COURSE\", \"SPECIALIZATION\", \"COURSE\", \"PROFESSIONAL CERTIFICATE\", \"PROFESSIONAL CERTIFICATE\", \"COURSE\", \"SPECIALIZATION\", \"SPECIALIZATION\", \"COURSE\", \"COURSE\", \"SPECIALIZATION\", \"COURSE\", \"COURSE\", \"SPECIALIZATION\", \"COURSE\", \"SPECIALIZATION\", \"SPECIALIZATION\", \"COURSE\", \"COURSE\", \"COURSE\", \"COURSE\", \"SPECIALIZATION\", \"COURSE\", \"COURSE\", \"COURSE\", \"SPECIALIZATION\", \"SPECIALIZATION\", \"COURSE\", \"SPECIALIZATION\", \"COURSE\", \"COURSE\", \"SPECIALIZATION\", \"SPECIALIZATION\", \"COURSE\", \"SPECIALIZATION\", \"COURSE\", \"COURSE\", \"PROFESSIONAL CERTIFICATE\", \"SPECIALIZATION\", \"COURSE\", \"COURSE\", \"COURSE\", \"COURSE\", \"COURSE\", \"COURSE\", \"SPECIALIZATION\", \"SPECIALIZATION\", \"SPECIALIZATION\", \"COURSE\", \"SPECIALIZATION\", \"COURSE\", \"SPECIALIZATION\", \"COURSE\", \"SPECIALIZATION\", \"SPECIALIZATION\", \"SPECIALIZATION\", \"COURSE\", \"COURSE\", \"COURSE\", \"COURSE\", \"COURSE\", \"COURSE\", \"SPECIALIZATION\", \"COURSE\", \"SPECIALIZATION\", \"COURSE\", \"COURSE\", \"COURSE\", \"SPECIALIZATION\", \"COURSE\", \"SPECIALIZATION\", \"COURSE\", \"SPECIALIZATION\", \"COURSE\", \"SPECIALIZATION\", \"SPECIALIZATION\", \"COURSE\", \"COURSE\", \"COURSE\", \"COURSE\", \"COURSE\", \"SPECIALIZATION\", \"SPECIALIZATION\", \"COURSE\", \"COURSE\", \"COURSE\", \"SPECIALIZATION\", \"COURSE\", \"COURSE\", \"SPECIALIZATION\", \"SPECIALIZATION\", \"COURSE\", \"COURSE\", \"SPECIALIZATION\", \"COURSE\", \"COURSE\", \"COURSE\", \"COURSE\", \"COURSE\", \"COURSE\", \"COURSE\", \"COURSE\", \"COURSE\", \"COURSE\", \"SPECIALIZATION\", \"COURSE\", \"COURSE\", \"COURSE\", \"COURSE\", \"COURSE\", \"SPECIALIZATION\", \"COURSE\", \"COURSE\", \"COURSE\", \"SPECIALIZATION\", \"COURSE\", \"COURSE\", \"COURSE\", \"COURSE\", \"COURSE\", \"SPECIALIZATION\", \"COURSE\", \"COURSE\", \"COURSE\", \"SPECIALIZATION\", \"PROFESSIONAL CERTIFICATE\", \"SPECIALIZATION\", \"COURSE\", \"COURSE\", \"COURSE\", \"COURSE\", \"COURSE\", \"SPECIALIZATION\", \"COURSE\", \"COURSE\", \"COURSE\", \"COURSE\", \"SPECIALIZATION\", \"SPECIALIZATION\", \"COURSE\", \"COURSE\", \"SPECIALIZATION\", \"SPECIALIZATION\", \"COURSE\", \"COURSE\", \"COURSE\", \"SPECIALIZATION\", \"COURSE\", \"COURSE\", \"SPECIALIZATION\", \"SPECIALIZATION\", \"COURSE\", \"SPECIALIZATION\", \"SPECIALIZATION\", \"COURSE\", \"COURSE\", \"COURSE\", \"COURSE\", \"COURSE\", \"COURSE\", \"COURSE\", \"COURSE\", \"COURSE\", \"COURSE\", \"COURSE\", \"COURSE\", \"COURSE\", \"SPECIALIZATION\", \"COURSE\", \"COURSE\", \"SPECIALIZATION\", \"SPECIALIZATION\", \"SPECIALIZATION\", \"SPECIALIZATION\", \"COURSE\", \"SPECIALIZATION\", \"SPECIALIZATION\", \"COURSE\", \"COURSE\", \"COURSE\", \"SPECIALIZATION\", \"COURSE\", \"SPECIALIZATION\", \"SPECIALIZATION\", \"SPECIALIZATION\"], \"legendgroup\": \"\", \"name\": \"\", \"showlegend\": true, \"type\": \"pie\", \"values\": [5300.0, 17000.0, 130000.0, 91000.0, 320000.0, 39000.0, 350000.0, 2400.0, 61000.0, 12000.0, 4000.0, 13000.0, 130000.0, 11000.0, 27000.0, 110000.0, 13000.0, 6600.0, 540000.0, 22000.0, 2900.0, 80000.0, 9900.0, 110000.0, 23000.0, 9200.0, 78000.0, 320000.0, 190000.0, 35000.0, 29000.0, 14000.0, 21000.0, 94000.0, 69000.0, 40000.0, 12000.0, 220000.0, 150000.0, 14000.0, 18000.0, 23000.0, 69000.0, 270000.0, 7900.0, 30000.0, 36000.0, 20000.0, 8100.0, 120000.0, 71000.0, 11000.0, 11000.0, 63000.0, 220000.0, 42000.0, 480000.0, 150000.0, 97000.0, 6600.0, 200000.0, 180000.0, 4200.0, 310000.0, 3900.0, 150000.0, 79000.0, 31000.0, 15000.0, 15000.0, 10000.0, 66000.0, 33000.0, 56000.0, 7300.0, 9200.0, 22000.0, 9700.0, 13000.0, 180000.0, 91000.0, 29000.0, 210000.0, 28000.0, 4200.0, 6500.0, 61000.0, 55000.0, 2300.0, 8800.0, 35000.0, 88000.0, 14000.0, 1900.0, 68000.0, 21000.0, 1600.0, 31000.0, 9500.0, 57000.0, 26000.0, 84000.0, 15000.0, 95000.0, 7300.0, 22000.0, 5800.0, 24000.0, 67000.0, 280000.0, 38000.0, 120000.0, 77000.0, 510000.0, 13000.0, 110000.0, 24000.0, 89000.0, 67000.0, 10000.0, 48000.0, 160000.0, 31000.0, 36000.0, 220000.0, 32000.0, 130000.0, 340000.0, 82000.0, 790000.0, 31000.0, 23000.0, 19000.0, 30000.0, 22000.0, 57000.0, 51000.0, 51000.0, 4800.0, 32000.0, 110000.0, 37000.0, 310000.0, 37000.0, 120000.0, 15000.0, 43000.0, 6400.0, 43000.0, 350000.0, 5800.0, 33000.0, 27000.0, 66000.0, 19000.0, 61000.0, 43000.0, 15000.0, 220000.0, 27000.0, 26000.0, 49000.0, 240000.0, 46000.0, 10000.0, 56000.0, 7800.0, 10000.0, 75000.0, 15000.0, 43000.0, 81000.0, 140000.0, 140000.0, 120000.0, 150000.0, 26000.0, 22000.0, 17000.0, 5500.0, 18000.0, 99000.0, 140000.0, 23000.0, 55000.0, 23000.0, 100000.0, 220000.0, 110000.0, 24000.0, 19000.0, 3000.0, 120000.0, 120000.0, 42000.0, 140000.0, 830000.0, 140000.0, 89000.0, 740000.0, 210000.0, 130000.0, 60000.0, 66000.0, 96000.0, 140000.0, 18000.0, 120000.0, 110000.0, 150000.0, 31000.0, 690000.0, 44000.0, 4500.0, 8200.0, 240000.0, 17000.0, 67000.0, 97000.0, 19000.0, 16000.0, 300000.0, 4000.0, 8000.0, 41000.0, 54000.0, 54000.0, 9000.0, 21000.0, 37000.0, 380000.0, 57000.0, 140000.0, 58000.0, 35000.0, 40000.0, 4000.0, 21000.0, 130000.0, 150000.0, 5600.0, 17000.0, 39000.0, 110000.0, 7100.0, 18000.0, 110000.0, 83000.0, 16000.0, 3400.0, 46000.0, 1500.0, 57000.0, 12000.0, 110000.0, 17000.0, 37000.0, 14000.0, 23000.0, 200000.0, 230000.0, 760000.0, 130000.0, 42000.0, 110000.0, 2400.0, 7900.0, 110000.0, 86000.0, 38000.0, 31000.0, 20000.0, 69000.0, 45000.0, 23000.0, 6400.0, 31000.0, 130000.0, 35000.0, 7200.0, 1800.0, 14000.0, 68000.0, 83000.0, 4100.0, 54000.0, 31000.0, 27000.0, 13000.0, 11000.0, 86000.0, 240000.0, 39000.0, 200000.0, 76000.0, 39000.0, 490000.0, 56000.0, 54000.0, 170000.0, 28000.0, 180000.0, 18000.0, 9700.0, 13000.0, 12000.0, 260000.0, 69000.0, 12000.0, 65000.0, 10000.0, 100000.0, 76000.0, 470000.0, 60000.0, 12000.0, 6500.0, 24000.0, 30000.0, 310000.0, 36000.0, 20000.0, 400000.0, 57000.0, 42000.0, 4400.0, 14000.0, 63000.0, 62000.0, 31000.0, 64000.0, 27000.0, 89000.0, 3200.0, 26000.0, 52000.0, 45000.0, 89000.0, 150000.0, 140000.0, 170000.0, 220000.0, 30000.0, 39000.0, 200000.0, 49000.0, 86000.0, 290000.0, 20000.0, 18000.0, 180000.0, 120000.0, 110000.0, 22000.0, 81000.0, 25000.0, 56000.0, 150000.0, 110000.0, 47000.0, 4900.0, 9400.0, 10000.0, 140000.0, 100000.0, 260000.0, 110000.0, 14000.0, 80000.0, 97000.0, 19000.0, 34000.0, 47000.0, 14000.0, 59000.0, 73000.0, 59000.0, 75000.0, 18000.0, 22000.0, 79000.0, 29000.0, 10000.0, 22000.0, 37000.0, 3600.0, 7600.0, 44000.0, 3800.0, 120000.0, 36000.0, 93000.0, 350000.0, 430000.0, 10000.0, 260000.0, 56000.0, 210000.0, 62000.0, 240000.0, 43000.0, 62000.0, 7400.0, 39000.0, 8100.0, 5400.0, 1700.0, 36000.0, 5500.0, 46000.0, 5500.0, 28000.0, 170000.0, 140000.0, 34000.0, 98000.0, 140000.0, 3500.0, 220000.0, 3300.0, 480000.0, 35000.0, 62000.0, 1700.0, 23000.0, 2200.0, 610000.0, 270000.0, 18000.0, 79000.0, 51000.0, 34000.0, 1600.0, 12000.0, 22000.0, 32000.0, 10000.0, 16000.0, 180000.0, 40000.0, 10000.0, 25000.0, 72000.0, 97000.0, 85000.0, 12000.0, 9700.0, 14000.0, 8700.0, 150000.0, 6500.0, 22000.0, 25000.0, 22000.0, 36000.0, 19000.0, 41000.0, 26000.0, 20000.0, 2200.0, 35000.0, 11000.0, 36000.0, 38000.0, 66000.0, 140000.0, 100000.0, 46000.0, 60000.0, 44000.0, 160000.0, 16000.0, 27000.0, 14000.0, 84000.0, 53000.0, 46000.0, 150000.0, 2600.0, 20000.0, 32000.0, 130000.0, 27000.0, 32000.0, 30000.0, 99000.0, 310000.0, 390000.0, 25000.0, 75000.0, 110000.0, 41000.0, 150000.0, 34000.0, 200000.0, 47000.0, 79000.0, 74000.0, 42000.0, 220000.0, 54000.0, 6000.0, 82000.0, 220000.0, 270000.0, 87000.0, 140000.0, 370000.0, 11000.0, 160000.0, 82000.0, 270000.0, 270000.0, 49000.0, 39000.0, 76000.0, 12000.0, 69000.0, 67000.0, 33000.0, 150000.0, 4100.0, 13000.0, 72000.0, 87000.0, 16000.0, 76000.0, 110000.0, 270000.0, 4500.0, 120000.0, 99000.0, 14000.0, 49000.0, 4400.0, 380000.0, 160000.0, 22000.0, 37000.0, 8000.0, 6300.0, 17000.0, 34000.0, 16000.0, 220000.0, 5900.0, 16000.0, 43000.0, 22000.0, 78000.0, 52000.0, 120000.0, 39000.0, 160000.0, 80000.0, 180000.0, 120000.0, 68000.0, 7200.0, 10000.0, 23000.0, 29000.0, 14000.0, 290000.0, 3200000.0, 240000.0, 29000.0, 19000.0, 58000.0, 15000.0, 120000.0, 72000.0, 78000.0, 43000.0, 120000.0, 11000.0, 55000.0, 23000.0, 71000.0, 27000.0, 47000.0, 22000.0, 81000.0, 39000.0, 49000.0, 93000.0, 57000.0, 58000.0, 60000.0, 310000.0, 280000.0, 8400.0, 52000.0, 48000.0, 12000.0, 150000.0, 140000.0, 51000.0, 33000.0, 4800.0, 170000.0, 13000.0, 260000.0, 73000.0, 34000.0, 230000.0, 120000.0, 130000.0, 36000.0, 310000.0, 14000.0, 21000.0, 9100.0, 100000.0, 40000.0, 44000.0, 59000.0, 42000.0, 34000.0, 70000.0, 21000.0, 40000.0, 95000.0, 22000.0, 17000.0, 290000.0, 630000.0, 41000.0, 12000.0, 5300.0, 100000.0, 35000.0, 250000.0, 330000.0, 21000.0, 33000.0, 57000.0, 13000.0, 76000.0, 80000.0, 6200.0, 92000.0, 22000.0, 3200.0, 9100.0, 30000.0, 42000.0, 8800.0, 12000.0, 84000.0, 79000.0, 8900.0, 160000.0, 83000.0, 34000.0, 72000.0, 180000.0, 23000.0, 50000.0, 40000.0, 67000.0, 10000.0, 39000.0, 22000.0, 68000.0, 47000.0, 20000.0, 280000.0, 79000.0, 68000.0, 36000.0, 39000.0, 250000.0, 19000.0, 1300000.0, 18000.0, 70000.0, 190000.0, 440000.0, 230000.0, 190000.0, 52000.0, 110000.0, 21000.0, 420000.0, 26000.0, 41000.0, 170000.0, 1500000.0, 69000.0, 3000.0, 480000.0, 7700.0, 29000.0, 35000.0, 23000.0, 24000.0, 5200.0, 7200.0, 16000.0, 15000.0, 170000.0, 36000.0, 17000.0, 120000.0, 30000.0, 3200.0, 7000.0, 33000.0, 370000.0, 2600.0, 160000.0, 5600.0, 16000.0, 6800.0, 12000.0, 9100.0, 140000.0, 47000.0, 6400.0, 14000.0, 300000.0, 39000.0, 14000.0, 110000.0, 61000.0, 16000.0, 18000.0, 15000.0, 20000.0, 22000.0, 13000.0, 130000.0, 78000.0, 4200.0, 220000.0, 42000.0, 60000.0, 34000.0, 60000.0, 110000.0, 17000.0, 68000.0, 8800.0, 12000.0, 71000.0, 430000.0, 12000.0, 16000.0, 370000.0, 17000.0, 16000.0, 34000.0, 220000.0, 28000.0, 60000.0, 9500.0, 100000.0, 58000.0, 68000.0, 9200.0, 30000.0, 11000.0, 220000.0, 38000.0, 750000.0, 11000.0, 7900.0, 4900.0, 66000.0, 82000.0, 24000.0, 29000.0, 50000.0, 45000.0, 9400.0, 3900.0, 62000.0, 48000.0, 33000.0, 100000.0, 62000.0, 81000.0, 8500.0, 53000.0, 49000.0, 280000.0, 170000.0, 12000.0, 90000.0, 130000.0, 47000.0, 23000.0, 73000.0, 130000.0, 22000.0, 84000.0, 23000.0, 11000.0, 120000.0, 420000.0, 7200.0, 84000.0, 29000.0, 47000.0, 130000.0, 47000.0, 9400.0, 180000.0, 120000.0, 1700.0, 50000.0, 12000.0, 59000.0, 13000.0, 2500000.0, 320000.0, 19000.0, 100000.0, 26000.0, 5200.0, 28000.0, 33000.0, 14000.0, 200000.0, 120000.0, 68000.0, 45000.0, 110000.0, 5400.0, 12000.0, 44000.0, 68000.0, 25000.0, 29000.0, 78000.0, 89000.0, 24000.0, 11000.0, 49000.0, 120000.0, 30000.0, 130000.0, 6100.0, 12000.0, 9500.0, 3900.0, 23000.0, 43000.0, 220000.0, 310000.0, 19000.0, 63000.0, 40000.0, 150000.0, 37000.0, 23000.0, 190000.0, 120000.0, 280000.0, 34000.0, 120000.0, 35000.0, 6200.0, 260000.0, 94000.0, 32000.0, 17000.0, 12000.0, 270000.0, 18000.0, 140000.0, 17000.0, 76000.0, 25000.0, 190000.0, 69000.0, 14000.0, 68000.0, 16000.0, 67000.0, 77000.0, 19000.0, 83000.0, 41000.0, 45000.0, 52000.0, 21000.0, 30000.0, 9800.0, 38000.0]}],\n",
       "                        {\"legend\": {\"tracegroupgap\": 0}, \"margin\": {\"t\": 60}, \"template\": {\"data\": {\"bar\": [{\"error_x\": {\"color\": \"#2a3f5f\"}, \"error_y\": {\"color\": \"#2a3f5f\"}, \"marker\": {\"line\": {\"color\": \"#E5ECF6\", \"width\": 0.5}}, \"type\": \"bar\"}], \"barpolar\": [{\"marker\": {\"line\": {\"color\": \"#E5ECF6\", \"width\": 0.5}}, \"type\": \"barpolar\"}], \"carpet\": [{\"aaxis\": {\"endlinecolor\": \"#2a3f5f\", \"gridcolor\": \"white\", \"linecolor\": \"white\", \"minorgridcolor\": \"white\", \"startlinecolor\": \"#2a3f5f\"}, \"baxis\": {\"endlinecolor\": \"#2a3f5f\", \"gridcolor\": \"white\", \"linecolor\": \"white\", \"minorgridcolor\": \"white\", \"startlinecolor\": \"#2a3f5f\"}, \"type\": \"carpet\"}], \"choropleth\": [{\"colorbar\": {\"outlinewidth\": 0, \"ticks\": \"\"}, \"type\": \"choropleth\"}], \"contour\": [{\"colorbar\": {\"outlinewidth\": 0, \"ticks\": \"\"}, \"colorscale\": [[0.0, \"#0d0887\"], [0.1111111111111111, \"#46039f\"], [0.2222222222222222, \"#7201a8\"], [0.3333333333333333, \"#9c179e\"], [0.4444444444444444, \"#bd3786\"], [0.5555555555555556, \"#d8576b\"], [0.6666666666666666, \"#ed7953\"], [0.7777777777777778, \"#fb9f3a\"], [0.8888888888888888, \"#fdca26\"], [1.0, \"#f0f921\"]], \"type\": \"contour\"}], \"contourcarpet\": [{\"colorbar\": {\"outlinewidth\": 0, \"ticks\": \"\"}, \"type\": \"contourcarpet\"}], \"heatmap\": [{\"colorbar\": {\"outlinewidth\": 0, \"ticks\": \"\"}, \"colorscale\": [[0.0, \"#0d0887\"], [0.1111111111111111, \"#46039f\"], [0.2222222222222222, \"#7201a8\"], [0.3333333333333333, \"#9c179e\"], [0.4444444444444444, \"#bd3786\"], [0.5555555555555556, \"#d8576b\"], [0.6666666666666666, \"#ed7953\"], [0.7777777777777778, \"#fb9f3a\"], [0.8888888888888888, \"#fdca26\"], [1.0, \"#f0f921\"]], \"type\": \"heatmap\"}], \"heatmapgl\": [{\"colorbar\": {\"outlinewidth\": 0, \"ticks\": \"\"}, \"colorscale\": [[0.0, \"#0d0887\"], [0.1111111111111111, \"#46039f\"], [0.2222222222222222, \"#7201a8\"], [0.3333333333333333, \"#9c179e\"], [0.4444444444444444, \"#bd3786\"], [0.5555555555555556, \"#d8576b\"], [0.6666666666666666, \"#ed7953\"], [0.7777777777777778, \"#fb9f3a\"], [0.8888888888888888, \"#fdca26\"], [1.0, \"#f0f921\"]], \"type\": \"heatmapgl\"}], \"histogram\": [{\"marker\": {\"colorbar\": {\"outlinewidth\": 0, \"ticks\": \"\"}}, \"type\": \"histogram\"}], \"histogram2d\": [{\"colorbar\": {\"outlinewidth\": 0, \"ticks\": \"\"}, \"colorscale\": [[0.0, \"#0d0887\"], [0.1111111111111111, \"#46039f\"], [0.2222222222222222, \"#7201a8\"], [0.3333333333333333, \"#9c179e\"], [0.4444444444444444, \"#bd3786\"], [0.5555555555555556, \"#d8576b\"], [0.6666666666666666, \"#ed7953\"], [0.7777777777777778, \"#fb9f3a\"], [0.8888888888888888, \"#fdca26\"], [1.0, \"#f0f921\"]], \"type\": \"histogram2d\"}], \"histogram2dcontour\": [{\"colorbar\": {\"outlinewidth\": 0, \"ticks\": \"\"}, \"colorscale\": [[0.0, \"#0d0887\"], [0.1111111111111111, \"#46039f\"], [0.2222222222222222, \"#7201a8\"], [0.3333333333333333, \"#9c179e\"], [0.4444444444444444, \"#bd3786\"], [0.5555555555555556, \"#d8576b\"], [0.6666666666666666, \"#ed7953\"], [0.7777777777777778, \"#fb9f3a\"], [0.8888888888888888, \"#fdca26\"], [1.0, \"#f0f921\"]], \"type\": \"histogram2dcontour\"}], \"mesh3d\": [{\"colorbar\": {\"outlinewidth\": 0, \"ticks\": \"\"}, \"type\": \"mesh3d\"}], \"parcoords\": [{\"line\": {\"colorbar\": {\"outlinewidth\": 0, \"ticks\": \"\"}}, \"type\": \"parcoords\"}], \"pie\": [{\"automargin\": true, \"type\": \"pie\"}], \"scatter\": [{\"marker\": {\"colorbar\": {\"outlinewidth\": 0, \"ticks\": \"\"}}, \"type\": \"scatter\"}], \"scatter3d\": [{\"line\": {\"colorbar\": {\"outlinewidth\": 0, \"ticks\": \"\"}}, \"marker\": {\"colorbar\": {\"outlinewidth\": 0, \"ticks\": \"\"}}, \"type\": \"scatter3d\"}], \"scattercarpet\": [{\"marker\": {\"colorbar\": {\"outlinewidth\": 0, \"ticks\": \"\"}}, \"type\": \"scattercarpet\"}], \"scattergeo\": [{\"marker\": {\"colorbar\": {\"outlinewidth\": 0, \"ticks\": \"\"}}, \"type\": \"scattergeo\"}], \"scattergl\": [{\"marker\": {\"colorbar\": {\"outlinewidth\": 0, \"ticks\": \"\"}}, \"type\": \"scattergl\"}], \"scattermapbox\": [{\"marker\": {\"colorbar\": {\"outlinewidth\": 0, \"ticks\": \"\"}}, \"type\": \"scattermapbox\"}], \"scatterpolar\": [{\"marker\": {\"colorbar\": {\"outlinewidth\": 0, \"ticks\": \"\"}}, \"type\": \"scatterpolar\"}], \"scatterpolargl\": [{\"marker\": {\"colorbar\": {\"outlinewidth\": 0, \"ticks\": \"\"}}, \"type\": \"scatterpolargl\"}], \"scatterternary\": [{\"marker\": {\"colorbar\": {\"outlinewidth\": 0, \"ticks\": \"\"}}, \"type\": \"scatterternary\"}], \"surface\": [{\"colorbar\": {\"outlinewidth\": 0, \"ticks\": \"\"}, \"colorscale\": [[0.0, \"#0d0887\"], [0.1111111111111111, \"#46039f\"], [0.2222222222222222, \"#7201a8\"], [0.3333333333333333, \"#9c179e\"], [0.4444444444444444, \"#bd3786\"], [0.5555555555555556, \"#d8576b\"], [0.6666666666666666, \"#ed7953\"], [0.7777777777777778, \"#fb9f3a\"], [0.8888888888888888, \"#fdca26\"], [1.0, \"#f0f921\"]], \"type\": \"surface\"}], \"table\": [{\"cells\": {\"fill\": {\"color\": \"#EBF0F8\"}, \"line\": {\"color\": \"white\"}}, \"header\": {\"fill\": {\"color\": \"#C8D4E3\"}, \"line\": {\"color\": \"white\"}}, \"type\": \"table\"}]}, \"layout\": {\"annotationdefaults\": {\"arrowcolor\": \"#2a3f5f\", \"arrowhead\": 0, \"arrowwidth\": 1}, \"coloraxis\": {\"colorbar\": {\"outlinewidth\": 0, \"ticks\": \"\"}}, \"colorscale\": {\"diverging\": [[0, \"#8e0152\"], [0.1, \"#c51b7d\"], [0.2, \"#de77ae\"], [0.3, \"#f1b6da\"], [0.4, \"#fde0ef\"], [0.5, \"#f7f7f7\"], [0.6, \"#e6f5d0\"], [0.7, \"#b8e186\"], [0.8, \"#7fbc41\"], [0.9, \"#4d9221\"], [1, \"#276419\"]], \"sequential\": [[0.0, \"#0d0887\"], [0.1111111111111111, \"#46039f\"], [0.2222222222222222, \"#7201a8\"], [0.3333333333333333, \"#9c179e\"], [0.4444444444444444, \"#bd3786\"], [0.5555555555555556, \"#d8576b\"], [0.6666666666666666, \"#ed7953\"], [0.7777777777777778, \"#fb9f3a\"], [0.8888888888888888, \"#fdca26\"], [1.0, \"#f0f921\"]], \"sequentialminus\": [[0.0, \"#0d0887\"], [0.1111111111111111, \"#46039f\"], [0.2222222222222222, \"#7201a8\"], [0.3333333333333333, \"#9c179e\"], [0.4444444444444444, \"#bd3786\"], [0.5555555555555556, \"#d8576b\"], [0.6666666666666666, \"#ed7953\"], [0.7777777777777778, \"#fb9f3a\"], [0.8888888888888888, \"#fdca26\"], [1.0, \"#f0f921\"]]}, \"colorway\": [\"#636efa\", \"#EF553B\", \"#00cc96\", \"#ab63fa\", \"#FFA15A\", \"#19d3f3\", \"#FF6692\", \"#B6E880\", \"#FF97FF\", \"#FECB52\"], \"font\": {\"color\": \"#2a3f5f\"}, \"geo\": {\"bgcolor\": \"white\", \"lakecolor\": \"white\", \"landcolor\": \"#E5ECF6\", \"showlakes\": true, \"showland\": true, \"subunitcolor\": \"white\"}, \"hoverlabel\": {\"align\": \"left\"}, \"hovermode\": \"closest\", \"mapbox\": {\"style\": \"light\"}, \"paper_bgcolor\": \"white\", \"plot_bgcolor\": \"#E5ECF6\", \"polar\": {\"angularaxis\": {\"gridcolor\": \"white\", \"linecolor\": \"white\", \"ticks\": \"\"}, \"bgcolor\": \"#E5ECF6\", \"radialaxis\": {\"gridcolor\": \"white\", \"linecolor\": \"white\", \"ticks\": \"\"}}, \"scene\": {\"xaxis\": {\"backgroundcolor\": \"#E5ECF6\", \"gridcolor\": \"white\", \"gridwidth\": 2, \"linecolor\": \"white\", \"showbackground\": true, \"ticks\": \"\", \"zerolinecolor\": \"white\"}, \"yaxis\": {\"backgroundcolor\": \"#E5ECF6\", \"gridcolor\": \"white\", \"gridwidth\": 2, \"linecolor\": \"white\", \"showbackground\": true, \"ticks\": \"\", \"zerolinecolor\": \"white\"}, \"zaxis\": {\"backgroundcolor\": \"#E5ECF6\", \"gridcolor\": \"white\", \"gridwidth\": 2, \"linecolor\": \"white\", \"showbackground\": true, \"ticks\": \"\", \"zerolinecolor\": \"white\"}}, \"shapedefaults\": {\"line\": {\"color\": \"#2a3f5f\"}}, \"ternary\": {\"aaxis\": {\"gridcolor\": \"white\", \"linecolor\": \"white\", \"ticks\": \"\"}, \"baxis\": {\"gridcolor\": \"white\", \"linecolor\": \"white\", \"ticks\": \"\"}, \"bgcolor\": \"#E5ECF6\", \"caxis\": {\"gridcolor\": \"white\", \"linecolor\": \"white\", \"ticks\": \"\"}}, \"title\": {\"x\": 0.05}, \"xaxis\": {\"automargin\": true, \"gridcolor\": \"white\", \"linecolor\": \"white\", \"ticks\": \"\", \"title\": {\"standoff\": 15}, \"zerolinecolor\": \"white\", \"zerolinewidth\": 2}, \"yaxis\": {\"automargin\": true, \"gridcolor\": \"white\", \"linecolor\": \"white\", \"ticks\": \"\", \"title\": {\"standoff\": 15}, \"zerolinecolor\": \"white\", \"zerolinewidth\": 2}}}},\n",
       "                        {\"responsive\": true}\n",
       "                    ).then(function(){\n",
       "                            \n",
       "var gd = document.getElementById('1f79cd26-bcc7-4809-ba0b-ae86f2dcaeff');\n",
       "var x = new MutationObserver(function (mutations, observer) {{\n",
       "        var display = window.getComputedStyle(gd).display;\n",
       "        if (!display || display === 'none') {{\n",
       "            console.log([gd, 'removed!']);\n",
       "            Plotly.purge(gd);\n",
       "            observer.disconnect();\n",
       "        }}\n",
       "}});\n",
       "\n",
       "// Listen for the removal of the full notebook cells\n",
       "var notebookContainer = gd.closest('#notebook-container');\n",
       "if (notebookContainer) {{\n",
       "    x.observe(notebookContainer, {childList: true});\n",
       "}}\n",
       "\n",
       "// Listen for the clearing of the current output cell\n",
       "var outputEl = gd.closest('.output');\n",
       "if (outputEl) {{\n",
       "    x.observe(outputEl, {childList: true});\n",
       "}}\n",
       "\n",
       "                        })\n",
       "                };\n",
       "                });\n",
       "            </script>\n",
       "        </div>"
      ]
     },
     "metadata": {},
     "output_type": "display_data"
    }
   ],
   "source": [
    "# Pie chart to show enrolled students based on course type\n",
    "fig = px.pie(coursera_df, values='Students', names='Course_Type')\n",
    "fig.show()"
   ]
  },
  {
   "cell_type": "markdown",
   "metadata": {},
   "source": [
    "As per above chart, most popular type is Course and least popular type is professional certifcate."
   ]
  },
  {
   "cell_type": "code",
   "execution_count": 170,
   "metadata": {},
   "outputs": [
    {
     "data": {
      "application/vnd.plotly.v1+json": {
       "config": {
        "plotlyServerURL": "https://plot.ly"
       },
       "data": [
        {
         "domain": {
          "x": [
           0,
           1
          ],
          "y": [
           0,
           1
          ]
         },
         "hovertemplate": "Course_Type=%{label}<br>Course_Rating=%{value}<extra></extra>",
         "labels": [
          "SPECIALIZATION",
          "COURSE",
          "COURSE",
          "COURSE",
          "COURSE",
          "COURSE",
          "COURSE",
          "COURSE",
          "SPECIALIZATION",
          "COURSE",
          "COURSE",
          "SPECIALIZATION",
          "SPECIALIZATION",
          "COURSE",
          "COURSE",
          "COURSE",
          "COURSE",
          "COURSE",
          "SPECIALIZATION",
          "SPECIALIZATION",
          "COURSE",
          "COURSE",
          "COURSE",
          "SPECIALIZATION",
          "COURSE",
          "COURSE",
          "SPECIALIZATION",
          "SPECIALIZATION",
          "SPECIALIZATION",
          "SPECIALIZATION",
          "COURSE",
          "COURSE",
          "COURSE",
          "SPECIALIZATION",
          "COURSE",
          "COURSE",
          "COURSE",
          "COURSE",
          "SPECIALIZATION",
          "SPECIALIZATION",
          "COURSE",
          "COURSE",
          "COURSE",
          "SPECIALIZATION",
          "SPECIALIZATION",
          "SPECIALIZATION",
          "COURSE",
          "COURSE",
          "COURSE",
          "SPECIALIZATION",
          "COURSE",
          "COURSE",
          "COURSE",
          "COURSE",
          "SPECIALIZATION",
          "COURSE",
          "SPECIALIZATION",
          "COURSE",
          "COURSE",
          "SPECIALIZATION",
          "COURSE",
          "COURSE",
          "SPECIALIZATION",
          "SPECIALIZATION",
          "SPECIALIZATION",
          "PROFESSIONAL CERTIFICATE",
          "COURSE",
          "COURSE",
          "COURSE",
          "COURSE",
          "COURSE",
          "COURSE",
          "COURSE",
          "COURSE",
          "SPECIALIZATION",
          "SPECIALIZATION",
          "COURSE",
          "COURSE",
          "COURSE",
          "COURSE",
          "COURSE",
          "COURSE",
          "COURSE",
          "SPECIALIZATION",
          "SPECIALIZATION",
          "COURSE",
          "COURSE",
          "COURSE",
          "COURSE",
          "SPECIALIZATION",
          "COURSE",
          "COURSE",
          "SPECIALIZATION",
          "COURSE",
          "SPECIALIZATION",
          "SPECIALIZATION",
          "SPECIALIZATION",
          "COURSE",
          "COURSE",
          "COURSE",
          "SPECIALIZATION",
          "COURSE",
          "COURSE",
          "COURSE",
          "COURSE",
          "COURSE",
          "COURSE",
          "COURSE",
          "COURSE",
          "SPECIALIZATION",
          "SPECIALIZATION",
          "SPECIALIZATION",
          "COURSE",
          "SPECIALIZATION",
          "COURSE",
          "SPECIALIZATION",
          "SPECIALIZATION",
          "SPECIALIZATION",
          "SPECIALIZATION",
          "COURSE",
          "COURSE",
          "SPECIALIZATION",
          "COURSE",
          "SPECIALIZATION",
          "COURSE",
          "COURSE",
          "COURSE",
          "COURSE",
          "COURSE",
          "SPECIALIZATION",
          "COURSE",
          "COURSE",
          "COURSE",
          "COURSE",
          "COURSE",
          "SPECIALIZATION",
          "COURSE",
          "SPECIALIZATION",
          "SPECIALIZATION",
          "COURSE",
          "SPECIALIZATION",
          "COURSE",
          "PROFESSIONAL CERTIFICATE",
          "SPECIALIZATION",
          "COURSE",
          "SPECIALIZATION",
          "COURSE",
          "COURSE",
          "COURSE",
          "SPECIALIZATION",
          "SPECIALIZATION",
          "COURSE",
          "SPECIALIZATION",
          "SPECIALIZATION",
          "COURSE",
          "SPECIALIZATION",
          "COURSE",
          "COURSE",
          "COURSE",
          "SPECIALIZATION",
          "COURSE",
          "COURSE",
          "COURSE",
          "COURSE",
          "COURSE",
          "COURSE",
          "COURSE",
          "COURSE",
          "COURSE",
          "COURSE",
          "COURSE",
          "COURSE",
          "COURSE",
          "SPECIALIZATION",
          "COURSE",
          "SPECIALIZATION",
          "COURSE",
          "COURSE",
          "SPECIALIZATION",
          "COURSE",
          "COURSE",
          "SPECIALIZATION",
          "COURSE",
          "SPECIALIZATION",
          "COURSE",
          "COURSE",
          "SPECIALIZATION",
          "SPECIALIZATION",
          "COURSE",
          "COURSE",
          "COURSE",
          "SPECIALIZATION",
          "PROFESSIONAL CERTIFICATE",
          "SPECIALIZATION",
          "COURSE",
          "SPECIALIZATION",
          "SPECIALIZATION",
          "COURSE",
          "COURSE",
          "SPECIALIZATION",
          "SPECIALIZATION",
          "COURSE",
          "COURSE",
          "COURSE",
          "SPECIALIZATION",
          "SPECIALIZATION",
          "COURSE",
          "COURSE",
          "COURSE",
          "COURSE",
          "COURSE",
          "SPECIALIZATION",
          "COURSE",
          "COURSE",
          "COURSE",
          "COURSE",
          "COURSE",
          "COURSE",
          "COURSE",
          "COURSE",
          "SPECIALIZATION",
          "SPECIALIZATION",
          "SPECIALIZATION",
          "SPECIALIZATION",
          "COURSE",
          "SPECIALIZATION",
          "COURSE",
          "SPECIALIZATION",
          "COURSE",
          "SPECIALIZATION",
          "SPECIALIZATION",
          "COURSE",
          "SPECIALIZATION",
          "COURSE",
          "COURSE",
          "COURSE",
          "SPECIALIZATION",
          "COURSE",
          "COURSE",
          "COURSE",
          "COURSE",
          "COURSE",
          "COURSE",
          "SPECIALIZATION",
          "COURSE",
          "COURSE",
          "COURSE",
          "COURSE",
          "COURSE",
          "COURSE",
          "COURSE",
          "COURSE",
          "COURSE",
          "COURSE",
          "SPECIALIZATION",
          "SPECIALIZATION",
          "SPECIALIZATION",
          "COURSE",
          "COURSE",
          "COURSE",
          "COURSE",
          "COURSE",
          "COURSE",
          "SPECIALIZATION",
          "COURSE",
          "COURSE",
          "SPECIALIZATION",
          "SPECIALIZATION",
          "COURSE",
          "COURSE",
          "COURSE",
          "COURSE",
          "SPECIALIZATION",
          "COURSE",
          "COURSE",
          "SPECIALIZATION",
          "SPECIALIZATION",
          "COURSE",
          "COURSE",
          "COURSE",
          "SPECIALIZATION",
          "COURSE",
          "COURSE",
          "COURSE",
          "COURSE",
          "SPECIALIZATION",
          "COURSE",
          "COURSE",
          "SPECIALIZATION",
          "COURSE",
          "COURSE",
          "SPECIALIZATION",
          "COURSE",
          "COURSE",
          "COURSE",
          "COURSE",
          "SPECIALIZATION",
          "SPECIALIZATION",
          "COURSE",
          "SPECIALIZATION",
          "COURSE",
          "COURSE",
          "COURSE",
          "COURSE",
          "SPECIALIZATION",
          "COURSE",
          "SPECIALIZATION",
          "COURSE",
          "COURSE",
          "COURSE",
          "COURSE",
          "COURSE",
          "SPECIALIZATION",
          "COURSE",
          "SPECIALIZATION",
          "SPECIALIZATION",
          "SPECIALIZATION",
          "COURSE",
          "SPECIALIZATION",
          "COURSE",
          "COURSE",
          "SPECIALIZATION",
          "COURSE",
          "COURSE",
          "COURSE",
          "COURSE",
          "SPECIALIZATION",
          "COURSE",
          "COURSE",
          "SPECIALIZATION",
          "SPECIALIZATION",
          "SPECIALIZATION",
          "SPECIALIZATION",
          "SPECIALIZATION",
          "SPECIALIZATION",
          "COURSE",
          "COURSE",
          "COURSE",
          "SPECIALIZATION",
          "SPECIALIZATION",
          "COURSE",
          "SPECIALIZATION",
          "COURSE",
          "SPECIALIZATION",
          "SPECIALIZATION",
          "COURSE",
          "COURSE",
          "COURSE",
          "SPECIALIZATION",
          "COURSE",
          "COURSE",
          "COURSE",
          "COURSE",
          "COURSE",
          "COURSE",
          "SPECIALIZATION",
          "SPECIALIZATION",
          "COURSE",
          "COURSE",
          "COURSE",
          "SPECIALIZATION",
          "SPECIALIZATION",
          "SPECIALIZATION",
          "SPECIALIZATION",
          "SPECIALIZATION",
          "COURSE",
          "COURSE",
          "COURSE",
          "SPECIALIZATION",
          "SPECIALIZATION",
          "COURSE",
          "COURSE",
          "COURSE",
          "COURSE",
          "COURSE",
          "COURSE",
          "COURSE",
          "COURSE",
          "COURSE",
          "COURSE",
          "COURSE",
          "COURSE",
          "COURSE",
          "COURSE",
          "COURSE",
          "COURSE",
          "COURSE",
          "SPECIALIZATION",
          "SPECIALIZATION",
          "COURSE",
          "COURSE",
          "PROFESSIONAL CERTIFICATE",
          "PROFESSIONAL CERTIFICATE",
          "COURSE",
          "SPECIALIZATION",
          "COURSE",
          "COURSE",
          "COURSE",
          "COURSE",
          "COURSE",
          "SPECIALIZATION",
          "COURSE",
          "COURSE",
          "COURSE",
          "SPECIALIZATION",
          "SPECIALIZATION",
          "SPECIALIZATION",
          "SPECIALIZATION",
          "SPECIALIZATION",
          "COURSE",
          "SPECIALIZATION",
          "SPECIALIZATION",
          "COURSE",
          "COURSE",
          "SPECIALIZATION",
          "SPECIALIZATION",
          "PROFESSIONAL CERTIFICATE",
          "SPECIALIZATION",
          "PROFESSIONAL CERTIFICATE",
          "COURSE",
          "PROFESSIONAL CERTIFICATE",
          "SPECIALIZATION",
          "COURSE",
          "COURSE",
          "SPECIALIZATION",
          "SPECIALIZATION",
          "SPECIALIZATION",
          "COURSE",
          "SPECIALIZATION",
          "COURSE",
          "COURSE",
          "COURSE",
          "SPECIALIZATION",
          "COURSE",
          "SPECIALIZATION",
          "COURSE",
          "SPECIALIZATION",
          "SPECIALIZATION",
          "COURSE",
          "COURSE",
          "COURSE",
          "SPECIALIZATION",
          "SPECIALIZATION",
          "SPECIALIZATION",
          "COURSE",
          "COURSE",
          "COURSE",
          "SPECIALIZATION",
          "SPECIALIZATION",
          "SPECIALIZATION",
          "COURSE",
          "SPECIALIZATION",
          "COURSE",
          "COURSE",
          "COURSE",
          "COURSE",
          "COURSE",
          "SPECIALIZATION",
          "COURSE",
          "COURSE",
          "COURSE",
          "COURSE",
          "COURSE",
          "COURSE",
          "SPECIALIZATION",
          "COURSE",
          "COURSE",
          "COURSE",
          "COURSE",
          "COURSE",
          "COURSE",
          "COURSE",
          "COURSE",
          "COURSE",
          "COURSE",
          "COURSE",
          "COURSE",
          "COURSE",
          "COURSE",
          "COURSE",
          "SPECIALIZATION",
          "COURSE",
          "COURSE",
          "SPECIALIZATION",
          "COURSE",
          "COURSE",
          "SPECIALIZATION",
          "COURSE",
          "COURSE",
          "SPECIALIZATION",
          "COURSE",
          "COURSE",
          "COURSE",
          "COURSE",
          "COURSE",
          "COURSE",
          "COURSE",
          "COURSE",
          "COURSE",
          "COURSE",
          "COURSE",
          "COURSE",
          "COURSE",
          "COURSE",
          "COURSE",
          "COURSE",
          "COURSE",
          "COURSE",
          "COURSE",
          "COURSE",
          "SPECIALIZATION",
          "COURSE",
          "COURSE",
          "SPECIALIZATION",
          "COURSE",
          "COURSE",
          "COURSE",
          "COURSE",
          "COURSE",
          "COURSE",
          "COURSE",
          "COURSE",
          "COURSE",
          "COURSE",
          "COURSE",
          "COURSE",
          "COURSE",
          "COURSE",
          "COURSE",
          "SPECIALIZATION",
          "COURSE",
          "SPECIALIZATION",
          "SPECIALIZATION",
          "SPECIALIZATION",
          "COURSE",
          "SPECIALIZATION",
          "COURSE",
          "COURSE",
          "COURSE",
          "COURSE",
          "SPECIALIZATION",
          "SPECIALIZATION",
          "COURSE",
          "COURSE",
          "SPECIALIZATION",
          "COURSE",
          "SPECIALIZATION",
          "SPECIALIZATION",
          "SPECIALIZATION",
          "SPECIALIZATION",
          "SPECIALIZATION",
          "SPECIALIZATION",
          "SPECIALIZATION",
          "SPECIALIZATION",
          "SPECIALIZATION",
          "COURSE",
          "COURSE",
          "COURSE",
          "COURSE",
          "COURSE",
          "SPECIALIZATION",
          "COURSE",
          "COURSE",
          "SPECIALIZATION",
          "COURSE",
          "COURSE",
          "SPECIALIZATION",
          "COURSE",
          "COURSE",
          "SPECIALIZATION",
          "COURSE",
          "SPECIALIZATION",
          "COURSE",
          "COURSE",
          "COURSE",
          "COURSE",
          "SPECIALIZATION",
          "SPECIALIZATION",
          "COURSE",
          "COURSE",
          "COURSE",
          "SPECIALIZATION",
          "COURSE",
          "SPECIALIZATION",
          "COURSE",
          "SPECIALIZATION",
          "SPECIALIZATION",
          "COURSE",
          "SPECIALIZATION",
          "COURSE",
          "COURSE",
          "COURSE",
          "SPECIALIZATION",
          "COURSE",
          "SPECIALIZATION",
          "SPECIALIZATION",
          "COURSE",
          "COURSE",
          "COURSE",
          "SPECIALIZATION",
          "COURSE",
          "SPECIALIZATION",
          "SPECIALIZATION",
          "COURSE",
          "COURSE",
          "COURSE",
          "COURSE",
          "COURSE",
          "COURSE",
          "COURSE",
          "SPECIALIZATION",
          "SPECIALIZATION",
          "COURSE",
          "COURSE",
          "COURSE",
          "COURSE",
          "COURSE",
          "SPECIALIZATION",
          "COURSE",
          "SPECIALIZATION",
          "COURSE",
          "COURSE",
          "COURSE",
          "SPECIALIZATION",
          "COURSE",
          "SPECIALIZATION",
          "COURSE",
          "COURSE",
          "COURSE",
          "SPECIALIZATION",
          "COURSE",
          "COURSE",
          "SPECIALIZATION",
          "SPECIALIZATION",
          "COURSE",
          "COURSE",
          "COURSE",
          "SPECIALIZATION",
          "COURSE",
          "COURSE",
          "SPECIALIZATION",
          "SPECIALIZATION",
          "COURSE",
          "SPECIALIZATION",
          "SPECIALIZATION",
          "SPECIALIZATION",
          "COURSE",
          "SPECIALIZATION",
          "COURSE",
          "COURSE",
          "COURSE",
          "COURSE",
          "SPECIALIZATION",
          "SPECIALIZATION",
          "COURSE",
          "COURSE",
          "COURSE",
          "COURSE",
          "COURSE",
          "COURSE",
          "SPECIALIZATION",
          "SPECIALIZATION",
          "COURSE",
          "COURSE",
          "COURSE",
          "SPECIALIZATION",
          "SPECIALIZATION",
          "COURSE",
          "COURSE",
          "COURSE",
          "COURSE",
          "COURSE",
          "COURSE",
          "COURSE",
          "COURSE",
          "SPECIALIZATION",
          "COURSE",
          "COURSE",
          "SPECIALIZATION",
          "SPECIALIZATION",
          "COURSE",
          "COURSE",
          "COURSE",
          "COURSE",
          "COURSE",
          "COURSE",
          "COURSE",
          "COURSE",
          "SPECIALIZATION",
          "COURSE",
          "COURSE",
          "COURSE",
          "COURSE",
          "SPECIALIZATION",
          "COURSE",
          "SPECIALIZATION",
          "COURSE",
          "COURSE",
          "SPECIALIZATION",
          "COURSE",
          "COURSE",
          "SPECIALIZATION",
          "COURSE",
          "COURSE",
          "SPECIALIZATION",
          "COURSE",
          "COURSE",
          "SPECIALIZATION",
          "COURSE",
          "PROFESSIONAL CERTIFICATE",
          "PROFESSIONAL CERTIFICATE",
          "COURSE",
          "SPECIALIZATION",
          "SPECIALIZATION",
          "COURSE",
          "COURSE",
          "SPECIALIZATION",
          "COURSE",
          "COURSE",
          "SPECIALIZATION",
          "COURSE",
          "SPECIALIZATION",
          "SPECIALIZATION",
          "COURSE",
          "COURSE",
          "COURSE",
          "COURSE",
          "SPECIALIZATION",
          "COURSE",
          "COURSE",
          "COURSE",
          "SPECIALIZATION",
          "SPECIALIZATION",
          "COURSE",
          "SPECIALIZATION",
          "COURSE",
          "COURSE",
          "SPECIALIZATION",
          "SPECIALIZATION",
          "COURSE",
          "SPECIALIZATION",
          "COURSE",
          "COURSE",
          "PROFESSIONAL CERTIFICATE",
          "SPECIALIZATION",
          "COURSE",
          "COURSE",
          "COURSE",
          "COURSE",
          "COURSE",
          "COURSE",
          "SPECIALIZATION",
          "SPECIALIZATION",
          "SPECIALIZATION",
          "COURSE",
          "SPECIALIZATION",
          "COURSE",
          "SPECIALIZATION",
          "COURSE",
          "SPECIALIZATION",
          "SPECIALIZATION",
          "SPECIALIZATION",
          "COURSE",
          "COURSE",
          "COURSE",
          "COURSE",
          "COURSE",
          "COURSE",
          "SPECIALIZATION",
          "COURSE",
          "SPECIALIZATION",
          "COURSE",
          "COURSE",
          "COURSE",
          "SPECIALIZATION",
          "COURSE",
          "SPECIALIZATION",
          "COURSE",
          "SPECIALIZATION",
          "COURSE",
          "SPECIALIZATION",
          "SPECIALIZATION",
          "COURSE",
          "COURSE",
          "COURSE",
          "COURSE",
          "COURSE",
          "SPECIALIZATION",
          "SPECIALIZATION",
          "COURSE",
          "COURSE",
          "COURSE",
          "SPECIALIZATION",
          "COURSE",
          "COURSE",
          "SPECIALIZATION",
          "SPECIALIZATION",
          "COURSE",
          "COURSE",
          "SPECIALIZATION",
          "COURSE",
          "COURSE",
          "COURSE",
          "COURSE",
          "COURSE",
          "COURSE",
          "COURSE",
          "COURSE",
          "COURSE",
          "COURSE",
          "SPECIALIZATION",
          "COURSE",
          "COURSE",
          "COURSE",
          "COURSE",
          "COURSE",
          "SPECIALIZATION",
          "COURSE",
          "COURSE",
          "COURSE",
          "SPECIALIZATION",
          "COURSE",
          "COURSE",
          "COURSE",
          "COURSE",
          "COURSE",
          "SPECIALIZATION",
          "COURSE",
          "COURSE",
          "COURSE",
          "SPECIALIZATION",
          "PROFESSIONAL CERTIFICATE",
          "SPECIALIZATION",
          "COURSE",
          "COURSE",
          "COURSE",
          "COURSE",
          "COURSE",
          "SPECIALIZATION",
          "COURSE",
          "COURSE",
          "COURSE",
          "COURSE",
          "SPECIALIZATION",
          "SPECIALIZATION",
          "COURSE",
          "COURSE",
          "SPECIALIZATION",
          "SPECIALIZATION",
          "COURSE",
          "COURSE",
          "COURSE",
          "SPECIALIZATION",
          "COURSE",
          "COURSE",
          "SPECIALIZATION",
          "SPECIALIZATION",
          "COURSE",
          "SPECIALIZATION",
          "SPECIALIZATION",
          "COURSE",
          "COURSE",
          "COURSE",
          "COURSE",
          "COURSE",
          "COURSE",
          "COURSE",
          "COURSE",
          "COURSE",
          "COURSE",
          "COURSE",
          "COURSE",
          "COURSE",
          "SPECIALIZATION",
          "COURSE",
          "COURSE",
          "SPECIALIZATION",
          "SPECIALIZATION",
          "SPECIALIZATION",
          "SPECIALIZATION",
          "COURSE",
          "SPECIALIZATION",
          "SPECIALIZATION",
          "COURSE",
          "COURSE",
          "COURSE",
          "SPECIALIZATION",
          "COURSE",
          "SPECIALIZATION",
          "SPECIALIZATION",
          "SPECIALIZATION"
         ],
         "legendgroup": "",
         "name": "",
         "showlegend": true,
         "type": "pie",
         "values": [
          4.7,
          4.7,
          4.5,
          4.7,
          4.8,
          4.7,
          4.8,
          4.8,
          4.7,
          4.7,
          4.6,
          4.7,
          4.6,
          4.3,
          4.7,
          4.7,
          4.5,
          4.7,
          4.7,
          4.7,
          4.6,
          4.5,
          4.8,
          4.7,
          4.8,
          4.8,
          4.5,
          4.4,
          4.5,
          4.5,
          4.7,
          4.8,
          4.7,
          4.7,
          4.7,
          4.7,
          4.9,
          4.7,
          4.8,
          4.8,
          4.9,
          4.8,
          4.7,
          4.6,
          4.6,
          4.8,
          4.8,
          4.8,
          4.8,
          4.5,
          4.8,
          4.5,
          4.8,
          4.6,
          4.6,
          4.7,
          4.5,
          4.6,
          4.6,
          4.2,
          4.8,
          4.9,
          4.5,
          4.7,
          4.5,
          4.9,
          4.8,
          4.8,
          4.6,
          4.8,
          4.9,
          4.7,
          4.8,
          4.6,
          4.8,
          4.8,
          4.7,
          4.7,
          4.6,
          4.6,
          4.8,
          4.8,
          4.9,
          4.7,
          4.7,
          4.7,
          4.8,
          4.4,
          4.6,
          4.5,
          4.6,
          4.4,
          4.8,
          4.8,
          4.6,
          4.7,
          4.6,
          4.7,
          4.9,
          4.9,
          4.6,
          4.7,
          4.9,
          4.9,
          4.5,
          4.5,
          4.6,
          4.3,
          4.5,
          4.6,
          4.7,
          4.7,
          4.7,
          4.7,
          4.7,
          4.7,
          4.7,
          4.7,
          4.5,
          4.7,
          4.8,
          4.5,
          4.5,
          4.7,
          4.9,
          4.8,
          4.7,
          4.7,
          4.6,
          4.4,
          4.8,
          4.7,
          4.7,
          4.7,
          4.8,
          4.7,
          4.8,
          4.8,
          4.6,
          4.8,
          4.4,
          4.5,
          4.7,
          4.7,
          4.7,
          4.7,
          4.8,
          4.9,
          4.7,
          4.7,
          4.6,
          4.8,
          4.6,
          4.3,
          4.7,
          4.7,
          4.8,
          4.8,
          4.7,
          4.5,
          4.6,
          4.8,
          4.9,
          4.7,
          4.8,
          4.8,
          4.8,
          4.6,
          4.6,
          4.8,
          4.8,
          4.8,
          4.3,
          4.6,
          4.7,
          4.7,
          4.8,
          4.8,
          4.6,
          4.6,
          4.7,
          4.5,
          4.2,
          4.6,
          4.8,
          4.8,
          4.4,
          4.6,
          4.7,
          4.8,
          4.7,
          4.4,
          4.6,
          4.6,
          4.7,
          4.4,
          4.5,
          4.5,
          4.6,
          4.6,
          4.4,
          4.7,
          4.8,
          4.6,
          4.5,
          4.5,
          4.7,
          4.6,
          4.7,
          4.8,
          4.6,
          4.8,
          4.8,
          4.7,
          4.4,
          4.6,
          4.6,
          4.7,
          4.7,
          4.6,
          4.6,
          4.7,
          4.8,
          4.6,
          4.8,
          4.8,
          4.7,
          4.4,
          4.5,
          4.6,
          4.6,
          4.4,
          4.7,
          4.7,
          4.5,
          4.9,
          4.6,
          4.9,
          4.8,
          4.6,
          4.8,
          4.7,
          4.6,
          4.7,
          4.8,
          4.8,
          4.7,
          4.9,
          4.7,
          4.9,
          4.9,
          5,
          4.7,
          4.8,
          4.8,
          4.6,
          4.7,
          4.8,
          4.7,
          4.6,
          4.8,
          4.8,
          4.8,
          4.6,
          4.8,
          4.4,
          4.5,
          4.8,
          4.8,
          4.8,
          4.7,
          4.8,
          4.6,
          4.8,
          4.7,
          4.7,
          4.7,
          4.6,
          4.8,
          4.8,
          4.5,
          4.7,
          4.7,
          4.7,
          4.8,
          4.6,
          4.8,
          4.7,
          4.8,
          4.8,
          4.9,
          4.9,
          4.7,
          4.9,
          4.9,
          4.8,
          4.6,
          4.8,
          4.8,
          4.5,
          4.8,
          4.8,
          4.8,
          4.8,
          4.6,
          4.7,
          4.5,
          4.8,
          4.4,
          4.8,
          4.5,
          4.6,
          4.7,
          4.8,
          4.5,
          4.8,
          4.7,
          4.8,
          4.6,
          4.8,
          4.7,
          4.6,
          4.9,
          4.8,
          4.7,
          4.9,
          4.8,
          4.8,
          4.8,
          4.7,
          4.8,
          4.2,
          4.8,
          4.8,
          4.6,
          4.8,
          4.7,
          4.8,
          4.7,
          4.7,
          4.8,
          4.7,
          4.6,
          4.6,
          4.8,
          4.7,
          4.8,
          4.8,
          4.7,
          4.7,
          4.6,
          4.7,
          4.6,
          4.8,
          4.5,
          4.6,
          4.6,
          4.7,
          4.8,
          4.6,
          4.6,
          4.8,
          4.7,
          4.8,
          4.7,
          4.6,
          4.8,
          4.7,
          4.4,
          4.8,
          4.3,
          4.8,
          4.7,
          4.7,
          4.5,
          4.5,
          4.6,
          4.5,
          4.6,
          4.9,
          4.6,
          4.7,
          4.5,
          4.6,
          4.6,
          4.6,
          4.8,
          4.8,
          4.6,
          4.6,
          4.7,
          4.7,
          4.8,
          4.7,
          4.7,
          4.8,
          4.6,
          4.8,
          4.7,
          4.8,
          4.7,
          4.8,
          4.2,
          4.6,
          4.5,
          4.5,
          4.7,
          4.4,
          4.6,
          4.8,
          4.7,
          4.6,
          4.8,
          3.3,
          4.1,
          4.7,
          4.6,
          4.4,
          4.6,
          4.8,
          4.6,
          4.5,
          4.8,
          4.9,
          4.7,
          4.6,
          4.7,
          4.9,
          4.4,
          4.9,
          4.8,
          4.5,
          5,
          4.4,
          4.8,
          4.6,
          4.6,
          4.7,
          4.7,
          4.6,
          4.8,
          4.8,
          4.5,
          4.7,
          4.8,
          4.2,
          4.6,
          4.8,
          4.8,
          4.5,
          4.6,
          4.5,
          4.4,
          4.8,
          4.8,
          4.8,
          4.8,
          4.6,
          4.8,
          4.5,
          4.9,
          4.6,
          4.7,
          4.8,
          4.6,
          4.7,
          4.4,
          4.8,
          4.8,
          4.7,
          4.6,
          4.7,
          4.9,
          4.7,
          4.8,
          4.8,
          4.8,
          4.9,
          4.6,
          4.3,
          4.3,
          4.6,
          4.7,
          4.7,
          4.5,
          4.7,
          4.6,
          4.5,
          4.8,
          4.4,
          4.7,
          4.5,
          4.7,
          4.8,
          4.7,
          4.9,
          4.8,
          4.8,
          4.6,
          4.7,
          4.5,
          4.8,
          4.8,
          4.8,
          4.8,
          4.5,
          4.4,
          4.6,
          4.8,
          4.7,
          4.7,
          4.8,
          4.9,
          4.7,
          4.8,
          4.2,
          4.7,
          4.8,
          4.8,
          4.7,
          4.7,
          4.8,
          4,
          4.8,
          4.5,
          4.8,
          4.7,
          4.8,
          4.7,
          4.9,
          4.9,
          4.7,
          4.6,
          4.5,
          4.6,
          4.6,
          4.6,
          4.5,
          4.7,
          4.7,
          4.6,
          4.7,
          4.7,
          4.8,
          4.7,
          4.7,
          4.8,
          4.8,
          4.3,
          4.5,
          4.8,
          4.7,
          4.8,
          4.6,
          4.6,
          4.8,
          4.9,
          4.7,
          4.5,
          4.7,
          4.8,
          4.6,
          4.7,
          4.6,
          4.9,
          4.6,
          3.7,
          4.6,
          4.6,
          3.9,
          4.7,
          4.5,
          4.6,
          4.7,
          4.7,
          4.9,
          4.7,
          4.7,
          4.7,
          4.5,
          4.6,
          4.5,
          4.8,
          4.7,
          4.7,
          4.6,
          4.4,
          4.8,
          4.4,
          4.7,
          4.2,
          4.6,
          4.3,
          4.7,
          4.5,
          4.6,
          4.7,
          4.7,
          4,
          4.8,
          4.9,
          4.3,
          4.6,
          4.9,
          4.7,
          4.8,
          4.7,
          4.8,
          4.6,
          4.7,
          4.8,
          4.7,
          4.7,
          4.8,
          4.9,
          4.9,
          4.8,
          4.8,
          4.9,
          4.8,
          4.8,
          4.6,
          4.8,
          4.7,
          4.8,
          4.7,
          4.9,
          4.7,
          4.7,
          4.8,
          4.8,
          4.8,
          4.7,
          4.6,
          4.7,
          4.7,
          4.8,
          4.4,
          4.6,
          4.7,
          4.2,
          4.7,
          4.7,
          4.8,
          4.6,
          4.5,
          4.5,
          4.8,
          4.6,
          4.5,
          4.7,
          4.9,
          4.7,
          4.7,
          4.7,
          4.8,
          4.7,
          4.8,
          4.8,
          4.6,
          4.8,
          4.7,
          4.6,
          4.7,
          4.8,
          4.6,
          4.8,
          4.8,
          4.8,
          4.7,
          4.6,
          4.8,
          4.6,
          4.7,
          4.8,
          4.6,
          4.2,
          4.7,
          4.6,
          4.7,
          4.8,
          4.6,
          4.8,
          4.7,
          4.9,
          4.8,
          4.4,
          4.6,
          4.8,
          4.7,
          4.9,
          4.6,
          4.8,
          4.3,
          4.7,
          4.7,
          4.7,
          4.7,
          4.6,
          4.6,
          4.8,
          4.5,
          4.9,
          4.9,
          4.4,
          4.9,
          4.7,
          4.7,
          4.5,
          4.8,
          4.6,
          4.6,
          4.4,
          4.7,
          4.8,
          4.5,
          4.8,
          4.8,
          4.7,
          4.4,
          4.7,
          4.7,
          4.7,
          4.8,
          4.8,
          4.7,
          4.5,
          4.7,
          4.7,
          4.8,
          4.6,
          4.6,
          4.6,
          4.6,
          4.8,
          4.7,
          4.8,
          4.6,
          4.6,
          4.7,
          4.6,
          4.8,
          4.8,
          4.9,
          4.8,
          4.6,
          4.6,
          4.7,
          4.8,
          4.7,
          4.7,
          4.7,
          4.6,
          4.7,
          4.9,
          4.3,
          4.7,
          4.7,
          4.7,
          4.7,
          4.5,
          4.8,
          4.6,
          4.8,
          4.8,
          4.8,
          4.8,
          4.7,
          4.6,
          4.7,
          4.7,
          4.8,
          4.6,
          4.8,
          4.3,
          4.6,
          4.5,
          4.7,
          4.4,
          4.9,
          4.9,
          4.9,
          4.9,
          4.4,
          4.8,
          4.8,
          4.8,
          4.7,
          4.5,
          4.8,
          4.6,
          4.8,
          4.7,
          4.5,
          4.7,
          4.6,
          4.8,
          4.7,
          4.8,
          4.8,
          4.6,
          4.8,
          4.8,
          4.9,
          4.6,
          4.8,
          4.8,
          4.9,
          4.6,
          4.7,
          4.6,
          4.6,
          4.7,
          4.8,
          4.9,
          4.9,
          4.8,
          4.6,
          4.5,
          4.8,
          4.7,
          4.8,
          4.7,
          4.7,
          4.6,
          4.6,
          4.3,
          4.8,
          4.7,
          4.9,
          4.8,
          4.6,
          4.7,
          4.8,
          4.8,
          4.8,
          4.9,
          4.8,
          4.4,
          4.8,
          4.5,
          4.7,
          4.9,
          4.5,
          4.2,
          4.8,
          4.9,
          4.8,
          4.6,
          4.8,
          4.8,
          4.7,
          4.7,
          4.8,
          4.7,
          4.7,
          4.3,
          4.8,
          4.8,
          4.7,
          4.7,
          4.7,
          4.7,
          4.8,
          4.7,
          4.6,
          4.7,
          4.8,
          4.9,
          4.7,
          4.4,
          4.9,
          4.5,
          3.9,
          4.7,
          4.8,
          4.5,
          4.6,
          4.9,
          4.5,
          4.8,
          4.7,
          4.5,
          4.6,
          4.9,
          4.7,
          4.5,
          4.8,
          4.5,
          4.6,
          4.7
         ]
        }
       ],
       "layout": {
        "legend": {
         "tracegroupgap": 0
        },
        "margin": {
         "t": 60
        },
        "template": {
         "data": {
          "bar": [
           {
            "error_x": {
             "color": "#2a3f5f"
            },
            "error_y": {
             "color": "#2a3f5f"
            },
            "marker": {
             "line": {
              "color": "#E5ECF6",
              "width": 0.5
             }
            },
            "type": "bar"
           }
          ],
          "barpolar": [
           {
            "marker": {
             "line": {
              "color": "#E5ECF6",
              "width": 0.5
             }
            },
            "type": "barpolar"
           }
          ],
          "carpet": [
           {
            "aaxis": {
             "endlinecolor": "#2a3f5f",
             "gridcolor": "white",
             "linecolor": "white",
             "minorgridcolor": "white",
             "startlinecolor": "#2a3f5f"
            },
            "baxis": {
             "endlinecolor": "#2a3f5f",
             "gridcolor": "white",
             "linecolor": "white",
             "minorgridcolor": "white",
             "startlinecolor": "#2a3f5f"
            },
            "type": "carpet"
           }
          ],
          "choropleth": [
           {
            "colorbar": {
             "outlinewidth": 0,
             "ticks": ""
            },
            "type": "choropleth"
           }
          ],
          "contour": [
           {
            "colorbar": {
             "outlinewidth": 0,
             "ticks": ""
            },
            "colorscale": [
             [
              0,
              "#0d0887"
             ],
             [
              0.1111111111111111,
              "#46039f"
             ],
             [
              0.2222222222222222,
              "#7201a8"
             ],
             [
              0.3333333333333333,
              "#9c179e"
             ],
             [
              0.4444444444444444,
              "#bd3786"
             ],
             [
              0.5555555555555556,
              "#d8576b"
             ],
             [
              0.6666666666666666,
              "#ed7953"
             ],
             [
              0.7777777777777778,
              "#fb9f3a"
             ],
             [
              0.8888888888888888,
              "#fdca26"
             ],
             [
              1,
              "#f0f921"
             ]
            ],
            "type": "contour"
           }
          ],
          "contourcarpet": [
           {
            "colorbar": {
             "outlinewidth": 0,
             "ticks": ""
            },
            "type": "contourcarpet"
           }
          ],
          "heatmap": [
           {
            "colorbar": {
             "outlinewidth": 0,
             "ticks": ""
            },
            "colorscale": [
             [
              0,
              "#0d0887"
             ],
             [
              0.1111111111111111,
              "#46039f"
             ],
             [
              0.2222222222222222,
              "#7201a8"
             ],
             [
              0.3333333333333333,
              "#9c179e"
             ],
             [
              0.4444444444444444,
              "#bd3786"
             ],
             [
              0.5555555555555556,
              "#d8576b"
             ],
             [
              0.6666666666666666,
              "#ed7953"
             ],
             [
              0.7777777777777778,
              "#fb9f3a"
             ],
             [
              0.8888888888888888,
              "#fdca26"
             ],
             [
              1,
              "#f0f921"
             ]
            ],
            "type": "heatmap"
           }
          ],
          "heatmapgl": [
           {
            "colorbar": {
             "outlinewidth": 0,
             "ticks": ""
            },
            "colorscale": [
             [
              0,
              "#0d0887"
             ],
             [
              0.1111111111111111,
              "#46039f"
             ],
             [
              0.2222222222222222,
              "#7201a8"
             ],
             [
              0.3333333333333333,
              "#9c179e"
             ],
             [
              0.4444444444444444,
              "#bd3786"
             ],
             [
              0.5555555555555556,
              "#d8576b"
             ],
             [
              0.6666666666666666,
              "#ed7953"
             ],
             [
              0.7777777777777778,
              "#fb9f3a"
             ],
             [
              0.8888888888888888,
              "#fdca26"
             ],
             [
              1,
              "#f0f921"
             ]
            ],
            "type": "heatmapgl"
           }
          ],
          "histogram": [
           {
            "marker": {
             "colorbar": {
              "outlinewidth": 0,
              "ticks": ""
             }
            },
            "type": "histogram"
           }
          ],
          "histogram2d": [
           {
            "colorbar": {
             "outlinewidth": 0,
             "ticks": ""
            },
            "colorscale": [
             [
              0,
              "#0d0887"
             ],
             [
              0.1111111111111111,
              "#46039f"
             ],
             [
              0.2222222222222222,
              "#7201a8"
             ],
             [
              0.3333333333333333,
              "#9c179e"
             ],
             [
              0.4444444444444444,
              "#bd3786"
             ],
             [
              0.5555555555555556,
              "#d8576b"
             ],
             [
              0.6666666666666666,
              "#ed7953"
             ],
             [
              0.7777777777777778,
              "#fb9f3a"
             ],
             [
              0.8888888888888888,
              "#fdca26"
             ],
             [
              1,
              "#f0f921"
             ]
            ],
            "type": "histogram2d"
           }
          ],
          "histogram2dcontour": [
           {
            "colorbar": {
             "outlinewidth": 0,
             "ticks": ""
            },
            "colorscale": [
             [
              0,
              "#0d0887"
             ],
             [
              0.1111111111111111,
              "#46039f"
             ],
             [
              0.2222222222222222,
              "#7201a8"
             ],
             [
              0.3333333333333333,
              "#9c179e"
             ],
             [
              0.4444444444444444,
              "#bd3786"
             ],
             [
              0.5555555555555556,
              "#d8576b"
             ],
             [
              0.6666666666666666,
              "#ed7953"
             ],
             [
              0.7777777777777778,
              "#fb9f3a"
             ],
             [
              0.8888888888888888,
              "#fdca26"
             ],
             [
              1,
              "#f0f921"
             ]
            ],
            "type": "histogram2dcontour"
           }
          ],
          "mesh3d": [
           {
            "colorbar": {
             "outlinewidth": 0,
             "ticks": ""
            },
            "type": "mesh3d"
           }
          ],
          "parcoords": [
           {
            "line": {
             "colorbar": {
              "outlinewidth": 0,
              "ticks": ""
             }
            },
            "type": "parcoords"
           }
          ],
          "pie": [
           {
            "automargin": true,
            "type": "pie"
           }
          ],
          "scatter": [
           {
            "marker": {
             "colorbar": {
              "outlinewidth": 0,
              "ticks": ""
             }
            },
            "type": "scatter"
           }
          ],
          "scatter3d": [
           {
            "line": {
             "colorbar": {
              "outlinewidth": 0,
              "ticks": ""
             }
            },
            "marker": {
             "colorbar": {
              "outlinewidth": 0,
              "ticks": ""
             }
            },
            "type": "scatter3d"
           }
          ],
          "scattercarpet": [
           {
            "marker": {
             "colorbar": {
              "outlinewidth": 0,
              "ticks": ""
             }
            },
            "type": "scattercarpet"
           }
          ],
          "scattergeo": [
           {
            "marker": {
             "colorbar": {
              "outlinewidth": 0,
              "ticks": ""
             }
            },
            "type": "scattergeo"
           }
          ],
          "scattergl": [
           {
            "marker": {
             "colorbar": {
              "outlinewidth": 0,
              "ticks": ""
             }
            },
            "type": "scattergl"
           }
          ],
          "scattermapbox": [
           {
            "marker": {
             "colorbar": {
              "outlinewidth": 0,
              "ticks": ""
             }
            },
            "type": "scattermapbox"
           }
          ],
          "scatterpolar": [
           {
            "marker": {
             "colorbar": {
              "outlinewidth": 0,
              "ticks": ""
             }
            },
            "type": "scatterpolar"
           }
          ],
          "scatterpolargl": [
           {
            "marker": {
             "colorbar": {
              "outlinewidth": 0,
              "ticks": ""
             }
            },
            "type": "scatterpolargl"
           }
          ],
          "scatterternary": [
           {
            "marker": {
             "colorbar": {
              "outlinewidth": 0,
              "ticks": ""
             }
            },
            "type": "scatterternary"
           }
          ],
          "surface": [
           {
            "colorbar": {
             "outlinewidth": 0,
             "ticks": ""
            },
            "colorscale": [
             [
              0,
              "#0d0887"
             ],
             [
              0.1111111111111111,
              "#46039f"
             ],
             [
              0.2222222222222222,
              "#7201a8"
             ],
             [
              0.3333333333333333,
              "#9c179e"
             ],
             [
              0.4444444444444444,
              "#bd3786"
             ],
             [
              0.5555555555555556,
              "#d8576b"
             ],
             [
              0.6666666666666666,
              "#ed7953"
             ],
             [
              0.7777777777777778,
              "#fb9f3a"
             ],
             [
              0.8888888888888888,
              "#fdca26"
             ],
             [
              1,
              "#f0f921"
             ]
            ],
            "type": "surface"
           }
          ],
          "table": [
           {
            "cells": {
             "fill": {
              "color": "#EBF0F8"
             },
             "line": {
              "color": "white"
             }
            },
            "header": {
             "fill": {
              "color": "#C8D4E3"
             },
             "line": {
              "color": "white"
             }
            },
            "type": "table"
           }
          ]
         },
         "layout": {
          "annotationdefaults": {
           "arrowcolor": "#2a3f5f",
           "arrowhead": 0,
           "arrowwidth": 1
          },
          "coloraxis": {
           "colorbar": {
            "outlinewidth": 0,
            "ticks": ""
           }
          },
          "colorscale": {
           "diverging": [
            [
             0,
             "#8e0152"
            ],
            [
             0.1,
             "#c51b7d"
            ],
            [
             0.2,
             "#de77ae"
            ],
            [
             0.3,
             "#f1b6da"
            ],
            [
             0.4,
             "#fde0ef"
            ],
            [
             0.5,
             "#f7f7f7"
            ],
            [
             0.6,
             "#e6f5d0"
            ],
            [
             0.7,
             "#b8e186"
            ],
            [
             0.8,
             "#7fbc41"
            ],
            [
             0.9,
             "#4d9221"
            ],
            [
             1,
             "#276419"
            ]
           ],
           "sequential": [
            [
             0,
             "#0d0887"
            ],
            [
             0.1111111111111111,
             "#46039f"
            ],
            [
             0.2222222222222222,
             "#7201a8"
            ],
            [
             0.3333333333333333,
             "#9c179e"
            ],
            [
             0.4444444444444444,
             "#bd3786"
            ],
            [
             0.5555555555555556,
             "#d8576b"
            ],
            [
             0.6666666666666666,
             "#ed7953"
            ],
            [
             0.7777777777777778,
             "#fb9f3a"
            ],
            [
             0.8888888888888888,
             "#fdca26"
            ],
            [
             1,
             "#f0f921"
            ]
           ],
           "sequentialminus": [
            [
             0,
             "#0d0887"
            ],
            [
             0.1111111111111111,
             "#46039f"
            ],
            [
             0.2222222222222222,
             "#7201a8"
            ],
            [
             0.3333333333333333,
             "#9c179e"
            ],
            [
             0.4444444444444444,
             "#bd3786"
            ],
            [
             0.5555555555555556,
             "#d8576b"
            ],
            [
             0.6666666666666666,
             "#ed7953"
            ],
            [
             0.7777777777777778,
             "#fb9f3a"
            ],
            [
             0.8888888888888888,
             "#fdca26"
            ],
            [
             1,
             "#f0f921"
            ]
           ]
          },
          "colorway": [
           "#636efa",
           "#EF553B",
           "#00cc96",
           "#ab63fa",
           "#FFA15A",
           "#19d3f3",
           "#FF6692",
           "#B6E880",
           "#FF97FF",
           "#FECB52"
          ],
          "font": {
           "color": "#2a3f5f"
          },
          "geo": {
           "bgcolor": "white",
           "lakecolor": "white",
           "landcolor": "#E5ECF6",
           "showlakes": true,
           "showland": true,
           "subunitcolor": "white"
          },
          "hoverlabel": {
           "align": "left"
          },
          "hovermode": "closest",
          "mapbox": {
           "style": "light"
          },
          "paper_bgcolor": "white",
          "plot_bgcolor": "#E5ECF6",
          "polar": {
           "angularaxis": {
            "gridcolor": "white",
            "linecolor": "white",
            "ticks": ""
           },
           "bgcolor": "#E5ECF6",
           "radialaxis": {
            "gridcolor": "white",
            "linecolor": "white",
            "ticks": ""
           }
          },
          "scene": {
           "xaxis": {
            "backgroundcolor": "#E5ECF6",
            "gridcolor": "white",
            "gridwidth": 2,
            "linecolor": "white",
            "showbackground": true,
            "ticks": "",
            "zerolinecolor": "white"
           },
           "yaxis": {
            "backgroundcolor": "#E5ECF6",
            "gridcolor": "white",
            "gridwidth": 2,
            "linecolor": "white",
            "showbackground": true,
            "ticks": "",
            "zerolinecolor": "white"
           },
           "zaxis": {
            "backgroundcolor": "#E5ECF6",
            "gridcolor": "white",
            "gridwidth": 2,
            "linecolor": "white",
            "showbackground": true,
            "ticks": "",
            "zerolinecolor": "white"
           }
          },
          "shapedefaults": {
           "line": {
            "color": "#2a3f5f"
           }
          },
          "ternary": {
           "aaxis": {
            "gridcolor": "white",
            "linecolor": "white",
            "ticks": ""
           },
           "baxis": {
            "gridcolor": "white",
            "linecolor": "white",
            "ticks": ""
           },
           "bgcolor": "#E5ECF6",
           "caxis": {
            "gridcolor": "white",
            "linecolor": "white",
            "ticks": ""
           }
          },
          "title": {
           "x": 0.05
          },
          "xaxis": {
           "automargin": true,
           "gridcolor": "white",
           "linecolor": "white",
           "ticks": "",
           "title": {
            "standoff": 15
           },
           "zerolinecolor": "white",
           "zerolinewidth": 2
          },
          "yaxis": {
           "automargin": true,
           "gridcolor": "white",
           "linecolor": "white",
           "ticks": "",
           "title": {
            "standoff": 15
           },
           "zerolinecolor": "white",
           "zerolinewidth": 2
          }
         }
        }
       }
      },
      "text/html": [
       "<div>\n",
       "        \n",
       "        \n",
       "            <div id=\"3d9ea797-ffe8-4070-a08d-4243e0b9da13\" class=\"plotly-graph-div\" style=\"height:525px; width:100%;\"></div>\n",
       "            <script type=\"text/javascript\">\n",
       "                require([\"plotly\"], function(Plotly) {\n",
       "                    window.PLOTLYENV=window.PLOTLYENV || {};\n",
       "                    \n",
       "                if (document.getElementById(\"3d9ea797-ffe8-4070-a08d-4243e0b9da13\")) {\n",
       "                    Plotly.newPlot(\n",
       "                        '3d9ea797-ffe8-4070-a08d-4243e0b9da13',\n",
       "                        [{\"domain\": {\"x\": [0.0, 1.0], \"y\": [0.0, 1.0]}, \"hovertemplate\": \"Course_Type=%{label}<br>Course_Rating=%{value}<extra></extra>\", \"labels\": [\"SPECIALIZATION\", \"COURSE\", \"COURSE\", \"COURSE\", \"COURSE\", \"COURSE\", \"COURSE\", \"COURSE\", \"SPECIALIZATION\", \"COURSE\", \"COURSE\", \"SPECIALIZATION\", \"SPECIALIZATION\", \"COURSE\", \"COURSE\", \"COURSE\", \"COURSE\", \"COURSE\", \"SPECIALIZATION\", \"SPECIALIZATION\", \"COURSE\", \"COURSE\", \"COURSE\", \"SPECIALIZATION\", \"COURSE\", \"COURSE\", \"SPECIALIZATION\", \"SPECIALIZATION\", \"SPECIALIZATION\", \"SPECIALIZATION\", \"COURSE\", \"COURSE\", \"COURSE\", \"SPECIALIZATION\", \"COURSE\", \"COURSE\", \"COURSE\", \"COURSE\", \"SPECIALIZATION\", \"SPECIALIZATION\", \"COURSE\", \"COURSE\", \"COURSE\", \"SPECIALIZATION\", \"SPECIALIZATION\", \"SPECIALIZATION\", \"COURSE\", \"COURSE\", \"COURSE\", \"SPECIALIZATION\", \"COURSE\", \"COURSE\", \"COURSE\", \"COURSE\", \"SPECIALIZATION\", \"COURSE\", \"SPECIALIZATION\", \"COURSE\", \"COURSE\", \"SPECIALIZATION\", \"COURSE\", \"COURSE\", \"SPECIALIZATION\", \"SPECIALIZATION\", \"SPECIALIZATION\", \"PROFESSIONAL CERTIFICATE\", \"COURSE\", \"COURSE\", \"COURSE\", \"COURSE\", \"COURSE\", \"COURSE\", \"COURSE\", \"COURSE\", \"SPECIALIZATION\", \"SPECIALIZATION\", \"COURSE\", \"COURSE\", \"COURSE\", \"COURSE\", \"COURSE\", \"COURSE\", \"COURSE\", \"SPECIALIZATION\", \"SPECIALIZATION\", \"COURSE\", \"COURSE\", \"COURSE\", \"COURSE\", \"SPECIALIZATION\", \"COURSE\", \"COURSE\", \"SPECIALIZATION\", \"COURSE\", \"SPECIALIZATION\", \"SPECIALIZATION\", \"SPECIALIZATION\", \"COURSE\", \"COURSE\", \"COURSE\", \"SPECIALIZATION\", \"COURSE\", \"COURSE\", \"COURSE\", \"COURSE\", \"COURSE\", \"COURSE\", \"COURSE\", \"COURSE\", \"SPECIALIZATION\", \"SPECIALIZATION\", \"SPECIALIZATION\", \"COURSE\", \"SPECIALIZATION\", \"COURSE\", \"SPECIALIZATION\", \"SPECIALIZATION\", \"SPECIALIZATION\", \"SPECIALIZATION\", \"COURSE\", \"COURSE\", \"SPECIALIZATION\", \"COURSE\", \"SPECIALIZATION\", \"COURSE\", \"COURSE\", \"COURSE\", \"COURSE\", \"COURSE\", \"SPECIALIZATION\", \"COURSE\", \"COURSE\", \"COURSE\", \"COURSE\", \"COURSE\", \"SPECIALIZATION\", \"COURSE\", \"SPECIALIZATION\", \"SPECIALIZATION\", \"COURSE\", \"SPECIALIZATION\", \"COURSE\", \"PROFESSIONAL CERTIFICATE\", \"SPECIALIZATION\", \"COURSE\", \"SPECIALIZATION\", \"COURSE\", \"COURSE\", \"COURSE\", \"SPECIALIZATION\", \"SPECIALIZATION\", \"COURSE\", \"SPECIALIZATION\", \"SPECIALIZATION\", \"COURSE\", \"SPECIALIZATION\", \"COURSE\", \"COURSE\", \"COURSE\", \"SPECIALIZATION\", \"COURSE\", \"COURSE\", \"COURSE\", \"COURSE\", \"COURSE\", \"COURSE\", \"COURSE\", \"COURSE\", \"COURSE\", \"COURSE\", \"COURSE\", \"COURSE\", \"COURSE\", \"SPECIALIZATION\", \"COURSE\", \"SPECIALIZATION\", \"COURSE\", \"COURSE\", \"SPECIALIZATION\", \"COURSE\", \"COURSE\", \"SPECIALIZATION\", \"COURSE\", \"SPECIALIZATION\", \"COURSE\", \"COURSE\", \"SPECIALIZATION\", \"SPECIALIZATION\", \"COURSE\", \"COURSE\", \"COURSE\", \"SPECIALIZATION\", \"PROFESSIONAL CERTIFICATE\", \"SPECIALIZATION\", \"COURSE\", \"SPECIALIZATION\", \"SPECIALIZATION\", \"COURSE\", \"COURSE\", \"SPECIALIZATION\", \"SPECIALIZATION\", \"COURSE\", \"COURSE\", \"COURSE\", \"SPECIALIZATION\", \"SPECIALIZATION\", \"COURSE\", \"COURSE\", \"COURSE\", \"COURSE\", \"COURSE\", \"SPECIALIZATION\", \"COURSE\", \"COURSE\", \"COURSE\", \"COURSE\", \"COURSE\", \"COURSE\", \"COURSE\", \"COURSE\", \"SPECIALIZATION\", \"SPECIALIZATION\", \"SPECIALIZATION\", \"SPECIALIZATION\", \"COURSE\", \"SPECIALIZATION\", \"COURSE\", \"SPECIALIZATION\", \"COURSE\", \"SPECIALIZATION\", \"SPECIALIZATION\", \"COURSE\", \"SPECIALIZATION\", \"COURSE\", \"COURSE\", \"COURSE\", \"SPECIALIZATION\", \"COURSE\", \"COURSE\", \"COURSE\", \"COURSE\", \"COURSE\", \"COURSE\", \"SPECIALIZATION\", \"COURSE\", \"COURSE\", \"COURSE\", \"COURSE\", \"COURSE\", \"COURSE\", \"COURSE\", \"COURSE\", \"COURSE\", \"COURSE\", \"SPECIALIZATION\", \"SPECIALIZATION\", \"SPECIALIZATION\", \"COURSE\", \"COURSE\", \"COURSE\", \"COURSE\", \"COURSE\", \"COURSE\", \"SPECIALIZATION\", \"COURSE\", \"COURSE\", \"SPECIALIZATION\", \"SPECIALIZATION\", \"COURSE\", \"COURSE\", \"COURSE\", \"COURSE\", \"SPECIALIZATION\", \"COURSE\", \"COURSE\", \"SPECIALIZATION\", \"SPECIALIZATION\", \"COURSE\", \"COURSE\", \"COURSE\", \"SPECIALIZATION\", \"COURSE\", \"COURSE\", \"COURSE\", \"COURSE\", \"SPECIALIZATION\", \"COURSE\", \"COURSE\", \"SPECIALIZATION\", \"COURSE\", \"COURSE\", \"SPECIALIZATION\", \"COURSE\", \"COURSE\", \"COURSE\", \"COURSE\", \"SPECIALIZATION\", \"SPECIALIZATION\", \"COURSE\", \"SPECIALIZATION\", \"COURSE\", \"COURSE\", \"COURSE\", \"COURSE\", \"SPECIALIZATION\", \"COURSE\", \"SPECIALIZATION\", \"COURSE\", \"COURSE\", \"COURSE\", \"COURSE\", \"COURSE\", \"SPECIALIZATION\", \"COURSE\", \"SPECIALIZATION\", \"SPECIALIZATION\", \"SPECIALIZATION\", \"COURSE\", \"SPECIALIZATION\", \"COURSE\", \"COURSE\", \"SPECIALIZATION\", \"COURSE\", \"COURSE\", \"COURSE\", \"COURSE\", \"SPECIALIZATION\", \"COURSE\", \"COURSE\", \"SPECIALIZATION\", \"SPECIALIZATION\", \"SPECIALIZATION\", \"SPECIALIZATION\", \"SPECIALIZATION\", \"SPECIALIZATION\", \"COURSE\", \"COURSE\", \"COURSE\", \"SPECIALIZATION\", \"SPECIALIZATION\", \"COURSE\", \"SPECIALIZATION\", \"COURSE\", \"SPECIALIZATION\", \"SPECIALIZATION\", \"COURSE\", \"COURSE\", \"COURSE\", \"SPECIALIZATION\", \"COURSE\", \"COURSE\", \"COURSE\", \"COURSE\", \"COURSE\", \"COURSE\", \"SPECIALIZATION\", \"SPECIALIZATION\", \"COURSE\", \"COURSE\", \"COURSE\", \"SPECIALIZATION\", \"SPECIALIZATION\", \"SPECIALIZATION\", \"SPECIALIZATION\", \"SPECIALIZATION\", \"COURSE\", \"COURSE\", \"COURSE\", \"SPECIALIZATION\", \"SPECIALIZATION\", \"COURSE\", \"COURSE\", \"COURSE\", \"COURSE\", \"COURSE\", \"COURSE\", \"COURSE\", \"COURSE\", \"COURSE\", \"COURSE\", \"COURSE\", \"COURSE\", \"COURSE\", \"COURSE\", \"COURSE\", \"COURSE\", \"COURSE\", \"SPECIALIZATION\", \"SPECIALIZATION\", \"COURSE\", \"COURSE\", \"PROFESSIONAL CERTIFICATE\", \"PROFESSIONAL CERTIFICATE\", \"COURSE\", \"SPECIALIZATION\", \"COURSE\", \"COURSE\", \"COURSE\", \"COURSE\", \"COURSE\", \"SPECIALIZATION\", \"COURSE\", \"COURSE\", \"COURSE\", \"SPECIALIZATION\", \"SPECIALIZATION\", \"SPECIALIZATION\", \"SPECIALIZATION\", \"SPECIALIZATION\", \"COURSE\", \"SPECIALIZATION\", \"SPECIALIZATION\", \"COURSE\", \"COURSE\", \"SPECIALIZATION\", \"SPECIALIZATION\", \"PROFESSIONAL CERTIFICATE\", \"SPECIALIZATION\", \"PROFESSIONAL CERTIFICATE\", \"COURSE\", \"PROFESSIONAL CERTIFICATE\", \"SPECIALIZATION\", \"COURSE\", \"COURSE\", \"SPECIALIZATION\", \"SPECIALIZATION\", \"SPECIALIZATION\", \"COURSE\", \"SPECIALIZATION\", \"COURSE\", \"COURSE\", \"COURSE\", \"SPECIALIZATION\", \"COURSE\", \"SPECIALIZATION\", \"COURSE\", \"SPECIALIZATION\", \"SPECIALIZATION\", \"COURSE\", \"COURSE\", \"COURSE\", \"SPECIALIZATION\", \"SPECIALIZATION\", \"SPECIALIZATION\", \"COURSE\", \"COURSE\", \"COURSE\", \"SPECIALIZATION\", \"SPECIALIZATION\", \"SPECIALIZATION\", \"COURSE\", \"SPECIALIZATION\", \"COURSE\", \"COURSE\", \"COURSE\", \"COURSE\", \"COURSE\", \"SPECIALIZATION\", \"COURSE\", \"COURSE\", \"COURSE\", \"COURSE\", \"COURSE\", \"COURSE\", \"SPECIALIZATION\", \"COURSE\", \"COURSE\", \"COURSE\", \"COURSE\", \"COURSE\", \"COURSE\", \"COURSE\", \"COURSE\", \"COURSE\", \"COURSE\", \"COURSE\", \"COURSE\", \"COURSE\", \"COURSE\", \"COURSE\", \"SPECIALIZATION\", \"COURSE\", \"COURSE\", \"SPECIALIZATION\", \"COURSE\", \"COURSE\", \"SPECIALIZATION\", \"COURSE\", \"COURSE\", \"SPECIALIZATION\", \"COURSE\", \"COURSE\", \"COURSE\", \"COURSE\", \"COURSE\", \"COURSE\", \"COURSE\", \"COURSE\", \"COURSE\", \"COURSE\", \"COURSE\", \"COURSE\", \"COURSE\", \"COURSE\", \"COURSE\", \"COURSE\", \"COURSE\", \"COURSE\", \"COURSE\", \"COURSE\", \"SPECIALIZATION\", \"COURSE\", \"COURSE\", \"SPECIALIZATION\", \"COURSE\", \"COURSE\", \"COURSE\", \"COURSE\", \"COURSE\", \"COURSE\", \"COURSE\", \"COURSE\", \"COURSE\", \"COURSE\", \"COURSE\", \"COURSE\", \"COURSE\", \"COURSE\", \"COURSE\", \"SPECIALIZATION\", \"COURSE\", \"SPECIALIZATION\", \"SPECIALIZATION\", \"SPECIALIZATION\", \"COURSE\", \"SPECIALIZATION\", \"COURSE\", \"COURSE\", \"COURSE\", \"COURSE\", \"SPECIALIZATION\", \"SPECIALIZATION\", \"COURSE\", \"COURSE\", \"SPECIALIZATION\", \"COURSE\", \"SPECIALIZATION\", \"SPECIALIZATION\", \"SPECIALIZATION\", \"SPECIALIZATION\", \"SPECIALIZATION\", \"SPECIALIZATION\", \"SPECIALIZATION\", \"SPECIALIZATION\", \"SPECIALIZATION\", \"COURSE\", \"COURSE\", \"COURSE\", \"COURSE\", \"COURSE\", \"SPECIALIZATION\", \"COURSE\", \"COURSE\", \"SPECIALIZATION\", \"COURSE\", \"COURSE\", \"SPECIALIZATION\", \"COURSE\", \"COURSE\", \"SPECIALIZATION\", \"COURSE\", \"SPECIALIZATION\", \"COURSE\", \"COURSE\", \"COURSE\", \"COURSE\", \"SPECIALIZATION\", \"SPECIALIZATION\", \"COURSE\", \"COURSE\", \"COURSE\", \"SPECIALIZATION\", \"COURSE\", \"SPECIALIZATION\", \"COURSE\", \"SPECIALIZATION\", \"SPECIALIZATION\", \"COURSE\", \"SPECIALIZATION\", \"COURSE\", \"COURSE\", \"COURSE\", \"SPECIALIZATION\", \"COURSE\", \"SPECIALIZATION\", \"SPECIALIZATION\", \"COURSE\", \"COURSE\", \"COURSE\", \"SPECIALIZATION\", \"COURSE\", \"SPECIALIZATION\", \"SPECIALIZATION\", \"COURSE\", \"COURSE\", \"COURSE\", \"COURSE\", \"COURSE\", \"COURSE\", \"COURSE\", \"SPECIALIZATION\", \"SPECIALIZATION\", \"COURSE\", \"COURSE\", \"COURSE\", \"COURSE\", \"COURSE\", \"SPECIALIZATION\", \"COURSE\", \"SPECIALIZATION\", \"COURSE\", \"COURSE\", \"COURSE\", \"SPECIALIZATION\", \"COURSE\", \"SPECIALIZATION\", \"COURSE\", \"COURSE\", \"COURSE\", \"SPECIALIZATION\", \"COURSE\", \"COURSE\", \"SPECIALIZATION\", \"SPECIALIZATION\", \"COURSE\", \"COURSE\", \"COURSE\", \"SPECIALIZATION\", \"COURSE\", \"COURSE\", \"SPECIALIZATION\", \"SPECIALIZATION\", \"COURSE\", \"SPECIALIZATION\", \"SPECIALIZATION\", \"SPECIALIZATION\", \"COURSE\", \"SPECIALIZATION\", \"COURSE\", \"COURSE\", \"COURSE\", \"COURSE\", \"SPECIALIZATION\", \"SPECIALIZATION\", \"COURSE\", \"COURSE\", \"COURSE\", \"COURSE\", \"COURSE\", \"COURSE\", \"SPECIALIZATION\", \"SPECIALIZATION\", \"COURSE\", \"COURSE\", \"COURSE\", \"SPECIALIZATION\", \"SPECIALIZATION\", \"COURSE\", \"COURSE\", \"COURSE\", \"COURSE\", \"COURSE\", \"COURSE\", \"COURSE\", \"COURSE\", \"SPECIALIZATION\", \"COURSE\", \"COURSE\", \"SPECIALIZATION\", \"SPECIALIZATION\", \"COURSE\", \"COURSE\", \"COURSE\", \"COURSE\", \"COURSE\", \"COURSE\", \"COURSE\", \"COURSE\", \"SPECIALIZATION\", \"COURSE\", \"COURSE\", \"COURSE\", \"COURSE\", \"SPECIALIZATION\", \"COURSE\", \"SPECIALIZATION\", \"COURSE\", \"COURSE\", \"SPECIALIZATION\", \"COURSE\", \"COURSE\", \"SPECIALIZATION\", \"COURSE\", \"COURSE\", \"SPECIALIZATION\", \"COURSE\", \"COURSE\", \"SPECIALIZATION\", \"COURSE\", \"PROFESSIONAL CERTIFICATE\", \"PROFESSIONAL CERTIFICATE\", \"COURSE\", \"SPECIALIZATION\", \"SPECIALIZATION\", \"COURSE\", \"COURSE\", \"SPECIALIZATION\", \"COURSE\", \"COURSE\", \"SPECIALIZATION\", \"COURSE\", \"SPECIALIZATION\", \"SPECIALIZATION\", \"COURSE\", \"COURSE\", \"COURSE\", \"COURSE\", \"SPECIALIZATION\", \"COURSE\", \"COURSE\", \"COURSE\", \"SPECIALIZATION\", \"SPECIALIZATION\", \"COURSE\", \"SPECIALIZATION\", \"COURSE\", \"COURSE\", \"SPECIALIZATION\", \"SPECIALIZATION\", \"COURSE\", \"SPECIALIZATION\", \"COURSE\", \"COURSE\", \"PROFESSIONAL CERTIFICATE\", \"SPECIALIZATION\", \"COURSE\", \"COURSE\", \"COURSE\", \"COURSE\", \"COURSE\", \"COURSE\", \"SPECIALIZATION\", \"SPECIALIZATION\", \"SPECIALIZATION\", \"COURSE\", \"SPECIALIZATION\", \"COURSE\", \"SPECIALIZATION\", \"COURSE\", \"SPECIALIZATION\", \"SPECIALIZATION\", \"SPECIALIZATION\", \"COURSE\", \"COURSE\", \"COURSE\", \"COURSE\", \"COURSE\", \"COURSE\", \"SPECIALIZATION\", \"COURSE\", \"SPECIALIZATION\", \"COURSE\", \"COURSE\", \"COURSE\", \"SPECIALIZATION\", \"COURSE\", \"SPECIALIZATION\", \"COURSE\", \"SPECIALIZATION\", \"COURSE\", \"SPECIALIZATION\", \"SPECIALIZATION\", \"COURSE\", \"COURSE\", \"COURSE\", \"COURSE\", \"COURSE\", \"SPECIALIZATION\", \"SPECIALIZATION\", \"COURSE\", \"COURSE\", \"COURSE\", \"SPECIALIZATION\", \"COURSE\", \"COURSE\", \"SPECIALIZATION\", \"SPECIALIZATION\", \"COURSE\", \"COURSE\", \"SPECIALIZATION\", \"COURSE\", \"COURSE\", \"COURSE\", \"COURSE\", \"COURSE\", \"COURSE\", \"COURSE\", \"COURSE\", \"COURSE\", \"COURSE\", \"SPECIALIZATION\", \"COURSE\", \"COURSE\", \"COURSE\", \"COURSE\", \"COURSE\", \"SPECIALIZATION\", \"COURSE\", \"COURSE\", \"COURSE\", \"SPECIALIZATION\", \"COURSE\", \"COURSE\", \"COURSE\", \"COURSE\", \"COURSE\", \"SPECIALIZATION\", \"COURSE\", \"COURSE\", \"COURSE\", \"SPECIALIZATION\", \"PROFESSIONAL CERTIFICATE\", \"SPECIALIZATION\", \"COURSE\", \"COURSE\", \"COURSE\", \"COURSE\", \"COURSE\", \"SPECIALIZATION\", \"COURSE\", \"COURSE\", \"COURSE\", \"COURSE\", \"SPECIALIZATION\", \"SPECIALIZATION\", \"COURSE\", \"COURSE\", \"SPECIALIZATION\", \"SPECIALIZATION\", \"COURSE\", \"COURSE\", \"COURSE\", \"SPECIALIZATION\", \"COURSE\", \"COURSE\", \"SPECIALIZATION\", \"SPECIALIZATION\", \"COURSE\", \"SPECIALIZATION\", \"SPECIALIZATION\", \"COURSE\", \"COURSE\", \"COURSE\", \"COURSE\", \"COURSE\", \"COURSE\", \"COURSE\", \"COURSE\", \"COURSE\", \"COURSE\", \"COURSE\", \"COURSE\", \"COURSE\", \"SPECIALIZATION\", \"COURSE\", \"COURSE\", \"SPECIALIZATION\", \"SPECIALIZATION\", \"SPECIALIZATION\", \"SPECIALIZATION\", \"COURSE\", \"SPECIALIZATION\", \"SPECIALIZATION\", \"COURSE\", \"COURSE\", \"COURSE\", \"SPECIALIZATION\", \"COURSE\", \"SPECIALIZATION\", \"SPECIALIZATION\", \"SPECIALIZATION\"], \"legendgroup\": \"\", \"name\": \"\", \"showlegend\": true, \"type\": \"pie\", \"values\": [4.7, 4.7, 4.5, 4.7, 4.8, 4.7, 4.8, 4.8, 4.7, 4.7, 4.6, 4.7, 4.6, 4.3, 4.7, 4.7, 4.5, 4.7, 4.7, 4.7, 4.6, 4.5, 4.8, 4.7, 4.8, 4.8, 4.5, 4.4, 4.5, 4.5, 4.7, 4.8, 4.7, 4.7, 4.7, 4.7, 4.9, 4.7, 4.8, 4.8, 4.9, 4.8, 4.7, 4.6, 4.6, 4.8, 4.8, 4.8, 4.8, 4.5, 4.8, 4.5, 4.8, 4.6, 4.6, 4.7, 4.5, 4.6, 4.6, 4.2, 4.8, 4.9, 4.5, 4.7, 4.5, 4.9, 4.8, 4.8, 4.6, 4.8, 4.9, 4.7, 4.8, 4.6, 4.8, 4.8, 4.7, 4.7, 4.6, 4.6, 4.8, 4.8, 4.9, 4.7, 4.7, 4.7, 4.8, 4.4, 4.6, 4.5, 4.6, 4.4, 4.8, 4.8, 4.6, 4.7, 4.6, 4.7, 4.9, 4.9, 4.6, 4.7, 4.9, 4.9, 4.5, 4.5, 4.6, 4.3, 4.5, 4.6, 4.7, 4.7, 4.7, 4.7, 4.7, 4.7, 4.7, 4.7, 4.5, 4.7, 4.8, 4.5, 4.5, 4.7, 4.9, 4.8, 4.7, 4.7, 4.6, 4.4, 4.8, 4.7, 4.7, 4.7, 4.8, 4.7, 4.8, 4.8, 4.6, 4.8, 4.4, 4.5, 4.7, 4.7, 4.7, 4.7, 4.8, 4.9, 4.7, 4.7, 4.6, 4.8, 4.6, 4.3, 4.7, 4.7, 4.8, 4.8, 4.7, 4.5, 4.6, 4.8, 4.9, 4.7, 4.8, 4.8, 4.8, 4.6, 4.6, 4.8, 4.8, 4.8, 4.3, 4.6, 4.7, 4.7, 4.8, 4.8, 4.6, 4.6, 4.7, 4.5, 4.2, 4.6, 4.8, 4.8, 4.4, 4.6, 4.7, 4.8, 4.7, 4.4, 4.6, 4.6, 4.7, 4.4, 4.5, 4.5, 4.6, 4.6, 4.4, 4.7, 4.8, 4.6, 4.5, 4.5, 4.7, 4.6, 4.7, 4.8, 4.6, 4.8, 4.8, 4.7, 4.4, 4.6, 4.6, 4.7, 4.7, 4.6, 4.6, 4.7, 4.8, 4.6, 4.8, 4.8, 4.7, 4.4, 4.5, 4.6, 4.6, 4.4, 4.7, 4.7, 4.5, 4.9, 4.6, 4.9, 4.8, 4.6, 4.8, 4.7, 4.6, 4.7, 4.8, 4.8, 4.7, 4.9, 4.7, 4.9, 4.9, 5.0, 4.7, 4.8, 4.8, 4.6, 4.7, 4.8, 4.7, 4.6, 4.8, 4.8, 4.8, 4.6, 4.8, 4.4, 4.5, 4.8, 4.8, 4.8, 4.7, 4.8, 4.6, 4.8, 4.7, 4.7, 4.7, 4.6, 4.8, 4.8, 4.5, 4.7, 4.7, 4.7, 4.8, 4.6, 4.8, 4.7, 4.8, 4.8, 4.9, 4.9, 4.7, 4.9, 4.9, 4.8, 4.6, 4.8, 4.8, 4.5, 4.8, 4.8, 4.8, 4.8, 4.6, 4.7, 4.5, 4.8, 4.4, 4.8, 4.5, 4.6, 4.7, 4.8, 4.5, 4.8, 4.7, 4.8, 4.6, 4.8, 4.7, 4.6, 4.9, 4.8, 4.7, 4.9, 4.8, 4.8, 4.8, 4.7, 4.8, 4.2, 4.8, 4.8, 4.6, 4.8, 4.7, 4.8, 4.7, 4.7, 4.8, 4.7, 4.6, 4.6, 4.8, 4.7, 4.8, 4.8, 4.7, 4.7, 4.6, 4.7, 4.6, 4.8, 4.5, 4.6, 4.6, 4.7, 4.8, 4.6, 4.6, 4.8, 4.7, 4.8, 4.7, 4.6, 4.8, 4.7, 4.4, 4.8, 4.3, 4.8, 4.7, 4.7, 4.5, 4.5, 4.6, 4.5, 4.6, 4.9, 4.6, 4.7, 4.5, 4.6, 4.6, 4.6, 4.8, 4.8, 4.6, 4.6, 4.7, 4.7, 4.8, 4.7, 4.7, 4.8, 4.6, 4.8, 4.7, 4.8, 4.7, 4.8, 4.2, 4.6, 4.5, 4.5, 4.7, 4.4, 4.6, 4.8, 4.7, 4.6, 4.8, 3.3, 4.1, 4.7, 4.6, 4.4, 4.6, 4.8, 4.6, 4.5, 4.8, 4.9, 4.7, 4.6, 4.7, 4.9, 4.4, 4.9, 4.8, 4.5, 5.0, 4.4, 4.8, 4.6, 4.6, 4.7, 4.7, 4.6, 4.8, 4.8, 4.5, 4.7, 4.8, 4.2, 4.6, 4.8, 4.8, 4.5, 4.6, 4.5, 4.4, 4.8, 4.8, 4.8, 4.8, 4.6, 4.8, 4.5, 4.9, 4.6, 4.7, 4.8, 4.6, 4.7, 4.4, 4.8, 4.8, 4.7, 4.6, 4.7, 4.9, 4.7, 4.8, 4.8, 4.8, 4.9, 4.6, 4.3, 4.3, 4.6, 4.7, 4.7, 4.5, 4.7, 4.6, 4.5, 4.8, 4.4, 4.7, 4.5, 4.7, 4.8, 4.7, 4.9, 4.8, 4.8, 4.6, 4.7, 4.5, 4.8, 4.8, 4.8, 4.8, 4.5, 4.4, 4.6, 4.8, 4.7, 4.7, 4.8, 4.9, 4.7, 4.8, 4.2, 4.7, 4.8, 4.8, 4.7, 4.7, 4.8, 4.0, 4.8, 4.5, 4.8, 4.7, 4.8, 4.7, 4.9, 4.9, 4.7, 4.6, 4.5, 4.6, 4.6, 4.6, 4.5, 4.7, 4.7, 4.6, 4.7, 4.7, 4.8, 4.7, 4.7, 4.8, 4.8, 4.3, 4.5, 4.8, 4.7, 4.8, 4.6, 4.6, 4.8, 4.9, 4.7, 4.5, 4.7, 4.8, 4.6, 4.7, 4.6, 4.9, 4.6, 3.7, 4.6, 4.6, 3.9, 4.7, 4.5, 4.6, 4.7, 4.7, 4.9, 4.7, 4.7, 4.7, 4.5, 4.6, 4.5, 4.8, 4.7, 4.7, 4.6, 4.4, 4.8, 4.4, 4.7, 4.2, 4.6, 4.3, 4.7, 4.5, 4.6, 4.7, 4.7, 4.0, 4.8, 4.9, 4.3, 4.6, 4.9, 4.7, 4.8, 4.7, 4.8, 4.6, 4.7, 4.8, 4.7, 4.7, 4.8, 4.9, 4.9, 4.8, 4.8, 4.9, 4.8, 4.8, 4.6, 4.8, 4.7, 4.8, 4.7, 4.9, 4.7, 4.7, 4.8, 4.8, 4.8, 4.7, 4.6, 4.7, 4.7, 4.8, 4.4, 4.6, 4.7, 4.2, 4.7, 4.7, 4.8, 4.6, 4.5, 4.5, 4.8, 4.6, 4.5, 4.7, 4.9, 4.7, 4.7, 4.7, 4.8, 4.7, 4.8, 4.8, 4.6, 4.8, 4.7, 4.6, 4.7, 4.8, 4.6, 4.8, 4.8, 4.8, 4.7, 4.6, 4.8, 4.6, 4.7, 4.8, 4.6, 4.2, 4.7, 4.6, 4.7, 4.8, 4.6, 4.8, 4.7, 4.9, 4.8, 4.4, 4.6, 4.8, 4.7, 4.9, 4.6, 4.8, 4.3, 4.7, 4.7, 4.7, 4.7, 4.6, 4.6, 4.8, 4.5, 4.9, 4.9, 4.4, 4.9, 4.7, 4.7, 4.5, 4.8, 4.6, 4.6, 4.4, 4.7, 4.8, 4.5, 4.8, 4.8, 4.7, 4.4, 4.7, 4.7, 4.7, 4.8, 4.8, 4.7, 4.5, 4.7, 4.7, 4.8, 4.6, 4.6, 4.6, 4.6, 4.8, 4.7, 4.8, 4.6, 4.6, 4.7, 4.6, 4.8, 4.8, 4.9, 4.8, 4.6, 4.6, 4.7, 4.8, 4.7, 4.7, 4.7, 4.6, 4.7, 4.9, 4.3, 4.7, 4.7, 4.7, 4.7, 4.5, 4.8, 4.6, 4.8, 4.8, 4.8, 4.8, 4.7, 4.6, 4.7, 4.7, 4.8, 4.6, 4.8, 4.3, 4.6, 4.5, 4.7, 4.4, 4.9, 4.9, 4.9, 4.9, 4.4, 4.8, 4.8, 4.8, 4.7, 4.5, 4.8, 4.6, 4.8, 4.7, 4.5, 4.7, 4.6, 4.8, 4.7, 4.8, 4.8, 4.6, 4.8, 4.8, 4.9, 4.6, 4.8, 4.8, 4.9, 4.6, 4.7, 4.6, 4.6, 4.7, 4.8, 4.9, 4.9, 4.8, 4.6, 4.5, 4.8, 4.7, 4.8, 4.7, 4.7, 4.6, 4.6, 4.3, 4.8, 4.7, 4.9, 4.8, 4.6, 4.7, 4.8, 4.8, 4.8, 4.9, 4.8, 4.4, 4.8, 4.5, 4.7, 4.9, 4.5, 4.2, 4.8, 4.9, 4.8, 4.6, 4.8, 4.8, 4.7, 4.7, 4.8, 4.7, 4.7, 4.3, 4.8, 4.8, 4.7, 4.7, 4.7, 4.7, 4.8, 4.7, 4.6, 4.7, 4.8, 4.9, 4.7, 4.4, 4.9, 4.5, 3.9, 4.7, 4.8, 4.5, 4.6, 4.9, 4.5, 4.8, 4.7, 4.5, 4.6, 4.9, 4.7, 4.5, 4.8, 4.5, 4.6, 4.7]}],\n",
       "                        {\"legend\": {\"tracegroupgap\": 0}, \"margin\": {\"t\": 60}, \"template\": {\"data\": {\"bar\": [{\"error_x\": {\"color\": \"#2a3f5f\"}, \"error_y\": {\"color\": \"#2a3f5f\"}, \"marker\": {\"line\": {\"color\": \"#E5ECF6\", \"width\": 0.5}}, \"type\": \"bar\"}], \"barpolar\": [{\"marker\": {\"line\": {\"color\": \"#E5ECF6\", \"width\": 0.5}}, \"type\": \"barpolar\"}], \"carpet\": [{\"aaxis\": {\"endlinecolor\": \"#2a3f5f\", \"gridcolor\": \"white\", \"linecolor\": \"white\", \"minorgridcolor\": \"white\", \"startlinecolor\": \"#2a3f5f\"}, \"baxis\": {\"endlinecolor\": \"#2a3f5f\", \"gridcolor\": \"white\", \"linecolor\": \"white\", \"minorgridcolor\": \"white\", \"startlinecolor\": \"#2a3f5f\"}, \"type\": \"carpet\"}], \"choropleth\": [{\"colorbar\": {\"outlinewidth\": 0, \"ticks\": \"\"}, \"type\": \"choropleth\"}], \"contour\": [{\"colorbar\": {\"outlinewidth\": 0, \"ticks\": \"\"}, \"colorscale\": [[0.0, \"#0d0887\"], [0.1111111111111111, \"#46039f\"], [0.2222222222222222, \"#7201a8\"], [0.3333333333333333, \"#9c179e\"], [0.4444444444444444, \"#bd3786\"], [0.5555555555555556, \"#d8576b\"], [0.6666666666666666, \"#ed7953\"], [0.7777777777777778, \"#fb9f3a\"], [0.8888888888888888, \"#fdca26\"], [1.0, \"#f0f921\"]], \"type\": \"contour\"}], \"contourcarpet\": [{\"colorbar\": {\"outlinewidth\": 0, \"ticks\": \"\"}, \"type\": \"contourcarpet\"}], \"heatmap\": [{\"colorbar\": {\"outlinewidth\": 0, \"ticks\": \"\"}, \"colorscale\": [[0.0, \"#0d0887\"], [0.1111111111111111, \"#46039f\"], [0.2222222222222222, \"#7201a8\"], [0.3333333333333333, \"#9c179e\"], [0.4444444444444444, \"#bd3786\"], [0.5555555555555556, \"#d8576b\"], [0.6666666666666666, \"#ed7953\"], [0.7777777777777778, \"#fb9f3a\"], [0.8888888888888888, \"#fdca26\"], [1.0, \"#f0f921\"]], \"type\": \"heatmap\"}], \"heatmapgl\": [{\"colorbar\": {\"outlinewidth\": 0, \"ticks\": \"\"}, \"colorscale\": [[0.0, \"#0d0887\"], [0.1111111111111111, \"#46039f\"], [0.2222222222222222, \"#7201a8\"], [0.3333333333333333, \"#9c179e\"], [0.4444444444444444, \"#bd3786\"], [0.5555555555555556, \"#d8576b\"], [0.6666666666666666, \"#ed7953\"], [0.7777777777777778, \"#fb9f3a\"], [0.8888888888888888, \"#fdca26\"], [1.0, \"#f0f921\"]], \"type\": \"heatmapgl\"}], \"histogram\": [{\"marker\": {\"colorbar\": {\"outlinewidth\": 0, \"ticks\": \"\"}}, \"type\": \"histogram\"}], \"histogram2d\": [{\"colorbar\": {\"outlinewidth\": 0, \"ticks\": \"\"}, \"colorscale\": [[0.0, \"#0d0887\"], [0.1111111111111111, \"#46039f\"], [0.2222222222222222, \"#7201a8\"], [0.3333333333333333, \"#9c179e\"], [0.4444444444444444, \"#bd3786\"], [0.5555555555555556, \"#d8576b\"], [0.6666666666666666, \"#ed7953\"], [0.7777777777777778, \"#fb9f3a\"], [0.8888888888888888, \"#fdca26\"], [1.0, \"#f0f921\"]], \"type\": \"histogram2d\"}], \"histogram2dcontour\": [{\"colorbar\": {\"outlinewidth\": 0, \"ticks\": \"\"}, \"colorscale\": [[0.0, \"#0d0887\"], [0.1111111111111111, \"#46039f\"], [0.2222222222222222, \"#7201a8\"], [0.3333333333333333, \"#9c179e\"], [0.4444444444444444, \"#bd3786\"], [0.5555555555555556, \"#d8576b\"], [0.6666666666666666, \"#ed7953\"], [0.7777777777777778, \"#fb9f3a\"], [0.8888888888888888, \"#fdca26\"], [1.0, \"#f0f921\"]], \"type\": \"histogram2dcontour\"}], \"mesh3d\": [{\"colorbar\": {\"outlinewidth\": 0, \"ticks\": \"\"}, \"type\": \"mesh3d\"}], \"parcoords\": [{\"line\": {\"colorbar\": {\"outlinewidth\": 0, \"ticks\": \"\"}}, \"type\": \"parcoords\"}], \"pie\": [{\"automargin\": true, \"type\": \"pie\"}], \"scatter\": [{\"marker\": {\"colorbar\": {\"outlinewidth\": 0, \"ticks\": \"\"}}, \"type\": \"scatter\"}], \"scatter3d\": [{\"line\": {\"colorbar\": {\"outlinewidth\": 0, \"ticks\": \"\"}}, \"marker\": {\"colorbar\": {\"outlinewidth\": 0, \"ticks\": \"\"}}, \"type\": \"scatter3d\"}], \"scattercarpet\": [{\"marker\": {\"colorbar\": {\"outlinewidth\": 0, \"ticks\": \"\"}}, \"type\": \"scattercarpet\"}], \"scattergeo\": [{\"marker\": {\"colorbar\": {\"outlinewidth\": 0, \"ticks\": \"\"}}, \"type\": \"scattergeo\"}], \"scattergl\": [{\"marker\": {\"colorbar\": {\"outlinewidth\": 0, \"ticks\": \"\"}}, \"type\": \"scattergl\"}], \"scattermapbox\": [{\"marker\": {\"colorbar\": {\"outlinewidth\": 0, \"ticks\": \"\"}}, \"type\": \"scattermapbox\"}], \"scatterpolar\": [{\"marker\": {\"colorbar\": {\"outlinewidth\": 0, \"ticks\": \"\"}}, \"type\": \"scatterpolar\"}], \"scatterpolargl\": [{\"marker\": {\"colorbar\": {\"outlinewidth\": 0, \"ticks\": \"\"}}, \"type\": \"scatterpolargl\"}], \"scatterternary\": [{\"marker\": {\"colorbar\": {\"outlinewidth\": 0, \"ticks\": \"\"}}, \"type\": \"scatterternary\"}], \"surface\": [{\"colorbar\": {\"outlinewidth\": 0, \"ticks\": \"\"}, \"colorscale\": [[0.0, \"#0d0887\"], [0.1111111111111111, \"#46039f\"], [0.2222222222222222, \"#7201a8\"], [0.3333333333333333, \"#9c179e\"], [0.4444444444444444, \"#bd3786\"], [0.5555555555555556, \"#d8576b\"], [0.6666666666666666, \"#ed7953\"], [0.7777777777777778, \"#fb9f3a\"], [0.8888888888888888, \"#fdca26\"], [1.0, \"#f0f921\"]], \"type\": \"surface\"}], \"table\": [{\"cells\": {\"fill\": {\"color\": \"#EBF0F8\"}, \"line\": {\"color\": \"white\"}}, \"header\": {\"fill\": {\"color\": \"#C8D4E3\"}, \"line\": {\"color\": \"white\"}}, \"type\": \"table\"}]}, \"layout\": {\"annotationdefaults\": {\"arrowcolor\": \"#2a3f5f\", \"arrowhead\": 0, \"arrowwidth\": 1}, \"coloraxis\": {\"colorbar\": {\"outlinewidth\": 0, \"ticks\": \"\"}}, \"colorscale\": {\"diverging\": [[0, \"#8e0152\"], [0.1, \"#c51b7d\"], [0.2, \"#de77ae\"], [0.3, \"#f1b6da\"], [0.4, \"#fde0ef\"], [0.5, \"#f7f7f7\"], [0.6, \"#e6f5d0\"], [0.7, \"#b8e186\"], [0.8, \"#7fbc41\"], [0.9, \"#4d9221\"], [1, \"#276419\"]], \"sequential\": [[0.0, \"#0d0887\"], [0.1111111111111111, \"#46039f\"], [0.2222222222222222, \"#7201a8\"], [0.3333333333333333, \"#9c179e\"], [0.4444444444444444, \"#bd3786\"], [0.5555555555555556, \"#d8576b\"], [0.6666666666666666, \"#ed7953\"], [0.7777777777777778, \"#fb9f3a\"], [0.8888888888888888, \"#fdca26\"], [1.0, \"#f0f921\"]], \"sequentialminus\": [[0.0, \"#0d0887\"], [0.1111111111111111, \"#46039f\"], [0.2222222222222222, \"#7201a8\"], [0.3333333333333333, \"#9c179e\"], [0.4444444444444444, \"#bd3786\"], [0.5555555555555556, \"#d8576b\"], [0.6666666666666666, \"#ed7953\"], [0.7777777777777778, \"#fb9f3a\"], [0.8888888888888888, \"#fdca26\"], [1.0, \"#f0f921\"]]}, \"colorway\": [\"#636efa\", \"#EF553B\", \"#00cc96\", \"#ab63fa\", \"#FFA15A\", \"#19d3f3\", \"#FF6692\", \"#B6E880\", \"#FF97FF\", \"#FECB52\"], \"font\": {\"color\": \"#2a3f5f\"}, \"geo\": {\"bgcolor\": \"white\", \"lakecolor\": \"white\", \"landcolor\": \"#E5ECF6\", \"showlakes\": true, \"showland\": true, \"subunitcolor\": \"white\"}, \"hoverlabel\": {\"align\": \"left\"}, \"hovermode\": \"closest\", \"mapbox\": {\"style\": \"light\"}, \"paper_bgcolor\": \"white\", \"plot_bgcolor\": \"#E5ECF6\", \"polar\": {\"angularaxis\": {\"gridcolor\": \"white\", \"linecolor\": \"white\", \"ticks\": \"\"}, \"bgcolor\": \"#E5ECF6\", \"radialaxis\": {\"gridcolor\": \"white\", \"linecolor\": \"white\", \"ticks\": \"\"}}, \"scene\": {\"xaxis\": {\"backgroundcolor\": \"#E5ECF6\", \"gridcolor\": \"white\", \"gridwidth\": 2, \"linecolor\": \"white\", \"showbackground\": true, \"ticks\": \"\", \"zerolinecolor\": \"white\"}, \"yaxis\": {\"backgroundcolor\": \"#E5ECF6\", \"gridcolor\": \"white\", \"gridwidth\": 2, \"linecolor\": \"white\", \"showbackground\": true, \"ticks\": \"\", \"zerolinecolor\": \"white\"}, \"zaxis\": {\"backgroundcolor\": \"#E5ECF6\", \"gridcolor\": \"white\", \"gridwidth\": 2, \"linecolor\": \"white\", \"showbackground\": true, \"ticks\": \"\", \"zerolinecolor\": \"white\"}}, \"shapedefaults\": {\"line\": {\"color\": \"#2a3f5f\"}}, \"ternary\": {\"aaxis\": {\"gridcolor\": \"white\", \"linecolor\": \"white\", \"ticks\": \"\"}, \"baxis\": {\"gridcolor\": \"white\", \"linecolor\": \"white\", \"ticks\": \"\"}, \"bgcolor\": \"#E5ECF6\", \"caxis\": {\"gridcolor\": \"white\", \"linecolor\": \"white\", \"ticks\": \"\"}}, \"title\": {\"x\": 0.05}, \"xaxis\": {\"automargin\": true, \"gridcolor\": \"white\", \"linecolor\": \"white\", \"ticks\": \"\", \"title\": {\"standoff\": 15}, \"zerolinecolor\": \"white\", \"zerolinewidth\": 2}, \"yaxis\": {\"automargin\": true, \"gridcolor\": \"white\", \"linecolor\": \"white\", \"ticks\": \"\", \"title\": {\"standoff\": 15}, \"zerolinecolor\": \"white\", \"zerolinewidth\": 2}}}},\n",
       "                        {\"responsive\": true}\n",
       "                    ).then(function(){\n",
       "                            \n",
       "var gd = document.getElementById('3d9ea797-ffe8-4070-a08d-4243e0b9da13');\n",
       "var x = new MutationObserver(function (mutations, observer) {{\n",
       "        var display = window.getComputedStyle(gd).display;\n",
       "        if (!display || display === 'none') {{\n",
       "            console.log([gd, 'removed!']);\n",
       "            Plotly.purge(gd);\n",
       "            observer.disconnect();\n",
       "        }}\n",
       "}});\n",
       "\n",
       "// Listen for the removal of the full notebook cells\n",
       "var notebookContainer = gd.closest('#notebook-container');\n",
       "if (notebookContainer) {{\n",
       "    x.observe(notebookContainer, {childList: true});\n",
       "}}\n",
       "\n",
       "// Listen for the clearing of the current output cell\n",
       "var outputEl = gd.closest('.output');\n",
       "if (outputEl) {{\n",
       "    x.observe(outputEl, {childList: true});\n",
       "}}\n",
       "\n",
       "                        })\n",
       "                };\n",
       "                });\n",
       "            </script>\n",
       "        </div>"
      ]
     },
     "metadata": {},
     "output_type": "display_data"
    }
   ],
   "source": [
    "# pie chart to show course rating based on course type\n",
    "fig = px.pie(coursera_df, values='Course_Rating', names='Course_Type')\n",
    "fig.show()"
   ]
  },
  {
   "cell_type": "markdown",
   "metadata": {},
   "source": [
    "Above 2 pie charts are similar, most student enrollment in type course and most number of ratings are also in type course."
   ]
  },
  {
   "cell_type": "code",
   "execution_count": 171,
   "metadata": {},
   "outputs": [
    {
     "data": {
      "image/png": "[encoded data removed]",
      "text/plain": [
       "<Figure size 720x360 with 1 Axes>"
      ]
     },
     "metadata": {
      "needs_background": "light"
     },
     "output_type": "display_data"
    }
   ],
   "source": [
    "# Word cloud of mostly used in words in course title\n",
    "text = \" \".join(title for title in coursera_df.Course_Title)\n",
    "\n",
    "# Create and generate a word cloud image:\n",
    "wordcloud = WordCloud(max_font_size=50, max_words=30, background_color=\"white\").generate(text)\n",
    "\n",
    "# Display the generated image:\n",
    "plt.figure( figsize=(10,5))\n",
    "plt.imshow(wordcloud, interpolation='bilinear')\n",
    "plt.axis(\"off\")\n",
    "plt.show()"
   ]
  },
  {
   "cell_type": "markdown",
   "metadata": {},
   "source": [
    "According to above word cloud, mostly used words in courses titles are Machine leaniing, Data, Design, Management, Business. It means majority of courses related to these discipline in coursera.  "
   ]
  },
  {
   "cell_type": "code",
   "execution_count": 172,
   "metadata": {},
   "outputs": [],
   "source": [
    "# Function to count total courses related to a particular domain \n",
    "def dscourses(dataframe, alist):\n",
    "    DScourse = 0\n",
    "    for course in alist:\n",
    "        for title in coursera_df.Course_Title: \n",
    "            if course in title:\n",
    "                DScourse = DScourse + 1\n",
    "    return DScourse   "
   ]
  },
  {
   "cell_type": "code",
   "execution_count": 173,
   "metadata": {},
   "outputs": [
    {
     "data": {
      "text/plain": [
       "{'Developing Your Musicianship': 2,\n",
       " 'Machine Learning': 2,\n",
       " 'Marketing Digital': 2,\n",
       " \"L'excellence opérationnelle en pratique\": 1,\n",
       " 'What future for education?': 1,\n",
       " 'Drug Discovery': 1,\n",
       " 'Writing in the Sciences': 1,\n",
       " 'Introduction to Typography': 1,\n",
       " 'Introduction to Dental Medicine': 1,\n",
       " 'Software Product Management': 1,\n",
       " 'Data Analysis with Python': 1,\n",
       " 'Software Processes and Agile Practices': 1,\n",
       " 'Econometrics: Methods and Applications': 1,\n",
       " 'User Interface Design': 1,\n",
       " 'Perfect Tenses and Modals': 1,\n",
       " 'From Data to Insights with Google Cloud Platform': 1,\n",
       " 'Agile Development': 1,\n",
       " \"The Manager's Toolkit: A Practical Guide to Managing People at Work\": 1,\n",
       " 'Essential Google Cloud Infrastructure: Foundation': 1,\n",
       " 'Financial Engineering and Risk Management Part I': 1,\n",
       " 'Introduction to Trading, Machine Learning & GCP': 1,\n",
       " 'Optical Engineering': 1,\n",
       " 'Finance for Non-Finance Professionals': 1,\n",
       " 'Becoming a Sports Agent': 1,\n",
       " 'Foundations of Business Strategy': 1,\n",
       " 'Communication Skills for Engineers': 1,\n",
       " 'Tricky American English Pronunciation': 1,\n",
       " 'Content Strategy for Professionals': 1,\n",
       " 'Implementación del Marketing Mix': 1,\n",
       " 'HTML, CSS, and Javascript for Web Developers': 1,\n",
       " 'Dairy Production and Management': 1,\n",
       " 'Advanced Data Science with IBM': 1,\n",
       " 'Getting Started with Google Sheets': 1,\n",
       " 'Solar Energy Basics': 1,\n",
       " 'Modeling Risk and Realities': 1,\n",
       " 'Project Management & Other Tools for Career Development': 1,\n",
       " 'Entrepreneurship 1: Developing the Opportunity': 1,\n",
       " 'Project Launch': 1,\n",
       " 'Sustainable Tourism – promoting environmental public health': 1,\n",
       " 'Fundamentos Estratégicos Empresariales': 1,\n",
       " 'Hacia una práctica constructivista en el aula': 1,\n",
       " 'High Performance Collaboration: Leadership, Teamwork, and Negotiation': 1,\n",
       " 'Code Yourself! An Introduction to Programming': 1,\n",
       " \"Palliative Care: It's Not Just Hospice Anymore\": 1,\n",
       " 'Understanding Modern Finance': 1,\n",
       " 'El Abogado del Futuro: Legaltech y la Transformación Digital del Derecho': 1,\n",
       " 'Fundamentals of Computing': 1,\n",
       " 'Nutrition and Lifestyle in Pregnancy': 1,\n",
       " 'Leadership Development for Engineers': 1,\n",
       " 'Successful Negotiation: Essential Strategies and Skills': 1,\n",
       " 'Become a Sustainable Business Change Agent': 1,\n",
       " 'Spacecraft Dynamics and Control': 1,\n",
       " 'Crash Course on Python': 1,\n",
       " 'Teach English Now! Teaching Language Online': 1,\n",
       " 'Feminism and Social Justice': 1,\n",
       " \"International Women's Health and Human Rights\": 1,\n",
       " 'Operations Analytics': 1,\n",
       " 'Introduction to Spreadsheets and Models': 1,\n",
       " 'The Social Context of Mental Health and Illness': 1,\n",
       " 'Data Engineering with Google Cloud': 1,\n",
       " 'Instructional Methods in Health Professions Education': 1,\n",
       " 'Responsive Website Development and Design': 1,\n",
       " 'Finding Purpose and Meaning In Life: Living for What Matters Most': 1,\n",
       " 'Excel Skills for Business: Advanced': 1,\n",
       " 'Julia Scientific Programming': 1,\n",
       " 'Supporting children with difficulties in reading and writing': 1,\n",
       " 'Data Science: Statistics and Machine Learning': 1,\n",
       " 'Machine Learning for All': 1,\n",
       " 'Data and Health Indicators in Public Health Practice': 1,\n",
       " 'Enterprise Architecture': 1,\n",
       " 'FinTech Law and Policy': 1,\n",
       " 'Financial Reporting': 1,\n",
       " 'Data Analysis and Interpretation': 1,\n",
       " 'The Bits and Bytes of Computer Networking': 1,\n",
       " 'Introduction to Data Science in Python': 1,\n",
       " 'Mastering Software Development in R': 1,\n",
       " 'COVID-19 Contact Tracing': 1,\n",
       " 'Engineering Project Management: Initiating and Planning': 1,\n",
       " 'Project Execution': 1,\n",
       " 'Improving Leadership & Governance in Nonprofit Organizations': 1,\n",
       " 'Contabilidad para no contadores': 1,\n",
       " 'Autodesk Certified Professional: Revit for Architectural Design Exam Prep': 1,\n",
       " 'AWS Fundamentals: Addressing Security Risk': 1,\n",
       " 'C for Everyone: Programming Fundamentals': 1,\n",
       " 'English for Career Development': 1,\n",
       " 'Analysing: Numeric and digital literacies': 1,\n",
       " 'Data-driven Decision Making': 1,\n",
       " 'UCI Project Management': 1,\n",
       " 'How To Create a Website in a Weekend! (Project-Centered Course)': 1,\n",
       " 'Virtual Reality': 1,\n",
       " 'Cameras, Exposure, and Photography': 1,\n",
       " 'Python Classes and Inheritance': 1,\n",
       " 'Write Your First Novel': 1,\n",
       " 'Vital Signs: Understanding What the Body Is Telling Us': 1,\n",
       " 'Google Cloud Platform Big Data and Machine Learning Fundamentals': 1,\n",
       " 'Building Scalable Java Microservices with Spring Boot and Spring Cloud': 1,\n",
       " 'Математика и Python для анализа данных': 1,\n",
       " 'Stanford Introduction to Food and Health': 1,\n",
       " 'Excel to MySQL: Analytic Techniques for Business': 1,\n",
       " 'Introduction to Web Development': 1,\n",
       " 'Microeconomics: The Power of Markets': 1,\n",
       " 'Fintech: Foundations & Applications of Financial Technology': 1,\n",
       " 'Operating Systems and You: Becoming a Power User': 1,\n",
       " 'Creatividad, diseño e innovación: Técnicas y herramientas': 1,\n",
       " 'Fundraising and Development': 1,\n",
       " 'Scaling Operations: Linking Strategy and Execution': 1,\n",
       " 'Information\\u200b \\u200bSystems': 1,\n",
       " 'Front-End Web Development with React': 1,\n",
       " 'Leading for Equity, Diversity and Inclusion in Higher Education': 1,\n",
       " 'Probability and Statistics: To p or not to p?': 1,\n",
       " 'Excel Skills for Business: Essentials': 1,\n",
       " 'Foundational Finance for Strategic Decision Making': 1,\n",
       " 'Statistics with R': 1,\n",
       " 'Financing and Investing in Infrastructure': 1,\n",
       " 'Data Visualization with Python': 1,\n",
       " 'Essentials of Corporate Finance': 1,\n",
       " 'Sports and Society': 1,\n",
       " 'Entrepreneurship Strategy: From Ideation to Exit': 1,\n",
       " 'International migrations: a global issue': 1,\n",
       " 'Social Entrepreneurship': 1,\n",
       " 'Introduction to Financial Accounting': 1,\n",
       " 'Chicken Behaviour and Welfare': 1,\n",
       " 'Machine Learning with TensorFlow on Google Cloud Platform': 1,\n",
       " 'EMT Foundations': 1,\n",
       " 'Curanderismo: Traditional Healing Using Plants': 1,\n",
       " 'Investment Management': 1,\n",
       " 'What is Compliance?': 1,\n",
       " 'Medical Cannabis: The Health Effects of THC and CBD': 1,\n",
       " 'Engineering Health: Introduction to Yoga and Physiology': 1,\n",
       " 'Inspiring and Motivating Individuals': 1,\n",
       " 'Legal Tech & Startups': 1,\n",
       " 'Discrete Optimization': 1,\n",
       " 'Entrepreneurship 3: Growth Strategies': 1,\n",
       " 'Искусство разработки на современном C++': 1,\n",
       " 'International Law in Action: the Arbitration of International Disputes': 1,\n",
       " \"A Law Student's Toolkit\": 1,\n",
       " 'Business and Financial Modeling': 1,\n",
       " 'Русский как иностранный': 1,\n",
       " 'Accounting Analytics': 1,\n",
       " 'Financial Markets': 1,\n",
       " 'Supply Chain Finance and Blockchain Technology': 1,\n",
       " 'Positive Psychology: Applications and Interventions': 1,\n",
       " 'Основы разработки на C++: белый пояс': 1,\n",
       " 'Periodismo digital y combate a las fake news': 1,\n",
       " 'Become a Journalist: Report the News!': 1,\n",
       " 'Art & Activity: Interactive Strategies for Engaging with Art': 1,\n",
       " 'Fundamentals of Reinforcement Learning': 1,\n",
       " 'ADHD: Everyday Strategies for Elementary Students': 1,\n",
       " 'Getting Started with AWS Machine Learning': 1,\n",
       " 'Think Again I: How to Understand Arguments': 1,\n",
       " 'Introduction to Embedded Systems Software and Development Environments': 1,\n",
       " 'Modern Robotics:  Mechanics, Planning, and Control': 1,\n",
       " 'Memoir and Personal Essay: Write About Yourself': 1,\n",
       " 'International Humanitarian Law in Theory and Practice': 1,\n",
       " 'Politics and Economics of International Energy': 1,\n",
       " 'Futures Thinking': 1,\n",
       " 'Identifying, Monitoring, and Analyzing Risk and Incident Response and Recovery': 1,\n",
       " 'Основы Digital Маркетинга': 1,\n",
       " 'Arts and Heritage Management': 1,\n",
       " 'Moral Foundations of Politics': 1,\n",
       " \"Troubles du spectre de l'autisme : diagnostic\": 1,\n",
       " 'Networking and Security Architecture with VMware NSX': 1,\n",
       " 'More Introduction to Financial Accounting': 1,\n",
       " 'Climate Change and Health: From Science to Action': 1,\n",
       " 'Introduction to Data Analysis Using Excel': 1,\n",
       " 'Negotiation, Mediation and Conflict Resolution': 1,\n",
       " 'Introduction to Programming with MATLAB': 1,\n",
       " 'Introductory Human Physiology': 1,\n",
       " 'Programming Foundations with JavaScript, HTML and CSS': 1,\n",
       " 'In the Studio: Postwar Abstract Painting': 1,\n",
       " 'Basic Statistics': 1,\n",
       " 'Grammar and Punctuation': 1,\n",
       " 'Fundamentals of Project Planning and Management': 1,\n",
       " \"Developing APIs with Google Cloud's Apigee API Platform\": 1,\n",
       " 'Natural Language Processing in TensorFlow': 1,\n",
       " 'International Marketing & Cross Industry Growth': 1,\n",
       " 'System Administration and IT Infrastructure Services': 1,\n",
       " 'Epidemics, Pandemics and Outbreaks': 1,\n",
       " 'Architecting with Google Cloud Platform 日本語版': 1,\n",
       " 'Étudier en France: French Intermediate course B1-B2': 1,\n",
       " 'Value Chain Management': 1,\n",
       " 'Teach English Now! Foundational Principles': 1,\n",
       " 'Learn Spanish: Basic Spanish Vocabulary': 1,\n",
       " 'Modern Big Data Analysis with SQL': 1,\n",
       " 'Practical Data Science with MATLAB': 1,\n",
       " 'International Law in Action: A Guide to the International Courts and Tribunals in The Hague': 1,\n",
       " 'Mathematics for Machine Learning: Linear Algebra': 1,\n",
       " 'Bugs 101: Insect-Human Interactions': 1,\n",
       " 'Claves de la Dirección de Empresas': 1,\n",
       " 'Market Research': 1,\n",
       " 'Career Success': 1,\n",
       " 'FinTech: Foundations, Payments, and Regulations': 1,\n",
       " 'Foundations of Public Health Practice': 1,\n",
       " 'Programming with Google Go': 1,\n",
       " 'Программирование на Python': 1,\n",
       " 'Recruiting, Hiring, and Onboarding Employees': 1,\n",
       " 'Mountains 101': 1,\n",
       " 'Applied Data Science with Python': 1,\n",
       " 'The Horse Course: Introduction to Basic Care and Management': 1,\n",
       " 'Anatomy: Musculoskeletal and Integumentary Systems': 1,\n",
       " 'Introduction to Marketing': 1,\n",
       " 'Business Transformation with Google Cloud': 1,\n",
       " 'Corporate Strategy': 1,\n",
       " 'Data Collection and Processing with Python': 1,\n",
       " 'Cybersecurity for Business': 1,\n",
       " 'AI Foundations for Everyone': 1,\n",
       " 'Computer Security and Systems Management': 1,\n",
       " 'Improve Your English Communication Skills': 1,\n",
       " 'A Crash Course in Data Science': 1,\n",
       " 'C# Programming for Unity Game Development': 1,\n",
       " 'The Strategy of Content Marketing': 1,\n",
       " \"Stanford's Short Course on Breastfeeding\": 1,\n",
       " 'Introduction to Imagemaking': 1,\n",
       " 'Hotel Management: Distribution, Revenue and Demand Management': 1,\n",
       " 'Data Visualization with Tableau': 1,\n",
       " 'Dermatology: Trip to skin': 1,\n",
       " 'The Economics of Health Care Delivery': 1,\n",
       " 'Magic in the Middle Ages': 1,\n",
       " 'Data Science Math Skills': 1,\n",
       " 'Primeros Auxilios Psicológicos (PAP)': 1,\n",
       " 'Introdução aos Princípios e Práticas da Gestão De Projetos': 1,\n",
       " 'Cuidado de heridas en el ámbito hospitalario': 1,\n",
       " 'What is Social?': 1,\n",
       " 'Global Diplomacy: the United Nations in the World': 1,\n",
       " 'Introduction to Thermodynamics: Transferring Energy from Here to There': 1,\n",
       " 'Dino 101: Dinosaur Paleobiology': 1,\n",
       " 'A Crash Course in Causality:  Inferring Causal Effects from Observational Data': 1,\n",
       " 'Ancient Philosophy: Aristotle and His Successors': 1,\n",
       " 'Everyday Excel, Part 1': 1,\n",
       " 'Design and Make Infographics (Project-Centered Course)': 1,\n",
       " 'Introduction to Ableton Live': 1,\n",
       " 'Japanese for beginners 1': 1,\n",
       " 'Building Resilient Streaming Analytics Systems on GCP': 1,\n",
       " 'An Introduction to Consumer Neuroscience & Neuromarketing': 1,\n",
       " 'COVID-19: What You Need to Know (CME Eligible)': 1,\n",
       " 'Open Source Software Development, Linux and Git': 1,\n",
       " 'Digital Business Models': 1,\n",
       " 'Java Programming: Solving Problems with Software': 1,\n",
       " 'Social Media Marketing': 1,\n",
       " 'Game Design and Development': 1,\n",
       " 'Introduction to Classical Music': 1,\n",
       " 'Swift 5 iOS Application Developer': 1,\n",
       " 'Smart Cities – Management of Smart Urban Infrastructures': 1,\n",
       " 'Aprendiendo a aprender: Poderosas herramientas mentales con las que podrás dominar temas difíciles (Learning How to Learn)': 1,\n",
       " 'BIM Fundamentals for Engineers': 1,\n",
       " 'Graphic Design Elements for Non-Designers': 1,\n",
       " 'Learn English: Intermediate Grammar': 1,\n",
       " 'Excel Skills for Business: Intermediate I': 1,\n",
       " 'Blockchain': 1,\n",
       " 'Machine Learning for Trading': 1,\n",
       " 'From the Big Bang to Dark Energy': 1,\n",
       " 'Geopolítica y gobernanza global: riesgos y oportunidades': 1,\n",
       " 'The Science of Well-Being': 1,\n",
       " 'Réussir le Changement': 1,\n",
       " 'Design Thinking for the Greater Good: Innovation in the Social Sector': 1,\n",
       " 'Finance & Quantitative Modeling for Analysts': 1,\n",
       " 'Influencer Marketing Strategy': 1,\n",
       " 'Getting Started with SAS Programming': 1,\n",
       " 'Leadership in 21st Century Organizations': 1,\n",
       " 'Mathematics for Data Science': 1,\n",
       " 'Animal Behaviour and Welfare': 1,\n",
       " 'Advanced Valuation and Strategy - M&A, Private Equity, and Venture Capital': 1,\n",
       " 'Finanzas personales': 1,\n",
       " 'Introduction to Cybersecurity Tools & Cyber Attacks': 1,\n",
       " 'Habilidades Gerenciales': 1,\n",
       " 'Methods and Statistics in Social Sciences': 1,\n",
       " 'What is Data Science?': 1,\n",
       " 'Introduction to Discrete Mathematics for Computer Science': 1,\n",
       " 'Introduction to User Experience Principles and Processes': 1,\n",
       " 'Python Data Structures': 1,\n",
       " 'Particle Physics: an Introduction': 1,\n",
       " 'Les Fondamentaux de la Négociation': 1,\n",
       " 'Introduction to HTML5': 1,\n",
       " 'Patient Safety': 1,\n",
       " 'Business Statistics and Analysis': 1,\n",
       " 'New Approaches to Countering Terror: Countering Violent Extremism': 1,\n",
       " 'Entrepreneurship': 1,\n",
       " 'Introduction to Chemistry:  Reactions and Ratios': 1,\n",
       " 'Big Data – Introducción al uso práctico de datos masivos': 1,\n",
       " 'Programming Fundamentals': 1,\n",
       " 'Survey Data Collection and Analytics': 1,\n",
       " 'Основы программирования на Python': 1,\n",
       " 'Blockchain Revolution in Financial Services': 1,\n",
       " 'Business Foundations': 1,\n",
       " 'Weight Management: Beyond Balancing Calories': 1,\n",
       " 'Databases and SQL for Data Science': 1,\n",
       " 'English for Science, Technology, Engineering, and Mathematics': 1,\n",
       " 'Elastic Google Cloud Infrastructure: Scaling and Automation': 1,\n",
       " 'Business English Communication Skills': 1,\n",
       " 'Computational Social Science': 1,\n",
       " 'Neurolinguistics': 1,\n",
       " 'Healthcare Organization Operations': 1,\n",
       " 'Municipal Solid Waste Management in Developing Countries': 1,\n",
       " 'Good with Words: Writing and Editing': 1,\n",
       " 'Business Model Innovation': 1,\n",
       " 'Model Thinking': 1,\n",
       " 'Python Functions, Files, and Dictionaries': 1,\n",
       " 'AI for Medical Diagnosis': 1,\n",
       " 'Private Equity and Venture Capital': 1,\n",
       " 'Revisão Sistemática e Meta-análise': 1,\n",
       " 'Applied Data Science': 1,\n",
       " 'AWS Fundamentals': 1,\n",
       " 'Preparing for the Google Cloud Associate Cloud Engineer Exam': 1,\n",
       " 'An Introduction to American Law': 1,\n",
       " 'Positive Psychology: Martin E. P. Seligman’s Visionary Science': 1,\n",
       " 'De-Mystifying Mindfulness': 1,\n",
       " 'Foundations of Management': 1,\n",
       " 'Pricing Strategy Optimization': 1,\n",
       " 'Neural Networks and Deep Learning': 1,\n",
       " 'Budgeting and Scheduling Projects': 1,\n",
       " 'Estadística y probabilidad': 1,\n",
       " 'The Science of Training Young Athletes': 1,\n",
       " 'Financial Accounting Fundamentals': 1,\n",
       " 'Corrección, estilo y  variaciones de la lengua española': 1,\n",
       " 'Drug Commercialization': 1,\n",
       " 'Learn English': 1,\n",
       " 'Viral Marketing and How to Craft Contagious Content': 1,\n",
       " 'Marketing in a Digital World': 1,\n",
       " 'Epidemiology: The Basic Science of Public Health': 1,\n",
       " 'Modern Art & Ideas': 1,\n",
       " 'Astrobiology and the Search for Extraterrestrial Life': 1,\n",
       " 'Introduction to Corporate Finance': 1,\n",
       " 'Instructional Design Foundations and Applications': 1,\n",
       " 'The hidden value – Lean in manufacturing and services': 1,\n",
       " 'English for Business and Entrepreneurship': 1,\n",
       " 'Unity Certified Programmer Exam Preparation': 1,\n",
       " 'Write A Feature Length Screenplay For Film Or Television': 1,\n",
       " 'Introduction aux Droits de l’Homme': 1,\n",
       " 'Data Warehousing for Business Intelligence': 1,\n",
       " 'Speak English Professionally: In Person, Online & On the Phone': 1,\n",
       " 'Aboriginal Worldviews and Education': 1,\n",
       " 'Fundamentals of Graphic Design': 1,\n",
       " 'Stories of Infection': 1,\n",
       " 'The Modern World, Part Two: Global History since 1910': 1,\n",
       " 'Supply Chain Principles': 1,\n",
       " 'Using Python to Interact with the Operating System': 1,\n",
       " 'Food & Beverage Management': 1,\n",
       " 'Culture-Driven Team Building': 1,\n",
       " 'Developing Applications with Google Cloud Platform 日本語版': 1,\n",
       " 'Healthcare Marketplace': 1,\n",
       " 'Data Analysis and Presentation Skills: the PwC Approach': 1,\n",
       " 'Machine Learning Foundations: A Case Study Approach': 1,\n",
       " 'Beyond the Sustainable Development Goals (SDGs): Addressing Sustainability and Development': 1,\n",
       " 'Introduction to TensorFlow for Artificial Intelligence, Machine Learning, and Deep Learning': 1,\n",
       " 'Data Engineering on Google Cloud Platform 日本語版': 1,\n",
       " 'The DIY Musician': 1,\n",
       " 'Statistical Analysis with R for Public Health': 1,\n",
       " 'Excel/VBA for Creative Problem Solving': 1,\n",
       " 'Economics of Money and Banking': 1,\n",
       " 'FinTech: Finance Industry Transformation and Regulation': 1,\n",
       " 'Managerial Economics and Business Analysis': 1,\n",
       " 'Construction Scheduling': 1,\n",
       " 'Probabilistic Graphical Models 1: Representation': 1,\n",
       " 'Dynamic Public Speaking': 1,\n",
       " 'Infectious Disease Modelling': 1,\n",
       " 'Inspirational Leadership: Leading with Sense': 1,\n",
       " 'Sharpened Visions: A Poetry Workshop': 1,\n",
       " 'Functional Programming Principles in Scala': 1,\n",
       " 'Systems Biology and Biotechnology': 1,\n",
       " 'Healthcare Law': 1,\n",
       " 'What Is Contemporary Art?': 1,\n",
       " 'Diseño y Creación de un Emprendimiento Social': 1,\n",
       " 'Get Interactive: Practical Teaching with Technology': 1,\n",
       " 'TensorFlow: Data and Deployment': 1,\n",
       " 'Learn English: Advanced Academic Speaking and Listening': 1,\n",
       " 'Ecology: Ecosystem Dynamics and Conservation': 1,\n",
       " 'Formulación y evaluación de proyectos complejos': 1,\n",
       " 'Ecosystem Services: a Method for Sustainable Development': 1,\n",
       " 'Strategic Business Management - Microeconomics': 1,\n",
       " 'Fundamental Neuroscience for Neuroimaging': 1,\n",
       " 'IBM AI Enterprise Workflow': 1,\n",
       " 'Introduction to Operations Management': 1,\n",
       " 'Construction Cost Estimating and Cost Control': 1,\n",
       " 'Positive Psychology: Resilience Skills': 1,\n",
       " 'Introducción a Data Science: Programación Estadística con R': 1,\n",
       " 'Indigenous Canada': 1,\n",
       " 'Unraveling the Cycling City': 1,\n",
       " 'Sports Marketing': 1,\n",
       " 'IT Security: Defense against the digital dark arts': 1,\n",
       " 'Becoming a changemaker: Introduction to Social Innovation': 1,\n",
       " 'Six Sigma Green Belt': 1,\n",
       " 'Introduction to Genetics and Evolution': 1,\n",
       " 'Machine Learning with Python': 1,\n",
       " 'Information Security: Context and Introduction': 1,\n",
       " 'Global Financial Markets and Instruments': 1,\n",
       " 'Managing Your Health: The Role of Physical Therapy and Exercise': 1,\n",
       " 'Business Writing': 1,\n",
       " 'Entrepreneurial Finance: Strategy and Innovation': 1,\n",
       " \"Biohacking Your Brain's Health\": 1,\n",
       " 'User Experience Research and Design': 1,\n",
       " 'Leading People and Teams': 1,\n",
       " 'Rethinking International Tax Law': 1,\n",
       " 'Business Strategies for A Better World': 1,\n",
       " 'Sexualidad...mucho más que sexo': 1,\n",
       " 'School Health for Children and Adolescents': 1,\n",
       " 'Tools for Data Science': 1,\n",
       " 'Convolutional Neural Networks': 1,\n",
       " 'Construction Management': 1,\n",
       " 'Programming for Everybody (Getting Started with Python)': 1,\n",
       " 'Strategy and Sustainability': 1,\n",
       " 'Психолингвистика (Psycholinguistics)': 1,\n",
       " 'Energy Production, Distribution & Safety': 1,\n",
       " 'Creative Problem Solving': 1,\n",
       " 'Strategic Leadership and Management': 1,\n",
       " 'Global Environmental Management': 1,\n",
       " 'Music Business': 1,\n",
       " 'Camino a la Excelencia en Gestión de Proyectos': 1,\n",
       " 'Data Management for Clinical Research': 1,\n",
       " 'Convolutional Neural Networks in TensorFlow': 1,\n",
       " 'Full-Stack Web Development with React': 1,\n",
       " 'Introducción a la programación en Python I: Aprendiendo a programar con Python': 1,\n",
       " 'Digital Product Management: Modern Fundamentals': 1,\n",
       " 'Autism Spectrum Disorder': 1,\n",
       " 'Agile with Atlassian Jira': 1,\n",
       " 'Financial Markets and Investment Strategy': 1,\n",
       " 'Trading Strategies in Emerging Markets': 1,\n",
       " 'Web Applications for Everybody': 1,\n",
       " 'Object Oriented Programming in Java': 1,\n",
       " 'Guitar for Beginners': 1,\n",
       " 'Negociación exitosa: Estrategias y habilidades esenciales (en español)': 1,\n",
       " 'IBM Applied AI': 1,\n",
       " 'The Power of Macroeconomics: Economic Principles in the Real World': 1,\n",
       " 'Marketing Mix Implementation': 1,\n",
       " 'Digital Advertising Strategy': 1,\n",
       " 'Advertising and Society': 1,\n",
       " 'Organizational Leadership': 1,\n",
       " 'Software Development Lifecycle': 1,\n",
       " 'The Technology of Music Production': 1,\n",
       " 'Practical Time Series Analysis': 1,\n",
       " 'Algorithms for Battery Management Systems': 1,\n",
       " 'Emerging Technologies: From Smartphones to IoT to Big Data': 1,\n",
       " 'Understanding Research Methods': 1,\n",
       " 'Nanotechnology: A Maker’s Course': 1,\n",
       " 'Achieving Personal and Professional Success': 1,\n",
       " 'Corporate Finance Essentials': 1,\n",
       " 'Wine Tasting: Sensory Techniques for Wine Analysis': 1,\n",
       " 'Digital Marketing': 1,\n",
       " 'English Composition I': 1,\n",
       " 'Technical Support Fundamentals': 1,\n",
       " 'Terrorism and Counterterrorism: Comparing Theory and Practice': 1,\n",
       " 'Introduction to Psychology': 1,\n",
       " 'Atención Primaria en Salud: El desafío de las Enfermedades no Transmisibles': 1,\n",
       " 'Challenging Forensic Science: How Science Should Speak to Court': 1,\n",
       " 'Android App Development': 1,\n",
       " 'Aprende a programar con Python': 1,\n",
       " 'Industrial IoT on Google Cloud Platform': 1,\n",
       " 'Business English: Networking': 1,\n",
       " 'Renewable Energy and Green Building Entrepreneurship': 1,\n",
       " 'Introduction to Statistics & Data Analysis in Public Health': 1,\n",
       " 'Influencing: Storytelling, Change Management and Governance': 1,\n",
       " 'Python and Statistics for Financial Analysis': 1,\n",
       " 'Cloud Engineering with Google Cloud': 1,\n",
       " 'Full Stack Web and Multiplatform Mobile App Development': 1,\n",
       " 'Global Energy and Climate Policy': 1,\n",
       " 'Global Diplomacy – Diplomacy in the Modern World': 1,\n",
       " 'Queering Identities: LGBTQ+ Sexuality and Gender Identity': 1,\n",
       " 'People Analytics': 1,\n",
       " 'International Cyber Conflicts': 1,\n",
       " 'Internet Giants: The Law and Economics of Media Platforms': 1,\n",
       " 'The Truth About Cats and Dogs': 1,\n",
       " 'International Business Essentials': 1,\n",
       " 'Roman Architecture': 1,\n",
       " 'Biology Meets Programming: Bioinformatics for Beginners': 1,\n",
       " 'The Sustainable Development Goals – A global, transdisciplinary vision for the future': 1,\n",
       " 'TensorFlow in Practice': 1,\n",
       " 'Learn Mandarin Chinese': 1,\n",
       " 'Finance for Non-Financial Managers': 1,\n",
       " 'Compassionate Leadership Through Service Learning with Jane Goodall and Roots & Shoots': 1,\n",
       " 'Arizona State University TESOL': 1,\n",
       " 'Songwriting: Writing the Lyrics': 1,\n",
       " 'Materials Science: 10 Things Every Engineer Should Know': 1,\n",
       " 'The Singer Songwriter': 1,\n",
       " 'Understanding Medical Research: Your Facebook Friend is Wrong': 1,\n",
       " 'Fundamentals of Immunology: Innate Immunity and B-Cell Function': 1,\n",
       " 'Electronic Music Production': 1,\n",
       " 'Creative Writing': 1,\n",
       " 'Become a CBRS Certified Professional Installer by Google': 1,\n",
       " 'Human Resource Management: HR for People Managers': 1,\n",
       " 'Object Oriented Java Programming: Data Structures and Beyond': 1,\n",
       " 'The Science of Gastronomy': 1,\n",
       " 'AWS Fundamentals: Going Cloud-Native': 1,\n",
       " 'Cloud Computing': 1,\n",
       " 'Learn to Program: The Fundamentals': 1,\n",
       " 'Driving business towards the Sustainable Development Goals': 1,\n",
       " 'Fundamentals of Engineering Exam Review': 1,\n",
       " 'Managing Social and Human Capital': 1,\n",
       " 'Applied Machine Learning in Python': 1,\n",
       " 'IBM Customer Engagement Specialist Professional Certificate': 1,\n",
       " 'Innovation Management': 1,\n",
       " 'Electric Industry Operations and Markets': 1,\n",
       " 'Business Analytics': 1,\n",
       " 'Spanish Vocabulary: Meeting People': 1,\n",
       " 'Agile Meets Design Thinking': 1,\n",
       " 'Anatomy of the Chest, Abdomen, and Pelvis': 1,\n",
       " 'Ready, Set, Future! Introduction to Futures Thinking': 1,\n",
       " 'Supply Chain Analytics': 1,\n",
       " 'SAS Programmer': 1,\n",
       " 'Strategic Management': 1,\n",
       " 'The Arts and Science of Relationships: Understanding Human Needs': 1,\n",
       " 'Gender and Sexuality: Diversity and Inclusion in the Workplace': 1,\n",
       " 'Medical Neuroscience': 1,\n",
       " 'Music Production': 1,\n",
       " 'Strategic Business Analytics': 1,\n",
       " 'Resilience in Children Exposed to Trauma, Disaster and War: Global Perspectives': 1,\n",
       " 'Fundamentals of Visualization with Tableau': 1,\n",
       " 'Building Batch Data Pipelines on GCP': 1,\n",
       " 'Getting Started With Music Theory': 1,\n",
       " 'IT Fundamentals for Cybersecurity': 1,\n",
       " 'Applied Plotting, Charting & Data Representation in Python': 1,\n",
       " 'Introduction to Cloud Computing': 1,\n",
       " 'Introduction to Philosophy': 1,\n",
       " 'Essential Epidemiologic Tools for Public Health Practice': 1,\n",
       " 'Fundamentals of Music Theory': 1,\n",
       " 'International Organizations Management': 1,\n",
       " 'Mathematics for Machine Learning: Multivariate Calculus': 1,\n",
       " 'Building Conversational Experiences with Dialogflow': 1,\n",
       " 'Epigenetic Control of Gene Expression': 1,\n",
       " 'Leading Healthcare Quality and Safety': 1,\n",
       " 'UI / UX Design': 1,\n",
       " 'Introduction to International Criminal Law': 1,\n",
       " 'Understanding Cancer Metastasis': 1,\n",
       " 'Погружение в Python': 1,\n",
       " 'Mathematics for Machine Learning: PCA': 1,\n",
       " 'Public Policy Challenges of the 21st Century': 1,\n",
       " 'Statistics with Python': 1,\n",
       " 'Introduction to Big Data': 1,\n",
       " 'Chemicals and Health': 1,\n",
       " 'Security in Google Cloud Platform': 1,\n",
       " 'Effective Compliance Programs': 1,\n",
       " 'Global Financing Solutions  (by EDHEC and Société Générale)': 1,\n",
       " 'Understanding Plants - Part I: What a Plant Knows': 1,\n",
       " 'Continuous Delivery & DevOps': 1,\n",
       " 'Photography Basics and Beyond: From Smartphone to DSLR': 1,\n",
       " 'Version Control with Git': 1,\n",
       " 'The Changing Global Order': 1,\n",
       " 'Machine Learning and Reinforcement Learning in Finance': 1,\n",
       " 'Understanding and Visualizing Data with Python': 1,\n",
       " 'Geopolitics of Europe': 1,\n",
       " 'Creative Writing: The Craft of Plot': 1,\n",
       " 'Antibiotic Stewardship': 1,\n",
       " 'Anatomy': 1,\n",
       " 'Introduction to Cyber Security': 1,\n",
       " 'Coaching Skills for Managers': 1,\n",
       " 'Functional Programming in Scala': 1,\n",
       " 'Introduction to Artificial Intelligence (AI)': 1,\n",
       " 'Fundamentos de la escritura': 1,\n",
       " 'Healing with the Arts': 1,\n",
       " 'Corporate & Commercial Law I: Contracts & Employment Law': 1,\n",
       " 'Geographic Information Systems  (GIS)': 1,\n",
       " 'Supply Chain Management': 1,\n",
       " 'Soporte de Tecnologías de la Información de Google': 1,\n",
       " 'Presentation Skills: Speechwriting, Slides and Delivery': 1,\n",
       " 'Excel Skills for Business: Intermediate II': 1,\n",
       " 'Democracia y decisiones públicas. Introducción al análisis de políticas públicas': 1,\n",
       " 'Access Controls': 1,\n",
       " 'Design-Led Strategy: Design thinking for business strategy and entrepreneurship': 1,\n",
       " 'Financial Management': 1,\n",
       " 'Research Data Management and Sharing': 1,\n",
       " 'Newborn Baby Care': 1,\n",
       " 'Osteoarchaeology: The Truth in Our Bones': 1,\n",
       " 'SQL for Data Science': 1,\n",
       " 'Kotlin for Java Developers': 1,\n",
       " 'Object-Oriented Data Structures in C++': 1,\n",
       " 'Digital Product Management': 1,\n",
       " 'Learning to Teach Online': 1,\n",
       " 'Bayesian Statistics: From Concept to Data Analysis': 1,\n",
       " 'Cloud Computing Basics (Cloud 101)': 1,\n",
       " 'Advanced Machine Learning': 1,\n",
       " 'Evaluación educativa': 1,\n",
       " 'Fashion as Design': 1,\n",
       " 'Mathematics for Machine Learning': 1,\n",
       " 'The Teacher and Social and Emotional Learning (SEL)': 1,\n",
       " 'Finanzas corporativas': 1,\n",
       " 'Introduction to Game Development': 1,\n",
       " 'Sleep: Neurobiology, Medicine, and Society': 1,\n",
       " 'Managing Project Risks and Changes': 1,\n",
       " 'Foundations of Global Health': 1,\n",
       " 'Chinese for HSK 1': 1,\n",
       " 'Sales Operations/Management': 1,\n",
       " 'Explorando la Energía Sustentable': 1,\n",
       " 'Interviewing and Resume Writing in English': 1,\n",
       " 'The Modern World, Part One: Global History from 1760 to 1910': 1,\n",
       " 'Power Electronics': 1,\n",
       " 'Design and Interpretation of Clinical Trials': 1,\n",
       " 'Introduction to Data Science': 1,\n",
       " 'Quantitative Methods': 1,\n",
       " 'Capstone: Retrieving, Processing, and Visualizing Data with Python': 1,\n",
       " 'Write Professional Emails in English': 1,\n",
       " 'Architecting with Google Kubernetes Engine 日本語版': 1,\n",
       " 'Internet Connection: How to Get Online?': 1,\n",
       " 'Intercultural Management': 1,\n",
       " 'How Things Work: An Introduction to Physics': 1,\n",
       " 'Process Mining: Data science in Action': 1,\n",
       " 'Requirements Engineering: Secure Software  Specifications': 1,\n",
       " 'Marketing con Redes Sociales': 1,\n",
       " 'Business Strategy': 1,\n",
       " 'Front-End Web UI Frameworks and Tools: Bootstrap 4': 1,\n",
       " 'Patrocinio Deportivo': 1,\n",
       " 'Biostatistics in Public Health': 1,\n",
       " 'Dentistry 101': 1,\n",
       " 'Control of Mobile Robots': 1,\n",
       " 'Introduction to Probability and Data': 1,\n",
       " 'Algorithms': 1,\n",
       " 'Introduction to Genomic Technologies': 1,\n",
       " 'Introduction to Scripting in Python': 1,\n",
       " 'Object-Oriented Design': 1,\n",
       " 'Social Psychology': 1,\n",
       " 'Learn to Speak Korean 1': 1,\n",
       " 'Decision-Making and Scenarios': 1,\n",
       " 'Making Architecture': 1,\n",
       " 'Esports': 1,\n",
       " 'Security & Safety Challenges in a Globalized World': 1,\n",
       " 'Robotics': 1,\n",
       " 'Arts and Culture Strategy': 1,\n",
       " 'Mindshift: Break Through Obstacles to Learning and Discover Your Hidden Potential': 1,\n",
       " 'Autodesk CAD/CAM for Manufacturing': 1,\n",
       " 'Managerial Accounting Fundamentals': 1,\n",
       " 'Data Engineering, Big Data, and Machine Learning on GCP': 1,\n",
       " 'Éxito Profesional': 1,\n",
       " 'Global Trends for Business and Society': 1,\n",
       " 'Actualización en el manejo del paciente con diabetes mellitus tipo 2': 1,\n",
       " 'Aspectos básicos de la planificación y la gestión de proyectos': 1,\n",
       " 'International Security Management': 1,\n",
       " 'Learn English: Advanced Grammar and Punctuation': 1,\n",
       " 'Marketing Gerencial': 1,\n",
       " 'Developing Applications with Google Cloud Platform': 1,\n",
       " 'Networking in Google Cloud': 1,\n",
       " 'Recommender Systems': 1,\n",
       " 'Competencias digitales. Herramientas de ofimática (Microsoft Word, Excel, Power Point)': 1,\n",
       " 'Gestión de organizaciones efectivas': 1,\n",
       " 'IBM Data Science': 1,\n",
       " 'Greek and Roman Mythology': 1,\n",
       " 'Antimicrobial resistance - theory and methods': 1,\n",
       " 'TESOL Certificate, Part 1: Teach English Now!': 1,\n",
       " 'AI for Medical Prognosis': 1,\n",
       " 'Reinforcement Learning': 1,\n",
       " 'Machine Learning for Business Professionals': 1,\n",
       " 'Blended Language Learning: Design and Practice for Teachers': 1,\n",
       " 'Understanding Einstein: The Special Theory of Relativity': 1,\n",
       " 'Mastering Final Cut Pro': 1,\n",
       " 'Transmedia Storytelling: Narrative worlds, emerging technologies, and global audiences': 1,\n",
       " 'Entrepreneurship 2: Launching your Start-Up': 1,\n",
       " 'American Contract Law I': 1,\n",
       " 'Introduction to User Experience Design': 1,\n",
       " 'Autodesk Certified Professional: AutoCAD for Design and Drafting Exam Prep': 1,\n",
       " 'Diseño Instruccional: Aprendizaje activo y Pedagogía digital': 1,\n",
       " 'Business English': 1,\n",
       " 'Using Databases with Python': 1,\n",
       " 'Introduction to Electronics': 1,\n",
       " 'Introduction to the Biology of Cancer': 1,\n",
       " 'Music Business Foundations': 1,\n",
       " 'Using Python to Access Web Data': 1,\n",
       " 'Innovation: From Creativity to Entrepreneurship': 1,\n",
       " 'Fundamentos de Finanzas Empresariales': 1,\n",
       " 'Initiating and Planning Projects': 1,\n",
       " 'Autodesk CAD/CAM/CAE for Mechanical Engineering': 1,\n",
       " 'Leading: Human Resource Management and Leadership': 1,\n",
       " 'Supply Chain Operations': 1,\n",
       " '¿Qué hacen los buenos directivos? Prioridades de la Alta Dirección': 1,\n",
       " 'Intellectual Property Law': 1,\n",
       " 'Supply Chain Logistics': 1,\n",
       " 'Cisco Networking Basics': 1,\n",
       " '(ISC)² Systems Security Certified Practitioner (SSCP)': 1,\n",
       " 'Gamification': 1,\n",
       " 'Preparing to Manage Human Resources': 1,\n",
       " 'Anticorrupción: Introducción a conceptos y perspectiva práctica': 1,\n",
       " 'Plant Bioinformatic Methods': 1,\n",
       " 'Classical Sociological Theory': 1,\n",
       " 'U.S. Federal Taxation': 1,\n",
       " 'Nutrición y obesidad: control de sobrepeso': 1,\n",
       " 'First Step Korean': 1,\n",
       " 'Virtual Teacher': 1,\n",
       " 'Everyday Parenting: The ABCs of Child Rearing': 1,\n",
       " 'Business Technology Management': 1,\n",
       " 'Costos para los Negocios': 1,\n",
       " 'Reporting extra-financier et stratégie RSE': 1,\n",
       " 'Social Norms, Social Change I': 1,\n",
       " 'Cybersecurity and Its Ten Domains': 1,\n",
       " 'SAS Visual Business Analytics': 1,\n",
       " 'Egiptología (Egyptology)': 1,\n",
       " 'Psychological First Aid': 1,\n",
       " 'Python Basics': 1,\n",
       " 'Marketing Verde': 1,\n",
       " 'Innovation Through Design: Think, Make, Break, Repeat': 1,\n",
       " 'Competitive Strategy and Organization Design': 1,\n",
       " 'Fundamentals of Immunology': 1,\n",
       " 'Russian Alphabet': 1,\n",
       " 'Java Programming and Software Engineering Fundamentals': 1,\n",
       " 'Homeland Security and Cybersecurity': 1,\n",
       " 'Management of Fashion and Luxury Companies': 1,\n",
       " 'Architecting with Google Compute Engine': 1,\n",
       " 'Systems Thinking In Public Health': 1,\n",
       " 'Sequence Models': 1,\n",
       " 'Introduction to CSS3': 1,\n",
       " 'Cómo hablar bien en público': 1,\n",
       " 'Financial Acumen for Non-Financial Managers': 1,\n",
       " 'The Global Financial Crisis': 1,\n",
       " 'Managing Innovation and Design Thinking': 1,\n",
       " 'Behavioral Finance': 1,\n",
       " 'Search Engine Optimization Fundamentals': 1,\n",
       " 'Introduction to Personal Branding': 1,\n",
       " 'Six Sigma and the Organization (Advanced)': 1,\n",
       " 'Child Nutrition and Cooking': 1,\n",
       " 'Fundamentals of GIS': 1,\n",
       " 'Корпоративные финансы и стоимость компании': 1,\n",
       " 'Teaching Character and Creating Positive Classrooms': 1,\n",
       " 'Software Design and Architecture': 1,\n",
       " 'Data Science Methodology': 1,\n",
       " 'Microeconomics Principles': 1,\n",
       " 'Liderazgo efectivo para el siglo XXI': 1,\n",
       " 'English for Journalism': 1,\n",
       " 'Fundamentos de Excel para Negocios': 1,\n",
       " 'Integrative Health and Medicine': 1,\n",
       " 'Boosting Creativity for Innovation': 1,\n",
       " 'Foundations of Positive Psychology': 1,\n",
       " 'Wonders of Ancient Egypt': 1,\n",
       " 'Introduction to Forensic Science': 1,\n",
       " 'Learn SQL Basics for Data Science': 1,\n",
       " 'Fundamentals of Quantitative Modeling': 1,\n",
       " 'Introduction to Intellectual Property': 1,\n",
       " 'Parallel, Concurrent, and Distributed Programming in Java': 1,\n",
       " 'Foundations of Marketing Analytics': 1,\n",
       " 'International Leadership and Organizational Behavior': 1,\n",
       " 'Getting Started with Google Kubernetes Engine': 1,\n",
       " 'Agile и Scrum в работе над проектами и продуктами': 1,\n",
       " 'UX Design Fundamentals': 1,\n",
       " 'Fundamentos Empresariales': 1,\n",
       " 'Addiction Treatment: Clinical Skills for Healthcare Providers': 1,\n",
       " 'Palo Alto Networks Cybersecurity': 1,\n",
       " 'Branding: The Creative Journey': 1,\n",
       " 'Inspired Leadership': 1,\n",
       " 'Финансовые инструменты для частного инвестора': 1,\n",
       " 'Fundamentals of Accounting': 1,\n",
       " 'Cost and Economics in Pricing Strategy': 1,\n",
       " 'Машинное обучение и анализ данных': 1,\n",
       " 'Introduction to Engineering Mechanics': 1,\n",
       " 'Greening the Economy: Sustainable Cities': 1,\n",
       " 'Advanced Machine Learning with TensorFlow on Google Cloud Platform': 1,\n",
       " 'Hardware Description Languages for FPGA Design': 1,\n",
       " 'Marketing Strategy': 1,\n",
       " 'Getting Started with Go': 1,\n",
       " 'G Suite Administration': 1,\n",
       " 'Russian for beginners А1. Русский язык: A1': 1,\n",
       " 'Essentials of Global Health': 1,\n",
       " 'Teamwork Skills: Communicating Effectively in Groups': 1,\n",
       " 'The Science of Stem Cells': 1,\n",
       " 'TESOL Certificate, Part 2: Teach English Now!': 1,\n",
       " 'Introduction to Environmental Law and Policy': 1,\n",
       " 'Building Your Leadership Skills': 1,\n",
       " 'Introduction to Business Analytics: Communicating with Data': 1,\n",
       " 'Structuring Machine Learning Projects': 1,\n",
       " 'Social Policy for Social Services & Health Practitioners': 1,\n",
       " 'Introduction to Programming in C': 1,\n",
       " 'Blockchain: Foundations and Use Cases': 1,\n",
       " 'Introduction to Breast Cancer': 1,\n",
       " 'Introduction to Computer Programming': 1,\n",
       " 'An Introduction to Programming the Internet of Things (IOT)': 1,\n",
       " 'Game Theory': 1,\n",
       " 'Applied Data Science Capstone': 1,\n",
       " 'Information Visualization': 1,\n",
       " 'Health Informatics': 1,\n",
       " 'Positive Psychiatry and Mental Health': 1,\n",
       " 'Site Reliability Engineering: Measuring and Managing Reliability': 1,\n",
       " 'The Addicted Brain': 1,\n",
       " 'Introduction to Portfolio Construction and Analysis with Python': 1,\n",
       " 'Modernizing Data Lakes and Data Warehouses with GCP': 1,\n",
       " 'Google IT Automation with Python': 1,\n",
       " 'Strategic Management and Innovation': 1,\n",
       " 'GIS, Mapping, and Spatial Analysis': 1,\n",
       " 'Accelerated Computer Science Fundamentals': 1,\n",
       " 'Mastering Data Analysis in Excel': 1,\n",
       " 'Health Information Literacy for Data Analytics': 1,\n",
       " 'iOS App Development with Swift': 1,\n",
       " 'Devenir entrepreneur du changement': 1,\n",
       " 'Communication Strategies for a Virtual Age': 1,\n",
       " 'Excel/VBA for Creative Problem Solving, Part 1': 1,\n",
       " 'Strategic Sales Management': 1,\n",
       " 'The Cycle: Management of Successful Arts and Cultural Organizations': 1,\n",
       " 'Design Thinking for Innovation': 1,\n",
       " 'Web Design for Everybody: Basics of Web Development & Coding': 1,\n",
       " 'Summary Statistics in Public Health': 1,\n",
       " 'Digital Media and Marketing Strategies': 1,\n",
       " 'Data Visualization with Advanced Excel': 1,\n",
       " 'Essential Google Cloud Infrastructure: Core Services': 1,\n",
       " 'Introduction to Computer Science and Programming': 1,\n",
       " 'Learn Chinese: HSK Test Preparation': 1,\n",
       " 'AWS Fundamentals: Migrating to the Cloud': 1,\n",
       " 'Sample-based Learning Methods': 1,\n",
       " 'AI for Medicine': 1,\n",
       " 'Investment and Portfolio Management': 1,\n",
       " 'Forensic Accounting and Fraud Examination': 1,\n",
       " 'The Science of Success: What Researchers Know that You Should Know': 1,\n",
       " 'Unity XR: How to Build AR and VR Apps': 1,\n",
       " 'Data Mining': 1,\n",
       " 'How to Start Your Own Business': 1,\n",
       " 'Success': 1,\n",
       " 'Excel Skills for Business': 1,\n",
       " 'Introduction to Cyber Attacks': 1,\n",
       " 'Improving Deep Neural Networks: Hyperparameter tuning, Regularization and Optimization': 1,\n",
       " 'Data Science': 1,\n",
       " 'Construction Project Management': 1,\n",
       " 'The Art of Music Production': 1,\n",
       " 'Investment Management with Python and Machine Learning': 1,\n",
       " 'IBM AI Engineering': 1,\n",
       " 'Customer Segmentation and Prospecting': 1,\n",
       " 'Bayesian Statistics: Techniques and Models': 1,\n",
       " 'R Programming': 1,\n",
       " 'Build a Modern Computer from First Principles: From Nand to Tetris (Project-Centered Course)': 1,\n",
       " 'Cuidados y procedimientos generales en la atención del recién nacido': 1,\n",
       " 'Introduction to Self-Driving Cars': 1,\n",
       " 'Miracles of Human Language: An Introduction to Linguistics': 1,\n",
       " 'University Teaching': 1,\n",
       " 'Corporate Sustainability. Understanding and Seizing the Strategic Opportunity': 1,\n",
       " 'The Pronunciation of American English': 1,\n",
       " 'Implementing RPA with Cognitive Automation and Analytics': 1,\n",
       " 'Social and Economic Networks:  Models and Analysis': 1,\n",
       " 'Interaction Design': 1,\n",
       " 'Science of Exercise': 1,\n",
       " 'AI For Everyone': 1,\n",
       " 'The Business of Health Care': 1,\n",
       " 'Google IT Support': 1,\n",
       " 'AI For Medical Treatment': 1,\n",
       " 'The Data Scientist’s Toolbox': 1,\n",
       " 'English for Research Publication Purposes': 1,\n",
       " 'Dog Emotion and Cognition': 1,\n",
       " 'AWS Fundamentals: Building Serverless Applications': 1,\n",
       " 'Linear Circuits 1: DC Analysis': 1,\n",
       " 'Data Science: Foundations using R': 1,\n",
       " 'Positive Psychology': 1,\n",
       " 'Computational Thinking for Problem Solving': 1,\n",
       " 'Python for Everybody': 1,\n",
       " 'The Business of Music Production': 1,\n",
       " 'Introduction to Systems Engineering': 1,\n",
       " 'Academic English: Writing': 1,\n",
       " 'Project Management Principles and Practices': 1,\n",
       " 'Accounting for Decision Making': 1,\n",
       " \"L'impact investing, la finance qui change le monde\": 1,\n",
       " 'Equine Welfare and Management': 1,\n",
       " 'A Life of Happiness and Fulfillment': 1,\n",
       " 'Python for Data Science and AI': 1,\n",
       " 'Deep Learning': 1,\n",
       " 'Oil & Gas Industry Operations and Markets': 1,\n",
       " 'Разработка интерфейсов: вёрстка и JavaScript': 1,\n",
       " 'Globalization, Economic Growth and Stability': 1,\n",
       " 'Epidemiology in Public Health Practice': 1,\n",
       " 'Introduction to Sustainability': 1,\n",
       " 'Essentials in Clinical Simulations Across the Health Professions': 1,\n",
       " 'Introduction to Blockchain Technologies': 1,\n",
       " 'Love as a Force for Social Justice': 1,\n",
       " 'Introduction to Mathematical Thinking': 1,\n",
       " 'Foundations of Everyday Leadership': 1,\n",
       " 'e-Learning Ecologies: Innovative Approaches to Teaching and Learning for the Digital Age': 1,\n",
       " 'Secure Coding Practices': 1,\n",
       " 'Epidemiology for Public Health': 1,\n",
       " 'Digital Manufacturing & Design Technology': 1,\n",
       " 'Financial Technology (Fintech) Innovations': 1,\n",
       " 'Introduction to Calculus': 1,\n",
       " 'Algorithmic Toolbox': 1,\n",
       " 'Art & Ideas: Teaching with Themes': 1,\n",
       " 'Divide and Conquer, Sorting and Searching, and Randomized Algorithms': 1,\n",
       " 'Understanding the Brain: The Neurobiology of Everyday Life': 1,\n",
       " 'Advanced Business Analytics': 1,\n",
       " 'Entrepreneurship: Launching an Innovative Business': 1,\n",
       " 'Executive Data Science': 1,\n",
       " 'Brand Management: Aligning Business, Brand and Behaviour': 1,\n",
       " 'Clinical Terminology for International and U.S. Students': 1,\n",
       " 'Strategising: Management for Global Competitive Advantage': 1,\n",
       " 'Blockchain Revolution': 1,\n",
       " 'Genomic Data Science': 1,\n",
       " 'Cybersecurity': 1,\n",
       " 'Age of Cathedrals': 1,\n",
       " 'Understanding Clinical Research: Behind the Statistics': 1,\n",
       " 'Искусство ведения бизнеса': 1,\n",
       " 'Google Cloud Platform Fundamentals for AWS Professionals': 1,\n",
       " 'Data Analytics for Lean Six Sigma': 1,\n",
       " 'Developing Industrial Internet of Things': 1,\n",
       " 'Sales Training for High Performing Teams': 1,\n",
       " 'Aprender': 1,\n",
       " 'The Art of Sales: Mastering the Selling Process': 1,\n",
       " 'Introduction to Systematic Review and Meta-Analysis': 1,\n",
       " 'Data Visualization and Communication with Tableau': 1,\n",
       " 'Gut Check: Exploring Your Microbiome': 1,\n",
       " 'Self-Driving Cars': 1,\n",
       " 'Conflict Management': 1,\n",
       " 'Introdução à Ciência da Computação com Python Parte 1': 1,\n",
       " 'Epidemics - the Dynamics of Infectious Diseases': 1,\n",
       " 'The Oral Cavity: Portal to Health and Disease': 1,\n",
       " 'The Power of Microeconomics: Economic Principles in the Real World': 1}"
      ]
     },
     "execution_count": 173,
     "metadata": {},
     "output_type": "execute_result"
    }
   ],
   "source": [
    "# Course titles dictionary \n",
    "coursera_df.Course_Title.value_counts().to_dict()"
   ]
  },
  {
   "cell_type": "markdown",
   "metadata": {},
   "source": [
    "Understanding student enrollment courses related to data science, Management and others"
   ]
  },
  {
   "cell_type": "code",
   "execution_count": 174,
   "metadata": {},
   "outputs": [
    {
     "data": {
      "text/plain": [
       "216"
      ]
     },
     "execution_count": 174,
     "metadata": {},
     "output_type": "execute_result"
    }
   ],
   "source": [
    "# Count of Data Science courses\n",
    "DSlist = ['Data', 'Data Science', 'Python', 'Machine Learning', 'Analytic', 'Analytics', 'Programmning', 'Statistics', 'Deep Learning', 'R Programming' 'AI', 'Excel', 'VBA']\n",
    "coursera_df.iloc[:, 0].head()\n",
    "\n",
    "dscourses(coursera_df, DSlist)"
   ]
  },
  {
   "cell_type": "code",
   "execution_count": 175,
   "metadata": {},
   "outputs": [
    {
     "data": {
      "text/plain": [
       "190"
      ]
     },
     "execution_count": 175,
     "metadata": {},
     "output_type": "execute_result"
    }
   ],
   "source": [
    "# Count of Management courses\n",
    "Managementlist = ['Management', 'Business', 'Design', 'Finance', 'Marketing', 'Financial', 'Strategy']\n",
    "coursera_df.iloc[:, 0].head()\n",
    "\n",
    "dscourses(coursera_df, Managementlist)"
   ]
  },
  {
   "cell_type": "code",
   "execution_count": 176,
   "metadata": {},
   "outputs": [
    {
     "data": {
      "text/plain": [
       "69"
      ]
     },
     "execution_count": 176,
     "metadata": {},
     "output_type": "execute_result"
    }
   ],
   "source": [
    "# count of generic courses based on words in word cloud\n",
    "genrallist = ['global', 'international', 'Law', 'Social', 'Fundamental', 'introduction']\n",
    "coursera_df.iloc[:, 0].head()\n",
    "\n",
    "dscourses(coursera_df, genrallist)"
   ]
  },
  {
   "cell_type": "code",
   "execution_count": 177,
   "metadata": {},
   "outputs": [
    {
     "data": {
      "text/html": [
       "<div>\n",
       "<style scoped>\n",
       "    .dataframe tbody tr th:only-of-type {\n",
       "        vertical-align: middle;\n",
       "    }\n",
       "\n",
       "    .dataframe tbody tr th {\n",
       "        vertical-align: top;\n",
       "    }\n",
       "\n",
       "    .dataframe thead th {\n",
       "        text-align: right;\n",
       "    }\n",
       "</style>\n",
       "<table border=\"1\" class=\"dataframe\">\n",
       "  <thead>\n",
       "    <tr style=\"text-align: right;\">\n",
       "      <th></th>\n",
       "      <th>Course_Title</th>\n",
       "      <th>Organization</th>\n",
       "      <th>Course_Type</th>\n",
       "      <th>Course_Rating</th>\n",
       "      <th>Difficulty_Level</th>\n",
       "      <th>Enrolled_Students</th>\n",
       "      <th>Students</th>\n",
       "      <th>Language</th>\n",
       "      <th>count</th>\n",
       "    </tr>\n",
       "  </thead>\n",
       "  <tbody>\n",
       "    <tr>\n",
       "      <th>0</th>\n",
       "      <td>(ISC)² Systems Security Certified Practitioner...</td>\n",
       "      <td>(ISC)²</td>\n",
       "      <td>SPECIALIZATION</td>\n",
       "      <td>4.7</td>\n",
       "      <td>Beginner</td>\n",
       "      <td>5.3k</td>\n",
       "      <td>5300.0</td>\n",
       "      <td>en</td>\n",
       "      <td>0</td>\n",
       "    </tr>\n",
       "    <tr>\n",
       "      <th>1</th>\n",
       "      <td>A Crash Course in Causality:  Inferring Causal...</td>\n",
       "      <td>University of Pennsylvania</td>\n",
       "      <td>COURSE</td>\n",
       "      <td>4.7</td>\n",
       "      <td>Intermediate</td>\n",
       "      <td>17k</td>\n",
       "      <td>17000.0</td>\n",
       "      <td>en</td>\n",
       "      <td>1</td>\n",
       "    </tr>\n",
       "    <tr>\n",
       "      <th>2</th>\n",
       "      <td>A Crash Course in Data Science</td>\n",
       "      <td>Johns Hopkins University</td>\n",
       "      <td>COURSE</td>\n",
       "      <td>4.5</td>\n",
       "      <td>Mixed</td>\n",
       "      <td>130k</td>\n",
       "      <td>130000.0</td>\n",
       "      <td>en</td>\n",
       "      <td>1</td>\n",
       "    </tr>\n",
       "    <tr>\n",
       "      <th>3</th>\n",
       "      <td>A Law Student's Toolkit</td>\n",
       "      <td>Yale University</td>\n",
       "      <td>COURSE</td>\n",
       "      <td>4.7</td>\n",
       "      <td>Mixed</td>\n",
       "      <td>91k</td>\n",
       "      <td>91000.0</td>\n",
       "      <td>en</td>\n",
       "      <td>0</td>\n",
       "    </tr>\n",
       "    <tr>\n",
       "      <th>4</th>\n",
       "      <td>A Life of Happiness and Fulfillment</td>\n",
       "      <td>Indian School of Business</td>\n",
       "      <td>COURSE</td>\n",
       "      <td>4.8</td>\n",
       "      <td>Mixed</td>\n",
       "      <td>320k</td>\n",
       "      <td>320000.0</td>\n",
       "      <td>en</td>\n",
       "      <td>0</td>\n",
       "    </tr>\n",
       "    <tr>\n",
       "      <th>5</th>\n",
       "      <td>ADHD: Everyday Strategies for Elementary Students</td>\n",
       "      <td>University at Buffalo</td>\n",
       "      <td>COURSE</td>\n",
       "      <td>4.7</td>\n",
       "      <td>Beginner</td>\n",
       "      <td>39k</td>\n",
       "      <td>39000.0</td>\n",
       "      <td>en</td>\n",
       "      <td>0</td>\n",
       "    </tr>\n",
       "    <tr>\n",
       "      <th>6</th>\n",
       "      <td>AI For Everyone</td>\n",
       "      <td>deeplearning.ai</td>\n",
       "      <td>COURSE</td>\n",
       "      <td>4.8</td>\n",
       "      <td>Beginner</td>\n",
       "      <td>350k</td>\n",
       "      <td>350000.0</td>\n",
       "      <td>en</td>\n",
       "      <td>0</td>\n",
       "    </tr>\n",
       "    <tr>\n",
       "      <th>7</th>\n",
       "      <td>AI For Medical Treatment</td>\n",
       "      <td>deeplearning.ai</td>\n",
       "      <td>COURSE</td>\n",
       "      <td>4.8</td>\n",
       "      <td>Intermediate</td>\n",
       "      <td>2.4k</td>\n",
       "      <td>2400.0</td>\n",
       "      <td>en</td>\n",
       "      <td>0</td>\n",
       "    </tr>\n",
       "    <tr>\n",
       "      <th>8</th>\n",
       "      <td>AI Foundations for Everyone</td>\n",
       "      <td>IBM</td>\n",
       "      <td>SPECIALIZATION</td>\n",
       "      <td>4.7</td>\n",
       "      <td>Beginner</td>\n",
       "      <td>61k</td>\n",
       "      <td>61000.0</td>\n",
       "      <td>en</td>\n",
       "      <td>0</td>\n",
       "    </tr>\n",
       "    <tr>\n",
       "      <th>9</th>\n",
       "      <td>AI for Medical Diagnosis</td>\n",
       "      <td>deeplearning.ai</td>\n",
       "      <td>COURSE</td>\n",
       "      <td>4.7</td>\n",
       "      <td>Intermediate</td>\n",
       "      <td>12k</td>\n",
       "      <td>12000.0</td>\n",
       "      <td>it</td>\n",
       "      <td>0</td>\n",
       "    </tr>\n",
       "  </tbody>\n",
       "</table>\n",
       "</div>"
      ],
      "text/plain": [
       "                                        Course_Title  \\\n",
       "0  (ISC)² Systems Security Certified Practitioner...   \n",
       "1  A Crash Course in Causality:  Inferring Causal...   \n",
       "2                     A Crash Course in Data Science   \n",
       "3                            A Law Student's Toolkit   \n",
       "4                A Life of Happiness and Fulfillment   \n",
       "5  ADHD: Everyday Strategies for Elementary Students   \n",
       "6                                    AI For Everyone   \n",
       "7                           AI For Medical Treatment   \n",
       "8                        AI Foundations for Everyone   \n",
       "9                           AI for Medical Diagnosis   \n",
       "\n",
       "                 Organization     Course_Type  Course_Rating Difficulty_Level  \\\n",
       "0                      (ISC)²  SPECIALIZATION            4.7         Beginner   \n",
       "1  University of Pennsylvania          COURSE            4.7     Intermediate   \n",
       "2    Johns Hopkins University          COURSE            4.5            Mixed   \n",
       "3             Yale University          COURSE            4.7            Mixed   \n",
       "4   Indian School of Business          COURSE            4.8            Mixed   \n",
       "5       University at Buffalo          COURSE            4.7         Beginner   \n",
       "6             deeplearning.ai          COURSE            4.8         Beginner   \n",
       "7             deeplearning.ai          COURSE            4.8     Intermediate   \n",
       "8                         IBM  SPECIALIZATION            4.7         Beginner   \n",
       "9             deeplearning.ai          COURSE            4.7     Intermediate   \n",
       "\n",
       "  Enrolled_Students  Students Language  count  \n",
       "0              5.3k    5300.0       en      0  \n",
       "1               17k   17000.0       en      1  \n",
       "2              130k  130000.0       en      1  \n",
       "3               91k   91000.0       en      0  \n",
       "4              320k  320000.0       en      0  \n",
       "5               39k   39000.0       en      0  \n",
       "6              350k  350000.0       en      0  \n",
       "7              2.4k    2400.0       en      0  \n",
       "8               61k   61000.0       en      0  \n",
       "9               12k   12000.0       it      0  "
      ]
     },
     "execution_count": 177,
     "metadata": {},
     "output_type": "execute_result"
    }
   ],
   "source": [
    "search = 'data'\n",
    "coursera_df[\"count\"]= coursera_df[\"Course_Title\"].str.count(search, re.I)\n",
    "coursera_df.head(10)\n",
    "#coursera_df[\"count\"].value_counts()"
   ]
  },
  {
   "cell_type": "markdown",
   "metadata": {},
   "source": [
    "Machine learning to predict student enrollment based on course type"
   ]
  },
  {
   "cell_type": "code",
   "execution_count": 179,
   "metadata": {},
   "outputs": [
    {
     "name": "stdout",
     "output_type": "stream",
     "text": [
      "Index(['Course_Title', 'Organization', 'Course_Rating', 'Enrolled_Students',\n",
      "       'Students', 'Language', 'count', 'Course_Type_COURSE',\n",
      "       'Course_Type_PROFESSIONAL CERTIFICATE', 'Course_Type_SPECIALIZATION',\n",
      "       'Difficulty_Level_Advanced', 'Difficulty_Level_Beginner',\n",
      "       'Difficulty_Level_Intermediate', 'Difficulty_Level_Mixed'],\n",
      "      dtype='object')\n"
     ]
    },
    {
     "data": {
      "text/html": [
       "<div>\n",
       "<style scoped>\n",
       "    .dataframe tbody tr th:only-of-type {\n",
       "        vertical-align: middle;\n",
       "    }\n",
       "\n",
       "    .dataframe tbody tr th {\n",
       "        vertical-align: top;\n",
       "    }\n",
       "\n",
       "    .dataframe thead th {\n",
       "        text-align: right;\n",
       "    }\n",
       "</style>\n",
       "<table border=\"1\" class=\"dataframe\">\n",
       "  <thead>\n",
       "    <tr style=\"text-align: right;\">\n",
       "      <th></th>\n",
       "      <th>Course_Title</th>\n",
       "      <th>Organization</th>\n",
       "      <th>Course_Rating</th>\n",
       "      <th>Enrolled_Students</th>\n",
       "      <th>Students</th>\n",
       "      <th>Language</th>\n",
       "      <th>count</th>\n",
       "      <th>Course_Type_COURSE</th>\n",
       "      <th>Course_Type_PROFESSIONAL CERTIFICATE</th>\n",
       "      <th>Course_Type_SPECIALIZATION</th>\n",
       "      <th>Difficulty_Level_Advanced</th>\n",
       "      <th>Difficulty_Level_Beginner</th>\n",
       "      <th>Difficulty_Level_Intermediate</th>\n",
       "      <th>Difficulty_Level_Mixed</th>\n",
       "    </tr>\n",
       "  </thead>\n",
       "  <tbody>\n",
       "    <tr>\n",
       "      <th>0</th>\n",
       "      <td>(ISC)² Systems Security Certified Practitioner...</td>\n",
       "      <td>(ISC)²</td>\n",
       "      <td>4.7</td>\n",
       "      <td>5.3k</td>\n",
       "      <td>5300.0</td>\n",
       "      <td>en</td>\n",
       "      <td>0</td>\n",
       "      <td>0</td>\n",
       "      <td>0</td>\n",
       "      <td>1</td>\n",
       "      <td>0</td>\n",
       "      <td>1</td>\n",
       "      <td>0</td>\n",
       "      <td>0</td>\n",
       "    </tr>\n",
       "    <tr>\n",
       "      <th>1</th>\n",
       "      <td>A Crash Course in Causality:  Inferring Causal...</td>\n",
       "      <td>University of Pennsylvania</td>\n",
       "      <td>4.7</td>\n",
       "      <td>17k</td>\n",
       "      <td>17000.0</td>\n",
       "      <td>en</td>\n",
       "      <td>1</td>\n",
       "      <td>1</td>\n",
       "      <td>0</td>\n",
       "      <td>0</td>\n",
       "      <td>0</td>\n",
       "      <td>0</td>\n",
       "      <td>1</td>\n",
       "      <td>0</td>\n",
       "    </tr>\n",
       "    <tr>\n",
       "      <th>2</th>\n",
       "      <td>A Crash Course in Data Science</td>\n",
       "      <td>Johns Hopkins University</td>\n",
       "      <td>4.5</td>\n",
       "      <td>130k</td>\n",
       "      <td>130000.0</td>\n",
       "      <td>en</td>\n",
       "      <td>1</td>\n",
       "      <td>1</td>\n",
       "      <td>0</td>\n",
       "      <td>0</td>\n",
       "      <td>0</td>\n",
       "      <td>0</td>\n",
       "      <td>0</td>\n",
       "      <td>1</td>\n",
       "    </tr>\n",
       "    <tr>\n",
       "      <th>3</th>\n",
       "      <td>A Law Student's Toolkit</td>\n",
       "      <td>Yale University</td>\n",
       "      <td>4.7</td>\n",
       "      <td>91k</td>\n",
       "      <td>91000.0</td>\n",
       "      <td>en</td>\n",
       "      <td>0</td>\n",
       "      <td>1</td>\n",
       "      <td>0</td>\n",
       "      <td>0</td>\n",
       "      <td>0</td>\n",
       "      <td>0</td>\n",
       "      <td>0</td>\n",
       "      <td>1</td>\n",
       "    </tr>\n",
       "    <tr>\n",
       "      <th>4</th>\n",
       "      <td>A Life of Happiness and Fulfillment</td>\n",
       "      <td>Indian School of Business</td>\n",
       "      <td>4.8</td>\n",
       "      <td>320k</td>\n",
       "      <td>320000.0</td>\n",
       "      <td>en</td>\n",
       "      <td>0</td>\n",
       "      <td>1</td>\n",
       "      <td>0</td>\n",
       "      <td>0</td>\n",
       "      <td>0</td>\n",
       "      <td>0</td>\n",
       "      <td>0</td>\n",
       "      <td>1</td>\n",
       "    </tr>\n",
       "  </tbody>\n",
       "</table>\n",
       "</div>"
      ],
      "text/plain": [
       "                                        Course_Title  \\\n",
       "0  (ISC)² Systems Security Certified Practitioner...   \n",
       "1  A Crash Course in Causality:  Inferring Causal...   \n",
       "2                     A Crash Course in Data Science   \n",
       "3                            A Law Student's Toolkit   \n",
       "4                A Life of Happiness and Fulfillment   \n",
       "\n",
       "                 Organization  Course_Rating Enrolled_Students  Students  \\\n",
       "0                      (ISC)²            4.7              5.3k    5300.0   \n",
       "1  University of Pennsylvania            4.7               17k   17000.0   \n",
       "2    Johns Hopkins University            4.5              130k  130000.0   \n",
       "3             Yale University            4.7               91k   91000.0   \n",
       "4   Indian School of Business            4.8              320k  320000.0   \n",
       "\n",
       "  Language  count  Course_Type_COURSE  Course_Type_PROFESSIONAL CERTIFICATE  \\\n",
       "0       en      0                   0                                     0   \n",
       "1       en      1                   1                                     0   \n",
       "2       en      1                   1                                     0   \n",
       "3       en      0                   1                                     0   \n",
       "4       en      0                   1                                     0   \n",
       "\n",
       "   Course_Type_SPECIALIZATION  Difficulty_Level_Advanced  \\\n",
       "0                           1                          0   \n",
       "1                           0                          0   \n",
       "2                           0                          0   \n",
       "3                           0                          0   \n",
       "4                           0                          0   \n",
       "\n",
       "   Difficulty_Level_Beginner  Difficulty_Level_Intermediate  \\\n",
       "0                          1                              0   \n",
       "1                          0                              1   \n",
       "2                          0                              0   \n",
       "3                          0                              0   \n",
       "4                          0                              0   \n",
       "\n",
       "   Difficulty_Level_Mixed  \n",
       "0                       0  \n",
       "1                       0  \n",
       "2                       1  \n",
       "3                       1  \n",
       "4                       1  "
      ]
     },
     "execution_count": 179,
     "metadata": {},
     "output_type": "execute_result"
    }
   ],
   "source": [
    "course_dummies = pd.get_dummies(data=coursera_df, columns=['Course_Type', 'Difficulty_Level'])\n",
    "print(course_dummies.columns)\n",
    "course_dummies.head()"
   ]
  },
  {
   "cell_type": "code",
   "execution_count": 180,
   "metadata": {},
   "outputs": [
    {
     "name": "stdout",
     "output_type": "stream",
     "text": [
      "(891, 3) (891,)\n"
     ]
    },
    {
     "data": {
      "text/html": [
       "<div>\n",
       "<style scoped>\n",
       "    .dataframe tbody tr th:only-of-type {\n",
       "        vertical-align: middle;\n",
       "    }\n",
       "\n",
       "    .dataframe tbody tr th {\n",
       "        vertical-align: top;\n",
       "    }\n",
       "\n",
       "    .dataframe thead th {\n",
       "        text-align: right;\n",
       "    }\n",
       "</style>\n",
       "<table border=\"1\" class=\"dataframe\">\n",
       "  <thead>\n",
       "    <tr style=\"text-align: right;\">\n",
       "      <th></th>\n",
       "      <th>Course_Type_PROFESSIONAL CERTIFICATE</th>\n",
       "      <th>Course_Type_SPECIALIZATION</th>\n",
       "      <th>Difficulty_Level_Advanced</th>\n",
       "    </tr>\n",
       "  </thead>\n",
       "  <tbody>\n",
       "    <tr>\n",
       "      <th>0</th>\n",
       "      <td>0</td>\n",
       "      <td>1</td>\n",
       "      <td>0</td>\n",
       "    </tr>\n",
       "    <tr>\n",
       "      <th>1</th>\n",
       "      <td>0</td>\n",
       "      <td>0</td>\n",
       "      <td>0</td>\n",
       "    </tr>\n",
       "    <tr>\n",
       "      <th>2</th>\n",
       "      <td>0</td>\n",
       "      <td>0</td>\n",
       "      <td>0</td>\n",
       "    </tr>\n",
       "    <tr>\n",
       "      <th>3</th>\n",
       "      <td>0</td>\n",
       "      <td>0</td>\n",
       "      <td>0</td>\n",
       "    </tr>\n",
       "    <tr>\n",
       "      <th>4</th>\n",
       "      <td>0</td>\n",
       "      <td>0</td>\n",
       "      <td>0</td>\n",
       "    </tr>\n",
       "  </tbody>\n",
       "</table>\n",
       "</div>"
      ],
      "text/plain": [
       "   Course_Type_PROFESSIONAL CERTIFICATE  Course_Type_SPECIALIZATION  \\\n",
       "0                                     0                           1   \n",
       "1                                     0                           0   \n",
       "2                                     0                           0   \n",
       "3                                     0                           0   \n",
       "4                                     0                           0   \n",
       "\n",
       "   Difficulty_Level_Advanced  \n",
       "0                          0  \n",
       "1                          0  \n",
       "2                          0  \n",
       "3                          0  \n",
       "4                          0  "
      ]
     },
     "execution_count": 180,
     "metadata": {},
     "output_type": "execute_result"
    }
   ],
   "source": [
    "# Define target variable and independent variables\n",
    "X = course_dummies[['Course_Type_PROFESSIONAL CERTIFICATE', 'Course_Type_SPECIALIZATION',\n",
    "       'Difficulty_Level_Advanced']]\n",
    "y = course_dummies['Students']\n",
    "print(X.shape, y.shape)\n",
    "X.head()"
   ]
  },
  {
   "cell_type": "code",
   "execution_count": 181,
   "metadata": {},
   "outputs": [],
   "source": [
    "# split data in test and train\n",
    "X_train, X_test, y_train, y_test = train_test_split(X, y, test_size=0.20, random_state=1)"
   ]
  },
  {
   "cell_type": "code",
   "execution_count": 182,
   "metadata": {},
   "outputs": [
    {
     "data": {
      "text/plain": [
       "((712, 3), (712,))"
      ]
     },
     "execution_count": 182,
     "metadata": {},
     "output_type": "execute_result"
    }
   ],
   "source": [
    "X_train.shape, y_train.shape"
   ]
  },
  {
   "cell_type": "code",
   "execution_count": 183,
   "metadata": {},
   "outputs": [],
   "source": [
    "#model = DecisionTreeClassifier()\n",
    "from sklearn.ensemble import RandomForestClassifier\n",
    "\n",
    "#Create a Gaussian Classifier\n",
    "model=RandomForestClassifier(n_estimators=100)"
   ]
  },
  {
   "cell_type": "code",
   "execution_count": 184,
   "metadata": {},
   "outputs": [
    {
     "data": {
      "text/plain": [
       "RandomForestClassifier(bootstrap=True, class_weight=None, criterion='gini',\n",
       "            max_depth=None, max_features='auto', max_leaf_nodes=None,\n",
       "            min_impurity_decrease=0.0, min_impurity_split=None,\n",
       "            min_samples_leaf=1, min_samples_split=2,\n",
       "            min_weight_fraction_leaf=0.0, n_estimators=100, n_jobs=None,\n",
       "            oob_score=False, random_state=None, verbose=0,\n",
       "            warm_start=False)"
      ]
     },
     "execution_count": 184,
     "metadata": {},
     "output_type": "execute_result"
    }
   ],
   "source": [
    "model.fit(X_train, y_train)"
   ]
  },
  {
   "cell_type": "code",
   "execution_count": 185,
   "metadata": {},
   "outputs": [],
   "source": [
    "y_pred = model.predict(X_test)"
   ]
  },
  {
   "cell_type": "code",
   "execution_count": 186,
   "metadata": {},
   "outputs": [
    {
     "name": "stdout",
     "output_type": "stream",
     "text": [
      "Accuracy: 0.00558659217877095\n"
     ]
    }
   ],
   "source": [
    "print(\"Accuracy:\",metrics.accuracy_score(y_test, y_pred))"
   ]
  },
  {
   "cell_type": "markdown",
   "metadata": {},
   "source": [
    "Tried random forest and decision tree, accuracy is too low. Looks like this data can't used to predict student enrollment. Above analysis gives better understanding what are the courses are more popular and it can be helpful to decide which domain needs more courses and can give idea of expected student enrollment.   "
   ]
  }
 ],
 "metadata": {
  "kernelspec": {
   "display_name": "Python 3",
   "language": "python",
   "name": "python3"
  },
  "language_info": {
   "codemirror_mode": {
    "name": "ipython",
    "version": 3
   },
   "file_extension": ".py",
   "mimetype": "text/x-python",
   "name": "python",
   "nbconvert_exporter": "python",
   "pygments_lexer": "ipython3",
   "version": "3.6.8"
  }
 },
 "nbformat": 4,
 "nbformat_minor": 2
}
